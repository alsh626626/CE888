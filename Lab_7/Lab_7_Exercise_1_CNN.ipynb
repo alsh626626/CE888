{
  "nbformat": 4,
  "nbformat_minor": 0,
  "metadata": {
    "kernelspec": {
      "display_name": "Python 3",
      "language": "python",
      "name": "python3"
    },
    "language_info": {
      "codemirror_mode": {
        "name": "ipython",
        "version": 3
      },
      "file_extension": ".py",
      "mimetype": "text/x-python",
      "name": "python",
      "nbconvert_exporter": "python",
      "pygments_lexer": "ipython3",
      "version": "3.6.5"
    },
    "colab": {
      "name": "Lab_7_Exercise_1_CNN.ipynb",
      "provenance": [],
      "collapsed_sections": [],
      "include_colab_link": true
    },
    "accelerator": "GPU"
  },
  "cells": [
    {
      "cell_type": "markdown",
      "metadata": {
        "id": "view-in-github",
        "colab_type": "text"
      },
      "source": [
        "<a href=\"https://colab.research.google.com/github/alsh626626/CE888/blob/main/Lab_7/Lab_7_Exercise_1_CNN.ipynb\" target=\"_parent\"><img src=\"https://colab.research.google.com/assets/colab-badge.svg\" alt=\"Open In Colab\"/></a>"
      ]
    },
    {
      "cell_type": "markdown",
      "metadata": {
        "id": "vwRGEQbzGpYQ"
      },
      "source": [
        "# First CNN model for MNIST Dataset\n",
        "\n",
        "* MNIST Dataset is ''Hello World'' of Image Recognition\n",
        "\n",
        "* [Dataset HomePage](http://yann.lecun.com/exdb/mnist/)\n",
        "\n",
        "* History of MNIST Dataset [Watch here](https://www.youtube.com/watch?v=oKzNUGz21JM)\n",
        "\n",
        "\n",
        "---\n",
        "The MNIST database of handwritten digits, available from this page, has a training set of 60,000 examples, and a \n",
        "test set of 10,000 examples. It is a subset of a larger set available from NIST. The digits have been size-normalized and centered in a fixed-size image.\n",
        "\n",
        "![Kitten](https://camo.githubusercontent.com/01c057a753e92a9bc70b8c45d62b295431851c09cffadf53106fc0aea7e2843f/687474703a2f2f692e7974696d672e636f6d2f76692f3051493378675875422d512f687164656661756c742e6a7067)\n"
      ]
    },
    {
      "cell_type": "markdown",
      "metadata": {
        "id": "PhmJOHCpJD_w"
      },
      "source": [
        "# Let's start building our first CNN Model"
      ]
    },
    {
      "cell_type": "code",
      "metadata": {
        "id": "lSyHCSV7jymI"
      },
      "source": [
        "from keras import layers\n",
        "from keras import models"
      ],
      "execution_count": 1,
      "outputs": []
    },
    {
      "cell_type": "markdown",
      "metadata": {
        "id": "oWNzCYUUjymN"
      },
      "source": [
        "Importantly, a convnet takes as input tensors of shape (image_height, image_width,\n",
        "image_channels) (not including the batch dimension). In this case, we’ll configure\n",
        "the convnet to process inputs of size (28, 28, 1), which is the format of MNIST\n",
        "images. We’ll do this by passing the argument input_shape=(28, 28, 1) to the first\n",
        "layer."
      ]
    },
    {
      "cell_type": "markdown",
      "metadata": {
        "id": "dM4JLEpwjymN"
      },
      "source": [
        "#### Instantiating a small convnet"
      ]
    },
    {
      "cell_type": "code",
      "metadata": {
        "id": "p-OnpExGjymO",
        "colab": {
          "base_uri": "https://localhost:8080/"
        },
        "outputId": "0a977712-1a39-429a-f71f-94b78b0f2af5"
      },
      "source": [
        "model = models.Sequential()\n",
        "model.add(layers.Conv2D(32, (3, 3), activation='relu', input_shape=(28, 28, 1)))\n",
        "model.add(layers.MaxPooling2D((2, 2)))\n",
        "model.add(layers.Conv2D(64, (3, 3), activation='relu'))\n",
        "model.add(layers.MaxPooling2D((2, 2)))\n",
        "model.add(layers.Conv2D(64, (3, 3), activation='relu'))\n",
        "model.summary()"
      ],
      "execution_count": 2,
      "outputs": [
        {
          "output_type": "stream",
          "text": [
            "Model: \"sequential\"\n",
            "_________________________________________________________________\n",
            "Layer (type)                 Output Shape              Param #   \n",
            "=================================================================\n",
            "conv2d (Conv2D)              (None, 26, 26, 32)        320       \n",
            "_________________________________________________________________\n",
            "max_pooling2d (MaxPooling2D) (None, 13, 13, 32)        0         \n",
            "_________________________________________________________________\n",
            "conv2d_1 (Conv2D)            (None, 11, 11, 64)        18496     \n",
            "_________________________________________________________________\n",
            "max_pooling2d_1 (MaxPooling2 (None, 5, 5, 64)          0         \n",
            "_________________________________________________________________\n",
            "conv2d_2 (Conv2D)            (None, 3, 3, 64)          36928     \n",
            "=================================================================\n",
            "Total params: 55,744\n",
            "Trainable params: 55,744\n",
            "Non-trainable params: 0\n",
            "_________________________________________________________________\n"
          ],
          "name": "stdout"
        }
      ]
    },
    {
      "cell_type": "markdown",
      "metadata": {
        "id": "7gcVG3xkjymR"
      },
      "source": [
        "#### Adding a classifier on top of the convnet"
      ]
    },
    {
      "cell_type": "code",
      "metadata": {
        "id": "C2DfhDJYjymR",
        "colab": {
          "base_uri": "https://localhost:8080/"
        },
        "outputId": "11377437-23cf-408b-b47a-dbdd90240d91"
      },
      "source": [
        "model.add(layers.Flatten())\n",
        "model.add(layers.Dense(64, activation='relu'))\n",
        "model.add(layers.Dense(10, activation='softmax'))\n",
        "model.summary()"
      ],
      "execution_count": 3,
      "outputs": [
        {
          "output_type": "stream",
          "text": [
            "Model: \"sequential\"\n",
            "_________________________________________________________________\n",
            "Layer (type)                 Output Shape              Param #   \n",
            "=================================================================\n",
            "conv2d (Conv2D)              (None, 26, 26, 32)        320       \n",
            "_________________________________________________________________\n",
            "max_pooling2d (MaxPooling2D) (None, 13, 13, 32)        0         \n",
            "_________________________________________________________________\n",
            "conv2d_1 (Conv2D)            (None, 11, 11, 64)        18496     \n",
            "_________________________________________________________________\n",
            "max_pooling2d_1 (MaxPooling2 (None, 5, 5, 64)          0         \n",
            "_________________________________________________________________\n",
            "conv2d_2 (Conv2D)            (None, 3, 3, 64)          36928     \n",
            "_________________________________________________________________\n",
            "flatten (Flatten)            (None, 576)               0         \n",
            "_________________________________________________________________\n",
            "dense (Dense)                (None, 64)                36928     \n",
            "_________________________________________________________________\n",
            "dense_1 (Dense)              (None, 10)                650       \n",
            "=================================================================\n",
            "Total params: 93,322\n",
            "Trainable params: 93,322\n",
            "Non-trainable params: 0\n",
            "_________________________________________________________________\n"
          ],
          "name": "stdout"
        }
      ]
    },
    {
      "cell_type": "markdown",
      "metadata": {
        "id": "NOKVF4nKjymU"
      },
      "source": [
        "### Training the convnet on MNIST images"
      ]
    },
    {
      "cell_type": "code",
      "metadata": {
        "id": "oIcgUbbUjymV"
      },
      "source": [
        "from keras.datasets import mnist\n",
        "from keras.utils import to_categorical"
      ],
      "execution_count": 4,
      "outputs": []
    },
    {
      "cell_type": "markdown",
      "metadata": {
        "id": "ZnJ2Pfs_jymX"
      },
      "source": [
        "#### Load Data"
      ]
    },
    {
      "cell_type": "code",
      "metadata": {
        "id": "JpHGHE9MjymY",
        "colab": {
          "base_uri": "https://localhost:8080/"
        },
        "outputId": "122bf828-c975-4624-c57f-e24f646d1c44"
      },
      "source": [
        "(train_images, train_labels), (test_images, test_labels) = mnist.load_data()\n",
        "train_images = train_images.reshape((60000, 28, 28, 1))\n",
        "train_images = train_images.astype('float32') / 255\n",
        "test_images = test_images.reshape((10000, 28, 28, 1))\n",
        "test_images = test_images.astype('float32') / 255\n",
        "train_labels = to_categorical(train_labels)\n",
        "test_labels = to_categorical(test_labels)"
      ],
      "execution_count": 5,
      "outputs": [
        {
          "output_type": "stream",
          "text": [
            "Downloading data from https://storage.googleapis.com/tensorflow/tf-keras-datasets/mnist.npz\n",
            "11493376/11490434 [==============================] - 0s 0us/step\n"
          ],
          "name": "stdout"
        }
      ]
    },
    {
      "cell_type": "markdown",
      "metadata": {
        "id": "4HoTLrfSjymd"
      },
      "source": [
        "#### compile and fit model "
      ]
    },
    {
      "cell_type": "code",
      "metadata": {
        "id": "i23FDtC9jyme",
        "colab": {
          "base_uri": "https://localhost:8080/"
        },
        "outputId": "ecfa1451-955c-4838-bd5b-050c078be239"
      },
      "source": [
        "model.compile(optimizer='rmsprop', \n",
        "              loss='categorical_crossentropy',\n",
        "              metrics=['accuracy'])\n",
        "history = model.fit(train_images, train_labels, epochs=5, batch_size=64, validation_split=0.2)"
      ],
      "execution_count": 6,
      "outputs": [
        {
          "output_type": "stream",
          "text": [
            "Epoch 1/5\n",
            "750/750 [==============================] - 39s 12ms/step - loss: 0.4590 - accuracy: 0.8547 - val_loss: 0.0718 - val_accuracy: 0.9778\n",
            "Epoch 2/5\n",
            "750/750 [==============================] - 9s 12ms/step - loss: 0.0593 - accuracy: 0.9816 - val_loss: 0.0612 - val_accuracy: 0.9817\n",
            "Epoch 3/5\n",
            "750/750 [==============================] - 9s 12ms/step - loss: 0.0365 - accuracy: 0.9889 - val_loss: 0.0417 - val_accuracy: 0.9876\n",
            "Epoch 4/5\n",
            "750/750 [==============================] - 9s 12ms/step - loss: 0.0261 - accuracy: 0.9914 - val_loss: 0.0377 - val_accuracy: 0.9886\n",
            "Epoch 5/5\n",
            "750/750 [==============================] - 9s 12ms/step - loss: 0.0205 - accuracy: 0.9936 - val_loss: 0.0374 - val_accuracy: 0.9891\n"
          ],
          "name": "stdout"
        }
      ]
    },
    {
      "cell_type": "markdown",
      "metadata": {
        "id": "9zU8iI5ojymg"
      },
      "source": [
        "#### evaluate model"
      ]
    },
    {
      "cell_type": "code",
      "metadata": {
        "id": "Z3VeaL1Njymh",
        "colab": {
          "base_uri": "https://localhost:8080/"
        },
        "outputId": "30b63d59-1f52-4dfa-e9fd-ef722a57279c"
      },
      "source": [
        "test_loss, test_acc = model.evaluate(test_images, test_labels)\n",
        "test_acc"
      ],
      "execution_count": 7,
      "outputs": [
        {
          "output_type": "stream",
          "text": [
            "313/313 [==============================] - 1s 4ms/step - loss: 0.0321 - accuracy: 0.9886\n"
          ],
          "name": "stdout"
        },
        {
          "output_type": "execute_result",
          "data": {
            "text/plain": [
              "0.9886000156402588"
            ]
          },
          "metadata": {
            "tags": []
          },
          "execution_count": 7
        }
      ]
    },
    {
      "cell_type": "code",
      "metadata": {
        "id": "wXNZOY7Sjymj",
        "colab": {
          "base_uri": "https://localhost:8080/",
          "height": 545
        },
        "outputId": "dcabaa2e-2a5a-45cb-be1c-fcdd2e1c74b6"
      },
      "source": [
        "import matplotlib.pyplot as plt\n",
        "\n",
        "acc = history.history['accuracy']\n",
        "val_acc = history.history['val_accuracy']\n",
        "loss = history.history['loss']\n",
        "val_loss = history.history['val_loss']\n",
        "\n",
        "epochs = range(1, len(acc) + 1)\n",
        "\n",
        "plt.plot(epochs, acc, 'bo', label='Training acc')\n",
        "plt.plot(epochs, val_acc, 'b', label='Validation acc')\n",
        "plt.title('Training and validation accuracy')\n",
        "plt.legend()\n",
        "\n",
        "plt.figure()\n",
        "\n",
        "plt.plot(epochs, loss, 'bo', label='Training loss')\n",
        "plt.plot(epochs, val_loss, 'b', label='Validation loss')\n",
        "plt.title('Training and validation loss')\n",
        "plt.legend()\n",
        "\n",
        "plt.show()"
      ],
      "execution_count": 8,
      "outputs": [
        {
          "output_type": "display_data",
          "data": {
            "image/png": "[encoded data removed]",
            "text/plain": [
              "<Figure size 432x288 with 1 Axes>"
            ]
          },
          "metadata": {
            "tags": [],
            "needs_background": "light"
          }
        },
        {
          "output_type": "display_data",
          "data": {
            "image/png": "[encoded data removed]",
            "text/plain": [
              "<Figure size 432x288 with 1 Axes>"
            ]
          },
          "metadata": {
            "tags": [],
            "needs_background": "light"
          }
        }
      ]
    },
    {
      "cell_type": "markdown",
      "metadata": {
        "id": "dsQMc0Iojyml"
      },
      "source": [
        "## Task 1\n",
        "\n",
        "Change the activation function and other parameters such as optimizer to see the effect on the network and it's performance. If possible create a grid search. "
      ]
    },
    {
      "cell_type": "code",
      "metadata": {
        "id": "owJ-29BrJXNa"
      },
      "source": [
        "# Write code here\n",
        "from keras.wrappers.scikit_learn import KerasClassifier \n",
        "from sklearn.model_selection import GridSearchCV"
      ],
      "execution_count": 9,
      "outputs": []
    },
    {
      "cell_type": "code",
      "metadata": {
        "id": "eg-VJtgxQvrT"
      },
      "source": [
        "(train_images, train_labels), (test_images, test_labels) = mnist.load_data()\n",
        "train_images = train_images.reshape((60000, 28, 28, 1))\n",
        "train_images = train_images.astype('float32') / 255\n",
        "test_images = test_images.reshape((10000, 28, 28, 1))\n",
        "test_images = test_images.astype('float32') / 255\n",
        "#train_labels = to_categorical(train_labels)\n",
        "#test_labels = to_categorical(test_labels)"
      ],
      "execution_count": 10,
      "outputs": []
    },
    {
      "cell_type": "code",
      "metadata": {
        "id": "VOHrJ8sNLRx_"
      },
      "source": [
        "def create_model(activation='relu', optimizer='rmsprop'): \n",
        "  # create model \n",
        "  model = models.Sequential()\n",
        "  model.add(layers.Conv2D(32, (3, 3), activation=activation, input_shape=(28, 28, 1)))\n",
        "  model.add(layers.MaxPooling2D((2, 2)))\n",
        "  model.add(layers.Conv2D(64, (3, 3), activation=activation))\n",
        "  model.add(layers.MaxPooling2D((2, 2)))\n",
        "  model.add(layers.Conv2D(64, (3, 3), activation=activation))\n",
        "  model.add(layers.Flatten())\n",
        "  model.add(layers.Dense(64, activation=activation))\n",
        "  model.add(layers.Dense(10, activation='softmax'))\n",
        "  # Compile model \n",
        "  model.compile(optimizer=optimizer, loss='categorical_crossentropy', metrics=['accuracy'])\n",
        "  return model"
      ],
      "execution_count": 11,
      "outputs": []
    },
    {
      "cell_type": "code",
      "metadata": {
        "colab": {
          "base_uri": "https://localhost:8080/"
        },
        "id": "q5dgt_d7MHbm",
        "outputId": "fe28cf11-cec5-410c-8f69-268fb35ef3f5"
      },
      "source": [
        "model = KerasClassifier(build_fn=create_model, epochs=3, batch_size=64, validation_split=0.2)\n",
        "param_grid = {\n",
        "    'activation': ['relu', 'sigmoid', 'tanh'],\n",
        "    'optimizer':['SGD','rmsprop','Adam'],\n",
        "}\n",
        "model = GridSearchCV(estimator=model, param_grid=param_grid, scoring='accuracy')\n",
        "model.fit(train_images, train_labels)"
      ],
      "execution_count": 12,
      "outputs": [
        {
          "output_type": "stream",
          "text": [
            "Epoch 1/3\n",
            "600/600 [==============================] - 7s 11ms/step - loss: 1.8000 - accuracy: 0.4253 - val_loss: 0.3560 - val_accuracy: 0.8938\n",
            "Epoch 2/3\n",
            "600/600 [==============================] - 6s 10ms/step - loss: 0.3708 - accuracy: 0.8883 - val_loss: 0.2622 - val_accuracy: 0.9193\n",
            "Epoch 3/3\n",
            "600/600 [==============================] - 6s 10ms/step - loss: 0.2386 - accuracy: 0.9286 - val_loss: 0.1817 - val_accuracy: 0.9453\n"
          ],
          "name": "stdout"
        },
        {
          "output_type": "stream",
          "text": [
            "/usr/local/lib/python3.7/dist-packages/tensorflow/python/keras/engine/sequential.py:450: UserWarning: `model.predict_classes()` is deprecated and will be removed after 2021-01-01. Please use instead:* `np.argmax(model.predict(x), axis=-1)`,   if your model does multi-class classification   (e.g. if it uses a `softmax` last-layer activation).* `(model.predict(x) > 0.5).astype(\"int32\")`,   if your model does binary classification   (e.g. if it uses a `sigmoid` last-layer activation).\n",
            "  warnings.warn('`model.predict_classes()` is deprecated and '\n"
          ],
          "name": "stderr"
        },
        {
          "output_type": "stream",
          "text": [
            "Epoch 1/3\n",
            "600/600 [==============================] - 6s 10ms/step - loss: 1.8628 - accuracy: 0.3458 - val_loss: 0.3720 - val_accuracy: 0.8864\n",
            "Epoch 2/3\n",
            "600/600 [==============================] - 6s 10ms/step - loss: 0.3659 - accuracy: 0.8881 - val_loss: 0.2171 - val_accuracy: 0.9375\n",
            "Epoch 3/3\n",
            "600/600 [==============================] - 6s 10ms/step - loss: 0.2262 - accuracy: 0.9309 - val_loss: 0.1578 - val_accuracy: 0.9544\n",
            "Epoch 1/3\n",
            "600/600 [==============================] - 6s 9ms/step - loss: 1.9019 - accuracy: 0.3875 - val_loss: 0.3469 - val_accuracy: 0.9022\n",
            "Epoch 2/3\n",
            "600/600 [==============================] - 5s 9ms/step - loss: 0.3443 - accuracy: 0.8973 - val_loss: 0.2123 - val_accuracy: 0.9373\n",
            "Epoch 3/3\n",
            "600/600 [==============================] - 5s 9ms/step - loss: 0.2234 - accuracy: 0.9310 - val_loss: 0.1580 - val_accuracy: 0.9561\n",
            "Epoch 1/3\n",
            "600/600 [==============================] - 6s 9ms/step - loss: 1.8164 - accuracy: 0.4154 - val_loss: 0.3248 - val_accuracy: 0.9039\n",
            "Epoch 2/3\n",
            "600/600 [==============================] - 5s 8ms/step - loss: 0.3304 - accuracy: 0.8981 - val_loss: 0.2078 - val_accuracy: 0.9388\n",
            "Epoch 3/3\n",
            "600/600 [==============================] - 5s 8ms/step - loss: 0.2038 - accuracy: 0.9382 - val_loss: 0.1524 - val_accuracy: 0.9573\n",
            "Epoch 1/3\n",
            "600/600 [==============================] - 6s 9ms/step - loss: 1.7773 - accuracy: 0.4844 - val_loss: 0.3783 - val_accuracy: 0.8843\n",
            "Epoch 2/3\n",
            "600/600 [==============================] - 6s 9ms/step - loss: 0.3285 - accuracy: 0.9013 - val_loss: 0.2367 - val_accuracy: 0.9269\n",
            "Epoch 3/3\n",
            "600/600 [==============================] - 6s 9ms/step - loss: 0.2131 - accuracy: 0.9347 - val_loss: 0.2074 - val_accuracy: 0.9360\n",
            "Epoch 1/3\n",
            "600/600 [==============================] - 7s 10ms/step - loss: 0.5303 - accuracy: 0.8273 - val_loss: 0.0659 - val_accuracy: 0.9809\n",
            "Epoch 2/3\n",
            "600/600 [==============================] - 6s 10ms/step - loss: 0.0604 - accuracy: 0.9803 - val_loss: 0.0474 - val_accuracy: 0.9854\n",
            "Epoch 3/3\n",
            "600/600 [==============================] - 6s 10ms/step - loss: 0.0379 - accuracy: 0.9880 - val_loss: 0.0459 - val_accuracy: 0.9870\n",
            "Epoch 1/3\n",
            "600/600 [==============================] - 6s 9ms/step - loss: 0.5223 - accuracy: 0.8290 - val_loss: 0.1022 - val_accuracy: 0.9674\n",
            "Epoch 2/3\n",
            "600/600 [==============================] - 6s 9ms/step - loss: 0.0666 - accuracy: 0.9796 - val_loss: 0.0459 - val_accuracy: 0.9868\n",
            "Epoch 3/3\n",
            "600/600 [==============================] - 6s 9ms/step - loss: 0.0380 - accuracy: 0.9886 - val_loss: 0.0450 - val_accuracy: 0.9875\n",
            "Epoch 1/3\n",
            "600/600 [==============================] - 7s 10ms/step - loss: 0.4983 - accuracy: 0.8397 - val_loss: 0.0924 - val_accuracy: 0.9737\n",
            "Epoch 2/3\n",
            "600/600 [==============================] - 7s 11ms/step - loss: 0.0664 - accuracy: 0.9788 - val_loss: 0.0685 - val_accuracy: 0.9824\n",
            "Epoch 3/3\n",
            "600/600 [==============================] - 7s 12ms/step - loss: 0.0440 - accuracy: 0.9863 - val_loss: 0.0560 - val_accuracy: 0.9835\n",
            "Epoch 1/3\n",
            "600/600 [==============================] - 7s 11ms/step - loss: 0.4847 - accuracy: 0.8425 - val_loss: 0.0659 - val_accuracy: 0.9799\n",
            "Epoch 2/3\n",
            "600/600 [==============================] - 7s 11ms/step - loss: 0.0630 - accuracy: 0.9791 - val_loss: 0.0517 - val_accuracy: 0.9847\n",
            "Epoch 3/3\n",
            "600/600 [==============================] - 7s 11ms/step - loss: 0.0385 - accuracy: 0.9880 - val_loss: 0.0458 - val_accuracy: 0.9865\n",
            "Epoch 1/3\n",
            "600/600 [==============================] - 7s 10ms/step - loss: 0.5225 - accuracy: 0.8281 - val_loss: 0.1076 - val_accuracy: 0.9657\n",
            "Epoch 2/3\n",
            "600/600 [==============================] - 6s 10ms/step - loss: 0.0620 - accuracy: 0.9801 - val_loss: 0.0669 - val_accuracy: 0.9787\n",
            "Epoch 3/3\n",
            "600/600 [==============================] - 7s 11ms/step - loss: 0.0375 - accuracy: 0.9880 - val_loss: 0.0501 - val_accuracy: 0.9861\n",
            "Epoch 1/3\n",
            "600/600 [==============================] - 7s 10ms/step - loss: 0.5530 - accuracy: 0.8262 - val_loss: 0.0739 - val_accuracy: 0.9795\n",
            "Epoch 2/3\n",
            "600/600 [==============================] - 6s 10ms/step - loss: 0.0690 - accuracy: 0.9776 - val_loss: 0.0570 - val_accuracy: 0.9853\n",
            "Epoch 3/3\n",
            "600/600 [==============================] - 6s 10ms/step - loss: 0.0444 - accuracy: 0.9854 - val_loss: 0.0514 - val_accuracy: 0.9848\n",
            "Epoch 1/3\n",
            "600/600 [==============================] - 6s 9ms/step - loss: 0.5407 - accuracy: 0.8399 - val_loss: 0.0697 - val_accuracy: 0.9789\n",
            "Epoch 2/3\n",
            "600/600 [==============================] - 5s 9ms/step - loss: 0.0682 - accuracy: 0.9785 - val_loss: 0.0530 - val_accuracy: 0.9841\n",
            "Epoch 3/3\n",
            "600/600 [==============================] - 5s 9ms/step - loss: 0.0481 - accuracy: 0.9853 - val_loss: 0.0460 - val_accuracy: 0.9857\n",
            "Epoch 1/3\n",
            "600/600 [==============================] - 6s 9ms/step - loss: 0.5658 - accuracy: 0.8178 - val_loss: 0.1024 - val_accuracy: 0.9691\n",
            "Epoch 2/3\n",
            "600/600 [==============================] - 5s 9ms/step - loss: 0.0756 - accuracy: 0.9760 - val_loss: 0.0638 - val_accuracy: 0.9819\n",
            "Epoch 3/3\n",
            "600/600 [==============================] - 6s 10ms/step - loss: 0.0454 - accuracy: 0.9860 - val_loss: 0.0606 - val_accuracy: 0.9808\n",
            "Epoch 1/3\n",
            "600/600 [==============================] - 6s 10ms/step - loss: 0.5741 - accuracy: 0.8299 - val_loss: 0.0734 - val_accuracy: 0.9786\n",
            "Epoch 2/3\n",
            "600/600 [==============================] - 6s 9ms/step - loss: 0.0723 - accuracy: 0.9776 - val_loss: 0.0718 - val_accuracy: 0.9793\n",
            "Epoch 3/3\n",
            "600/600 [==============================] - 6s 9ms/step - loss: 0.0451 - accuracy: 0.9850 - val_loss: 0.0481 - val_accuracy: 0.9861\n",
            "Epoch 1/3\n",
            "600/600 [==============================] - 6s 9ms/step - loss: 0.5504 - accuracy: 0.8437 - val_loss: 0.1128 - val_accuracy: 0.9639\n",
            "Epoch 2/3\n",
            "600/600 [==============================] - 5s 8ms/step - loss: 0.0754 - accuracy: 0.9777 - val_loss: 0.0707 - val_accuracy: 0.9785\n",
            "Epoch 3/3\n",
            "600/600 [==============================] - 5s 8ms/step - loss: 0.0434 - accuracy: 0.9863 - val_loss: 0.0678 - val_accuracy: 0.9791\n",
            "Epoch 1/3\n",
            "600/600 [==============================] - 6s 8ms/step - loss: 2.3093 - accuracy: 0.1078 - val_loss: 2.3042 - val_accuracy: 0.1065\n",
            "Epoch 2/3\n",
            "600/600 [==============================] - 5s 8ms/step - loss: 2.3023 - accuracy: 0.1094 - val_loss: 2.3030 - val_accuracy: 0.0961\n",
            "Epoch 3/3\n",
            "600/600 [==============================] - 6s 9ms/step - loss: 2.3022 - accuracy: 0.1092 - val_loss: 2.3034 - val_accuracy: 0.1065\n",
            "Epoch 1/3\n",
            "600/600 [==============================] - 7s 10ms/step - loss: 2.3126 - accuracy: 0.1092 - val_loss: 2.3033 - val_accuracy: 0.1065\n",
            "Epoch 2/3\n",
            "600/600 [==============================] - 6s 10ms/step - loss: 2.3023 - accuracy: 0.1099 - val_loss: 2.3035 - val_accuracy: 0.1092\n",
            "Epoch 3/3\n",
            "600/600 [==============================] - 6s 10ms/step - loss: 2.3019 - accuracy: 0.1119 - val_loss: 2.3033 - val_accuracy: 0.1065\n",
            "Epoch 1/3\n",
            "600/600 [==============================] - 6s 9ms/step - loss: 2.3350 - accuracy: 0.1096 - val_loss: 2.3023 - val_accuracy: 0.1065\n",
            "Epoch 2/3\n",
            "600/600 [==============================] - 5s 9ms/step - loss: 2.3020 - accuracy: 0.1161 - val_loss: 2.3024 - val_accuracy: 0.1065\n",
            "Epoch 3/3\n",
            "600/600 [==============================] - 5s 9ms/step - loss: 2.3025 - accuracy: 0.1100 - val_loss: 2.3031 - val_accuracy: 0.1065\n",
            "Epoch 1/3\n",
            "600/600 [==============================] - 6s 9ms/step - loss: 2.3161 - accuracy: 0.1098 - val_loss: 2.3029 - val_accuracy: 0.1065\n",
            "Epoch 2/3\n",
            "600/600 [==============================] - 5s 8ms/step - loss: 2.3022 - accuracy: 0.1124 - val_loss: 2.3024 - val_accuracy: 0.1065\n",
            "Epoch 3/3\n",
            "600/600 [==============================] - 6s 9ms/step - loss: 2.3025 - accuracy: 0.1096 - val_loss: 2.3034 - val_accuracy: 0.1065\n",
            "Epoch 1/3\n",
            "600/600 [==============================] - 6s 9ms/step - loss: 2.3238 - accuracy: 0.1050 - val_loss: 2.3016 - val_accuracy: 0.1152\n",
            "Epoch 2/3\n",
            "600/600 [==============================] - 5s 9ms/step - loss: 2.3018 - accuracy: 0.1139 - val_loss: 2.3026 - val_accuracy: 0.0978\n",
            "Epoch 3/3\n",
            "600/600 [==============================] - 5s 9ms/step - loss: 2.3011 - accuracy: 0.1118 - val_loss: 2.3016 - val_accuracy: 0.1152\n",
            "Epoch 1/3\n",
            "600/600 [==============================] - 7s 10ms/step - loss: 1.8347 - accuracy: 0.3419 - val_loss: 0.3464 - val_accuracy: 0.9069\n",
            "Epoch 2/3\n",
            "600/600 [==============================] - 6s 9ms/step - loss: 0.3061 - accuracy: 0.9131 - val_loss: 0.1617 - val_accuracy: 0.9544\n",
            "Epoch 3/3\n",
            "600/600 [==============================] - 6s 9ms/step - loss: 0.1518 - accuracy: 0.9555 - val_loss: 0.1219 - val_accuracy: 0.9617\n",
            "Epoch 1/3\n",
            "600/600 [==============================] - 6s 9ms/step - loss: 1.8295 - accuracy: 0.3486 - val_loss: 0.3489 - val_accuracy: 0.9032\n",
            "Epoch 2/3\n",
            "600/600 [==============================] - 6s 10ms/step - loss: 0.3196 - accuracy: 0.9097 - val_loss: 0.1597 - val_accuracy: 0.9541\n",
            "Epoch 3/3\n",
            "600/600 [==============================] - 7s 12ms/step - loss: 0.1660 - accuracy: 0.9508 - val_loss: 0.1054 - val_accuracy: 0.9694\n",
            "Epoch 1/3\n",
            "600/600 [==============================] - 8s 12ms/step - loss: 1.7977 - accuracy: 0.3602 - val_loss: 0.3637 - val_accuracy: 0.9000\n",
            "Epoch 2/3\n",
            "600/600 [==============================] - 7s 11ms/step - loss: 0.3041 - accuracy: 0.9149 - val_loss: 0.1689 - val_accuracy: 0.9502\n",
            "Epoch 3/3\n",
            "600/600 [==============================] - 7s 11ms/step - loss: 0.1621 - accuracy: 0.9504 - val_loss: 0.1238 - val_accuracy: 0.9622\n",
            "Epoch 1/3\n",
            "600/600 [==============================] - 7s 10ms/step - loss: 1.7469 - accuracy: 0.3812 - val_loss: 0.3455 - val_accuracy: 0.8999\n",
            "Epoch 2/3\n",
            "600/600 [==============================] - 6s 10ms/step - loss: 0.3165 - accuracy: 0.9091 - val_loss: 0.1678 - val_accuracy: 0.9513\n",
            "Epoch 3/3\n",
            "600/600 [==============================] - 6s 10ms/step - loss: 0.1666 - accuracy: 0.9503 - val_loss: 0.1267 - val_accuracy: 0.9598\n",
            "Epoch 1/3\n",
            "600/600 [==============================] - 7s 11ms/step - loss: 1.8096 - accuracy: 0.3592 - val_loss: 0.4001 - val_accuracy: 0.8819\n",
            "Epoch 2/3\n",
            "600/600 [==============================] - 7s 12ms/step - loss: 0.3223 - accuracy: 0.9071 - val_loss: 0.2271 - val_accuracy: 0.9337\n",
            "Epoch 3/3\n",
            "600/600 [==============================] - 7s 12ms/step - loss: 0.1639 - accuracy: 0.9505 - val_loss: 0.1694 - val_accuracy: 0.9425\n",
            "Epoch 1/3\n",
            "600/600 [==============================] - 7s 10ms/step - loss: 2.0562 - accuracy: 0.2413 - val_loss: 0.3282 - val_accuracy: 0.9158\n",
            "Epoch 2/3\n",
            "600/600 [==============================] - 6s 10ms/step - loss: 0.2922 - accuracy: 0.9229 - val_loss: 0.1456 - val_accuracy: 0.9592\n",
            "Epoch 3/3\n",
            "600/600 [==============================] - 6s 10ms/step - loss: 0.1454 - accuracy: 0.9586 - val_loss: 0.1017 - val_accuracy: 0.9721\n",
            "Epoch 1/3\n",
            "600/600 [==============================] - 6s 10ms/step - loss: 1.9634 - accuracy: 0.2733 - val_loss: 0.2627 - val_accuracy: 0.9349\n",
            "Epoch 2/3\n",
            "600/600 [==============================] - 6s 9ms/step - loss: 0.2395 - accuracy: 0.9369 - val_loss: 0.1445 - val_accuracy: 0.9590\n",
            "Epoch 3/3\n",
            "600/600 [==============================] - 6s 10ms/step - loss: 0.1306 - accuracy: 0.9643 - val_loss: 0.0956 - val_accuracy: 0.9716\n",
            "Epoch 1/3\n",
            "600/600 [==============================] - 6s 10ms/step - loss: 1.9799 - accuracy: 0.2707 - val_loss: 0.3083 - val_accuracy: 0.9215\n",
            "Epoch 2/3\n",
            "600/600 [==============================] - 6s 9ms/step - loss: 0.2747 - accuracy: 0.9282 - val_loss: 0.1440 - val_accuracy: 0.9610\n",
            "Epoch 3/3\n",
            "600/600 [==============================] - 6s 9ms/step - loss: 0.1490 - accuracy: 0.9575 - val_loss: 0.1108 - val_accuracy: 0.9697\n",
            "Epoch 1/3\n",
            "600/600 [==============================] - 6s 9ms/step - loss: 1.9381 - accuracy: 0.2901 - val_loss: 0.3168 - val_accuracy: 0.9200\n",
            "Epoch 2/3\n",
            "600/600 [==============================] - 5s 9ms/step - loss: 0.2782 - accuracy: 0.9259 - val_loss: 0.1498 - val_accuracy: 0.9591\n",
            "Epoch 3/3\n",
            "600/600 [==============================] - 5s 9ms/step - loss: 0.1426 - accuracy: 0.9607 - val_loss: 0.1054 - val_accuracy: 0.9700\n",
            "Epoch 1/3\n",
            "600/600 [==============================] - 6s 9ms/step - loss: 1.9247 - accuracy: 0.2975 - val_loss: 0.3184 - val_accuracy: 0.9156\n",
            "Epoch 2/3\n",
            "600/600 [==============================] - 5s 9ms/step - loss: 0.2542 - accuracy: 0.9331 - val_loss: 0.1618 - val_accuracy: 0.9534\n",
            "Epoch 3/3\n",
            "600/600 [==============================] - 6s 10ms/step - loss: 0.1387 - accuracy: 0.9595 - val_loss: 0.1129 - val_accuracy: 0.9669\n",
            "Epoch 1/3\n",
            "600/600 [==============================] - 7s 10ms/step - loss: 1.5413 - accuracy: 0.6021 - val_loss: 0.4137 - val_accuracy: 0.8943\n",
            "Epoch 2/3\n",
            "600/600 [==============================] - 6s 10ms/step - loss: 0.4070 - accuracy: 0.8951 - val_loss: 0.2721 - val_accuracy: 0.9253\n",
            "Epoch 3/3\n",
            "600/600 [==============================] - 6s 10ms/step - loss: 0.2881 - accuracy: 0.9214 - val_loss: 0.2084 - val_accuracy: 0.9426\n",
            "Epoch 1/3\n",
            "600/600 [==============================] - 6s 9ms/step - loss: 1.4702 - accuracy: 0.6272 - val_loss: 0.3808 - val_accuracy: 0.9098\n",
            "Epoch 2/3\n",
            "600/600 [==============================] - 5s 9ms/step - loss: 0.3763 - accuracy: 0.9030 - val_loss: 0.2469 - val_accuracy: 0.9355\n",
            "Epoch 3/3\n",
            "600/600 [==============================] - 5s 9ms/step - loss: 0.2530 - accuracy: 0.9324 - val_loss: 0.1888 - val_accuracy: 0.9503\n",
            "Epoch 1/3\n",
            "600/600 [==============================] - 6s 9ms/step - loss: 1.5844 - accuracy: 0.5684 - val_loss: 0.4056 - val_accuracy: 0.8992\n",
            "Epoch 2/3\n",
            "600/600 [==============================] - 5s 8ms/step - loss: 0.3984 - accuracy: 0.8945 - val_loss: 0.2702 - val_accuracy: 0.9281\n",
            "Epoch 3/3\n",
            "600/600 [==============================] - 6s 10ms/step - loss: 0.2832 - accuracy: 0.9218 - val_loss: 0.2094 - val_accuracy: 0.9434\n",
            "Epoch 1/3\n",
            "600/600 [==============================] - 7s 10ms/step - loss: 1.5382 - accuracy: 0.5834 - val_loss: 0.4121 - val_accuracy: 0.8961\n",
            "Epoch 2/3\n",
            "600/600 [==============================] - 6s 10ms/step - loss: 0.4050 - accuracy: 0.8935 - val_loss: 0.2726 - val_accuracy: 0.9259\n",
            "Epoch 3/3\n",
            "600/600 [==============================] - 6s 10ms/step - loss: 0.2755 - accuracy: 0.9244 - val_loss: 0.2112 - val_accuracy: 0.9415\n",
            "Epoch 1/3\n",
            "600/600 [==============================] - 6s 10ms/step - loss: 1.5463 - accuracy: 0.5981 - val_loss: 0.4653 - val_accuracy: 0.8799\n",
            "Epoch 2/3\n",
            "600/600 [==============================] - 6s 9ms/step - loss: 0.4059 - accuracy: 0.8955 - val_loss: 0.3107 - val_accuracy: 0.9153\n",
            "Epoch 3/3\n",
            "600/600 [==============================] - 6s 9ms/step - loss: 0.2761 - accuracy: 0.9245 - val_loss: 0.2403 - val_accuracy: 0.9324\n",
            "Epoch 1/3\n",
            "600/600 [==============================] - 7s 10ms/step - loss: 0.4081 - accuracy: 0.8783 - val_loss: 0.0659 - val_accuracy: 0.9810\n",
            "Epoch 2/3\n",
            "600/600 [==============================] - 7s 11ms/step - loss: 0.0681 - accuracy: 0.9792 - val_loss: 0.0656 - val_accuracy: 0.9810\n",
            "Epoch 3/3\n",
            "600/600 [==============================] - 7s 12ms/step - loss: 0.0416 - accuracy: 0.9875 - val_loss: 0.0504 - val_accuracy: 0.9848\n",
            "Epoch 1/3\n",
            "600/600 [==============================] - 8s 12ms/step - loss: 0.4079 - accuracy: 0.8795 - val_loss: 0.0730 - val_accuracy: 0.9795\n",
            "Epoch 2/3\n",
            "600/600 [==============================] - 7s 11ms/step - loss: 0.0646 - accuracy: 0.9809 - val_loss: 0.0557 - val_accuracy: 0.9837\n",
            "Epoch 3/3\n",
            "600/600 [==============================] - 7s 11ms/step - loss: 0.0409 - accuracy: 0.9881 - val_loss: 0.0478 - val_accuracy: 0.9868\n",
            "Epoch 1/3\n",
            "600/600 [==============================] - 8s 11ms/step - loss: 0.4029 - accuracy: 0.8828 - val_loss: 0.1186 - val_accuracy: 0.9640\n",
            "Epoch 2/3\n",
            "600/600 [==============================] - 6s 11ms/step - loss: 0.0639 - accuracy: 0.9807 - val_loss: 0.0665 - val_accuracy: 0.9820\n",
            "Epoch 3/3\n",
            "600/600 [==============================] - 7s 12ms/step - loss: 0.0417 - accuracy: 0.9876 - val_loss: 0.0559 - val_accuracy: 0.9846\n",
            "Epoch 1/3\n",
            "600/600 [==============================] - 7s 11ms/step - loss: 0.3889 - accuracy: 0.8841 - val_loss: 0.0749 - val_accuracy: 0.9784\n",
            "Epoch 2/3\n",
            "600/600 [==============================] - 6s 11ms/step - loss: 0.0622 - accuracy: 0.9815 - val_loss: 0.0547 - val_accuracy: 0.9854\n",
            "Epoch 3/3\n",
            "600/600 [==============================] - 6s 11ms/step - loss: 0.0392 - accuracy: 0.9890 - val_loss: 0.0504 - val_accuracy: 0.9860\n",
            "Epoch 1/3\n",
            "600/600 [==============================] - 7s 10ms/step - loss: 0.3917 - accuracy: 0.8842 - val_loss: 0.0797 - val_accuracy: 0.9765\n",
            "Epoch 2/3\n",
            "600/600 [==============================] - 6s 10ms/step - loss: 0.0618 - accuracy: 0.9816 - val_loss: 0.0612 - val_accuracy: 0.9808\n",
            "Epoch 3/3\n",
            "600/600 [==============================] - 6s 10ms/step - loss: 0.0415 - accuracy: 0.9876 - val_loss: 0.0589 - val_accuracy: 0.9819\n",
            "Epoch 1/3\n",
            "600/600 [==============================] - 6s 9ms/step - loss: 0.4848 - accuracy: 0.8556 - val_loss: 0.0805 - val_accuracy: 0.9772\n",
            "Epoch 2/3\n",
            "600/600 [==============================] - 6s 10ms/step - loss: 0.0664 - accuracy: 0.9797 - val_loss: 0.0595 - val_accuracy: 0.9821\n",
            "Epoch 3/3\n",
            "600/600 [==============================] - 6s 11ms/step - loss: 0.0443 - accuracy: 0.9867 - val_loss: 0.0484 - val_accuracy: 0.9853\n",
            "Epoch 1/3\n",
            "600/600 [==============================] - 7s 10ms/step - loss: 0.4586 - accuracy: 0.8634 - val_loss: 0.0780 - val_accuracy: 0.9776\n",
            "Epoch 2/3\n",
            "600/600 [==============================] - 6s 10ms/step - loss: 0.0649 - accuracy: 0.9816 - val_loss: 0.0550 - val_accuracy: 0.9854\n",
            "Epoch 3/3\n",
            "600/600 [==============================] - 6s 10ms/step - loss: 0.0399 - accuracy: 0.9895 - val_loss: 0.0543 - val_accuracy: 0.9851\n",
            "Epoch 1/3\n",
            "600/600 [==============================] - 6s 10ms/step - loss: 0.4470 - accuracy: 0.8698 - val_loss: 0.0753 - val_accuracy: 0.9784\n",
            "Epoch 2/3\n",
            "600/600 [==============================] - 6s 9ms/step - loss: 0.0651 - accuracy: 0.9808 - val_loss: 0.0528 - val_accuracy: 0.9855\n",
            "Epoch 3/3\n",
            "600/600 [==============================] - 6s 9ms/step - loss: 0.0422 - accuracy: 0.9874 - val_loss: 0.0502 - val_accuracy: 0.9858\n",
            "Epoch 1/3\n",
            "600/600 [==============================] - 6s 10ms/step - loss: 0.4645 - accuracy: 0.8643 - val_loss: 0.0868 - val_accuracy: 0.9739\n",
            "Epoch 2/3\n",
            "600/600 [==============================] - 6s 11ms/step - loss: 0.0621 - accuracy: 0.9825 - val_loss: 0.0541 - val_accuracy: 0.9835\n",
            "Epoch 3/3\n",
            "600/600 [==============================] - 6s 11ms/step - loss: 0.0384 - accuracy: 0.9898 - val_loss: 0.0511 - val_accuracy: 0.9848\n",
            "Epoch 1/3\n",
            "600/600 [==============================] - 6s 10ms/step - loss: 0.4754 - accuracy: 0.8609 - val_loss: 0.0777 - val_accuracy: 0.9769\n",
            "Epoch 2/3\n",
            "600/600 [==============================] - 6s 9ms/step - loss: 0.0600 - accuracy: 0.9826 - val_loss: 0.0755 - val_accuracy: 0.9758\n",
            "Epoch 3/3\n",
            "600/600 [==============================] - 6s 9ms/step - loss: 0.0381 - accuracy: 0.9885 - val_loss: 0.0721 - val_accuracy: 0.9773\n",
            "Epoch 1/3\n",
            "750/750 [==============================] - 9s 10ms/step - loss: 0.4560 - accuracy: 0.8577 - val_loss: 0.0697 - val_accuracy: 0.9803\n",
            "Epoch 2/3\n",
            "750/750 [==============================] - 8s 10ms/step - loss: 0.0596 - accuracy: 0.9825 - val_loss: 0.0491 - val_accuracy: 0.9859\n",
            "Epoch 3/3\n",
            "750/750 [==============================] - 9s 12ms/step - loss: 0.0383 - accuracy: 0.9879 - val_loss: 0.0404 - val_accuracy: 0.9880\n"
          ],
          "name": "stdout"
        },
        {
          "output_type": "execute_result",
          "data": {
            "text/plain": [
              "GridSearchCV(cv=None, error_score=nan,\n",
              "             estimator=<tensorflow.python.keras.wrappers.scikit_learn.KerasClassifier object at 0x7f34f0c76990>,\n",
              "             iid='deprecated', n_jobs=None,\n",
              "             param_grid={'activation': ['relu', 'sigmoid', 'tanh'],\n",
              "                         'optimizer': ['SGD', 'rmsprop', 'Adam']},\n",
              "             pre_dispatch='2*n_jobs', refit=True, return_train_score=False,\n",
              "             scoring='accuracy', verbose=0)"
            ]
          },
          "metadata": {
            "tags": []
          },
          "execution_count": 12
        }
      ]
    },
    {
      "cell_type": "code",
      "metadata": {
        "colab": {
          "base_uri": "https://localhost:8080/"
        },
        "id": "_aMnBYqPSCwK",
        "outputId": "28572136-6d9e-4d34-cb73-26ab03ad4e31"
      },
      "source": [
        "print('Best parameters: ', model.best_params_)"
      ],
      "execution_count": 13,
      "outputs": [
        {
          "output_type": "stream",
          "text": [
            "Best parameters:  {'activation': 'relu', 'optimizer': 'rmsprop'}\n"
          ],
          "name": "stdout"
        }
      ]
    },
    {
      "cell_type": "code",
      "metadata": {
        "colab": {
          "base_uri": "https://localhost:8080/",
          "height": 545
        },
        "id": "8e7b751CSUEb",
        "outputId": "2cbe1d49-6cd3-4b0f-9f68-8d6b2511779f"
      },
      "source": [
        "import matplotlib.pyplot as plt\n",
        "\n",
        "acc = model.best_estimator_.model.history.history['accuracy']\n",
        "val_acc = model.best_estimator_.model.history.history['val_accuracy']\n",
        "loss = model.best_estimator_.model.history.history['loss']\n",
        "val_loss = model.best_estimator_.model.history.history['val_loss']\n",
        "\n",
        "epochs = range(1, len(acc) + 1)\n",
        "\n",
        "plt.plot(epochs, acc, 'bo', label='Training acc')\n",
        "plt.plot(epochs, val_acc, 'b', label='Validation acc')\n",
        "plt.title('Training and validation accuracy')\n",
        "plt.legend()\n",
        "\n",
        "plt.figure()\n",
        "\n",
        "plt.plot(epochs, loss, 'bo', label='Training loss')\n",
        "plt.plot(epochs, val_loss, 'b', label='Validation loss')\n",
        "plt.title('Training and validation loss')\n",
        "plt.legend()\n",
        "\n",
        "plt.show()"
      ],
      "execution_count": 14,
      "outputs": [
        {
          "output_type": "display_data",
          "data": {
            "image/png": "[encoded data removed]",
            "text/plain": [
              "<Figure size 432x288 with 1 Axes>"
            ]
          },
          "metadata": {
            "tags": [],
            "needs_background": "light"
          }
        },
        {
          "output_type": "display_data",
          "data": {
            "image/png": "[encoded data removed]",
            "text/plain": [
              "<Figure size 432x288 with 1 Axes>"
            ]
          },
          "metadata": {
            "tags": [],
            "needs_background": "light"
          }
        }
      ]
    }
  ]
}