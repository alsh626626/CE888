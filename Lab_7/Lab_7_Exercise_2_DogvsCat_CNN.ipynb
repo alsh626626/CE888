{
  "nbformat": 4,
  "nbformat_minor": 0,
  "metadata": {
    "colab": {
      "name": "Lab_7_Exercise_2_DogvsCat_CNN.ipynb",
      "provenance": [],
      "include_colab_link": true
    },
    "kernelspec": {
      "name": "python3",
      "display_name": "Python 3"
    },
    "accelerator": "GPU"
  },
  "cells": [
    {
      "cell_type": "markdown",
      "metadata": {
        "id": "view-in-github",
        "colab_type": "text"
      },
      "source": [
        "<a href=\"https://colab.research.google.com/github/alsh626626/CE888/blob/main/Lab_7/Lab_7_Exercise_2_DogvsCat_CNN.ipynb\" target=\"_parent\"><img src=\"https://colab.research.google.com/assets/colab-badge.svg\" alt=\"Open In Colab\"/></a>"
      ]
    },
    {
      "cell_type": "markdown",
      "metadata": {
        "id": "qTh9DiKVslsJ"
      },
      "source": [
        "## Dogs vs. Cats \n",
        "\n",
        "In this competition, you'll write an algorithm to classify whether images contain either a dog or a cat.  This is easy for humans, dogs, and cats. Your computer will find it a bit more difficult.\n",
        "\n",
        "![alt text](https://miro.medium.com/max/3000/1*bhFifratH9DjKqMBTeQG5A.gif)\n",
        "\n",
        "Ref: https://medium.com/@thegrigorian/rolling-in-the-deep-cnn-c8d3f7108c8c"
      ]
    },
    {
      "cell_type": "markdown",
      "metadata": {
        "id": "RSBI-_mSSY1g"
      },
      "source": [
        "Get your API Key from Kaggle using following steps:\n",
        "1. Login to [Kaggle](https://www.kaggle.com/) or Register if you don't have account\n",
        "2. Open Dataset (https://www.kaggle.com/c/dogs-vs-cats/rules) and accept terms and condition. \n",
        "3. On the top right corner click on your Icon and go to accounts and press a button \"Create New API Token\". It will download a JSON file containing your username and key. \n",
        "4. Now, paste both below. \n"
      ]
    },
    {
      "cell_type": "code",
      "metadata": {
        "id": "YmXSOc0tZIGA",
        "colab": {
          "base_uri": "https://localhost:8080/"
        },
        "outputId": "021e305f-617a-4a47-e21b-3cfd9ee5d5a1"
      },
      "source": [
        "import os\n",
        "os.environ['KAGGLE_USERNAME'] = \"shlau626\" # username from the json file\n",
        "os.environ['KAGGLE_KEY'] = \"1490690deb397a465fca6eda5f6a3197\" # key from the json file\n",
        "!kaggle competitions download -c dogs-vs-cats # api copied from kaggle (https://www.kaggle.com/c/dogs-vs-cats/data)"
      ],
      "execution_count": 1,
      "outputs": [
        {
          "output_type": "stream",
          "text": [
            "Warning: Looks like you're using an outdated API Version, please consider updating (server 1.5.12 / client 1.5.4)\n",
            "Downloading sampleSubmission.csv to /content\n",
            "  0% 0.00/86.8k [00:00<?, ?B/s]\n",
            "100% 86.8k/86.8k [00:00<00:00, 32.9MB/s]\n",
            "Downloading train.zip to /content\n",
            " 99% 536M/543M [00:02<00:00, 248MB/s]\n",
            "100% 543M/543M [00:02<00:00, 194MB/s]\n",
            "Downloading test1.zip to /content\n",
            " 97% 264M/271M [00:01<00:00, 141MB/s]\n",
            "100% 271M/271M [00:01<00:00, 144MB/s]\n"
          ],
          "name": "stdout"
        }
      ]
    },
    {
      "cell_type": "code",
      "metadata": {
        "id": "PiwIL8d1n7eS",
        "colab": {
          "base_uri": "https://localhost:8080/"
        },
        "outputId": "b9f5245e-61ac-420d-f2d0-91b77934dcb3"
      },
      "source": [
        "# Unzip training data\n",
        "from zipfile import ZipFile\n",
        "file_name = \"/content/train.zip\"\n",
        "with ZipFile(file_name, 'r') as zip:\n",
        "  zip.extractall()\n",
        "  print('done')"
      ],
      "execution_count": 2,
      "outputs": [
        {
          "output_type": "stream",
          "text": [
            "done\n"
          ],
          "name": "stdout"
        }
      ]
    },
    {
      "cell_type": "code",
      "metadata": {
        "id": "sa2Bj5i7pPKV",
        "colab": {
          "base_uri": "https://localhost:8080/"
        },
        "outputId": "16991a0b-3a23-43f0-fa55-cd345cbf5472"
      },
      "source": [
        "# Get all the paths\n",
        "data_dir_list = os.listdir('/content/train')\n",
        "#print(data_dir_list)\n",
        "path, dirs, files = next(os.walk(\"/content/train\"))\n",
        "file_count = len(files)\n",
        "print(file_count)"
      ],
      "execution_count": 3,
      "outputs": [
        {
          "output_type": "stream",
          "text": [
            "25000\n"
          ],
          "name": "stdout"
        }
      ]
    },
    {
      "cell_type": "code",
      "metadata": {
        "id": "0ERlHkfHqpK8"
      },
      "source": [
        "# Make new base directory\n",
        "original_dataset_dir = '/content/train'\n",
        "base_dir = '/content/cats_and_dogs_small'\n",
        "os.mkdir(base_dir)"
      ],
      "execution_count": 4,
      "outputs": []
    },
    {
      "cell_type": "code",
      "metadata": {
        "id": "AANB1UJ6rQhM"
      },
      "source": [
        "train_dir = os.path.join(base_dir, 'train')\n",
        "os.mkdir(train_dir)\n",
        "\n",
        "validation_dir = os.path.join(base_dir, 'validation')\n",
        "os.mkdir(validation_dir)\n",
        "\n",
        "test_dir = os.path.join(base_dir, 'test')\n",
        "os.mkdir(test_dir)\n",
        "\n",
        "train_cats_dir = os.path.join(train_dir, 'cats')\n",
        "os.mkdir(train_cats_dir)\n",
        "\n",
        "train_dogs_dir = os.path.join(train_dir, 'dogs')\n",
        "os.mkdir(train_dogs_dir)\n",
        "\n",
        "validation_cats_dir = os.path.join(validation_dir, 'cats')\n",
        "os.mkdir(validation_cats_dir)\n",
        "\n",
        "validation_dogs_dir = os.path.join(validation_dir, 'dogs')\n",
        "os.mkdir(validation_dogs_dir)\n",
        "\n",
        "test_cats_dir = os.path.join(test_dir, 'cats')\n",
        "os.mkdir(test_cats_dir)\n",
        "\n",
        "test_dogs_dir = os.path.join(test_dir, 'dogs')\n",
        "os.mkdir(test_dogs_dir)"
      ],
      "execution_count": 5,
      "outputs": []
    },
    {
      "cell_type": "code",
      "metadata": {
        "id": "ULRgL9s9rV8T"
      },
      "source": [
        "import shutil\n",
        "fnames = ['cat.{}.jpg'.format(i) for i in range(1000)]\n",
        "for fname in fnames:\n",
        "    src = os.path.join(original_dataset_dir, fname)\n",
        "    dst = os.path.join(train_cats_dir, fname)\n",
        "    #print(src,dst)\n",
        "    shutil.copyfile(src, dst)\n",
        "    \n",
        "fnames = ['cat.{}.jpg'.format(i) for i in range(1000, 1500)]\n",
        "for fname in fnames:\n",
        "    src = os.path.join(original_dataset_dir, fname)\n",
        "    dst = os.path.join(validation_cats_dir, fname)\n",
        "    shutil.copyfile(src, dst)\n",
        "\n",
        "fnames = ['cat.{}.jpg'.format(i) for i in range(1500, 2000)]\n",
        "for fname in fnames:\n",
        "    src = os.path.join(original_dataset_dir, fname)\n",
        "    dst = os.path.join(test_cats_dir, fname)\n",
        "    shutil.copyfile(src, dst)\n",
        "    \n",
        "fnames = ['dog.{}.jpg'.format(i) for i in range(1000)]\n",
        "for fname in fnames:\n",
        "    src = os.path.join(original_dataset_dir, fname)\n",
        "    dst = os.path.join(train_dogs_dir, fname)\n",
        "    shutil.copyfile(src, dst)\n",
        "\n",
        "fnames = ['dog.{}.jpg'.format(i) for i in range(1000, 1500)]\n",
        "for fname in fnames:\n",
        "    src = os.path.join(original_dataset_dir, fname)\n",
        "    dst = os.path.join(validation_dogs_dir, fname)\n",
        "    shutil.copyfile(src, dst)\n",
        "\n",
        "fnames = ['dog.{}.jpg'.format(i) for i in range(1500, 2000)]\n",
        "for fname in fnames:\n",
        "    src = os.path.join(original_dataset_dir, fname)\n",
        "    dst = os.path.join(test_dogs_dir, fname)\n",
        "    shutil.copyfile(src, dst)"
      ],
      "execution_count": 6,
      "outputs": []
    },
    {
      "cell_type": "code",
      "metadata": {
        "id": "ul3XAbIyr7vC",
        "colab": {
          "base_uri": "https://localhost:8080/"
        },
        "outputId": "d3f823d9-6aba-44e2-e248-6169067b5fbd"
      },
      "source": [
        "print('total training cat images:', len(os.listdir(train_cats_dir)))\n",
        "print('total training dog images:', len(os.listdir(train_dogs_dir)))\n",
        "print('total validation cat images:', len(os.listdir(validation_cats_dir)))\n",
        "\n",
        "print('total validation dog images:', len(os.listdir(validation_dogs_dir)))\n",
        "print('total test cat images:', len(os.listdir(test_cats_dir)))\n",
        "print('total test dog images:', len(os.listdir(test_dogs_dir)))"
      ],
      "execution_count": 7,
      "outputs": [
        {
          "output_type": "stream",
          "text": [
            "total training cat images: 1000\n",
            "total training dog images: 1000\n",
            "total validation cat images: 500\n",
            "total validation dog images: 500\n",
            "total test cat images: 500\n",
            "total test dog images: 500\n"
          ],
          "name": "stdout"
        }
      ]
    },
    {
      "cell_type": "code",
      "metadata": {
        "id": "o9yTA21_r-ma",
        "colab": {
          "base_uri": "https://localhost:8080/"
        },
        "outputId": "d65235f9-df81-4f58-bd70-5047f9f0c372"
      },
      "source": [
        "from keras import layers\n",
        "from keras import models\n",
        "\n",
        "model = models.Sequential()\n",
        "model.add(layers.Conv2D(32, (3, 3), activation='relu', input_shape=(150, 150, 3)))\n",
        "model.add(layers.MaxPooling2D((2, 2)))\n",
        "model.add(layers.Conv2D(64, (3, 3), activation='relu'))\n",
        "model.add(layers.MaxPooling2D((2, 2)))\n",
        "model.add(layers.Conv2D(128, (3, 3), activation='relu'))\n",
        "model.add(layers.MaxPooling2D((2, 2)))\n",
        "model.add(layers.Conv2D(128, (3, 3), activation='relu'))\n",
        "model.add(layers.MaxPooling2D((2, 2)))\n",
        "model.add(layers.Flatten())\n",
        "model.add(layers.Dense(512, activation='relu'))\n",
        "model.add(layers.Dense(1, activation='sigmoid'))\n",
        "model.summary()"
      ],
      "execution_count": 8,
      "outputs": [
        {
          "output_type": "stream",
          "text": [
            "Model: \"sequential\"\n",
            "_________________________________________________________________\n",
            "Layer (type)                 Output Shape              Param #   \n",
            "=================================================================\n",
            "conv2d (Conv2D)              (None, 148, 148, 32)      896       \n",
            "_________________________________________________________________\n",
            "max_pooling2d (MaxPooling2D) (None, 74, 74, 32)        0         \n",
            "_________________________________________________________________\n",
            "conv2d_1 (Conv2D)            (None, 72, 72, 64)        18496     \n",
            "_________________________________________________________________\n",
            "max_pooling2d_1 (MaxPooling2 (None, 36, 36, 64)        0         \n",
            "_________________________________________________________________\n",
            "conv2d_2 (Conv2D)            (None, 34, 34, 128)       73856     \n",
            "_________________________________________________________________\n",
            "max_pooling2d_2 (MaxPooling2 (None, 17, 17, 128)       0         \n",
            "_________________________________________________________________\n",
            "conv2d_3 (Conv2D)            (None, 15, 15, 128)       147584    \n",
            "_________________________________________________________________\n",
            "max_pooling2d_3 (MaxPooling2 (None, 7, 7, 128)         0         \n",
            "_________________________________________________________________\n",
            "flatten (Flatten)            (None, 6272)              0         \n",
            "_________________________________________________________________\n",
            "dense (Dense)                (None, 512)               3211776   \n",
            "_________________________________________________________________\n",
            "dense_1 (Dense)              (None, 1)                 513       \n",
            "=================================================================\n",
            "Total params: 3,453,121\n",
            "Trainable params: 3,453,121\n",
            "Non-trainable params: 0\n",
            "_________________________________________________________________\n"
          ],
          "name": "stdout"
        }
      ]
    },
    {
      "cell_type": "code",
      "metadata": {
        "id": "2mG8wekxsBVS"
      },
      "source": [
        "from keras import optimizers\n",
        "model.compile(loss='binary_crossentropy', \n",
        "              optimizer=optimizers.RMSprop(lr=1e-4),\n",
        "              metrics=['acc'])"
      ],
      "execution_count": 9,
      "outputs": []
    },
    {
      "cell_type": "markdown",
      "metadata": {
        "id": "7zS4Klm8qWp6"
      },
      "source": [
        "## Using ImageDataGenerator to read images from directories\n",
        "As you know by now, data should be formatted into appropriately preprocessed floatingpoint tensors before being fed into the network. Currently, the data sits on a drive as JPEG files, so the steps for getting it into the network are roughly as follows:\n",
        "\n",
        "* Read the picture files.\n",
        "* Decode the JPEG content to RGB grids of pixels.\n",
        "* Convert these into floating-point tensors.\n",
        "* Rescale the pixel values (between 0 and 255) to the [0, 1] interval (as you know, neural networks prefer to deal with small input values).\n",
        "\n",
        "It may seem a bit daunting, but fortunately Keras has utilities to take care of these steps automatically. Keras has a module with image-processing helper tools, located at keras.preprocessing.image. In particular, it contains the class ImageDataGenerator,which lets you quickly set up Python generators that can automatically turn image files on disk into batches of preprocessed tensors."
      ]
    },
    {
      "cell_type": "code",
      "metadata": {
        "id": "XJ7XU7t9sEh6",
        "colab": {
          "base_uri": "https://localhost:8080/"
        },
        "outputId": "d81b0865-ce21-4094-d37f-8447c5f1ac4f"
      },
      "source": [
        "from keras.preprocessing.image import ImageDataGenerator\n",
        "\n",
        "train_datagen = ImageDataGenerator(rescale=1./255)\n",
        "test_datagen = ImageDataGenerator(rescale=1./255)\n",
        "\n",
        "train_generator = train_datagen.flow_from_directory(train_dir,\n",
        "                                                    target_size=(150, 150), \n",
        "                                                    batch_size=20,\n",
        "                                                    class_mode='binary')\n",
        "\n",
        "validation_generator = test_datagen.flow_from_directory(validation_dir,\n",
        "                                                        target_size=(150, 150),\n",
        "                                                        batch_size=20,\n",
        "                                                        class_mode='binary')"
      ],
      "execution_count": 10,
      "outputs": [
        {
          "output_type": "stream",
          "text": [
            "Found 2000 images belonging to 2 classes.\n",
            "Found 1000 images belonging to 2 classes.\n"
          ],
          "name": "stdout"
        }
      ]
    },
    {
      "cell_type": "markdown",
      "metadata": {
        "id": "SEgLywySqm4u"
      },
      "source": [
        "Let’s fit the model to the data using the generator. You do so using the fit_generator method, the equivalent of fit for data generators like this one. It expects as its first argument a Python generator that will yield batches of inputs and targets indefinitely,like this one does. Because the data is being generated endlessly, the Keras model needs to know how many samples to draw from the generator before declaring anepoch over. This is the role of the `steps_per_epoch` argument: after having drawn `steps_per_epoch` batches from the generator—that is, after having run for `steps_per_epoch` gradient descent steps—the fitting process will go to the next epoch. In this case, batches are 20 samples, so it will take 100 batches until you see your target of 2,000 samples.\n",
        "\n",
        "When using fit_generator, you can pass a validation_data argument, much as with the fit method. It’s important to note that this argument is allowed to be a data generator, but it could also be a tuple of Numpy arrays. If you pass a generator as validation_data, then this generator is expected to yield batches of validation data endlessly; thus you should also specify the validation_steps argument, which tells the process how many batches to draw from the validation generator for evaluation."
      ]
    },
    {
      "cell_type": "code",
      "metadata": {
        "id": "yMyfPphJsJG6",
        "colab": {
          "base_uri": "https://localhost:8080/"
        },
        "outputId": "0ac54259-50ae-471f-b5e0-62d26ca8365f"
      },
      "source": [
        "history = model.fit_generator(train_generator,\n",
        "                              steps_per_epoch=100,\n",
        "                              epochs=30,\n",
        "                              validation_data=validation_generator,\n",
        "                              validation_steps=10)"
      ],
      "execution_count": 11,
      "outputs": [
        {
          "output_type": "stream",
          "text": [
            "/usr/local/lib/python3.7/dist-packages/tensorflow/python/keras/engine/training.py:1844: UserWarning: `Model.fit_generator` is deprecated and will be removed in a future version. Please use `Model.fit`, which supports generators.\n",
            "  warnings.warn('`Model.fit_generator` is deprecated and '\n"
          ],
          "name": "stderr"
        },
        {
          "output_type": "stream",
          "text": [
            "Epoch 1/30\n",
            "100/100 [==============================] - 40s 67ms/step - loss: 0.6930 - acc: 0.5289 - val_loss: 0.6646 - val_acc: 0.6100\n",
            "Epoch 2/30\n",
            "100/100 [==============================] - 7s 66ms/step - loss: 0.6481 - acc: 0.6215 - val_loss: 0.6388 - val_acc: 0.6100\n",
            "Epoch 3/30\n",
            "100/100 [==============================] - 7s 65ms/step - loss: 0.5998 - acc: 0.6737 - val_loss: 0.6061 - val_acc: 0.6550\n",
            "Epoch 4/30\n",
            "100/100 [==============================] - 7s 65ms/step - loss: 0.5474 - acc: 0.7188 - val_loss: 0.5765 - val_acc: 0.6750\n",
            "Epoch 5/30\n",
            "100/100 [==============================] - 6s 64ms/step - loss: 0.5252 - acc: 0.7379 - val_loss: 0.6357 - val_acc: 0.6500\n",
            "Epoch 6/30\n",
            "100/100 [==============================] - 6s 65ms/step - loss: 0.5114 - acc: 0.7430 - val_loss: 0.6398 - val_acc: 0.6600\n",
            "Epoch 7/30\n",
            "100/100 [==============================] - 7s 65ms/step - loss: 0.4745 - acc: 0.7753 - val_loss: 0.6044 - val_acc: 0.6650\n",
            "Epoch 8/30\n",
            "100/100 [==============================] - 7s 65ms/step - loss: 0.4482 - acc: 0.7899 - val_loss: 0.5108 - val_acc: 0.7300\n",
            "Epoch 9/30\n",
            "100/100 [==============================] - 6s 65ms/step - loss: 0.4410 - acc: 0.7853 - val_loss: 0.5985 - val_acc: 0.6850\n",
            "Epoch 10/30\n",
            "100/100 [==============================] - 7s 65ms/step - loss: 0.4161 - acc: 0.8123 - val_loss: 0.5290 - val_acc: 0.7650\n",
            "Epoch 11/30\n",
            "100/100 [==============================] - 7s 66ms/step - loss: 0.3837 - acc: 0.8335 - val_loss: 0.5351 - val_acc: 0.7250\n",
            "Epoch 12/30\n",
            "100/100 [==============================] - 7s 65ms/step - loss: 0.3537 - acc: 0.8606 - val_loss: 0.5627 - val_acc: 0.7100\n",
            "Epoch 13/30\n",
            "100/100 [==============================] - 7s 66ms/step - loss: 0.3695 - acc: 0.8396 - val_loss: 0.6812 - val_acc: 0.7100\n",
            "Epoch 14/30\n",
            "100/100 [==============================] - 7s 66ms/step - loss: 0.3138 - acc: 0.8690 - val_loss: 0.5656 - val_acc: 0.7100\n",
            "Epoch 15/30\n",
            "100/100 [==============================] - 7s 66ms/step - loss: 0.3099 - acc: 0.8780 - val_loss: 0.5831 - val_acc: 0.7200\n",
            "Epoch 16/30\n",
            "100/100 [==============================] - 7s 66ms/step - loss: 0.2827 - acc: 0.8871 - val_loss: 0.4708 - val_acc: 0.7400\n",
            "Epoch 17/30\n",
            "100/100 [==============================] - 6s 65ms/step - loss: 0.2399 - acc: 0.9055 - val_loss: 0.5534 - val_acc: 0.7450\n",
            "Epoch 18/30\n",
            "100/100 [==============================] - 7s 65ms/step - loss: 0.2140 - acc: 0.9242 - val_loss: 0.5802 - val_acc: 0.7600\n",
            "Epoch 19/30\n",
            "100/100 [==============================] - 6s 65ms/step - loss: 0.2209 - acc: 0.9134 - val_loss: 0.5095 - val_acc: 0.7300\n",
            "Epoch 20/30\n",
            "100/100 [==============================] - 6s 64ms/step - loss: 0.1756 - acc: 0.9452 - val_loss: 0.6843 - val_acc: 0.7300\n",
            "Epoch 21/30\n",
            "100/100 [==============================] - 7s 65ms/step - loss: 0.1720 - acc: 0.9374 - val_loss: 0.6333 - val_acc: 0.7250\n",
            "Epoch 22/30\n",
            "100/100 [==============================] - 6s 64ms/step - loss: 0.1573 - acc: 0.9482 - val_loss: 0.7136 - val_acc: 0.7300\n",
            "Epoch 23/30\n",
            "100/100 [==============================] - 6s 64ms/step - loss: 0.1524 - acc: 0.9448 - val_loss: 0.7728 - val_acc: 0.7100\n",
            "Epoch 24/30\n",
            "100/100 [==============================] - 7s 66ms/step - loss: 0.1352 - acc: 0.9464 - val_loss: 0.6831 - val_acc: 0.7750\n",
            "Epoch 25/30\n",
            "100/100 [==============================] - 6s 64ms/step - loss: 0.1192 - acc: 0.9606 - val_loss: 0.5398 - val_acc: 0.7650\n",
            "Epoch 26/30\n",
            "100/100 [==============================] - 6s 65ms/step - loss: 0.0912 - acc: 0.9766 - val_loss: 0.5942 - val_acc: 0.7700\n",
            "Epoch 27/30\n",
            "100/100 [==============================] - 6s 65ms/step - loss: 0.0795 - acc: 0.9836 - val_loss: 0.7552 - val_acc: 0.7400\n",
            "Epoch 28/30\n",
            "100/100 [==============================] - 7s 65ms/step - loss: 0.0815 - acc: 0.9750 - val_loss: 0.7119 - val_acc: 0.7500\n",
            "Epoch 29/30\n",
            "100/100 [==============================] - 7s 66ms/step - loss: 0.0708 - acc: 0.9770 - val_loss: 0.6927 - val_acc: 0.7850\n",
            "Epoch 30/30\n",
            "100/100 [==============================] - 6s 65ms/step - loss: 0.0506 - acc: 0.9898 - val_loss: 0.9926 - val_acc: 0.7250\n"
          ],
          "name": "stdout"
        }
      ]
    },
    {
      "cell_type": "code",
      "metadata": {
        "id": "MZaZ2HWZsNUi",
        "colab": {
          "base_uri": "https://localhost:8080/",
          "height": 545
        },
        "outputId": "dba083b3-2810-4b95-be8f-ad457f219900"
      },
      "source": [
        "model.save('cats_and_dogs_small_1.h5')\n",
        "\n",
        "import matplotlib.pyplot as plt\n",
        "\n",
        "acc = history.history['acc']\n",
        "val_acc = history.history['val_acc']\n",
        "loss = history.history['loss']\n",
        "val_loss = history.history['val_loss']\n",
        "\n",
        "epochs = range(1, len(acc) + 1)\n",
        "\n",
        "plt.plot(epochs, acc, 'bo', label='Training acc')\n",
        "plt.plot(epochs, val_acc, 'b', label='Validation acc')\n",
        "plt.title('Training and validation accuracy')\n",
        "plt.legend()\n",
        "\n",
        "plt.figure()\n",
        "\n",
        "plt.plot(epochs, loss, 'bo', label='Training loss')\n",
        "plt.plot(epochs, val_loss, 'b', label='Validation loss')\n",
        "plt.title('Training and validation loss')\n",
        "plt.legend()\n",
        "\n",
        "plt.show()"
      ],
      "execution_count": 12,
      "outputs": [
        {
          "output_type": "display_data",
          "data": {
            "image/png": "[encoded data removed]",
            "text/plain": [
              "<Figure size 432x288 with 1 Axes>"
            ]
          },
          "metadata": {
            "tags": [],
            "needs_background": "light"
          }
        },
        {
          "output_type": "display_data",
          "data": {
            "image/png": "[encoded data removed]",
            "text/plain": [
              "<Figure size 432x288 with 1 Axes>"
            ]
          },
          "metadata": {
            "tags": [],
            "needs_background": "light"
          }
        }
      ]
    },
    {
      "cell_type": "markdown",
      "metadata": {
        "id": "XKZmXmBcq_8-"
      },
      "source": [
        "## Convolutional Networks with Dropout\n",
        "\n",
        "![alt text](https://camo.githubusercontent.com/ee6fa1073247cd2c3d241300caf110d7a7541bc5/68747470733a2f2f63646e2d696d616765732d312e6d656469756d2e636f6d2f6d61782f3830302f312a4972644a355067684439596f4f7956415137334d4a772e676966)\n",
        "\n",
        "Ref: https://github.com/mneha4/Training-Neural-Nets---Guidelines"
      ]
    },
    {
      "cell_type": "code",
      "metadata": {
        "id": "wu3cqeYQrDeN"
      },
      "source": [
        "model = models.Sequential()\n",
        "model.add(layers.Conv2D(32, (3, 3), activation='relu',\n",
        "input_shape=(150, 150, 3)))\n",
        "model.add(layers.MaxPooling2D((2, 2)))\n",
        "model.add(layers.Conv2D(64, (3, 3), activation='relu'))\n",
        "model.add(layers.MaxPooling2D((2, 2)))\n",
        "model.add(layers.Conv2D(128, (3, 3), activation='relu'))\n",
        "model.add(layers.MaxPooling2D((2, 2)))\n",
        "model.add(layers.Conv2D(128, (3, 3), activation='relu'))\n",
        "model.add(layers.MaxPooling2D((2, 2)))\n",
        "model.add(layers.Flatten())\n",
        "model.add(layers.Dropout(0.5))\n",
        "model.add(layers.Dense(512, activation='relu'))\n",
        "model.add(layers.Dense(1, activation='sigmoid'))\n",
        "\n",
        "model.compile(loss='binary_crossentropy',\n",
        "              optimizer=optimizers.RMSprop(lr=1e-4),\n",
        "              metrics=['acc'])"
      ],
      "execution_count": 13,
      "outputs": []
    },
    {
      "cell_type": "code",
      "metadata": {
        "id": "QSeLpvY0rH7F",
        "colab": {
          "base_uri": "https://localhost:8080/"
        },
        "outputId": "9e92f866-63d9-45fc-da16-bfa818752f8d"
      },
      "source": [
        "\n",
        "train_datagen = ImageDataGenerator(rescale=1./255,\n",
        "                                   rotation_range=40,\n",
        "                                   width_shift_range=0.2,\n",
        "                                   height_shift_range=0.2,\n",
        "                                   shear_range=0.2,\n",
        "                                   zoom_range=0.2,\n",
        "                                   horizontal_flip=True,)\n",
        "\n",
        "test_datagen = ImageDataGenerator(rescale=1./255)\n",
        "\n",
        "train_generator = train_datagen.flow_from_directory(train_dir,\n",
        "                                                    target_size=(150, 150),\n",
        "                                                    batch_size=20,\n",
        "                                                    class_mode='binary')\n",
        "\n",
        "validation_generator = test_datagen.flow_from_directory(validation_dir,\n",
        "                                                        target_size=(150, 150),\n",
        "                                                        batch_size=20,\n",
        "                                                        class_mode='binary')\n",
        "\n",
        "history = model.fit_generator(train_generator,\n",
        "                              steps_per_epoch=100,\n",
        "                              epochs=20,\n",
        "                              validation_data=validation_generator,\n",
        "                              validation_steps=50)"
      ],
      "execution_count": 17,
      "outputs": [
        {
          "output_type": "stream",
          "text": [
            "Found 2000 images belonging to 2 classes.\n",
            "Found 1000 images belonging to 2 classes.\n"
          ],
          "name": "stdout"
        },
        {
          "output_type": "stream",
          "text": [
            "/usr/local/lib/python3.7/dist-packages/tensorflow/python/keras/engine/training.py:1844: UserWarning: `Model.fit_generator` is deprecated and will be removed in a future version. Please use `Model.fit`, which supports generators.\n",
            "  warnings.warn('`Model.fit_generator` is deprecated and '\n"
          ],
          "name": "stderr"
        },
        {
          "output_type": "stream",
          "text": [
            "Epoch 1/20\n",
            "100/100 [==============================] - 19s 176ms/step - loss: 0.6807 - acc: 0.5605 - val_loss: 0.6602 - val_acc: 0.5640\n",
            "Epoch 2/20\n",
            "100/100 [==============================] - 18s 177ms/step - loss: 0.6428 - acc: 0.6150 - val_loss: 0.6460 - val_acc: 0.6210\n",
            "Epoch 3/20\n",
            "100/100 [==============================] - 18s 178ms/step - loss: 0.6381 - acc: 0.6255 - val_loss: 0.6032 - val_acc: 0.6700\n",
            "Epoch 4/20\n",
            "100/100 [==============================] - 18s 178ms/step - loss: 0.6146 - acc: 0.6620 - val_loss: 0.5975 - val_acc: 0.6710\n",
            "Epoch 5/20\n",
            "100/100 [==============================] - 18s 178ms/step - loss: 0.6127 - acc: 0.6570 - val_loss: 0.5835 - val_acc: 0.6800\n",
            "Epoch 6/20\n",
            "100/100 [==============================] - 18s 178ms/step - loss: 0.6051 - acc: 0.6700 - val_loss: 0.5754 - val_acc: 0.7010\n",
            "Epoch 7/20\n",
            "100/100 [==============================] - 18s 178ms/step - loss: 0.5841 - acc: 0.6885 - val_loss: 0.5899 - val_acc: 0.6590\n",
            "Epoch 8/20\n",
            "100/100 [==============================] - 18s 177ms/step - loss: 0.5851 - acc: 0.6880 - val_loss: 0.5431 - val_acc: 0.7220\n",
            "Epoch 9/20\n",
            "100/100 [==============================] - 18s 178ms/step - loss: 0.5805 - acc: 0.6940 - val_loss: 0.6077 - val_acc: 0.6860\n",
            "Epoch 10/20\n",
            "100/100 [==============================] - 18s 175ms/step - loss: 0.5598 - acc: 0.7050 - val_loss: 0.5777 - val_acc: 0.7150\n",
            "Epoch 11/20\n",
            "100/100 [==============================] - 18s 179ms/step - loss: 0.5649 - acc: 0.7085 - val_loss: 0.5135 - val_acc: 0.7520\n",
            "Epoch 12/20\n",
            "100/100 [==============================] - 18s 179ms/step - loss: 0.5515 - acc: 0.7120 - val_loss: 0.5354 - val_acc: 0.7220\n",
            "Epoch 13/20\n",
            "100/100 [==============================] - 18s 176ms/step - loss: 0.5486 - acc: 0.7165 - val_loss: 0.5322 - val_acc: 0.7290\n",
            "Epoch 14/20\n",
            "100/100 [==============================] - 18s 177ms/step - loss: 0.5291 - acc: 0.7325 - val_loss: 0.5216 - val_acc: 0.7370\n",
            "Epoch 15/20\n",
            "100/100 [==============================] - 18s 175ms/step - loss: 0.5402 - acc: 0.7300 - val_loss: 0.5113 - val_acc: 0.7370\n",
            "Epoch 16/20\n",
            "100/100 [==============================] - 18s 178ms/step - loss: 0.5281 - acc: 0.7450 - val_loss: 0.4983 - val_acc: 0.7390\n",
            "Epoch 17/20\n",
            "100/100 [==============================] - 18s 177ms/step - loss: 0.5264 - acc: 0.7310 - val_loss: 0.4968 - val_acc: 0.7570\n",
            "Epoch 18/20\n",
            "100/100 [==============================] - 18s 178ms/step - loss: 0.5234 - acc: 0.7455 - val_loss: 0.5520 - val_acc: 0.7280\n",
            "Epoch 19/20\n",
            "100/100 [==============================] - 18s 178ms/step - loss: 0.5089 - acc: 0.7445 - val_loss: 0.5161 - val_acc: 0.7470\n",
            "Epoch 20/20\n",
            "100/100 [==============================] - 18s 177ms/step - loss: 0.5099 - acc: 0.7420 - val_loss: 0.5414 - val_acc: 0.7420\n"
          ],
          "name": "stdout"
        }
      ]
    },
    {
      "cell_type": "markdown",
      "metadata": {
        "id": "BRdU5yrkUF_b"
      },
      "source": [
        "# Task 2:\n",
        "\n",
        "We have used Dropout to enhance the performance of the CNN model. Can you please use whatever you like to further enhance the performance from `val_acc: 0.7506`? "
      ]
    },
    {
      "cell_type": "code",
      "metadata": {
        "id": "QxqW9VJAkgm7"
      },
      "source": [
        "# more filters is used in each layer\n",
        "model = models.Sequential()\n",
        "model.add(layers.Conv2D(64, (3, 3), activation='relu', input_shape=(150, 150, 3)))\n",
        "model.add(layers.MaxPooling2D((2, 2)))\n",
        "model.add(layers.Conv2D(128, (3, 3), activation='relu'))\n",
        "model.add(layers.MaxPooling2D((2, 2)))\n",
        "model.add(layers.Conv2D(256, (3, 3), activation='relu'))\n",
        "model.add(layers.MaxPooling2D((2, 2)))\n",
        "model.add(layers.Conv2D(512, (3, 3), activation='relu'))\n",
        "model.add(layers.MaxPooling2D((2, 2)))\n",
        "model.add(layers.Flatten())\n",
        "model.add(layers.Dropout(0.5))\n",
        "model.add(layers.Dense(512, activation='relu'))\n",
        "model.add(layers.Dense(1, activation='sigmoid'))\n",
        "\n",
        "model.compile(loss='binary_crossentropy',\n",
        "              optimizer=optimizers.RMSprop(lr=1e-4),\n",
        "              metrics=['acc'])"
      ],
      "execution_count": 18,
      "outputs": []
    },
    {
      "cell_type": "code",
      "metadata": {
        "colab": {
          "base_uri": "https://localhost:8080/"
        },
        "id": "QZZuvpORky4S",
        "outputId": "19dcf659-5f83-4a49-c7ae-d9c49d98bd49"
      },
      "source": [
        "history = model.fit_generator(train_generator,\n",
        "                              steps_per_epoch=100,\n",
        "                              epochs=30,\n",
        "                              validation_data=validation_generator,\n",
        "                              validation_steps=10)"
      ],
      "execution_count": 19,
      "outputs": [
        {
          "output_type": "stream",
          "text": [
            "/usr/local/lib/python3.7/dist-packages/tensorflow/python/keras/engine/training.py:1844: UserWarning: `Model.fit_generator` is deprecated and will be removed in a future version. Please use `Model.fit`, which supports generators.\n",
            "  warnings.warn('`Model.fit_generator` is deprecated and '\n"
          ],
          "name": "stderr"
        },
        {
          "output_type": "stream",
          "text": [
            "Epoch 1/30\n",
            "100/100 [==============================] - 17s 160ms/step - loss: 0.6976 - acc: 0.4836 - val_loss: 0.6885 - val_acc: 0.5650\n",
            "Epoch 2/30\n",
            "100/100 [==============================] - 16s 157ms/step - loss: 0.6853 - acc: 0.5632 - val_loss: 0.6553 - val_acc: 0.6550\n",
            "Epoch 3/30\n",
            "100/100 [==============================] - 16s 157ms/step - loss: 0.6670 - acc: 0.5986 - val_loss: 0.6287 - val_acc: 0.6650\n",
            "Epoch 4/30\n",
            "100/100 [==============================] - 16s 157ms/step - loss: 0.6332 - acc: 0.6485 - val_loss: 0.5989 - val_acc: 0.6750\n",
            "Epoch 5/30\n",
            "100/100 [==============================] - 16s 157ms/step - loss: 0.6229 - acc: 0.6544 - val_loss: 0.5711 - val_acc: 0.6900\n",
            "Epoch 6/30\n",
            "100/100 [==============================] - 16s 157ms/step - loss: 0.6031 - acc: 0.6569 - val_loss: 0.5621 - val_acc: 0.6800\n",
            "Epoch 7/30\n",
            "100/100 [==============================] - 16s 155ms/step - loss: 0.5899 - acc: 0.6859 - val_loss: 0.5613 - val_acc: 0.7050\n",
            "Epoch 8/30\n",
            "100/100 [==============================] - 16s 156ms/step - loss: 0.5955 - acc: 0.6789 - val_loss: 0.5975 - val_acc: 0.6800\n",
            "Epoch 9/30\n",
            "100/100 [==============================] - 16s 156ms/step - loss: 0.5927 - acc: 0.6855 - val_loss: 0.5656 - val_acc: 0.6950\n",
            "Epoch 10/30\n",
            "100/100 [==============================] - 16s 156ms/step - loss: 0.5628 - acc: 0.7059 - val_loss: 0.5400 - val_acc: 0.7300\n",
            "Epoch 11/30\n",
            "100/100 [==============================] - 16s 157ms/step - loss: 0.5517 - acc: 0.7171 - val_loss: 0.4935 - val_acc: 0.7400\n",
            "Epoch 12/30\n",
            "100/100 [==============================] - 16s 156ms/step - loss: 0.5493 - acc: 0.7208 - val_loss: 0.6791 - val_acc: 0.6500\n",
            "Epoch 13/30\n",
            "100/100 [==============================] - 16s 156ms/step - loss: 0.5706 - acc: 0.7148 - val_loss: 0.4890 - val_acc: 0.7550\n",
            "Epoch 14/30\n",
            "100/100 [==============================] - 16s 156ms/step - loss: 0.5369 - acc: 0.7232 - val_loss: 0.5655 - val_acc: 0.7300\n",
            "Epoch 15/30\n",
            "100/100 [==============================] - 16s 156ms/step - loss: 0.5626 - acc: 0.7203 - val_loss: 0.5145 - val_acc: 0.7500\n",
            "Epoch 16/30\n",
            "100/100 [==============================] - 16s 156ms/step - loss: 0.5414 - acc: 0.7169 - val_loss: 0.5041 - val_acc: 0.7500\n",
            "Epoch 17/30\n",
            "100/100 [==============================] - 16s 156ms/step - loss: 0.5100 - acc: 0.7473 - val_loss: 0.5006 - val_acc: 0.7600\n",
            "Epoch 18/30\n",
            "100/100 [==============================] - 16s 156ms/step - loss: 0.5357 - acc: 0.7209 - val_loss: 0.4897 - val_acc: 0.7600\n",
            "Epoch 19/30\n",
            "100/100 [==============================] - 16s 156ms/step - loss: 0.5124 - acc: 0.7453 - val_loss: 0.5658 - val_acc: 0.7150\n",
            "Epoch 20/30\n",
            "100/100 [==============================] - 16s 156ms/step - loss: 0.5130 - acc: 0.7370 - val_loss: 0.5205 - val_acc: 0.7250\n",
            "Epoch 21/30\n",
            "100/100 [==============================] - 16s 157ms/step - loss: 0.4890 - acc: 0.7459 - val_loss: 0.4959 - val_acc: 0.7500\n",
            "Epoch 22/30\n",
            "100/100 [==============================] - 16s 157ms/step - loss: 0.5236 - acc: 0.7423 - val_loss: 0.5035 - val_acc: 0.7550\n",
            "Epoch 23/30\n",
            "100/100 [==============================] - 16s 155ms/step - loss: 0.5064 - acc: 0.7579 - val_loss: 0.4350 - val_acc: 0.7750\n",
            "Epoch 24/30\n",
            "100/100 [==============================] - 16s 156ms/step - loss: 0.4854 - acc: 0.7743 - val_loss: 0.6150 - val_acc: 0.6650\n",
            "Epoch 25/30\n",
            "100/100 [==============================] - 16s 156ms/step - loss: 0.5188 - acc: 0.7441 - val_loss: 0.4260 - val_acc: 0.7850\n",
            "Epoch 26/30\n",
            "100/100 [==============================] - 16s 155ms/step - loss: 0.4951 - acc: 0.7654 - val_loss: 0.4663 - val_acc: 0.7750\n",
            "Epoch 27/30\n",
            "100/100 [==============================] - 16s 158ms/step - loss: 0.4695 - acc: 0.7770 - val_loss: 0.4454 - val_acc: 0.7700\n",
            "Epoch 28/30\n",
            "100/100 [==============================] - 16s 157ms/step - loss: 0.4712 - acc: 0.7724 - val_loss: 0.4389 - val_acc: 0.7750\n",
            "Epoch 29/30\n",
            "100/100 [==============================] - 16s 157ms/step - loss: 0.4703 - acc: 0.7598 - val_loss: 0.4337 - val_acc: 0.8100\n",
            "Epoch 30/30\n",
            "100/100 [==============================] - 16s 157ms/step - loss: 0.4641 - acc: 0.7840 - val_loss: 0.4069 - val_acc: 0.8200\n"
          ],
          "name": "stdout"
        }
      ]
    }
  ]
}