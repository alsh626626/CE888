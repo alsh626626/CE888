{
  "nbformat": 4,
  "nbformat_minor": 0,
  "metadata": {
    "colab": {
      "name": "Assignment2_Project2_hate.ipynb",
      "provenance": [],
      "collapsed_sections": [
        "s7YigPkQdI_C",
        "1QLfmwZli4vC",
        "MqX3Hjs915At"
      ],
      "authorship_tag": "ABX9TyOmVOJ8ETDkPyMSB59ohv8D",
      "include_colab_link": true
    },
    "kernelspec": {
      "name": "python3",
      "display_name": "Python 3"
    },
    "widgets": {
      "application/vnd.jupyter.widget-state+json": {
        "adf897da8bf747f5b692b3e37222d8b0": {
          "model_module": "@jupyter-widgets/controls",
          "model_name": "HBoxModel",
          "state": {
            "_view_name": "HBoxView",
            "_dom_classes": [],
            "_model_name": "HBoxModel",
            "_view_module": "@jupyter-widgets/controls",
            "_model_module_version": "1.5.0",
            "_view_count": null,
            "_view_module_version": "1.5.0",
            "box_style": "",
            "layout": "IPY_MODEL_cc5d9a88cbbd4fac9daac5321c6942f1",
            "_model_module": "@jupyter-widgets/controls",
            "children": [
              "IPY_MODEL_8a9d77cab7ca4d479b41b5cc06e78343",
              "IPY_MODEL_82a5cdba98e041a6b5d3aa0137131807"
            ]
          }
        },
        "cc5d9a88cbbd4fac9daac5321c6942f1": {
          "model_module": "@jupyter-widgets/base",
          "model_name": "LayoutModel",
          "state": {
            "_view_name": "LayoutView",
            "grid_template_rows": null,
            "right": null,
            "justify_content": null,
            "_view_module": "@jupyter-widgets/base",
            "overflow": null,
            "_model_module_version": "1.2.0",
            "_view_count": null,
            "flex_flow": null,
            "width": null,
            "min_width": null,
            "border": null,
            "align_items": null,
            "bottom": null,
            "_model_module": "@jupyter-widgets/base",
            "top": null,
            "grid_column": null,
            "overflow_y": null,
            "overflow_x": null,
            "grid_auto_flow": null,
            "grid_area": null,
            "grid_template_columns": null,
            "flex": null,
            "_model_name": "LayoutModel",
            "justify_items": null,
            "grid_row": null,
            "max_height": null,
            "align_content": null,
            "visibility": null,
            "align_self": null,
            "height": null,
            "min_height": null,
            "padding": null,
            "grid_auto_rows": null,
            "grid_gap": null,
            "max_width": null,
            "order": null,
            "_view_module_version": "1.2.0",
            "grid_template_areas": null,
            "object_position": null,
            "object_fit": null,
            "grid_auto_columns": null,
            "margin": null,
            "display": null,
            "left": null
          }
        },
        "8a9d77cab7ca4d479b41b5cc06e78343": {
          "model_module": "@jupyter-widgets/controls",
          "model_name": "FloatProgressModel",
          "state": {
            "_view_name": "ProgressView",
            "style": "IPY_MODEL_74e31fd52790458692a24ebc56321ca0",
            "_dom_classes": [],
            "description": "Downloading: 100%",
            "_model_name": "FloatProgressModel",
            "bar_style": "success",
            "max": 588,
            "_view_module": "@jupyter-widgets/controls",
            "_model_module_version": "1.5.0",
            "value": 588,
            "_view_count": null,
            "_view_module_version": "1.5.0",
            "orientation": "horizontal",
            "min": 0,
            "description_tooltip": null,
            "_model_module": "@jupyter-widgets/controls",
            "layout": "IPY_MODEL_bbc9d89b9d2444d5bfd4c3efadc7e8e8"
          }
        },
        "82a5cdba98e041a6b5d3aa0137131807": {
          "model_module": "@jupyter-widgets/controls",
          "model_name": "HTMLModel",
          "state": {
            "_view_name": "HTMLView",
            "style": "IPY_MODEL_7d70fb3ac2e24eeeb059aefe695a50fa",
            "_dom_classes": [],
            "description": "",
            "_model_name": "HTMLModel",
            "placeholder": "​",
            "_view_module": "@jupyter-widgets/controls",
            "_model_module_version": "1.5.0",
            "value": " 588/588 [00:02&lt;00:00, 210B/s]",
            "_view_count": null,
            "_view_module_version": "1.5.0",
            "description_tooltip": null,
            "_model_module": "@jupyter-widgets/controls",
            "layout": "IPY_MODEL_03ffd3dc9b3e4151a11069938b889b34"
          }
        },
        "74e31fd52790458692a24ebc56321ca0": {
          "model_module": "@jupyter-widgets/controls",
          "model_name": "ProgressStyleModel",
          "state": {
            "_view_name": "StyleView",
            "_model_name": "ProgressStyleModel",
            "description_width": "initial",
            "_view_module": "@jupyter-widgets/base",
            "_model_module_version": "1.5.0",
            "_view_count": null,
            "_view_module_version": "1.2.0",
            "bar_color": null,
            "_model_module": "@jupyter-widgets/controls"
          }
        },
        "bbc9d89b9d2444d5bfd4c3efadc7e8e8": {
          "model_module": "@jupyter-widgets/base",
          "model_name": "LayoutModel",
          "state": {
            "_view_name": "LayoutView",
            "grid_template_rows": null,
            "right": null,
            "justify_content": null,
            "_view_module": "@jupyter-widgets/base",
            "overflow": null,
            "_model_module_version": "1.2.0",
            "_view_count": null,
            "flex_flow": null,
            "width": null,
            "min_width": null,
            "border": null,
            "align_items": null,
            "bottom": null,
            "_model_module": "@jupyter-widgets/base",
            "top": null,
            "grid_column": null,
            "overflow_y": null,
            "overflow_x": null,
            "grid_auto_flow": null,
            "grid_area": null,
            "grid_template_columns": null,
            "flex": null,
            "_model_name": "LayoutModel",
            "justify_items": null,
            "grid_row": null,
            "max_height": null,
            "align_content": null,
            "visibility": null,
            "align_self": null,
            "height": null,
            "min_height": null,
            "padding": null,
            "grid_auto_rows": null,
            "grid_gap": null,
            "max_width": null,
            "order": null,
            "_view_module_version": "1.2.0",
            "grid_template_areas": null,
            "object_position": null,
            "object_fit": null,
            "grid_auto_columns": null,
            "margin": null,
            "display": null,
            "left": null
          }
        },
        "7d70fb3ac2e24eeeb059aefe695a50fa": {
          "model_module": "@jupyter-widgets/controls",
          "model_name": "DescriptionStyleModel",
          "state": {
            "_view_name": "StyleView",
            "_model_name": "DescriptionStyleModel",
            "description_width": "",
            "_view_module": "@jupyter-widgets/base",
            "_model_module_version": "1.5.0",
            "_view_count": null,
            "_view_module_version": "1.2.0",
            "_model_module": "@jupyter-widgets/controls"
          }
        },
        "03ffd3dc9b3e4151a11069938b889b34": {
          "model_module": "@jupyter-widgets/base",
          "model_name": "LayoutModel",
          "state": {
            "_view_name": "LayoutView",
            "grid_template_rows": null,
            "right": null,
            "justify_content": null,
            "_view_module": "@jupyter-widgets/base",
            "overflow": null,
            "_model_module_version": "1.2.0",
            "_view_count": null,
            "flex_flow": null,
            "width": null,
            "min_width": null,
            "border": null,
            "align_items": null,
            "bottom": null,
            "_model_module": "@jupyter-widgets/base",
            "top": null,
            "grid_column": null,
            "overflow_y": null,
            "overflow_x": null,
            "grid_auto_flow": null,
            "grid_area": null,
            "grid_template_columns": null,
            "flex": null,
            "_model_name": "LayoutModel",
            "justify_items": null,
            "grid_row": null,
            "max_height": null,
            "align_content": null,
            "visibility": null,
            "align_self": null,
            "height": null,
            "min_height": null,
            "padding": null,
            "grid_auto_rows": null,
            "grid_gap": null,
            "max_width": null,
            "order": null,
            "_view_module_version": "1.2.0",
            "grid_template_areas": null,
            "object_position": null,
            "object_fit": null,
            "grid_auto_columns": null,
            "margin": null,
            "display": null,
            "left": null
          }
        },
        "0e0e9cc68f1d406caba0d1bde81a8c24": {
          "model_module": "@jupyter-widgets/controls",
          "model_name": "HBoxModel",
          "state": {
            "_view_name": "HBoxView",
            "_dom_classes": [],
            "_model_name": "HBoxModel",
            "_view_module": "@jupyter-widgets/controls",
            "_model_module_version": "1.5.0",
            "_view_count": null,
            "_view_module_version": "1.5.0",
            "box_style": "",
            "layout": "IPY_MODEL_5e2d297d6140438c93eb09cd5d8318c5",
            "_model_module": "@jupyter-widgets/controls",
            "children": [
              "IPY_MODEL_1003db0c3981442da6d2ae5bbb554515",
              "IPY_MODEL_9499f952efbe407985604d72e2e7758e"
            ]
          }
        },
        "5e2d297d6140438c93eb09cd5d8318c5": {
          "model_module": "@jupyter-widgets/base",
          "model_name": "LayoutModel",
          "state": {
            "_view_name": "LayoutView",
            "grid_template_rows": null,
            "right": null,
            "justify_content": null,
            "_view_module": "@jupyter-widgets/base",
            "overflow": null,
            "_model_module_version": "1.2.0",
            "_view_count": null,
            "flex_flow": null,
            "width": null,
            "min_width": null,
            "border": null,
            "align_items": null,
            "bottom": null,
            "_model_module": "@jupyter-widgets/base",
            "top": null,
            "grid_column": null,
            "overflow_y": null,
            "overflow_x": null,
            "grid_auto_flow": null,
            "grid_area": null,
            "grid_template_columns": null,
            "flex": null,
            "_model_name": "LayoutModel",
            "justify_items": null,
            "grid_row": null,
            "max_height": null,
            "align_content": null,
            "visibility": null,
            "align_self": null,
            "height": null,
            "min_height": null,
            "padding": null,
            "grid_auto_rows": null,
            "grid_gap": null,
            "max_width": null,
            "order": null,
            "_view_module_version": "1.2.0",
            "grid_template_areas": null,
            "object_position": null,
            "object_fit": null,
            "grid_auto_columns": null,
            "margin": null,
            "display": null,
            "left": null
          }
        },
        "1003db0c3981442da6d2ae5bbb554515": {
          "model_module": "@jupyter-widgets/controls",
          "model_name": "FloatProgressModel",
          "state": {
            "_view_name": "ProgressView",
            "style": "IPY_MODEL_737bd7a83d5c476299c5b47b67220634",
            "_dom_classes": [],
            "description": "Downloading: 100%",
            "_model_name": "FloatProgressModel",
            "bar_style": "success",
            "max": 898822,
            "_view_module": "@jupyter-widgets/controls",
            "_model_module_version": "1.5.0",
            "value": 898822,
            "_view_count": null,
            "_view_module_version": "1.5.0",
            "orientation": "horizontal",
            "min": 0,
            "description_tooltip": null,
            "_model_module": "@jupyter-widgets/controls",
            "layout": "IPY_MODEL_8fa498dc6ef14ad5825143424c442e02"
          }
        },
        "9499f952efbe407985604d72e2e7758e": {
          "model_module": "@jupyter-widgets/controls",
          "model_name": "HTMLModel",
          "state": {
            "_view_name": "HTMLView",
            "style": "IPY_MODEL_e7f7870e73ab428096a94c81f985b719",
            "_dom_classes": [],
            "description": "",
            "_model_name": "HTMLModel",
            "placeholder": "​",
            "_view_module": "@jupyter-widgets/controls",
            "_model_module_version": "1.5.0",
            "value": " 899k/899k [00:00&lt;00:00, 1.09MB/s]",
            "_view_count": null,
            "_view_module_version": "1.5.0",
            "description_tooltip": null,
            "_model_module": "@jupyter-widgets/controls",
            "layout": "IPY_MODEL_f172d508baef44b9b87f3002a8f2a539"
          }
        },
        "737bd7a83d5c476299c5b47b67220634": {
          "model_module": "@jupyter-widgets/controls",
          "model_name": "ProgressStyleModel",
          "state": {
            "_view_name": "StyleView",
            "_model_name": "ProgressStyleModel",
            "description_width": "initial",
            "_view_module": "@jupyter-widgets/base",
            "_model_module_version": "1.5.0",
            "_view_count": null,
            "_view_module_version": "1.2.0",
            "bar_color": null,
            "_model_module": "@jupyter-widgets/controls"
          }
        },
        "8fa498dc6ef14ad5825143424c442e02": {
          "model_module": "@jupyter-widgets/base",
          "model_name": "LayoutModel",
          "state": {
            "_view_name": "LayoutView",
            "grid_template_rows": null,
            "right": null,
            "justify_content": null,
            "_view_module": "@jupyter-widgets/base",
            "overflow": null,
            "_model_module_version": "1.2.0",
            "_view_count": null,
            "flex_flow": null,
            "width": null,
            "min_width": null,
            "border": null,
            "align_items": null,
            "bottom": null,
            "_model_module": "@jupyter-widgets/base",
            "top": null,
            "grid_column": null,
            "overflow_y": null,
            "overflow_x": null,
            "grid_auto_flow": null,
            "grid_area": null,
            "grid_template_columns": null,
            "flex": null,
            "_model_name": "LayoutModel",
            "justify_items": null,
            "grid_row": null,
            "max_height": null,
            "align_content": null,
            "visibility": null,
            "align_self": null,
            "height": null,
            "min_height": null,
            "padding": null,
            "grid_auto_rows": null,
            "grid_gap": null,
            "max_width": null,
            "order": null,
            "_view_module_version": "1.2.0",
            "grid_template_areas": null,
            "object_position": null,
            "object_fit": null,
            "grid_auto_columns": null,
            "margin": null,
            "display": null,
            "left": null
          }
        },
        "e7f7870e73ab428096a94c81f985b719": {
          "model_module": "@jupyter-widgets/controls",
          "model_name": "DescriptionStyleModel",
          "state": {
            "_view_name": "StyleView",
            "_model_name": "DescriptionStyleModel",
            "description_width": "",
            "_view_module": "@jupyter-widgets/base",
            "_model_module_version": "1.5.0",
            "_view_count": null,
            "_view_module_version": "1.2.0",
            "_model_module": "@jupyter-widgets/controls"
          }
        },
        "f172d508baef44b9b87f3002a8f2a539": {
          "model_module": "@jupyter-widgets/base",
          "model_name": "LayoutModel",
          "state": {
            "_view_name": "LayoutView",
            "grid_template_rows": null,
            "right": null,
            "justify_content": null,
            "_view_module": "@jupyter-widgets/base",
            "overflow": null,
            "_model_module_version": "1.2.0",
            "_view_count": null,
            "flex_flow": null,
            "width": null,
            "min_width": null,
            "border": null,
            "align_items": null,
            "bottom": null,
            "_model_module": "@jupyter-widgets/base",
            "top": null,
            "grid_column": null,
            "overflow_y": null,
            "overflow_x": null,
            "grid_auto_flow": null,
            "grid_area": null,
            "grid_template_columns": null,
            "flex": null,
            "_model_name": "LayoutModel",
            "justify_items": null,
            "grid_row": null,
            "max_height": null,
            "align_content": null,
            "visibility": null,
            "align_self": null,
            "height": null,
            "min_height": null,
            "padding": null,
            "grid_auto_rows": null,
            "grid_gap": null,
            "max_width": null,
            "order": null,
            "_view_module_version": "1.2.0",
            "grid_template_areas": null,
            "object_position": null,
            "object_fit": null,
            "grid_auto_columns": null,
            "margin": null,
            "display": null,
            "left": null
          }
        },
        "6fe9ca6ae670471096b644a1b39c5ab3": {
          "model_module": "@jupyter-widgets/controls",
          "model_name": "HBoxModel",
          "state": {
            "_view_name": "HBoxView",
            "_dom_classes": [],
            "_model_name": "HBoxModel",
            "_view_module": "@jupyter-widgets/controls",
            "_model_module_version": "1.5.0",
            "_view_count": null,
            "_view_module_version": "1.5.0",
            "box_style": "",
            "layout": "IPY_MODEL_f73df39974d1486484702f1d817bbc01",
            "_model_module": "@jupyter-widgets/controls",
            "children": [
              "IPY_MODEL_47abe8401f11488eb383c4eb4160b530",
              "IPY_MODEL_823a687e642449e6b9f8a30808603027"
            ]
          }
        },
        "f73df39974d1486484702f1d817bbc01": {
          "model_module": "@jupyter-widgets/base",
          "model_name": "LayoutModel",
          "state": {
            "_view_name": "LayoutView",
            "grid_template_rows": null,
            "right": null,
            "justify_content": null,
            "_view_module": "@jupyter-widgets/base",
            "overflow": null,
            "_model_module_version": "1.2.0",
            "_view_count": null,
            "flex_flow": null,
            "width": null,
            "min_width": null,
            "border": null,
            "align_items": null,
            "bottom": null,
            "_model_module": "@jupyter-widgets/base",
            "top": null,
            "grid_column": null,
            "overflow_y": null,
            "overflow_x": null,
            "grid_auto_flow": null,
            "grid_area": null,
            "grid_template_columns": null,
            "flex": null,
            "_model_name": "LayoutModel",
            "justify_items": null,
            "grid_row": null,
            "max_height": null,
            "align_content": null,
            "visibility": null,
            "align_self": null,
            "height": null,
            "min_height": null,
            "padding": null,
            "grid_auto_rows": null,
            "grid_gap": null,
            "max_width": null,
            "order": null,
            "_view_module_version": "1.2.0",
            "grid_template_areas": null,
            "object_position": null,
            "object_fit": null,
            "grid_auto_columns": null,
            "margin": null,
            "display": null,
            "left": null
          }
        },
        "47abe8401f11488eb383c4eb4160b530": {
          "model_module": "@jupyter-widgets/controls",
          "model_name": "FloatProgressModel",
          "state": {
            "_view_name": "ProgressView",
            "style": "IPY_MODEL_dbabd6146053438ba247e53ee139a4e3",
            "_dom_classes": [],
            "description": "Downloading: 100%",
            "_model_name": "FloatProgressModel",
            "bar_style": "success",
            "max": 456318,
            "_view_module": "@jupyter-widgets/controls",
            "_model_module_version": "1.5.0",
            "value": 456318,
            "_view_count": null,
            "_view_module_version": "1.5.0",
            "orientation": "horizontal",
            "min": 0,
            "description_tooltip": null,
            "_model_module": "@jupyter-widgets/controls",
            "layout": "IPY_MODEL_36171386ff5841d0ab7de4d2482696b6"
          }
        },
        "823a687e642449e6b9f8a30808603027": {
          "model_module": "@jupyter-widgets/controls",
          "model_name": "HTMLModel",
          "state": {
            "_view_name": "HTMLView",
            "style": "IPY_MODEL_56661c2792734f4d90d3ddbd0ed428a9",
            "_dom_classes": [],
            "description": "",
            "_model_name": "HTMLModel",
            "placeholder": "​",
            "_view_module": "@jupyter-widgets/controls",
            "_model_module_version": "1.5.0",
            "value": " 456k/456k [00:01&lt;00:00, 307kB/s]",
            "_view_count": null,
            "_view_module_version": "1.5.0",
            "description_tooltip": null,
            "_model_module": "@jupyter-widgets/controls",
            "layout": "IPY_MODEL_97af73c491674ba0ac895de6703de574"
          }
        },
        "dbabd6146053438ba247e53ee139a4e3": {
          "model_module": "@jupyter-widgets/controls",
          "model_name": "ProgressStyleModel",
          "state": {
            "_view_name": "StyleView",
            "_model_name": "ProgressStyleModel",
            "description_width": "initial",
            "_view_module": "@jupyter-widgets/base",
            "_model_module_version": "1.5.0",
            "_view_count": null,
            "_view_module_version": "1.2.0",
            "bar_color": null,
            "_model_module": "@jupyter-widgets/controls"
          }
        },
        "36171386ff5841d0ab7de4d2482696b6": {
          "model_module": "@jupyter-widgets/base",
          "model_name": "LayoutModel",
          "state": {
            "_view_name": "LayoutView",
            "grid_template_rows": null,
            "right": null,
            "justify_content": null,
            "_view_module": "@jupyter-widgets/base",
            "overflow": null,
            "_model_module_version": "1.2.0",
            "_view_count": null,
            "flex_flow": null,
            "width": null,
            "min_width": null,
            "border": null,
            "align_items": null,
            "bottom": null,
            "_model_module": "@jupyter-widgets/base",
            "top": null,
            "grid_column": null,
            "overflow_y": null,
            "overflow_x": null,
            "grid_auto_flow": null,
            "grid_area": null,
            "grid_template_columns": null,
            "flex": null,
            "_model_name": "LayoutModel",
            "justify_items": null,
            "grid_row": null,
            "max_height": null,
            "align_content": null,
            "visibility": null,
            "align_self": null,
            "height": null,
            "min_height": null,
            "padding": null,
            "grid_auto_rows": null,
            "grid_gap": null,
            "max_width": null,
            "order": null,
            "_view_module_version": "1.2.0",
            "grid_template_areas": null,
            "object_position": null,
            "object_fit": null,
            "grid_auto_columns": null,
            "margin": null,
            "display": null,
            "left": null
          }
        },
        "56661c2792734f4d90d3ddbd0ed428a9": {
          "model_module": "@jupyter-widgets/controls",
          "model_name": "DescriptionStyleModel",
          "state": {
            "_view_name": "StyleView",
            "_model_name": "DescriptionStyleModel",
            "description_width": "",
            "_view_module": "@jupyter-widgets/base",
            "_model_module_version": "1.5.0",
            "_view_count": null,
            "_view_module_version": "1.2.0",
            "_model_module": "@jupyter-widgets/controls"
          }
        },
        "97af73c491674ba0ac895de6703de574": {
          "model_module": "@jupyter-widgets/base",
          "model_name": "LayoutModel",
          "state": {
            "_view_name": "LayoutView",
            "grid_template_rows": null,
            "right": null,
            "justify_content": null,
            "_view_module": "@jupyter-widgets/base",
            "overflow": null,
            "_model_module_version": "1.2.0",
            "_view_count": null,
            "flex_flow": null,
            "width": null,
            "min_width": null,
            "border": null,
            "align_items": null,
            "bottom": null,
            "_model_module": "@jupyter-widgets/base",
            "top": null,
            "grid_column": null,
            "overflow_y": null,
            "overflow_x": null,
            "grid_auto_flow": null,
            "grid_area": null,
            "grid_template_columns": null,
            "flex": null,
            "_model_name": "LayoutModel",
            "justify_items": null,
            "grid_row": null,
            "max_height": null,
            "align_content": null,
            "visibility": null,
            "align_self": null,
            "height": null,
            "min_height": null,
            "padding": null,
            "grid_auto_rows": null,
            "grid_gap": null,
            "max_width": null,
            "order": null,
            "_view_module_version": "1.2.0",
            "grid_template_areas": null,
            "object_position": null,
            "object_fit": null,
            "grid_auto_columns": null,
            "margin": null,
            "display": null,
            "left": null
          }
        },
        "c2b8b1ca3aa248988f3072f415d4a1e3": {
          "model_module": "@jupyter-widgets/controls",
          "model_name": "HBoxModel",
          "state": {
            "_view_name": "HBoxView",
            "_dom_classes": [],
            "_model_name": "HBoxModel",
            "_view_module": "@jupyter-widgets/controls",
            "_model_module_version": "1.5.0",
            "_view_count": null,
            "_view_module_version": "1.5.0",
            "box_style": "",
            "layout": "IPY_MODEL_51ea696aa5694a67bd1107edffb2f082",
            "_model_module": "@jupyter-widgets/controls",
            "children": [
              "IPY_MODEL_782f5dd4bcd9459c921b1619348a9ca6",
              "IPY_MODEL_f504baf587724b49b168d5c687427c75"
            ]
          }
        },
        "51ea696aa5694a67bd1107edffb2f082": {
          "model_module": "@jupyter-widgets/base",
          "model_name": "LayoutModel",
          "state": {
            "_view_name": "LayoutView",
            "grid_template_rows": null,
            "right": null,
            "justify_content": null,
            "_view_module": "@jupyter-widgets/base",
            "overflow": null,
            "_model_module_version": "1.2.0",
            "_view_count": null,
            "flex_flow": null,
            "width": null,
            "min_width": null,
            "border": null,
            "align_items": null,
            "bottom": null,
            "_model_module": "@jupyter-widgets/base",
            "top": null,
            "grid_column": null,
            "overflow_y": null,
            "overflow_x": null,
            "grid_auto_flow": null,
            "grid_area": null,
            "grid_template_columns": null,
            "flex": null,
            "_model_name": "LayoutModel",
            "justify_items": null,
            "grid_row": null,
            "max_height": null,
            "align_content": null,
            "visibility": null,
            "align_self": null,
            "height": null,
            "min_height": null,
            "padding": null,
            "grid_auto_rows": null,
            "grid_gap": null,
            "max_width": null,
            "order": null,
            "_view_module_version": "1.2.0",
            "grid_template_areas": null,
            "object_position": null,
            "object_fit": null,
            "grid_auto_columns": null,
            "margin": null,
            "display": null,
            "left": null
          }
        },
        "782f5dd4bcd9459c921b1619348a9ca6": {
          "model_module": "@jupyter-widgets/controls",
          "model_name": "FloatProgressModel",
          "state": {
            "_view_name": "ProgressView",
            "style": "IPY_MODEL_fd58c426f6064b05bdc09fa7cd57b7aa",
            "_dom_classes": [],
            "description": "Downloading: 100%",
            "_model_name": "FloatProgressModel",
            "bar_style": "success",
            "max": 150,
            "_view_module": "@jupyter-widgets/controls",
            "_model_module_version": "1.5.0",
            "value": 150,
            "_view_count": null,
            "_view_module_version": "1.5.0",
            "orientation": "horizontal",
            "min": 0,
            "description_tooltip": null,
            "_model_module": "@jupyter-widgets/controls",
            "layout": "IPY_MODEL_150932f4ea5943279180cd44cec6f48d"
          }
        },
        "f504baf587724b49b168d5c687427c75": {
          "model_module": "@jupyter-widgets/controls",
          "model_name": "HTMLModel",
          "state": {
            "_view_name": "HTMLView",
            "style": "IPY_MODEL_9ac0098bbed147cb8dfd05d60cf82bfe",
            "_dom_classes": [],
            "description": "",
            "_model_name": "HTMLModel",
            "placeholder": "​",
            "_view_module": "@jupyter-widgets/controls",
            "_model_module_version": "1.5.0",
            "value": " 150/150 [00:00&lt;00:00, 475B/s]",
            "_view_count": null,
            "_view_module_version": "1.5.0",
            "description_tooltip": null,
            "_model_module": "@jupyter-widgets/controls",
            "layout": "IPY_MODEL_3dd0101f4f174424b4ce9713a020c9cc"
          }
        },
        "fd58c426f6064b05bdc09fa7cd57b7aa": {
          "model_module": "@jupyter-widgets/controls",
          "model_name": "ProgressStyleModel",
          "state": {
            "_view_name": "StyleView",
            "_model_name": "ProgressStyleModel",
            "description_width": "initial",
            "_view_module": "@jupyter-widgets/base",
            "_model_module_version": "1.5.0",
            "_view_count": null,
            "_view_module_version": "1.2.0",
            "bar_color": null,
            "_model_module": "@jupyter-widgets/controls"
          }
        },
        "150932f4ea5943279180cd44cec6f48d": {
          "model_module": "@jupyter-widgets/base",
          "model_name": "LayoutModel",
          "state": {
            "_view_name": "LayoutView",
            "grid_template_rows": null,
            "right": null,
            "justify_content": null,
            "_view_module": "@jupyter-widgets/base",
            "overflow": null,
            "_model_module_version": "1.2.0",
            "_view_count": null,
            "flex_flow": null,
            "width": null,
            "min_width": null,
            "border": null,
            "align_items": null,
            "bottom": null,
            "_model_module": "@jupyter-widgets/base",
            "top": null,
            "grid_column": null,
            "overflow_y": null,
            "overflow_x": null,
            "grid_auto_flow": null,
            "grid_area": null,
            "grid_template_columns": null,
            "flex": null,
            "_model_name": "LayoutModel",
            "justify_items": null,
            "grid_row": null,
            "max_height": null,
            "align_content": null,
            "visibility": null,
            "align_self": null,
            "height": null,
            "min_height": null,
            "padding": null,
            "grid_auto_rows": null,
            "grid_gap": null,
            "max_width": null,
            "order": null,
            "_view_module_version": "1.2.0",
            "grid_template_areas": null,
            "object_position": null,
            "object_fit": null,
            "grid_auto_columns": null,
            "margin": null,
            "display": null,
            "left": null
          }
        },
        "9ac0098bbed147cb8dfd05d60cf82bfe": {
          "model_module": "@jupyter-widgets/controls",
          "model_name": "DescriptionStyleModel",
          "state": {
            "_view_name": "StyleView",
            "_model_name": "DescriptionStyleModel",
            "description_width": "",
            "_view_module": "@jupyter-widgets/base",
            "_model_module_version": "1.5.0",
            "_view_count": null,
            "_view_module_version": "1.2.0",
            "_model_module": "@jupyter-widgets/controls"
          }
        },
        "3dd0101f4f174424b4ce9713a020c9cc": {
          "model_module": "@jupyter-widgets/base",
          "model_name": "LayoutModel",
          "state": {
            "_view_name": "LayoutView",
            "grid_template_rows": null,
            "right": null,
            "justify_content": null,
            "_view_module": "@jupyter-widgets/base",
            "overflow": null,
            "_model_module_version": "1.2.0",
            "_view_count": null,
            "flex_flow": null,
            "width": null,
            "min_width": null,
            "border": null,
            "align_items": null,
            "bottom": null,
            "_model_module": "@jupyter-widgets/base",
            "top": null,
            "grid_column": null,
            "overflow_y": null,
            "overflow_x": null,
            "grid_auto_flow": null,
            "grid_area": null,
            "grid_template_columns": null,
            "flex": null,
            "_model_name": "LayoutModel",
            "justify_items": null,
            "grid_row": null,
            "max_height": null,
            "align_content": null,
            "visibility": null,
            "align_self": null,
            "height": null,
            "min_height": null,
            "padding": null,
            "grid_auto_rows": null,
            "grid_gap": null,
            "max_width": null,
            "order": null,
            "_view_module_version": "1.2.0",
            "grid_template_areas": null,
            "object_position": null,
            "object_fit": null,
            "grid_auto_columns": null,
            "margin": null,
            "display": null,
            "left": null
          }
        },
        "88851a66f1d14526a5ce41a409831b14": {
          "model_module": "@jupyter-widgets/controls",
          "model_name": "HBoxModel",
          "state": {
            "_view_name": "HBoxView",
            "_dom_classes": [],
            "_model_name": "HBoxModel",
            "_view_module": "@jupyter-widgets/controls",
            "_model_module_version": "1.5.0",
            "_view_count": null,
            "_view_module_version": "1.5.0",
            "box_style": "",
            "layout": "IPY_MODEL_1ddbe18b08b7484ab2010c1fe8de4f9e",
            "_model_module": "@jupyter-widgets/controls",
            "children": [
              "IPY_MODEL_41882bf70c40484a80191ae0739d1463",
              "IPY_MODEL_2a12ee3004864736a1720b6906512fb7"
            ]
          }
        },
        "1ddbe18b08b7484ab2010c1fe8de4f9e": {
          "model_module": "@jupyter-widgets/base",
          "model_name": "LayoutModel",
          "state": {
            "_view_name": "LayoutView",
            "grid_template_rows": null,
            "right": null,
            "justify_content": null,
            "_view_module": "@jupyter-widgets/base",
            "overflow": null,
            "_model_module_version": "1.2.0",
            "_view_count": null,
            "flex_flow": null,
            "width": null,
            "min_width": null,
            "border": null,
            "align_items": null,
            "bottom": null,
            "_model_module": "@jupyter-widgets/base",
            "top": null,
            "grid_column": null,
            "overflow_y": null,
            "overflow_x": null,
            "grid_auto_flow": null,
            "grid_area": null,
            "grid_template_columns": null,
            "flex": null,
            "_model_name": "LayoutModel",
            "justify_items": null,
            "grid_row": null,
            "max_height": null,
            "align_content": null,
            "visibility": null,
            "align_self": null,
            "height": null,
            "min_height": null,
            "padding": null,
            "grid_auto_rows": null,
            "grid_gap": null,
            "max_width": null,
            "order": null,
            "_view_module_version": "1.2.0",
            "grid_template_areas": null,
            "object_position": null,
            "object_fit": null,
            "grid_auto_columns": null,
            "margin": null,
            "display": null,
            "left": null
          }
        },
        "41882bf70c40484a80191ae0739d1463": {
          "model_module": "@jupyter-widgets/controls",
          "model_name": "FloatProgressModel",
          "state": {
            "_view_name": "ProgressView",
            "style": "IPY_MODEL_dc4bc5d32a3e465eae3d8354daba12e6",
            "_dom_classes": [],
            "description": "Downloading: 100%",
            "_model_name": "FloatProgressModel",
            "bar_style": "success",
            "max": 498676425,
            "_view_module": "@jupyter-widgets/controls",
            "_model_module_version": "1.5.0",
            "value": 498676425,
            "_view_count": null,
            "_view_module_version": "1.5.0",
            "orientation": "horizontal",
            "min": 0,
            "description_tooltip": null,
            "_model_module": "@jupyter-widgets/controls",
            "layout": "IPY_MODEL_362896f7e73a4e41906a4b365b3fca4e"
          }
        },
        "2a12ee3004864736a1720b6906512fb7": {
          "model_module": "@jupyter-widgets/controls",
          "model_name": "HTMLModel",
          "state": {
            "_view_name": "HTMLView",
            "style": "IPY_MODEL_d26c92b281784903bc1fdc3e040bad06",
            "_dom_classes": [],
            "description": "",
            "_model_name": "HTMLModel",
            "placeholder": "​",
            "_view_module": "@jupyter-widgets/controls",
            "_model_module_version": "1.5.0",
            "value": " 499M/499M [00:11&lt;00:00, 43.9MB/s]",
            "_view_count": null,
            "_view_module_version": "1.5.0",
            "description_tooltip": null,
            "_model_module": "@jupyter-widgets/controls",
            "layout": "IPY_MODEL_305048f012c14ba09ca798986d5d9a34"
          }
        },
        "dc4bc5d32a3e465eae3d8354daba12e6": {
          "model_module": "@jupyter-widgets/controls",
          "model_name": "ProgressStyleModel",
          "state": {
            "_view_name": "StyleView",
            "_model_name": "ProgressStyleModel",
            "description_width": "initial",
            "_view_module": "@jupyter-widgets/base",
            "_model_module_version": "1.5.0",
            "_view_count": null,
            "_view_module_version": "1.2.0",
            "bar_color": null,
            "_model_module": "@jupyter-widgets/controls"
          }
        },
        "362896f7e73a4e41906a4b365b3fca4e": {
          "model_module": "@jupyter-widgets/base",
          "model_name": "LayoutModel",
          "state": {
            "_view_name": "LayoutView",
            "grid_template_rows": null,
            "right": null,
            "justify_content": null,
            "_view_module": "@jupyter-widgets/base",
            "overflow": null,
            "_model_module_version": "1.2.0",
            "_view_count": null,
            "flex_flow": null,
            "width": null,
            "min_width": null,
            "border": null,
            "align_items": null,
            "bottom": null,
            "_model_module": "@jupyter-widgets/base",
            "top": null,
            "grid_column": null,
            "overflow_y": null,
            "overflow_x": null,
            "grid_auto_flow": null,
            "grid_area": null,
            "grid_template_columns": null,
            "flex": null,
            "_model_name": "LayoutModel",
            "justify_items": null,
            "grid_row": null,
            "max_height": null,
            "align_content": null,
            "visibility": null,
            "align_self": null,
            "height": null,
            "min_height": null,
            "padding": null,
            "grid_auto_rows": null,
            "grid_gap": null,
            "max_width": null,
            "order": null,
            "_view_module_version": "1.2.0",
            "grid_template_areas": null,
            "object_position": null,
            "object_fit": null,
            "grid_auto_columns": null,
            "margin": null,
            "display": null,
            "left": null
          }
        },
        "d26c92b281784903bc1fdc3e040bad06": {
          "model_module": "@jupyter-widgets/controls",
          "model_name": "DescriptionStyleModel",
          "state": {
            "_view_name": "StyleView",
            "_model_name": "DescriptionStyleModel",
            "description_width": "",
            "_view_module": "@jupyter-widgets/base",
            "_model_module_version": "1.5.0",
            "_view_count": null,
            "_view_module_version": "1.2.0",
            "_model_module": "@jupyter-widgets/controls"
          }
        },
        "305048f012c14ba09ca798986d5d9a34": {
          "model_module": "@jupyter-widgets/base",
          "model_name": "LayoutModel",
          "state": {
            "_view_name": "LayoutView",
            "grid_template_rows": null,
            "right": null,
            "justify_content": null,
            "_view_module": "@jupyter-widgets/base",
            "overflow": null,
            "_model_module_version": "1.2.0",
            "_view_count": null,
            "flex_flow": null,
            "width": null,
            "min_width": null,
            "border": null,
            "align_items": null,
            "bottom": null,
            "_model_module": "@jupyter-widgets/base",
            "top": null,
            "grid_column": null,
            "overflow_y": null,
            "overflow_x": null,
            "grid_auto_flow": null,
            "grid_area": null,
            "grid_template_columns": null,
            "flex": null,
            "_model_name": "LayoutModel",
            "justify_items": null,
            "grid_row": null,
            "max_height": null,
            "align_content": null,
            "visibility": null,
            "align_self": null,
            "height": null,
            "min_height": null,
            "padding": null,
            "grid_auto_rows": null,
            "grid_gap": null,
            "max_width": null,
            "order": null,
            "_view_module_version": "1.2.0",
            "grid_template_areas": null,
            "object_position": null,
            "object_fit": null,
            "grid_auto_columns": null,
            "margin": null,
            "display": null,
            "left": null
          }
        }
      }
    }
  },
  "cells": [
    {
      "cell_type": "markdown",
      "metadata": {
        "id": "view-in-github",
        "colab_type": "text"
      },
      "source": [
        "<a href=\"https://colab.research.google.com/github/alsh626626/CE888/blob/main/Assignment2/Assignment2_Project2_hate.ipynb\" target=\"_parent\"><img src=\"https://colab.research.google.com/assets/colab-badge.svg\" alt=\"Open In Colab\"/></a>"
      ]
    },
    {
      "cell_type": "code",
      "metadata": {
        "colab": {
          "base_uri": "https://localhost:8080/"
        },
        "id": "frYDddi2EPXm",
        "outputId": "fd9488ce-219e-4972-eb0f-d19d444b270f"
      },
      "source": [
        "!pip install transformers"
      ],
      "execution_count": null,
      "outputs": [
        {
          "output_type": "stream",
          "text": [
            "Collecting transformers\n",
            "\u001b[?25l  Downloading https://files.pythonhosted.org/packages/d8/b2/57495b5309f09fa501866e225c84532d1fd89536ea62406b2181933fb418/transformers-4.5.1-py3-none-any.whl (2.1MB)\n",
            "\u001b[K     |████████████████████████████████| 2.1MB 8.9MB/s \n",
            "\u001b[?25hRequirement already satisfied: regex!=2019.12.17 in /usr/local/lib/python3.7/dist-packages (from transformers) (2019.12.20)\n",
            "Requirement already satisfied: requests in /usr/local/lib/python3.7/dist-packages (from transformers) (2.23.0)\n",
            "Requirement already satisfied: numpy>=1.17 in /usr/local/lib/python3.7/dist-packages (from transformers) (1.19.5)\n",
            "Requirement already satisfied: importlib-metadata; python_version < \"3.8\" in /usr/local/lib/python3.7/dist-packages (from transformers) (3.10.1)\n",
            "Requirement already satisfied: filelock in /usr/local/lib/python3.7/dist-packages (from transformers) (3.0.12)\n",
            "Requirement already satisfied: tqdm>=4.27 in /usr/local/lib/python3.7/dist-packages (from transformers) (4.41.1)\n",
            "Collecting sacremoses\n",
            "\u001b[?25l  Downloading https://files.pythonhosted.org/packages/75/ee/67241dc87f266093c533a2d4d3d69438e57d7a90abb216fa076e7d475d4a/sacremoses-0.0.45-py3-none-any.whl (895kB)\n",
            "\u001b[K     |████████████████████████████████| 901kB 36.4MB/s \n",
            "\u001b[?25hCollecting tokenizers<0.11,>=0.10.1\n",
            "\u001b[?25l  Downloading https://files.pythonhosted.org/packages/ae/04/5b870f26a858552025a62f1649c20d29d2672c02ff3c3fb4c688ca46467a/tokenizers-0.10.2-cp37-cp37m-manylinux2010_x86_64.whl (3.3MB)\n",
            "\u001b[K     |████████████████████████████████| 3.3MB 34.1MB/s \n",
            "\u001b[?25hRequirement already satisfied: packaging in /usr/local/lib/python3.7/dist-packages (from transformers) (20.9)\n",
            "Requirement already satisfied: certifi>=2017.4.17 in /usr/local/lib/python3.7/dist-packages (from requests->transformers) (2020.12.5)\n",
            "Requirement already satisfied: urllib3!=1.25.0,!=1.25.1,<1.26,>=1.21.1 in /usr/local/lib/python3.7/dist-packages (from requests->transformers) (1.24.3)\n",
            "Requirement already satisfied: chardet<4,>=3.0.2 in /usr/local/lib/python3.7/dist-packages (from requests->transformers) (3.0.4)\n",
            "Requirement already satisfied: idna<3,>=2.5 in /usr/local/lib/python3.7/dist-packages (from requests->transformers) (2.10)\n",
            "Requirement already satisfied: zipp>=0.5 in /usr/local/lib/python3.7/dist-packages (from importlib-metadata; python_version < \"3.8\"->transformers) (3.4.1)\n",
            "Requirement already satisfied: typing-extensions>=3.6.4; python_version < \"3.8\" in /usr/local/lib/python3.7/dist-packages (from importlib-metadata; python_version < \"3.8\"->transformers) (3.7.4.3)\n",
            "Requirement already satisfied: six in /usr/local/lib/python3.7/dist-packages (from sacremoses->transformers) (1.15.0)\n",
            "Requirement already satisfied: click in /usr/local/lib/python3.7/dist-packages (from sacremoses->transformers) (7.1.2)\n",
            "Requirement already satisfied: joblib in /usr/local/lib/python3.7/dist-packages (from sacremoses->transformers) (1.0.1)\n",
            "Requirement already satisfied: pyparsing>=2.0.2 in /usr/local/lib/python3.7/dist-packages (from packaging->transformers) (2.4.7)\n",
            "Installing collected packages: sacremoses, tokenizers, transformers\n",
            "Successfully installed sacremoses-0.0.45 tokenizers-0.10.2 transformers-4.5.1\n"
          ],
          "name": "stdout"
        }
      ]
    },
    {
      "cell_type": "code",
      "metadata": {
        "colab": {
          "base_uri": "https://localhost:8080/"
        },
        "id": "lF5T1zhud3hK",
        "outputId": "7b0be481-626e-462f-f049-165a8449a169"
      },
      "source": [
        "from transformers import AutoModelForSequenceClassification\n",
        "from transformers import TFAutoModelForSequenceClassification\n",
        "from transformers import AutoTokenizer\n",
        "from scipy.special import softmax\n",
        "import csv\n",
        "import urllib.request\n",
        "import matplotlib\n",
        "import matplotlib.pyplot as plt\n",
        "import pandas as pd\n",
        "import numpy as np\n",
        "import seaborn as sn\n",
        "from sklearn import metrics\n",
        "from sklearn.metrics import confusion_matrix\n",
        "import requests\n",
        "import re\n",
        "import string\n",
        "import math\n",
        "import nltk\n",
        "from nltk.tokenize import word_tokenize\n",
        "nltk.download('stopwords')\n",
        "nltk.download('punkt')\n",
        "nltk.download('wordnet')"
      ],
      "execution_count": null,
      "outputs": [
        {
          "output_type": "stream",
          "text": [
            "[nltk_data] Downloading package stopwords to /root/nltk_data...\n",
            "[nltk_data]   Unzipping corpora/stopwords.zip.\n",
            "[nltk_data] Downloading package punkt to /root/nltk_data...\n",
            "[nltk_data]   Unzipping tokenizers/punkt.zip.\n",
            "[nltk_data] Downloading package wordnet to /root/nltk_data...\n",
            "[nltk_data]   Unzipping corpora/wordnet.zip.\n"
          ],
          "name": "stdout"
        },
        {
          "output_type": "execute_result",
          "data": {
            "text/plain": [
              "True"
            ]
          },
          "metadata": {
            "tags": []
          },
          "execution_count": 2
        }
      ]
    },
    {
      "cell_type": "code",
      "metadata": {
        "colab": {
          "base_uri": "https://localhost:8080/"
        },
        "id": "EBE72CZ9bIQr",
        "outputId": "d9b72e62-3ccb-4537-fb68-56866f7ee6cb"
      },
      "source": [
        "# Load the data\n",
        "\n",
        "# Tasks:\n",
        "# emoji, emotion, hate, irony, offensive, sentiment\n",
        "# stance/abortion, stance/atheism, stance/climate, stance/feminist, stance/hillary\n",
        "\n",
        "# Experiment focus on hate, irony and offensive\n",
        "# Both 3 tasks can be run on the same code by alternating the \"task\" parameter below\n",
        "# Other tasks have not been tested and may occur errors\n",
        "task='hate'\n",
        "r = requests.get(f\"https://raw.githubusercontent.com/cardiffnlp/tweeteval/main/datasets/{task}/test_labels.txt\", allow_redirects=True)\n",
        "open('test_labels.txt', 'wb').write(r.content)\n",
        "r = requests.get(f\"https://raw.githubusercontent.com/cardiffnlp/tweeteval/main/datasets/{task}/test_text.txt\", allow_redirects=True)\n",
        "open('test_text.txt', 'wb').write(r.content)\n",
        "r = requests.get(f\"https://raw.githubusercontent.com/cardiffnlp/tweeteval/main/datasets/{task}/train_labels.txt\", allow_redirects=True)\n",
        "open('train_labels.txt', 'wb').write(r.content)\n",
        "r = requests.get(f\"https://raw.githubusercontent.com/cardiffnlp/tweeteval/main/datasets/{task}/train_text.txt\", allow_redirects=True)\n",
        "open('train_text.txt', 'wb').write(r.content)\n",
        "r = requests.get(f\"https://raw.githubusercontent.com/cardiffnlp/tweeteval/main/datasets/{task}/val_labels.txt\", allow_redirects=True)\n",
        "open('val_labels.txt', 'wb').write(r.content)\n",
        "r = requests.get(f\"https://raw.githubusercontent.com/cardiffnlp/tweeteval/main/datasets/{task}/val_text.txt\", allow_redirects=True)\n",
        "open('val_text.txt', 'wb').write(r.content)\n",
        "\n",
        "file = open('test_labels.txt')\n",
        "test_labels = file.readlines()\n",
        "file.close\n",
        "file = open('test_text.txt')\n",
        "test_text = file.readlines()\n",
        "file.close\n",
        "file = open('train_labels.txt')\n",
        "train_labels = file.readlines()\n",
        "file.close\n",
        "file = open('train_text.txt')\n",
        "train_text = file.readlines()\n",
        "file.close\n",
        "file = open('val_labels.txt')\n",
        "val_labels = file.readlines()\n",
        "file.close\n",
        "file = open('val_text.txt')\n",
        "val_text = file.readlines()\n",
        "file.close\n",
        "\n",
        "print(\"Number of total data:        \", len(train_labels)+len(val_labels)+len(test_labels))\n",
        "print(\"Number of train labels:      \", len(train_labels))\n",
        "print(\"Number of train text:        \", len(train_text))\n",
        "print(\"Number of validation labels: \", len(val_labels))\n",
        "print(\"Number of validation text:   \", len(val_text))\n",
        "print(\"Number of test labels:       \", len(test_labels))\n",
        "print(\"Number of test text:         \", len(test_text))"
      ],
      "execution_count": null,
      "outputs": [
        {
          "output_type": "stream",
          "text": [
            "Number of total data:         12970\n",
            "Number of train labels:       9000\n",
            "Number of train text:         9000\n",
            "Number of validation labels:  1000\n",
            "Number of validation text:    1000\n",
            "Number of test labels:        2970\n",
            "Number of test text:          2970\n"
          ],
          "name": "stdout"
        }
      ]
    },
    {
      "cell_type": "code",
      "metadata": {
        "id": "QXQwhnCZzUPl"
      },
      "source": [
        "# Create subset from the dataset for system development\n",
        "#test_labels = val_labels[:]\n",
        "#test_text = val_text[:]\n",
        "#train_labels = train_labels[500:2500]\n",
        "#train_text = train_text[500:2500]\n",
        "#val_labels = val_labels[:100]\n",
        "#val_text = val_text[:100]"
      ],
      "execution_count": null,
      "outputs": []
    },
    {
      "cell_type": "code",
      "metadata": {
        "colab": {
          "base_uri": "https://localhost:8080/"
        },
        "id": "zb3Y1E1MMLSl",
        "outputId": "16661085-9388-457d-b374-22b7f1a9dc3f"
      },
      "source": [
        "# Download label mapping\n",
        "import csv\n",
        "import urllib.request\n",
        "labels=[]\n",
        "mapping_link = f\"https://raw.githubusercontent.com/cardiffnlp/tweeteval/main/datasets/{task}/mapping.txt\"\n",
        "with urllib.request.urlopen(mapping_link) as f:\n",
        "    html = f.read().decode('utf-8').split(\"\\n\")\n",
        "    csvreader = csv.reader(html, delimiter='\\t')\n",
        "class_labels = [row[1] for row in csvreader if len(row) > 1]\n",
        "print('Labels:', class_labels)"
      ],
      "execution_count": null,
      "outputs": [
        {
          "output_type": "stream",
          "text": [
            "Labels: ['not-hate', 'hate']\n"
          ],
          "name": "stdout"
        }
      ]
    },
    {
      "cell_type": "code",
      "metadata": {
        "colab": {
          "base_uri": "https://localhost:8080/",
          "height": 419
        },
        "id": "wYeos13AjmeM",
        "outputId": "2c9d99f4-9e84-4b0a-8598-da7ba787677f"
      },
      "source": [
        "df = pd.DataFrame(data={'label': train_labels + val_labels + test_labels, 'text': train_text + val_text + test_text})\n",
        "df"
      ],
      "execution_count": null,
      "outputs": [
        {
          "output_type": "execute_result",
          "data": {
            "text/html": [
              "<div>\n",
              "<style scoped>\n",
              "    .dataframe tbody tr th:only-of-type {\n",
              "        vertical-align: middle;\n",
              "    }\n",
              "\n",
              "    .dataframe tbody tr th {\n",
              "        vertical-align: top;\n",
              "    }\n",
              "\n",
              "    .dataframe thead th {\n",
              "        text-align: right;\n",
              "    }\n",
              "</style>\n",
              "<table border=\"1\" class=\"dataframe\">\n",
              "  <thead>\n",
              "    <tr style=\"text-align: right;\">\n",
              "      <th></th>\n",
              "      <th>label</th>\n",
              "      <th>text</th>\n",
              "    </tr>\n",
              "  </thead>\n",
              "  <tbody>\n",
              "    <tr>\n",
              "      <th>0</th>\n",
              "      <td>0\\n</td>\n",
              "      <td>@user nice new signage. Are you not concerned ...</td>\n",
              "    </tr>\n",
              "    <tr>\n",
              "      <th>1</th>\n",
              "      <td>1\\n</td>\n",
              "      <td>A woman who you fucked multiple times saying y...</td>\n",
              "    </tr>\n",
              "    <tr>\n",
              "      <th>2</th>\n",
              "      <td>1\\n</td>\n",
              "      <td>@user @user real talk do you have eyes or were...</td>\n",
              "    </tr>\n",
              "    <tr>\n",
              "      <th>3</th>\n",
              "      <td>1\\n</td>\n",
              "      <td>your girlfriend lookin at me like a groupie in...</td>\n",
              "    </tr>\n",
              "    <tr>\n",
              "      <th>4</th>\n",
              "      <td>0\\n</td>\n",
              "      <td>Hysterical woman like @user \\n</td>\n",
              "    </tr>\n",
              "    <tr>\n",
              "      <th>...</th>\n",
              "      <td>...</td>\n",
              "      <td>...</td>\n",
              "    </tr>\n",
              "    <tr>\n",
              "      <th>12965</th>\n",
              "      <td>0\\n</td>\n",
              "      <td>@user Calling them #IllegalAliens is heartless...</td>\n",
              "    </tr>\n",
              "    <tr>\n",
              "      <th>12966</th>\n",
              "      <td>0\\n</td>\n",
              "      <td>Silly Killary WANNABE !! And @user numbers JUS...</td>\n",
              "    </tr>\n",
              "    <tr>\n",
              "      <th>12967</th>\n",
              "      <td>0\\n</td>\n",
              "      <td>@user @user @user @user @user @user @user @use...</td>\n",
              "    </tr>\n",
              "    <tr>\n",
              "      <th>12968</th>\n",
              "      <td>1\\n</td>\n",
              "      <td>@user StopImmigration \\n</td>\n",
              "    </tr>\n",
              "    <tr>\n",
              "      <th>12969</th>\n",
              "      <td>1\\n</td>\n",
              "      <td>That bitch on the spoiled whore list   Thought...</td>\n",
              "    </tr>\n",
              "  </tbody>\n",
              "</table>\n",
              "<p>12970 rows × 2 columns</p>\n",
              "</div>"
            ],
            "text/plain": [
              "      label                                               text\n",
              "0       0\\n  @user nice new signage. Are you not concerned ...\n",
              "1       1\\n  A woman who you fucked multiple times saying y...\n",
              "2       1\\n  @user @user real talk do you have eyes or were...\n",
              "3       1\\n  your girlfriend lookin at me like a groupie in...\n",
              "4       0\\n                     Hysterical woman like @user \\n\n",
              "...     ...                                                ...\n",
              "12965   0\\n  @user Calling them #IllegalAliens is heartless...\n",
              "12966   0\\n  Silly Killary WANNABE !! And @user numbers JUS...\n",
              "12967   0\\n  @user @user @user @user @user @user @user @use...\n",
              "12968   1\\n                           @user StopImmigration \\n\n",
              "12969   1\\n  That bitch on the spoiled whore list   Thought...\n",
              "\n",
              "[12970 rows x 2 columns]"
            ]
          },
          "metadata": {
            "tags": []
          },
          "execution_count": 6
        }
      ]
    },
    {
      "cell_type": "code",
      "metadata": {
        "colab": {
          "base_uri": "https://localhost:8080/",
          "height": 419
        },
        "id": "TwMx_YvDxCAe",
        "outputId": "7013348a-811e-4259-e0ad-f2d075cf06f8"
      },
      "source": [
        "df['length'] = df['text'].apply(lambda x: len(word_tokenize(x)))\n",
        "df"
      ],
      "execution_count": null,
      "outputs": [
        {
          "output_type": "execute_result",
          "data": {
            "text/html": [
              "<div>\n",
              "<style scoped>\n",
              "    .dataframe tbody tr th:only-of-type {\n",
              "        vertical-align: middle;\n",
              "    }\n",
              "\n",
              "    .dataframe tbody tr th {\n",
              "        vertical-align: top;\n",
              "    }\n",
              "\n",
              "    .dataframe thead th {\n",
              "        text-align: right;\n",
              "    }\n",
              "</style>\n",
              "<table border=\"1\" class=\"dataframe\">\n",
              "  <thead>\n",
              "    <tr style=\"text-align: right;\">\n",
              "      <th></th>\n",
              "      <th>label</th>\n",
              "      <th>text</th>\n",
              "      <th>length</th>\n",
              "    </tr>\n",
              "  </thead>\n",
              "  <tbody>\n",
              "    <tr>\n",
              "      <th>0</th>\n",
              "      <td>0\\n</td>\n",
              "      <td>@user nice new signage. Are you not concerned ...</td>\n",
              "      <td>18</td>\n",
              "    </tr>\n",
              "    <tr>\n",
              "      <th>1</th>\n",
              "      <td>1\\n</td>\n",
              "      <td>A woman who you fucked multiple times saying y...</td>\n",
              "      <td>21</td>\n",
              "    </tr>\n",
              "    <tr>\n",
              "      <th>2</th>\n",
              "      <td>1\\n</td>\n",
              "      <td>@user @user real talk do you have eyes or were...</td>\n",
              "      <td>19</td>\n",
              "    </tr>\n",
              "    <tr>\n",
              "      <th>3</th>\n",
              "      <td>1\\n</td>\n",
              "      <td>your girlfriend lookin at me like a groupie in...</td>\n",
              "      <td>12</td>\n",
              "    </tr>\n",
              "    <tr>\n",
              "      <th>4</th>\n",
              "      <td>0\\n</td>\n",
              "      <td>Hysterical woman like @user \\n</td>\n",
              "      <td>5</td>\n",
              "    </tr>\n",
              "    <tr>\n",
              "      <th>...</th>\n",
              "      <td>...</td>\n",
              "      <td>...</td>\n",
              "      <td>...</td>\n",
              "    </tr>\n",
              "    <tr>\n",
              "      <th>12965</th>\n",
              "      <td>0\\n</td>\n",
              "      <td>@user Calling them #IllegalAliens is heartless...</td>\n",
              "      <td>19</td>\n",
              "    </tr>\n",
              "    <tr>\n",
              "      <th>12966</th>\n",
              "      <td>0\\n</td>\n",
              "      <td>Silly Killary WANNABE !! And @user numbers JUS...</td>\n",
              "      <td>22</td>\n",
              "    </tr>\n",
              "    <tr>\n",
              "      <th>12967</th>\n",
              "      <td>0\\n</td>\n",
              "      <td>@user @user @user @user @user @user @user @use...</td>\n",
              "      <td>73</td>\n",
              "    </tr>\n",
              "    <tr>\n",
              "      <th>12968</th>\n",
              "      <td>1\\n</td>\n",
              "      <td>@user StopImmigration \\n</td>\n",
              "      <td>3</td>\n",
              "    </tr>\n",
              "    <tr>\n",
              "      <th>12969</th>\n",
              "      <td>1\\n</td>\n",
              "      <td>That bitch on the spoiled whore list   Thought...</td>\n",
              "      <td>16</td>\n",
              "    </tr>\n",
              "  </tbody>\n",
              "</table>\n",
              "<p>12970 rows × 3 columns</p>\n",
              "</div>"
            ],
            "text/plain": [
              "      label                                               text  length\n",
              "0       0\\n  @user nice new signage. Are you not concerned ...      18\n",
              "1       1\\n  A woman who you fucked multiple times saying y...      21\n",
              "2       1\\n  @user @user real talk do you have eyes or were...      19\n",
              "3       1\\n  your girlfriend lookin at me like a groupie in...      12\n",
              "4       0\\n                     Hysterical woman like @user \\n       5\n",
              "...     ...                                                ...     ...\n",
              "12965   0\\n  @user Calling them #IllegalAliens is heartless...      19\n",
              "12966   0\\n  Silly Killary WANNABE !! And @user numbers JUS...      22\n",
              "12967   0\\n  @user @user @user @user @user @user @user @use...      73\n",
              "12968   1\\n                           @user StopImmigration \\n       3\n",
              "12969   1\\n  That bitch on the spoiled whore list   Thought...      16\n",
              "\n",
              "[12970 rows x 3 columns]"
            ]
          },
          "metadata": {
            "tags": []
          },
          "execution_count": 7
        }
      ]
    },
    {
      "cell_type": "code",
      "metadata": {
        "colab": {
          "base_uri": "https://localhost:8080/"
        },
        "id": "fyfE-Qk6xkYG",
        "outputId": "29e1258a-06d3-48ce-ae50-a33c92a2918b"
      },
      "source": [
        "np.mean(df['length'][:len(train_text)].tolist())"
      ],
      "execution_count": null,
      "outputs": [
        {
          "output_type": "execute_result",
          "data": {
            "text/plain": [
              "25.081777777777777"
            ]
          },
          "metadata": {
            "tags": []
          },
          "execution_count": 8
        }
      ]
    },
    {
      "cell_type": "code",
      "metadata": {
        "colab": {
          "base_uri": "https://localhost:8080/",
          "height": 315
        },
        "id": "Y-Nqdc-Sd5c6",
        "outputId": "df0795d3-419f-4379-b148-67fb8669d268"
      },
      "source": [
        "# Show distribution of classes\n",
        "df_class = df.groupby('label').size().reset_index(name='counts')\n",
        "print(df_class)\n",
        "\n",
        "labels = class_labels\n",
        "sizes = df_class['counts'].tolist()\n",
        "plt.title(f\"Distribution of classes of {task} dataset\")\n",
        "plt.pie(sizes, labels=labels, autopct='%1.1f%%', counterclock=False, startangle=90)\n",
        "plt.axis('equal')\n",
        "plt.show()"
      ],
      "execution_count": null,
      "outputs": [
        {
          "output_type": "stream",
          "text": [
            "  label  counts\n",
            "0   0\\n    7508\n",
            "1   1\\n    5462\n"
          ],
          "name": "stdout"
        },
        {
          "output_type": "display_data",
          "data": {
            "image/png": "[encoded data removed]",
            "text/plain": [
              "<Figure size 432x288 with 1 Axes>"
            ]
          },
          "metadata": {
            "tags": []
          }
        }
      ]
    },
    {
      "cell_type": "markdown",
      "metadata": {
        "id": "s7YigPkQdI_C"
      },
      "source": [
        "# Pre-processing"
      ]
    },
    {
      "cell_type": "code",
      "metadata": {
        "id": "ljSF5Pe0kG67"
      },
      "source": [
        "# Cleaning the data\n",
        "df['label'] = df['label'].apply(lambda x: re.sub('\\n','', x))\n",
        "df['text'] = df['text'].apply(lambda x: re.sub('\\n','', x))\n",
        "# Lowercase the words\n",
        "df['cleaned'] = df['text'].apply(lambda x: x.lower())\n",
        "# Remove digits and words containing digits\n",
        "df['cleaned'] = df['cleaned'].apply(lambda x: re.sub('\\w*\\d\\w*','', x))\n",
        "# Remove Punctuations\n",
        "df['cleaned'] = df['cleaned'].apply(lambda x: re.sub('[%s]' % re.escape(string.punctuation), '', x))\n",
        "# Remove extra spaces\n",
        "df['cleaned'] = df['cleaned'].apply(lambda x: re.sub(' +',' ',x))"
      ],
      "execution_count": null,
      "outputs": []
    },
    {
      "cell_type": "code",
      "metadata": {
        "id": "3dRTHyaIfoRD"
      },
      "source": [
        "# Remove stop words\n",
        "stop_words = set(nltk.corpus.stopwords.words(\"english\"))\n",
        "df['cleaned'] = df['cleaned'].apply(lambda x: ' '.join([token for token in list(word_tokenize(x)) if not token in stop_words]))"
      ],
      "execution_count": null,
      "outputs": []
    },
    {
      "cell_type": "code",
      "metadata": {
        "colab": {
          "base_uri": "https://localhost:8080/"
        },
        "id": "UxF1XqXqvCO8",
        "outputId": "4c19e1cf-ab37-47cc-de00-4b0b1c5b40c4"
      },
      "source": [
        "%%time\n",
        "import spacy\n",
        "nlp = spacy.load('en_core_web_sm',disable=['parser', 'ner'])\n",
        "\n",
        "# Lemmatization with stop words removal\n",
        "df['lemmatized']=df['cleaned'].apply(lambda x: ' '.join([token.lemma_ for token in list(nlp(x)) if (token.is_stop==False)]))\n",
        "\n",
        "# Remove stop words again\n",
        "df['lemmatized'] = df['lemmatized'].apply(lambda x: ' '.join([token for token in list(word_tokenize(x)) if not token in stop_words]))\n",
        "\n",
        "df"
      ],
      "execution_count": null,
      "outputs": [
        {
          "output_type": "stream",
          "text": [
            "CPU times: user 37min 18s, sys: 16.5 s, total: 37min 35s\n",
            "Wall time: 37min 41s\n"
          ],
          "name": "stdout"
        }
      ]
    },
    {
      "cell_type": "markdown",
      "metadata": {
        "id": "1QLfmwZli4vC"
      },
      "source": [
        "# Experiment"
      ]
    },
    {
      "cell_type": "code",
      "metadata": {
        "id": "zszD-CVT3Sfk"
      },
      "source": [
        "df['lemmatized'] = df['lemmatized'].astype(str)\n",
        "train_text_list = df['lemmatized'][:len(train_text)].tolist()\n",
        "val_text_list = df['lemmatized'][len(train_text):len(train_text) + len(val_text)].tolist()\n",
        "test_text_list = df['lemmatized'][len(train_text) + len(val_text):].tolist()\n",
        "\n",
        "df['label'] = df['label'].astype(int)\n",
        "train_label_list = df['label'][:len(train_text)].tolist()\n",
        "val_label_list = df['label'][len(train_text):len(train_text) + len(val_text)].tolist()\n",
        "test_label_list = df['label'][len(train_text) + len(val_text):].tolist()"
      ],
      "execution_count": null,
      "outputs": []
    },
    {
      "cell_type": "code",
      "metadata": {
        "colab": {
          "base_uri": "https://localhost:8080/"
        },
        "id": "M468Ops3sqck",
        "outputId": "44931572-9bec-49d9-bcc5-8de94b1c6f0b"
      },
      "source": [
        "%%time\n",
        "# Creating feature vector\n",
        "# Most frequently 3000 word is selected as the features\n",
        "from sklearn.feature_extraction.text import CountVectorizer\n",
        "vectorizer = CountVectorizer(analyzer='word', ngram_range=(1, 1), max_features=3000)\n",
        "\n",
        "# Only training set will be used to obtain features\n",
        "train_set_vector = vectorizer.fit_transform(train_text_list)\n",
        "val_set_vector = vectorizer.transform(val_text_list)\n",
        "test_set_vector = vectorizer.transform(test_text_list)\n",
        "\n",
        "train_set_label = [label for label in train_label_list]\n",
        "val_set_label = [label for label in val_label_list]\n",
        "test_set_label = [label for label in test_label_list]"
      ],
      "execution_count": null,
      "outputs": [
        {
          "output_type": "stream",
          "text": [
            "CPU times: user 203 ms, sys: 7.01 ms, total: 210 ms\n",
            "Wall time: 219 ms\n"
          ],
          "name": "stdout"
        }
      ]
    },
    {
      "cell_type": "code",
      "metadata": {
        "id": "4Sf4xeoXbVw6",
        "colab": {
          "base_uri": "https://localhost:8080/"
        },
        "outputId": "11399c6e-5136-4959-b50b-7b51c51fc5be"
      },
      "source": [
        "%%time\n",
        "# Creating feature tensor\n",
        "# Most frequently 3000 word is selected as the features\n",
        "from keras.preprocessing.text import Tokenizer\n",
        "from keras.preprocessing import sequence\n",
        "max_features = 3000\n",
        "maxlen = 30\n",
        "tokenizer = Tokenizer(num_words=3000)\n",
        "\n",
        "# Only training set will be used to obtain features\n",
        "tokenizer.fit_on_texts(train_text_list)\n",
        "\n",
        "train_set_content = tokenizer.texts_to_sequences(train_text_list)\n",
        "train_set_content = sequence.pad_sequences(train_set_content, maxlen=maxlen)\n",
        "val_set_content = tokenizer.texts_to_sequences(val_text_list)\n",
        "val_set_content = sequence.pad_sequences(val_set_content, maxlen=maxlen)\n",
        "test_set_content = tokenizer.texts_to_sequences(test_text_list)\n",
        "test_set_content = sequence.pad_sequences(test_set_content, maxlen=maxlen)"
      ],
      "execution_count": null,
      "outputs": [
        {
          "output_type": "stream",
          "text": [
            "CPU times: user 434 ms, sys: 11.1 ms, total: 445 ms\n",
            "Wall time: 484 ms\n"
          ],
          "name": "stdout"
        }
      ]
    },
    {
      "cell_type": "code",
      "metadata": {
        "id": "rqE74qw0jMUh"
      },
      "source": [
        "import seaborn as sn\n",
        "import sklearn\n",
        "from sklearn import metrics\n",
        "from sklearn.metrics import confusion_matrix\n",
        "from sklearn.feature_extraction.text import CountVectorizer\n",
        "from sklearn.model_selection import GridSearchCV\n",
        "\n",
        "from sklearn.tree import DecisionTreeClassifier\n",
        "from sklearn.neighbors import KNeighborsClassifier\n",
        "from sklearn.svm import SVC\n",
        "from sklearn.naive_bayes import MultinomialNB\n",
        "from sklearn.dummy import DummyClassifier\n",
        "\n",
        "import keras\n",
        "from keras import layers\n",
        "from keras import models\n",
        "from keras.models import Sequential\n",
        "from keras.layers import Dense, Embedding, SimpleRNN, LSTM, GRU, Bidirectional, TimeDistributed\n",
        "from keras.wrappers.scikit_learn import KerasClassifier"
      ],
      "execution_count": null,
      "outputs": []
    },
    {
      "cell_type": "markdown",
      "metadata": {
        "id": "MqX3Hjs915At"
      },
      "source": [
        "# Conventional"
      ]
    },
    {
      "cell_type": "code",
      "metadata": {
        "colab": {
          "base_uri": "https://localhost:8080/"
        },
        "id": "Idtc-mf2jzmD",
        "outputId": "55476d6a-c6c4-4ad2-b036-b51fb17a1bac"
      },
      "source": [
        "%%time\n",
        "# Dummy (majority) is used as the classification model\n",
        "Dummyclf = DummyClassifier(strategy='most_frequent')\n",
        "# Train Dummy Classifier\n",
        "Dummyclf = Dummyclf.fit(train_set_vector, train_set_label)"
      ],
      "execution_count": null,
      "outputs": [
        {
          "output_type": "stream",
          "text": [
            "CPU times: user 2.27 ms, sys: 0 ns, total: 2.27 ms\n",
            "Wall time: 3.47 ms\n"
          ],
          "name": "stdout"
        }
      ]
    },
    {
      "cell_type": "code",
      "metadata": {
        "id": "Jl7pdZiRge-4",
        "colab": {
          "base_uri": "https://localhost:8080/"
        },
        "outputId": "b26cdef3-71db-4bf5-c60d-ed50cdd27925"
      },
      "source": [
        "%%time\n",
        "# Predict using test dataset\n",
        "predicted_label = Dummyclf.predict(test_set_vector)"
      ],
      "execution_count": null,
      "outputs": [
        {
          "output_type": "stream",
          "text": [
            "CPU times: user 194 µs, sys: 1e+03 ns, total: 195 µs\n",
            "Wall time: 203 µs\n"
          ],
          "name": "stdout"
        }
      ]
    },
    {
      "cell_type": "code",
      "metadata": {
        "colab": {
          "base_uri": "https://localhost:8080/"
        },
        "id": "v08GD6OUj7da",
        "outputId": "8cb1ac9f-140d-48e6-c042-468c12e549f2"
      },
      "source": [
        "print(\"Majority:\")\n",
        "#print('Best parameters: ', Dummyclf.best_params_)\n",
        "accuracy = metrics.accuracy_score(test_set_label, predicted_label)\n",
        "print('Accuracy Score:', accuracy)\n",
        "f1= metrics.f1_score(test_set_label, predicted_label, average='macro')\n",
        "print('Macro F1 Score:', f1)\n",
        "print('Clasification report:\\n', metrics.classification_report(test_set_label, predicted_label, zero_division=0))\n",
        "\n",
        "cm = confusion_matrix(test_set_label, predicted_label)\n",
        "df_cm = pd.DataFrame(cm, class_labels, class_labels)\n",
        "sn.set(font_scale=1.4) # for label size\n",
        "sn.heatmap(df_cm, annot=True, fmt=\"d\", annot_kws={\"size\": 16}) # font size\n",
        "plt.title(f\"Majority for {task} dataset\")\n",
        "plt.xlabel('predicted class')\n",
        "plt.ylabel('ground truth')\n",
        "plt.show()"
      ],
      "execution_count": null,
      "outputs": [
        {
          "output_type": "stream",
          "text": [
            "Majority:\n",
            "Accuracy Score: 0.5784511784511784\n",
            "Macro F1 Score: 0.36646757679180886\n",
            "Clasification report:\n",
            "               precision    recall  f1-score   support\n",
            "\n",
            "           0       0.58      1.00      0.73      1718\n",
            "           1       0.00      0.00      0.00      1252\n",
            "\n",
            "    accuracy                           0.58      2970\n",
            "   macro avg       0.29      0.50      0.37      2970\n",
            "weighted avg       0.33      0.58      0.42      2970\n",
            "\n"
          ],
          "name": "stdout"
        },
        {
          "output_type": "display_data",
          "data": {
            "image/png": "[encoded data removed]",
            "text/plain": [
              "<Figure size 432x288 with 2 Axes>"
            ]
          },
          "metadata": {
            "tags": []
          }
        }
      ]
    },
    {
      "cell_type": "code",
      "metadata": {
        "colab": {
          "base_uri": "https://localhost:8080/"
        },
        "id": "RrVXeu1L4ett",
        "outputId": "be31497f-eff1-4faa-d031-e6144e31f794"
      },
      "source": [
        "%%time\n",
        "# Naive Bayes Classifier is used as the classification model\n",
        "NBclf = MultinomialNB(alpha=1.0, fit_prior=True)\n",
        "param_grid = {\n",
        "    # 'fit_prior' : [True, False],\n",
        "}\n",
        "NBclf = GridSearchCV(estimator=NBclf, param_grid=param_grid, n_jobs=-1)\n",
        "# Train Naive Bayes Classifier\n",
        "NBclf = NBclf.fit(train_set_vector, train_set_label)"
      ],
      "execution_count": null,
      "outputs": [
        {
          "output_type": "stream",
          "text": [
            "CPU times: user 205 ms, sys: 63 ms, total: 268 ms\n",
            "Wall time: 1.19 s\n"
          ],
          "name": "stdout"
        }
      ]
    },
    {
      "cell_type": "code",
      "metadata": {
        "id": "wZrT9AErgjFO",
        "colab": {
          "base_uri": "https://localhost:8080/"
        },
        "outputId": "42ab26d2-807c-4c25-9fac-28e44771d9b0"
      },
      "source": [
        "%%time\n",
        "# Predict using test dataset\n",
        "predicted_label = NBclf.predict(test_set_vector)"
      ],
      "execution_count": null,
      "outputs": [
        {
          "output_type": "stream",
          "text": [
            "CPU times: user 996 µs, sys: 1.01 ms, total: 2.01 ms\n",
            "Wall time: 1.45 ms\n"
          ],
          "name": "stdout"
        }
      ]
    },
    {
      "cell_type": "code",
      "metadata": {
        "colab": {
          "base_uri": "https://localhost:8080/"
        },
        "id": "f0NDIo_MiaKM",
        "outputId": "c4edd91a-9235-46cd-d85e-46c0030b12dd"
      },
      "source": [
        "print(\"Naive Bayes:\")\n",
        "print('Best parameters: ', NBclf.best_params_)\n",
        "accuracy = metrics.accuracy_score(test_set_label, predicted_label)\n",
        "print('Accuracy Score:', accuracy)\n",
        "f1= metrics.f1_score(test_set_label, predicted_label, average='macro')\n",
        "print('Macro F1 Score:', f1)\n",
        "print('Clasification report:\\n', metrics.classification_report(test_set_label, predicted_label))\n",
        "\n",
        "cm = confusion_matrix(test_set_label, predicted_label)\n",
        "df_cm = pd.DataFrame(cm, class_labels, class_labels)\n",
        "sn.set(font_scale=1.4) # for label size\n",
        "sn.heatmap(df_cm, annot=True, fmt=\"d\", annot_kws={\"size\": 16}) # font size\n",
        "plt.title(f\"Naive Bayes Classifier for {task} dataset\")\n",
        "plt.xlabel('predicted class')\n",
        "plt.ylabel('ground truth')\n",
        "plt.show()"
      ],
      "execution_count": null,
      "outputs": [
        {
          "output_type": "stream",
          "text": [
            "Naive Bayes:\n",
            "Best parameters:  {}\n",
            "Accuracy Score: 0.47474747474747475\n",
            "Macro F1 Score: 0.4148817943018792\n",
            "Clasification report:\n",
            "               precision    recall  f1-score   support\n",
            "\n",
            "           0       0.76      0.13      0.23      1718\n",
            "           1       0.44      0.94      0.60      1252\n",
            "\n",
            "    accuracy                           0.47      2970\n",
            "   macro avg       0.60      0.54      0.41      2970\n",
            "weighted avg       0.63      0.47      0.39      2970\n",
            "\n"
          ],
          "name": "stdout"
        },
        {
          "output_type": "display_data",
          "data": {
            "image/png": "[encoded data removed]",
            "text/plain": [
              "<Figure size 432x288 with 2 Axes>"
            ]
          },
          "metadata": {
            "tags": []
          }
        }
      ]
    },
    {
      "cell_type": "code",
      "metadata": {
        "colab": {
          "base_uri": "https://localhost:8080/"
        },
        "id": "HmDdIsqI45F9",
        "outputId": "23749138-97f5-4245-b113-3b383e983ef4"
      },
      "source": [
        "%%time\n",
        "# Decision Tree is used as the classification model\n",
        "DTclf = DecisionTreeClassifier(criterion=\"entropy\", min_samples_split=10)\n",
        "param_grid = {\n",
        "    # 'criterion' : [\"entropy\", \"gini\"],\n",
        "    # 'max_depth' : np.arange(10, 21, 1),\n",
        "    # 'min_samples_split' : np.arange(10, 21, 1),\n",
        "}\n",
        "DTclf = GridSearchCV(estimator=DTclf, param_grid=param_grid, n_jobs=-1)\n",
        "# Train Decision Tree Classifier\n",
        "DTclf = DTclf.fit(train_set_vector, train_set_label)"
      ],
      "execution_count": null,
      "outputs": [
        {
          "output_type": "stream",
          "text": [
            "CPU times: user 914 ms, sys: 3.98 ms, total: 918 ms\n",
            "Wall time: 3.11 s\n"
          ],
          "name": "stdout"
        }
      ]
    },
    {
      "cell_type": "code",
      "metadata": {
        "id": "Ca4ltaL-gmVv",
        "colab": {
          "base_uri": "https://localhost:8080/"
        },
        "outputId": "15526ffe-a5a6-4b7d-9125-270aa7ba4e82"
      },
      "source": [
        "%%time\n",
        "# Predict using test dataset\n",
        "predicted_label = DTclf.predict(test_set_vector)"
      ],
      "execution_count": null,
      "outputs": [
        {
          "output_type": "stream",
          "text": [
            "CPU times: user 1.8 ms, sys: 0 ns, total: 1.8 ms\n",
            "Wall time: 1.98 ms\n"
          ],
          "name": "stdout"
        }
      ]
    },
    {
      "cell_type": "code",
      "metadata": {
        "colab": {
          "base_uri": "https://localhost:8080/"
        },
        "id": "WN6AY7YT1Hgl",
        "outputId": "23aef366-36a3-4b1b-8aec-98c1788d8b42"
      },
      "source": [
        "print(\"Decision Tree:\")\n",
        "print('Best parameters: ', DTclf.best_params_)\n",
        "accuracy = metrics.accuracy_score(test_set_label, predicted_label)\n",
        "print('Accuracy Score:', accuracy)\n",
        "f1= metrics.f1_score(test_set_label, predicted_label, average='macro')\n",
        "print('Macro F1 Score:', f1)\n",
        "print('Clasification report:\\n', metrics.classification_report(test_set_label, predicted_label))\n",
        "\n",
        "cm = confusion_matrix(test_set_label, predicted_label)\n",
        "df_cm = pd.DataFrame(cm, class_labels, class_labels)\n",
        "sn.set(font_scale=1.4) # for label size\n",
        "sn.heatmap(df_cm, annot=True, fmt=\"d\", annot_kws={\"size\": 16}) # font size\n",
        "plt.title(f\"Decision Tree for {task} dataset\")\n",
        "plt.xlabel('predicted class')\n",
        "plt.ylabel('ground truth')\n",
        "plt.show()"
      ],
      "execution_count": null,
      "outputs": [
        {
          "output_type": "stream",
          "text": [
            "Decision Tree:\n",
            "Best parameters:  {}\n",
            "Accuracy Score: 0.4872053872053872\n",
            "Macro F1 Score: 0.4594496085132226\n",
            "Clasification report:\n",
            "               precision    recall  f1-score   support\n",
            "\n",
            "           0       0.67      0.23      0.34      1718\n",
            "           1       0.44      0.85      0.58      1252\n",
            "\n",
            "    accuracy                           0.49      2970\n",
            "   macro avg       0.56      0.54      0.46      2970\n",
            "weighted avg       0.57      0.49      0.44      2970\n",
            "\n"
          ],
          "name": "stdout"
        },
        {
          "output_type": "display_data",
          "data": {
            "image/png": "[encoded data removed]",
            "text/plain": [
              "<Figure size 432x288 with 2 Axes>"
            ]
          },
          "metadata": {
            "tags": []
          }
        }
      ]
    },
    {
      "cell_type": "code",
      "metadata": {
        "colab": {
          "base_uri": "https://localhost:8080/"
        },
        "id": "j_dvZf215G5L",
        "outputId": "fdcb2dec-b6e8-4442-8ceb-74d4003c7531"
      },
      "source": [
        "%%time\n",
        "# K-Nearest Neighbors is used as the classification model\n",
        "KNNclf = KNeighborsClassifier(weights=\"distance\", p = 2, n_neighbors=5) #euclidean distance\n",
        "param_grid = {\n",
        "        #'n_neighbors': np.arange(1, 11, 1),\n",
        "        #'weights': [\"uniform\", \"distance\"],\n",
        "}\n",
        "KNNclf = GridSearchCV(estimator=KNNclf, param_grid=param_grid, n_jobs=-1)\n",
        "# Train K-Nearest Neighbors Classifier\n",
        "KNNclf = KNNclf.fit(train_set_vector, train_set_label)"
      ],
      "execution_count": null,
      "outputs": [
        {
          "output_type": "stream",
          "text": [
            "CPU times: user 193 ms, sys: 2 ms, total: 195 ms\n",
            "Wall time: 1.59 s\n"
          ],
          "name": "stdout"
        }
      ]
    },
    {
      "cell_type": "code",
      "metadata": {
        "id": "yJicd45mgpF_",
        "colab": {
          "base_uri": "https://localhost:8080/"
        },
        "outputId": "57b80a73-a0b3-4b44-c710-811c0686966a"
      },
      "source": [
        "%%time\n",
        "# Predict using test dataset\n",
        "predicted_label = KNNclf.predict(test_set_vector)"
      ],
      "execution_count": null,
      "outputs": [
        {
          "output_type": "stream",
          "text": [
            "CPU times: user 675 ms, sys: 218 ms, total: 893 ms\n",
            "Wall time: 897 ms\n"
          ],
          "name": "stdout"
        }
      ]
    },
    {
      "cell_type": "code",
      "metadata": {
        "colab": {
          "base_uri": "https://localhost:8080/"
        },
        "id": "_VYG42BX3GbY",
        "outputId": "2c30b680-95ef-4df6-cf51-169ed19eec91"
      },
      "source": [
        "print(\"K-Nearest Neighbors:\")\n",
        "print('Best parameters: ', KNNclf.best_params_)\n",
        "accuracy = metrics.accuracy_score(test_set_label, predicted_label)\n",
        "print('Accuracy Score:', accuracy)\n",
        "f1= metrics.f1_score(test_set_label, predicted_label, average='macro')\n",
        "print('Macro F1 Score:', f1)\n",
        "print('Clasification report:\\n', metrics.classification_report(test_set_label, predicted_label))\n",
        "\n",
        "cm = confusion_matrix(test_set_label, predicted_label)\n",
        "df_cm = pd.DataFrame(cm, class_labels, class_labels)\n",
        "sn.set(font_scale=1.4) # for label size\n",
        "sn.heatmap(df_cm, annot=True, fmt=\"d\", annot_kws={\"size\": 16}) # font size\n",
        "plt.title(f\"KNN for {task} dataset\")\n",
        "plt.xlabel('predicted class')\n",
        "plt.ylabel('ground truth')\n",
        "plt.show()"
      ],
      "execution_count": null,
      "outputs": [
        {
          "output_type": "stream",
          "text": [
            "K-Nearest Neighbors:\n",
            "Best parameters:  {}\n",
            "Accuracy Score: 0.5713804713804714\n",
            "Macro F1 Score: 0.5698871764535239\n",
            "Clasification report:\n",
            "               precision    recall  f1-score   support\n",
            "\n",
            "           0       0.66      0.54      0.60      1718\n",
            "           1       0.49      0.61      0.54      1252\n",
            "\n",
            "    accuracy                           0.57      2970\n",
            "   macro avg       0.57      0.58      0.57      2970\n",
            "weighted avg       0.59      0.57      0.57      2970\n",
            "\n"
          ],
          "name": "stdout"
        },
        {
          "output_type": "display_data",
          "data": {
            "image/png": "[encoded data removed]",
            "text/plain": [
              "<Figure size 432x288 with 2 Axes>"
            ]
          },
          "metadata": {
            "tags": []
          }
        }
      ]
    },
    {
      "cell_type": "code",
      "metadata": {
        "colab": {
          "base_uri": "https://localhost:8080/"
        },
        "id": "5Z4Otfpx5LiT",
        "outputId": "40e20b84-70c1-46e4-dc8b-65274e0c2cac"
      },
      "source": [
        "%%time\n",
        "# Support Vector Machine is used as the classification model\n",
        "SVMclf = SVC(kernel='rbf', C=1, gamma=0.1)\n",
        "param_grid = {\n",
        "    #'kernel': [\"linear\", \"poly\", \"rbf\"],\n",
        "    #'C' : np.logspace(-1, 3, 5),\n",
        "    #'gamma' : np.logspace(-4, -0, 5),\n",
        "}\n",
        "SVMclf = GridSearchCV(estimator=SVMclf, param_grid=param_grid, n_jobs=-1)\n",
        "# Train Support Vector Machine Classifier\n",
        "SVMclf = SVMclf.fit(train_set_vector, train_set_label)"
      ],
      "execution_count": null,
      "outputs": [
        {
          "output_type": "stream",
          "text": [
            "CPU times: user 9.01 s, sys: 62.9 ms, total: 9.07 s\n",
            "Wall time: 34.8 s\n"
          ],
          "name": "stdout"
        }
      ]
    },
    {
      "cell_type": "code",
      "metadata": {
        "id": "K0ciSknEgt2w",
        "colab": {
          "base_uri": "https://localhost:8080/"
        },
        "outputId": "25f54dc5-ec95-4b4d-aef5-0d1b398b0b42"
      },
      "source": [
        "%%time\n",
        "# Predict using test dataset\n",
        "predicted_label = SVMclf.predict(test_set_vector)"
      ],
      "execution_count": null,
      "outputs": [
        {
          "output_type": "stream",
          "text": [
            "CPU times: user 2.25 s, sys: 5.02 ms, total: 2.25 s\n",
            "Wall time: 2.26 s\n"
          ],
          "name": "stdout"
        }
      ]
    },
    {
      "cell_type": "code",
      "metadata": {
        "colab": {
          "base_uri": "https://localhost:8080/"
        },
        "id": "XdGl5VcdjfiL",
        "outputId": "4835ae84-a404-4f47-934b-f167b2e58180"
      },
      "source": [
        "print(\"Support Vector Machine:\")\n",
        "print('Best parameters: ', SVMclf.best_params_)\n",
        "accuracy = metrics.accuracy_score(test_set_label, predicted_label)\n",
        "print('Accuracy Score:', accuracy)\n",
        "f1= metrics.f1_score(test_set_label, predicted_label, average='macro')\n",
        "print('Macro F1 Score:', f1)\n",
        "print('Clasification report:\\n', metrics.classification_report(test_set_label, predicted_label))\n",
        "\n",
        "cm = confusion_matrix(test_set_label, predicted_label)\n",
        "df_cm = pd.DataFrame(cm, class_labels, class_labels)\n",
        "sn.set(font_scale=1.4) # for label size\n",
        "sn.heatmap(df_cm, annot=True, fmt=\"d\", annot_kws={\"size\": 16}) # font size\n",
        "plt.title(f\"SVM for {task} dataset\")\n",
        "plt.xlabel('predicted class')\n",
        "plt.ylabel('ground truth')\n",
        "plt.show()"
      ],
      "execution_count": null,
      "outputs": [
        {
          "output_type": "stream",
          "text": [
            "Support Vector Machine:\n",
            "Best parameters:  {}\n",
            "Accuracy Score: 0.4808080808080808\n",
            "Macro F1 Score: 0.44524284480114584\n",
            "Clasification report:\n",
            "               precision    recall  f1-score   support\n",
            "\n",
            "           0       0.68      0.20      0.30      1718\n",
            "           1       0.44      0.87      0.59      1252\n",
            "\n",
            "    accuracy                           0.48      2970\n",
            "   macro avg       0.56      0.53      0.45      2970\n",
            "weighted avg       0.58      0.48      0.42      2970\n",
            "\n"
          ],
          "name": "stdout"
        },
        {
          "output_type": "display_data",
          "data": {
            "image/png": "[encoded data removed]",
            "text/plain": [
              "<Figure size 432x288 with 2 Axes>"
            ]
          },
          "metadata": {
            "tags": []
          }
        }
      ]
    },
    {
      "cell_type": "markdown",
      "metadata": {
        "id": "w4zMCtbs0Ag6"
      },
      "source": [
        "# Deep Learning"
      ]
    },
    {
      "cell_type": "code",
      "metadata": {
        "colab": {
          "base_uri": "https://localhost:8080/"
        },
        "id": "F8V2TxO3Tu4i",
        "outputId": "7b92d7df-4261-4fb5-8c09-390ed7242772"
      },
      "source": [
        "%%time\n",
        "# SimpleANN is used as the classification model\n",
        "model = models.Sequential()\n",
        "model.add(Dense(32, input_shape=(30,)))\n",
        "model.add(Dense(1, activation='sigmoid'))\n",
        "model.summary()\n",
        "model.compile(optimizer='rmsprop', loss='binary_crossentropy', metrics=['acc'])\n",
        "# Train SimpleANN Classifier\n",
        "history = model.fit(train_set_content, np.array(train_set_label), \n",
        "                    epochs=5,\n",
        "                    batch_size=128,\n",
        "                    #validation_split=0.2,\n",
        "                    validation_data=(val_set_content, np.array(val_set_label)),\n",
        "                    )"
      ],
      "execution_count": null,
      "outputs": [
        {
          "output_type": "stream",
          "text": [
            "Model: \"sequential\"\n",
            "_________________________________________________________________\n",
            "Layer (type)                 Output Shape              Param #   \n",
            "=================================================================\n",
            "dense (Dense)                (None, 32)                992       \n",
            "_________________________________________________________________\n",
            "dense_1 (Dense)              (None, 1)                 33        \n",
            "=================================================================\n",
            "Total params: 1,025\n",
            "Trainable params: 1,025\n",
            "Non-trainable params: 0\n",
            "_________________________________________________________________\n",
            "Epoch 1/5\n",
            "71/71 [==============================] - 1s 6ms/step - loss: 129.1809 - acc: 0.5045 - val_loss: 6.8521 - val_acc: 0.4930\n",
            "Epoch 2/5\n",
            "71/71 [==============================] - 0s 3ms/step - loss: 8.3057 - acc: 0.5304 - val_loss: 14.5254 - val_acc: 0.4340\n",
            "Epoch 3/5\n",
            "71/71 [==============================] - 0s 3ms/step - loss: 7.9154 - acc: 0.5219 - val_loss: 6.7683 - val_acc: 0.4290\n",
            "Epoch 4/5\n",
            "71/71 [==============================] - 0s 3ms/step - loss: 7.6784 - acc: 0.5064 - val_loss: 19.7559 - val_acc: 0.5710\n",
            "Epoch 5/5\n",
            "71/71 [==============================] - 0s 3ms/step - loss: 7.9443 - acc: 0.5134 - val_loss: 7.2652 - val_acc: 0.5660\n",
            "CPU times: user 1.9 s, sys: 112 ms, total: 2.01 s\n",
            "Wall time: 2.43 s\n"
          ],
          "name": "stdout"
        }
      ]
    },
    {
      "cell_type": "code",
      "metadata": {
        "colab": {
          "base_uri": "https://localhost:8080/"
        },
        "id": "GCXE92ugT8MH",
        "outputId": "9266983e-03b3-4e70-8b92-e746e79474d3"
      },
      "source": [
        "%%time\n",
        "# Predict using test dataset\n",
        "#model.evaluate(val_set_content, np.array(val_set_label))\n",
        "predicted_label = model.predict(test_set_content)\n",
        "predicted_label = np.around(predicted_label)"
      ],
      "execution_count": null,
      "outputs": [
        {
          "output_type": "stream",
          "text": [
            "CPU times: user 163 ms, sys: 10.1 ms, total: 173 ms\n",
            "Wall time: 163 ms\n"
          ],
          "name": "stdout"
        }
      ]
    },
    {
      "cell_type": "code",
      "metadata": {
        "colab": {
          "base_uri": "https://localhost:8080/",
          "height": 536
        },
        "id": "kWRNqfbkT8VC",
        "outputId": "4c17d0c2-0da4-4ae2-d0b0-a05f81606e67"
      },
      "source": [
        "print(\"SimpleANN:\")\n",
        "accuracy = metrics.accuracy_score(test_set_label, predicted_label)\n",
        "print('Accuracy Score:', accuracy)\n",
        "f1= metrics.f1_score(test_set_label, predicted_label, average='macro')\n",
        "print('Macro F1 Score:', f1)\n",
        "print('Clasification report:\\n', metrics.classification_report(test_set_label, predicted_label))\n",
        "\n",
        "cm = confusion_matrix(test_set_label, predicted_label)\n",
        "df_cm = pd.DataFrame(cm, class_labels, class_labels)\n",
        "sn.set(font_scale=1.4) # for label size\n",
        "sn.heatmap(df_cm, annot=True, fmt=\"d\", annot_kws={\"size\": 16}) # font size\n",
        "plt.title(f\"SimpleANN for {task} dataset\")\n",
        "plt.xlabel('predicted class')\n",
        "plt.ylabel('ground truth')\n",
        "plt.show()"
      ],
      "execution_count": null,
      "outputs": [
        {
          "output_type": "stream",
          "text": [
            "SimpleANN:\n",
            "Accuracy Score: 0.5750841750841751\n",
            "Macro F1 Score: 0.3793109615419009\n",
            "Clasification report:\n",
            "               precision    recall  f1-score   support\n",
            "\n",
            "           0       0.58      0.98      0.73      1718\n",
            "           1       0.40      0.02      0.03      1252\n",
            "\n",
            "    accuracy                           0.58      2970\n",
            "   macro avg       0.49      0.50      0.38      2970\n",
            "weighted avg       0.50      0.58      0.43      2970\n",
            "\n"
          ],
          "name": "stdout"
        },
        {
          "output_type": "display_data",
          "data": {
            "image/png": "[encoded data removed]",
            "text/plain": [
              "<Figure size 432x288 with 2 Axes>"
            ]
          },
          "metadata": {
            "tags": []
          }
        }
      ]
    },
    {
      "cell_type": "code",
      "metadata": {
        "colab": {
          "base_uri": "https://localhost:8080/"
        },
        "id": "WEml0fPVUwGo",
        "outputId": "2dfb06c8-8606-4583-97cc-38a012756ff9"
      },
      "source": [
        "%%time\n",
        "# SimpleRNN is used as the classification model\n",
        "model = models.Sequential()\n",
        "model.add(Embedding(max_features, 32))\n",
        "model.add(SimpleRNN(32))\n",
        "model.add(layers.Dropout(0.1))\n",
        "model.add(Dense(1, activation='sigmoid'))\n",
        "model.summary()\n",
        "model.compile(optimizer='rmsprop', loss='binary_crossentropy', metrics=['acc'])\n",
        "# Train SimpleRNN Classifier\n",
        "history = model.fit(train_set_content, np.array(train_set_label), \n",
        "                    epochs=5,\n",
        "                    batch_size=128,\n",
        "                    #validation_split=0.2,\n",
        "                    validation_data=(val_set_content, np.array(val_set_label)),\n",
        "                    )"
      ],
      "execution_count": null,
      "outputs": [
        {
          "output_type": "stream",
          "text": [
            "Model: \"sequential_1\"\n",
            "_________________________________________________________________\n",
            "Layer (type)                 Output Shape              Param #   \n",
            "=================================================================\n",
            "embedding (Embedding)        (None, None, 32)          96000     \n",
            "_________________________________________________________________\n",
            "simple_rnn (SimpleRNN)       (None, 32)                2080      \n",
            "_________________________________________________________________\n",
            "dropout (Dropout)            (None, 32)                0         \n",
            "_________________________________________________________________\n",
            "dense_2 (Dense)              (None, 1)                 33        \n",
            "=================================================================\n",
            "Total params: 98,113\n",
            "Trainable params: 98,113\n",
            "Non-trainable params: 0\n",
            "_________________________________________________________________\n",
            "Epoch 1/5\n",
            "71/71 [==============================] - 2s 16ms/step - loss: 0.6632 - acc: 0.6044 - val_loss: 0.6395 - val_acc: 0.6330\n",
            "Epoch 2/5\n",
            "71/71 [==============================] - 1s 12ms/step - loss: 0.5100 - acc: 0.7688 - val_loss: 0.5651 - val_acc: 0.7050\n",
            "Epoch 3/5\n",
            "71/71 [==============================] - 1s 12ms/step - loss: 0.4062 - acc: 0.8196 - val_loss: 0.5747 - val_acc: 0.6950\n",
            "Epoch 4/5\n",
            "71/71 [==============================] - 1s 12ms/step - loss: 0.3383 - acc: 0.8602 - val_loss: 0.6140 - val_acc: 0.6850\n",
            "Epoch 5/5\n",
            "71/71 [==============================] - 1s 12ms/step - loss: 0.2775 - acc: 0.8890 - val_loss: 0.6745 - val_acc: 0.7000\n",
            "CPU times: user 7.55 s, sys: 293 ms, total: 7.84 s\n",
            "Wall time: 5.88 s\n"
          ],
          "name": "stdout"
        }
      ]
    },
    {
      "cell_type": "code",
      "metadata": {
        "colab": {
          "base_uri": "https://localhost:8080/"
        },
        "id": "P0WDmDfiU_eK",
        "outputId": "e2b5f247-8494-4588-ecf4-cc6fbeeaa142"
      },
      "source": [
        "%%time\n",
        "# Predict using test dataset\n",
        "#model.evaluate(val_set_content, np.array(val_set_label))\n",
        "predicted_label = model.predict(test_set_content)\n",
        "predicted_label = np.around(predicted_label)"
      ],
      "execution_count": null,
      "outputs": [
        {
          "output_type": "stream",
          "text": [
            "CPU times: user 405 ms, sys: 23.2 ms, total: 428 ms\n",
            "Wall time: 327 ms\n"
          ],
          "name": "stdout"
        }
      ]
    },
    {
      "cell_type": "code",
      "metadata": {
        "colab": {
          "base_uri": "https://localhost:8080/",
          "height": 536
        },
        "id": "vT-pc5EPU_kK",
        "outputId": "6072263b-b27d-4cf3-c264-f28ba78f81c6"
      },
      "source": [
        "print(\"SimpleRNN:\")\n",
        "accuracy = metrics.accuracy_score(test_set_label, predicted_label)\n",
        "print('Accuracy Score:', accuracy)\n",
        "f1= metrics.f1_score(test_set_label, predicted_label, average='macro')\n",
        "print('Macro F1 Score:', f1)\n",
        "print('Clasification report:\\n', metrics.classification_report(test_set_label, predicted_label))\n",
        "\n",
        "cm = confusion_matrix(test_set_label, predicted_label)\n",
        "df_cm = pd.DataFrame(cm, class_labels, class_labels)\n",
        "sn.set(font_scale=1.4) # for label size\n",
        "sn.heatmap(df_cm, annot=True, fmt=\"d\", annot_kws={\"size\": 16}) # font size\n",
        "plt.title(f\"SimpleRNN for {task} dataset\")\n",
        "plt.xlabel('predicted class')\n",
        "plt.ylabel('ground truth')\n",
        "plt.show()"
      ],
      "execution_count": null,
      "outputs": [
        {
          "output_type": "stream",
          "text": [
            "SimpleRNN:\n",
            "Accuracy Score: 0.5363636363636364\n",
            "Macro F1 Score: 0.526484107243154\n",
            "Clasification report:\n",
            "               precision    recall  f1-score   support\n",
            "\n",
            "           0       0.71      0.34      0.46      1718\n",
            "           1       0.47      0.81      0.59      1252\n",
            "\n",
            "    accuracy                           0.54      2970\n",
            "   macro avg       0.59      0.57      0.53      2970\n",
            "weighted avg       0.61      0.54      0.52      2970\n",
            "\n"
          ],
          "name": "stdout"
        },
        {
          "output_type": "display_data",
          "data": {
            "image/png": "[encoded data removed]",
            "text/plain": [
              "<Figure size 432x288 with 2 Axes>"
            ]
          },
          "metadata": {
            "tags": []
          }
        }
      ]
    },
    {
      "cell_type": "code",
      "metadata": {
        "colab": {
          "base_uri": "https://localhost:8080/"
        },
        "id": "hPXrfYGzofxB",
        "outputId": "9cda2a79-c7e5-4c82-81d0-a773c5310e98"
      },
      "source": [
        "%%time\n",
        "# LSTM is used as the classification model\n",
        "model = models.Sequential()\n",
        "model.add(Embedding(max_features, 32))\n",
        "model.add(LSTM(32))\n",
        "model.add(layers.Dropout(0.1))\n",
        "model.add(Dense(1, activation='sigmoid'))\n",
        "model.summary()\n",
        "model.compile(optimizer='rmsprop', loss='binary_crossentropy', metrics=['acc'])\n",
        "# Train LSTM Classifier\n",
        "history = model.fit(train_set_content, np.array(train_set_label), \n",
        "                    epochs=5,\n",
        "                    batch_size=128,\n",
        "                    #validation_split=0.2,\n",
        "                    validation_data=(val_set_content, np.array(val_set_label)),\n",
        "                    )"
      ],
      "execution_count": null,
      "outputs": [
        {
          "output_type": "stream",
          "text": [
            "Model: \"sequential_2\"\n",
            "_________________________________________________________________\n",
            "Layer (type)                 Output Shape              Param #   \n",
            "=================================================================\n",
            "embedding_1 (Embedding)      (None, None, 32)          96000     \n",
            "_________________________________________________________________\n",
            "lstm (LSTM)                  (None, 32)                8320      \n",
            "_________________________________________________________________\n",
            "dropout_1 (Dropout)          (None, 32)                0         \n",
            "_________________________________________________________________\n",
            "dense_3 (Dense)              (None, 1)                 33        \n",
            "=================================================================\n",
            "Total params: 104,353\n",
            "Trainable params: 104,353\n",
            "Non-trainable params: 0\n",
            "_________________________________________________________________\n",
            "Epoch 1/5\n",
            "71/71 [==============================] - 4s 31ms/step - loss: 0.6642 - acc: 0.5908 - val_loss: 0.5928 - val_acc: 0.6990\n",
            "Epoch 2/5\n",
            "71/71 [==============================] - 2s 23ms/step - loss: 0.5061 - acc: 0.7719 - val_loss: 0.5547 - val_acc: 0.7320\n",
            "Epoch 3/5\n",
            "71/71 [==============================] - 2s 23ms/step - loss: 0.4285 - acc: 0.8047 - val_loss: 0.5590 - val_acc: 0.7130\n",
            "Epoch 4/5\n",
            "71/71 [==============================] - 2s 24ms/step - loss: 0.3939 - acc: 0.8253 - val_loss: 0.5970 - val_acc: 0.7080\n",
            "Epoch 5/5\n",
            "71/71 [==============================] - 2s 24ms/step - loss: 0.3727 - acc: 0.8369 - val_loss: 0.5800 - val_acc: 0.7050\n",
            "CPU times: user 16.3 s, sys: 619 ms, total: 16.9 s\n",
            "Wall time: 11.5 s\n"
          ],
          "name": "stdout"
        }
      ]
    },
    {
      "cell_type": "code",
      "metadata": {
        "id": "qNCE07xp8HtF",
        "colab": {
          "base_uri": "https://localhost:8080/"
        },
        "outputId": "dd0c6f7f-955f-4154-9709-dc12ff645fed"
      },
      "source": [
        "%%time\n",
        "# Predict using test dataset\n",
        "#model.evaluate(val_set_content, np.array(val_set_label))\n",
        "predicted_label = model.predict(test_set_content)\n",
        "predicted_label = np.around(predicted_label)"
      ],
      "execution_count": null,
      "outputs": [
        {
          "output_type": "stream",
          "text": [
            "CPU times: user 880 ms, sys: 25.2 ms, total: 905 ms\n",
            "Wall time: 687 ms\n"
          ],
          "name": "stdout"
        }
      ]
    },
    {
      "cell_type": "code",
      "metadata": {
        "colab": {
          "base_uri": "https://localhost:8080/",
          "height": 536
        },
        "id": "u4NPfHHg-fiz",
        "outputId": "0617c0f2-4449-42be-d2f2-718b1864e48d"
      },
      "source": [
        "print(\"LSTM:\")\n",
        "accuracy = metrics.accuracy_score(test_set_label, predicted_label)\n",
        "print('Accuracy Score:', accuracy)\n",
        "f1= metrics.f1_score(test_set_label, predicted_label, average='macro')\n",
        "print('Macro F1 Score:', f1)\n",
        "print('Clasification report:\\n', metrics.classification_report(test_set_label, predicted_label))\n",
        "\n",
        "cm = confusion_matrix(test_set_label, predicted_label)\n",
        "df_cm = pd.DataFrame(cm, class_labels, class_labels)\n",
        "sn.set(font_scale=1.4) # for label size\n",
        "sn.heatmap(df_cm, annot=True, fmt=\"d\", annot_kws={\"size\": 16}) # font size\n",
        "plt.title(f\"LSTM for {task} dataset\")\n",
        "plt.xlabel('predicted class')\n",
        "plt.ylabel('ground truth')\n",
        "plt.show()"
      ],
      "execution_count": null,
      "outputs": [
        {
          "output_type": "stream",
          "text": [
            "LSTM:\n",
            "Accuracy Score: 0.4858585858585859\n",
            "Macro F1 Score: 0.4352598984456787\n",
            "Clasification report:\n",
            "               precision    recall  f1-score   support\n",
            "\n",
            "           0       0.76      0.16      0.27      1718\n",
            "           1       0.45      0.93      0.60      1252\n",
            "\n",
            "    accuracy                           0.49      2970\n",
            "   macro avg       0.61      0.55      0.44      2970\n",
            "weighted avg       0.63      0.49      0.41      2970\n",
            "\n"
          ],
          "name": "stdout"
        },
        {
          "output_type": "display_data",
          "data": {
            "image/png": "[encoded data removed]",
            "text/plain": [
              "<Figure size 432x288 with 2 Axes>"
            ]
          },
          "metadata": {
            "tags": []
          }
        }
      ]
    },
    {
      "cell_type": "code",
      "metadata": {
        "colab": {
          "base_uri": "https://localhost:8080/"
        },
        "id": "hCYp3yFcUYCo",
        "outputId": "448e67b6-d108-4904-aadd-a41a6c565d12"
      },
      "source": [
        "%%time\n",
        "# BiLSTM is used as the classification model\n",
        "model = models.Sequential()\n",
        "model.add(Embedding(max_features, 32))\n",
        "model.add(Bidirectional(LSTM(32)))\n",
        "model.add(layers.Dropout(0.1))\n",
        "model.add(Dense(1, activation='sigmoid'))\n",
        "model.summary()\n",
        "model.compile(optimizer='rmsprop', loss='binary_crossentropy', metrics=['acc'])\n",
        "# Train BiLSTM Classifier\n",
        "history = model.fit(train_set_content, np.array(train_set_label), \n",
        "                    epochs=5,\n",
        "                    batch_size=128,\n",
        "                    #validation_split=0.2,\n",
        "                    validation_data=(val_set_content, np.array(val_set_label)),\n",
        "                    )"
      ],
      "execution_count": null,
      "outputs": [
        {
          "output_type": "stream",
          "text": [
            "Model: \"sequential_3\"\n",
            "_________________________________________________________________\n",
            "Layer (type)                 Output Shape              Param #   \n",
            "=================================================================\n",
            "embedding_2 (Embedding)      (None, None, 32)          96000     \n",
            "_________________________________________________________________\n",
            "bidirectional (Bidirectional (None, 64)                16640     \n",
            "_________________________________________________________________\n",
            "dropout_2 (Dropout)          (None, 64)                0         \n",
            "_________________________________________________________________\n",
            "dense_4 (Dense)              (None, 1)                 65        \n",
            "=================================================================\n",
            "Total params: 112,705\n",
            "Trainable params: 112,705\n",
            "Non-trainable params: 0\n",
            "_________________________________________________________________\n",
            "Epoch 1/5\n",
            "71/71 [==============================] - 7s 50ms/step - loss: 0.6639 - acc: 0.5969 - val_loss: 0.6308 - val_acc: 0.6310\n",
            "Epoch 2/5\n",
            "71/71 [==============================] - 3s 36ms/step - loss: 0.4998 - acc: 0.7683 - val_loss: 0.5685 - val_acc: 0.7300\n",
            "Epoch 3/5\n",
            "71/71 [==============================] - 3s 36ms/step - loss: 0.4136 - acc: 0.8174 - val_loss: 0.5571 - val_acc: 0.7250\n",
            "Epoch 4/5\n",
            "71/71 [==============================] - 3s 36ms/step - loss: 0.3826 - acc: 0.8363 - val_loss: 0.5898 - val_acc: 0.7300\n",
            "Epoch 5/5\n",
            "71/71 [==============================] - 3s 36ms/step - loss: 0.3655 - acc: 0.8459 - val_loss: 0.5906 - val_acc: 0.7150\n",
            "CPU times: user 26.6 s, sys: 1.03 s, total: 27.6 s\n",
            "Wall time: 17.9 s\n"
          ],
          "name": "stdout"
        }
      ]
    },
    {
      "cell_type": "code",
      "metadata": {
        "colab": {
          "base_uri": "https://localhost:8080/"
        },
        "id": "IDJ5myr8UYtw",
        "outputId": "108f92a0-e00a-44a7-ccc0-f8b25f684c40"
      },
      "source": [
        "%%time\n",
        "# Predict using test dataset\n",
        "#model.evaluate(val_set_content, np.array(val_set_label))\n",
        "predicted_label = model.predict(test_set_content)\n",
        "predicted_label = np.around(predicted_label)"
      ],
      "execution_count": null,
      "outputs": [
        {
          "output_type": "stream",
          "text": [
            "CPU times: user 1.8 s, sys: 39.1 ms, total: 1.84 s\n",
            "Wall time: 1.5 s\n"
          ],
          "name": "stdout"
        }
      ]
    },
    {
      "cell_type": "code",
      "metadata": {
        "colab": {
          "base_uri": "https://localhost:8080/",
          "height": 536
        },
        "id": "8M6d4uMEUYyf",
        "outputId": "ea94ef4e-3a61-42da-8b37-ddfcfa6f359a"
      },
      "source": [
        "print(\"BiLSTM:\")\n",
        "accuracy = metrics.accuracy_score(test_set_label, predicted_label)\n",
        "print('Accuracy Score:', accuracy)\n",
        "f1= metrics.f1_score(test_set_label, predicted_label, average='macro')\n",
        "print('Macro F1 Score:', f1)\n",
        "print('Clasification report:\\n', metrics.classification_report(test_set_label, predicted_label))\n",
        "\n",
        "cm = confusion_matrix(test_set_label, predicted_label)\n",
        "df_cm = pd.DataFrame(cm, class_labels, class_labels)\n",
        "sn.set(font_scale=1.4) # for label size\n",
        "sn.heatmap(df_cm, annot=True, fmt=\"d\", annot_kws={\"size\": 16}) # font size\n",
        "plt.title(f\"BiLSTM for {task} dataset\")\n",
        "plt.xlabel('predicted class')\n",
        "plt.ylabel('ground truth')\n",
        "plt.show()"
      ],
      "execution_count": null,
      "outputs": [
        {
          "output_type": "stream",
          "text": [
            "BiLSTM:\n",
            "Accuracy Score: 0.5063973063973064\n",
            "Macro F1 Score: 0.47391429167971605\n",
            "Clasification report:\n",
            "               precision    recall  f1-score   support\n",
            "\n",
            "           0       0.75      0.22      0.34      1718\n",
            "           1       0.46      0.90      0.60      1252\n",
            "\n",
            "    accuracy                           0.51      2970\n",
            "   macro avg       0.60      0.56      0.47      2970\n",
            "weighted avg       0.62      0.51      0.45      2970\n",
            "\n"
          ],
          "name": "stdout"
        },
        {
          "output_type": "display_data",
          "data": {
            "image/png": "[encoded data removed]",
            "text/plain": [
              "<Figure size 432x288 with 2 Axes>"
            ]
          },
          "metadata": {
            "tags": []
          }
        }
      ]
    },
    {
      "cell_type": "code",
      "metadata": {
        "colab": {
          "base_uri": "https://localhost:8080/"
        },
        "id": "oRKAyPe2nz6h",
        "outputId": "312a1550-e598-4e7b-8b6b-68be1930692c"
      },
      "source": [
        "%%time\n",
        "# Hierarchical LSTM is used as the classification model\n",
        "model = models.Sequential()\n",
        "model.add(Embedding(max_features, 32))\n",
        "model.add(LSTM(32, return_sequences=True))\n",
        "model.add(LSTM(32, return_sequences=True))\n",
        "model.add(LSTM(32))\n",
        "model.add(layers.Dropout(0.1))\n",
        "model.add(Dense(1, activation='sigmoid'))\n",
        "model.summary()\n",
        "model.compile(optimizer='rmsprop', loss='binary_crossentropy', metrics=['acc'])\n",
        "# Train Hierarchical LSTM Classifier\n",
        "history = model.fit(train_set_content, np.array(train_set_label), \n",
        "                    epochs=5,\n",
        "                    batch_size=128,\n",
        "                    #validation_split=0.2,\n",
        "                    validation_data=(val_set_content, np.array(val_set_label)),\n",
        "                    )"
      ],
      "execution_count": null,
      "outputs": [
        {
          "output_type": "stream",
          "text": [
            "Model: \"sequential_4\"\n",
            "_________________________________________________________________\n",
            "Layer (type)                 Output Shape              Param #   \n",
            "=================================================================\n",
            "embedding_3 (Embedding)      (None, None, 32)          96000     \n",
            "_________________________________________________________________\n",
            "lstm_2 (LSTM)                (None, None, 32)          8320      \n",
            "_________________________________________________________________\n",
            "lstm_3 (LSTM)                (None, None, 32)          8320      \n",
            "_________________________________________________________________\n",
            "lstm_4 (LSTM)                (None, 32)                8320      \n",
            "_________________________________________________________________\n",
            "dropout_3 (Dropout)          (None, 32)                0         \n",
            "_________________________________________________________________\n",
            "dense_5 (Dense)              (None, 1)                 33        \n",
            "=================================================================\n",
            "Total params: 120,993\n",
            "Trainable params: 120,993\n",
            "Non-trainable params: 0\n",
            "_________________________________________________________________\n",
            "Epoch 1/5\n",
            "71/71 [==============================] - 11s 79ms/step - loss: 0.6681 - acc: 0.5907 - val_loss: 0.6138 - val_acc: 0.6550\n",
            "Epoch 2/5\n",
            "71/71 [==============================] - 4s 62ms/step - loss: 0.5124 - acc: 0.7548 - val_loss: 0.5806 - val_acc: 0.6860\n",
            "Epoch 3/5\n",
            "71/71 [==============================] - 4s 63ms/step - loss: 0.4533 - acc: 0.7934 - val_loss: 0.5799 - val_acc: 0.7150\n",
            "Epoch 4/5\n",
            "71/71 [==============================] - 5s 64ms/step - loss: 0.4071 - acc: 0.8209 - val_loss: 0.5901 - val_acc: 0.6970\n",
            "Epoch 5/5\n",
            "71/71 [==============================] - 5s 65ms/step - loss: 0.3896 - acc: 0.8310 - val_loss: 0.6467 - val_acc: 0.6710\n",
            "CPU times: user 43.7 s, sys: 1.55 s, total: 45.2 s\n",
            "Wall time: 29.5 s\n"
          ],
          "name": "stdout"
        }
      ]
    },
    {
      "cell_type": "code",
      "metadata": {
        "colab": {
          "base_uri": "https://localhost:8080/"
        },
        "id": "szY3EX7rn5dR",
        "outputId": "fb7189bd-2d6e-4303-c2b7-be1a39512351"
      },
      "source": [
        "%%time\n",
        "# Predict using test dataset\n",
        "#model.evaluate(val_set_content, np.array(val_set_label))\n",
        "predicted_label = model.predict(test_set_content)\n",
        "predicted_label = np.around(predicted_label)"
      ],
      "execution_count": null,
      "outputs": [
        {
          "output_type": "stream",
          "text": [
            "CPU times: user 2.77 s, sys: 75.5 ms, total: 2.85 s\n",
            "Wall time: 2.24 s\n"
          ],
          "name": "stdout"
        }
      ]
    },
    {
      "cell_type": "code",
      "metadata": {
        "colab": {
          "base_uri": "https://localhost:8080/",
          "height": 536
        },
        "id": "Czfe_9C1n5lz",
        "outputId": "8946afae-3832-4d74-bd44-691ca6118344"
      },
      "source": [
        "print(\"Hierarchical LSTM:\")\n",
        "accuracy = metrics.accuracy_score(test_set_label, predicted_label)\n",
        "print('Accuracy Score:', accuracy)\n",
        "f1= metrics.f1_score(test_set_label, predicted_label, average='macro')\n",
        "print('Macro F1 Score:', f1)\n",
        "print('Clasification report:\\n', metrics.classification_report(test_set_label, predicted_label))\n",
        "\n",
        "cm = confusion_matrix(test_set_label, predicted_label)\n",
        "df_cm = pd.DataFrame(cm, class_labels, class_labels)\n",
        "sn.set(font_scale=1.4) # for label size\n",
        "sn.heatmap(df_cm, annot=True, fmt=\"d\", annot_kws={\"size\": 16}) # font size\n",
        "plt.title(f\"Hierarchical LSTM for {task} dataset\")\n",
        "plt.xlabel('predicted class')\n",
        "plt.ylabel('ground truth')\n",
        "plt.show()"
      ],
      "execution_count": null,
      "outputs": [
        {
          "output_type": "stream",
          "text": [
            "Hierarchical LSTM:\n",
            "Accuracy Score: 0.4717171717171717\n",
            "Macro F1 Score: 0.40731900795921483\n",
            "Clasification report:\n",
            "               precision    recall  f1-score   support\n",
            "\n",
            "           0       0.77      0.12      0.21      1718\n",
            "           1       0.44      0.95      0.60      1252\n",
            "\n",
            "    accuracy                           0.47      2970\n",
            "   macro avg       0.61      0.54      0.41      2970\n",
            "weighted avg       0.63      0.47      0.38      2970\n",
            "\n"
          ],
          "name": "stdout"
        },
        {
          "output_type": "display_data",
          "data": {
            "image/png": "[encoded data removed]",
            "text/plain": [
              "<Figure size 432x288 with 2 Axes>"
            ]
          },
          "metadata": {
            "tags": []
          }
        }
      ]
    },
    {
      "cell_type": "code",
      "metadata": {
        "colab": {
          "base_uri": "https://localhost:8080/"
        },
        "id": "3hSaKfVuhCMH",
        "outputId": "ff742c6d-1e1b-42f3-fb7c-122ecaa5735f"
      },
      "source": [
        "%%time\n",
        "# Hierarchical BiLSTM is used as the classification model\n",
        "model = models.Sequential()\n",
        "model.add(Embedding(max_features, 32))\n",
        "model.add(Bidirectional(LSTM(32, return_sequences=True)))\n",
        "model.add(Bidirectional(LSTM(32, return_sequences=True)))\n",
        "model.add(Bidirectional(LSTM(32)))\n",
        "model.add(layers.Dropout(0.1))\n",
        "model.add(Dense(1, activation='sigmoid'))\n",
        "model.summary()\n",
        "model.compile(optimizer='rmsprop', loss='binary_crossentropy', metrics=['acc'])\n",
        "# Train Hierarchical BiLSTM Classifier\n",
        "history = model.fit(train_set_content, np.array(train_set_label), \n",
        "                    epochs=5,\n",
        "                    batch_size=128,\n",
        "                    #validation_split=0.2,\n",
        "                    validation_data=(val_set_content, np.array(val_set_label)),\n",
        "                    )"
      ],
      "execution_count": null,
      "outputs": [
        {
          "output_type": "stream",
          "text": [
            "Model: \"sequential_5\"\n",
            "_________________________________________________________________\n",
            "Layer (type)                 Output Shape              Param #   \n",
            "=================================================================\n",
            "embedding_4 (Embedding)      (None, None, 32)          96000     \n",
            "_________________________________________________________________\n",
            "bidirectional_1 (Bidirection (None, None, 64)          16640     \n",
            "_________________________________________________________________\n",
            "bidirectional_2 (Bidirection (None, None, 64)          24832     \n",
            "_________________________________________________________________\n",
            "bidirectional_3 (Bidirection (None, 64)                24832     \n",
            "_________________________________________________________________\n",
            "dropout_4 (Dropout)          (None, 64)                0         \n",
            "_________________________________________________________________\n",
            "dense_6 (Dense)              (None, 1)                 65        \n",
            "=================================================================\n",
            "Total params: 162,369\n",
            "Trainable params: 162,369\n",
            "Non-trainable params: 0\n",
            "_________________________________________________________________\n",
            "Epoch 1/5\n",
            "71/71 [==============================] - 20s 147ms/step - loss: 0.6353 - acc: 0.6223 - val_loss: 0.5585 - val_acc: 0.7150\n",
            "Epoch 2/5\n",
            "71/71 [==============================] - 8s 114ms/step - loss: 0.4464 - acc: 0.8013 - val_loss: 0.6329 - val_acc: 0.6970\n",
            "Epoch 3/5\n",
            "71/71 [==============================] - 8s 113ms/step - loss: 0.3977 - acc: 0.8277 - val_loss: 0.6054 - val_acc: 0.7150\n",
            "Epoch 4/5\n",
            "71/71 [==============================] - 8s 115ms/step - loss: 0.3709 - acc: 0.8398 - val_loss: 0.6025 - val_acc: 0.7000\n",
            "Epoch 5/5\n",
            "71/71 [==============================] - 8s 116ms/step - loss: 0.3428 - acc: 0.8582 - val_loss: 0.6545 - val_acc: 0.7010\n",
            "CPU times: user 1min 25s, sys: 2.85 s, total: 1min 28s\n",
            "Wall time: 54.4 s\n"
          ],
          "name": "stdout"
        }
      ]
    },
    {
      "cell_type": "code",
      "metadata": {
        "colab": {
          "base_uri": "https://localhost:8080/"
        },
        "id": "0SE3ZRG0mwVa",
        "outputId": "1d8552b2-17bc-4467-822a-129b7f530003"
      },
      "source": [
        "%%time\n",
        "# Predict using test dataset\n",
        "#model.evaluate(val_set_content, np.array(val_set_label))\n",
        "predicted_label = model.predict(test_set_content)\n",
        "predicted_label = np.around(predicted_label)"
      ],
      "execution_count": null,
      "outputs": [
        {
          "output_type": "stream",
          "text": [
            "CPU times: user 4.2 s, sys: 79.8 ms, total: 4.28 s\n",
            "Wall time: 3.23 s\n"
          ],
          "name": "stdout"
        }
      ]
    },
    {
      "cell_type": "code",
      "metadata": {
        "colab": {
          "base_uri": "https://localhost:8080/",
          "height": 536
        },
        "id": "lHH997SBmwfA",
        "outputId": "60b8e78a-24f8-4029-e05e-6087600137f2"
      },
      "source": [
        "print(\"Hierarchical BiLSTM:\")\n",
        "accuracy = metrics.accuracy_score(test_set_label, predicted_label)\n",
        "print('Accuracy Score:', accuracy)\n",
        "f1= metrics.f1_score(test_set_label, predicted_label, average='macro')\n",
        "print('Macro F1 Score:', f1)\n",
        "print('Clasification report:\\n', metrics.classification_report(test_set_label, predicted_label))\n",
        "\n",
        "cm = confusion_matrix(test_set_label, predicted_label)\n",
        "df_cm = pd.DataFrame(cm, class_labels, class_labels)\n",
        "sn.set(font_scale=1.4) # for label size\n",
        "sn.heatmap(df_cm, annot=True, fmt=\"d\", annot_kws={\"size\": 16}) # font size\n",
        "plt.title(f\"Hierarchical BiLSTM for {task} dataset\")\n",
        "plt.xlabel('predicted class')\n",
        "plt.ylabel('ground truth')\n",
        "plt.show()"
      ],
      "execution_count": null,
      "outputs": [
        {
          "output_type": "stream",
          "text": [
            "Hierarchical BiLSTM:\n",
            "Accuracy Score: 0.5070707070707071\n",
            "Macro F1 Score: 0.4773713657664831\n",
            "Clasification report:\n",
            "               precision    recall  f1-score   support\n",
            "\n",
            "           0       0.73      0.23      0.35      1718\n",
            "           1       0.46      0.88      0.60      1252\n",
            "\n",
            "    accuracy                           0.51      2970\n",
            "   macro avg       0.59      0.56      0.48      2970\n",
            "weighted avg       0.62      0.51      0.46      2970\n",
            "\n"
          ],
          "name": "stdout"
        },
        {
          "output_type": "display_data",
          "data": {
            "image/png": "[encoded data removed]",
            "text/plain": [
              "<Figure size 432x288 with 2 Axes>"
            ]
          },
          "metadata": {
            "tags": []
          }
        }
      ]
    },
    {
      "cell_type": "code",
      "metadata": {
        "colab": {
          "base_uri": "https://localhost:8080/"
        },
        "id": "Avn48IBgV1kZ",
        "outputId": "d5173e24-218c-4b79-c04e-c431a2120844"
      },
      "source": [
        "%%time\n",
        "# BiGRU is used as the classification model\n",
        "model = models.Sequential()\n",
        "model.add(Embedding(max_features, 32))\n",
        "model.add(Bidirectional(GRU(32)))\n",
        "model.add(layers.Dropout(0.1))\n",
        "model.add(Dense(1, activation='sigmoid'))\n",
        "model.summary()\n",
        "model.compile(optimizer='rmsprop', loss='binary_crossentropy', metrics=['acc'])\n",
        "# Train BiGRU Classifier\n",
        "history = model.fit(train_set_content, np.array(train_set_label), \n",
        "                    epochs=5,\n",
        "                    batch_size=128,\n",
        "                    #validation_split=0.2,\n",
        "                    validation_data=(val_set_content, np.array(val_set_label)),\n",
        "                    )"
      ],
      "execution_count": null,
      "outputs": [
        {
          "output_type": "stream",
          "text": [
            "Model: \"sequential_6\"\n",
            "_________________________________________________________________\n",
            "Layer (type)                 Output Shape              Param #   \n",
            "=================================================================\n",
            "embedding_5 (Embedding)      (None, None, 32)          96000     \n",
            "_________________________________________________________________\n",
            "bidirectional_4 (Bidirection (None, 64)                12672     \n",
            "_________________________________________________________________\n",
            "dropout_5 (Dropout)          (None, 64)                0         \n",
            "_________________________________________________________________\n",
            "dense_7 (Dense)              (None, 1)                 65        \n",
            "=================================================================\n",
            "Total params: 108,737\n",
            "Trainable params: 108,737\n",
            "Non-trainable params: 0\n",
            "_________________________________________________________________\n",
            "Epoch 1/5\n",
            "71/71 [==============================] - 8s 48ms/step - loss: 0.6662 - acc: 0.5911 - val_loss: 0.5972 - val_acc: 0.6920\n",
            "Epoch 2/5\n",
            "71/71 [==============================] - 3s 36ms/step - loss: 0.4926 - acc: 0.7796 - val_loss: 0.5942 - val_acc: 0.7200\n",
            "Epoch 3/5\n",
            "71/71 [==============================] - 3s 36ms/step - loss: 0.4209 - acc: 0.8074 - val_loss: 0.5512 - val_acc: 0.7130\n",
            "Epoch 4/5\n",
            "71/71 [==============================] - 3s 36ms/step - loss: 0.3992 - acc: 0.8183 - val_loss: 0.5632 - val_acc: 0.7080\n",
            "Epoch 5/5\n",
            "71/71 [==============================] - 3s 35ms/step - loss: 0.3703 - acc: 0.8360 - val_loss: 0.5819 - val_acc: 0.7000\n",
            "CPU times: user 27.4 s, sys: 632 ms, total: 28.1 s\n",
            "Wall time: 18.4 s\n"
          ],
          "name": "stdout"
        }
      ]
    },
    {
      "cell_type": "code",
      "metadata": {
        "colab": {
          "base_uri": "https://localhost:8080/"
        },
        "id": "k9R-hVgWV1n3",
        "outputId": "0a43f829-4c85-461a-d3a5-580b6174bcf3"
      },
      "source": [
        "%%time\n",
        "# Predict using test dataset\n",
        "#model.evaluate(val_set_content, np.array(val_set_label))\n",
        "predicted_label = model.predict(test_set_content)\n",
        "predicted_label = np.around(predicted_label)"
      ],
      "execution_count": null,
      "outputs": [
        {
          "output_type": "stream",
          "text": [
            "CPU times: user 1.33 s, sys: 24.6 ms, total: 1.36 s\n",
            "Wall time: 1.05 s\n"
          ],
          "name": "stdout"
        }
      ]
    },
    {
      "cell_type": "code",
      "metadata": {
        "colab": {
          "base_uri": "https://localhost:8080/",
          "height": 536
        },
        "id": "Y9BlJL5RV1rv",
        "outputId": "74ccd964-4c58-4786-c108-8666b858406b"
      },
      "source": [
        "print(\"BiGRU:\")\n",
        "accuracy = metrics.accuracy_score(test_set_label, predicted_label)\n",
        "print('Accuracy Score:', accuracy)\n",
        "f1= metrics.f1_score(test_set_label, predicted_label, average='macro')\n",
        "print('Macro F1 Score:', f1)\n",
        "print('Clasification report:\\n', metrics.classification_report(test_set_label, predicted_label))\n",
        "\n",
        "cm = confusion_matrix(test_set_label, predicted_label)\n",
        "df_cm = pd.DataFrame(cm, class_labels, class_labels)\n",
        "sn.set(font_scale=1.4) # for label size\n",
        "sn.heatmap(df_cm, annot=True, fmt=\"d\", annot_kws={\"size\": 16}) # font size\n",
        "plt.title(f\"BiGRU for {task} dataset\")\n",
        "plt.xlabel('predicted class')\n",
        "plt.ylabel('ground truth')\n",
        "plt.show()"
      ],
      "execution_count": null,
      "outputs": [
        {
          "output_type": "stream",
          "text": [
            "BiGRU:\n",
            "Accuracy Score: 0.4744107744107744\n",
            "Macro F1 Score: 0.41323357826178464\n",
            "Clasification report:\n",
            "               precision    recall  f1-score   support\n",
            "\n",
            "           0       0.77      0.13      0.22      1718\n",
            "           1       0.44      0.95      0.60      1252\n",
            "\n",
            "    accuracy                           0.47      2970\n",
            "   macro avg       0.61      0.54      0.41      2970\n",
            "weighted avg       0.63      0.47      0.38      2970\n",
            "\n"
          ],
          "name": "stdout"
        },
        {
          "output_type": "display_data",
          "data": {
            "image/png": "[encoded data removed]",
            "text/plain": [
              "<Figure size 432x288 with 2 Axes>"
            ]
          },
          "metadata": {
            "tags": []
          }
        }
      ]
    },
    {
      "cell_type": "code",
      "metadata": {
        "id": "mv2IuFexEomy"
      },
      "source": [
        "# Preprocess text (username and link placeholders)\n",
        "def preprocess(text):\n",
        "    new_text = [\n",
        "    ]\n",
        "    for t in text.split(\" \"):\n",
        "        t = '@user' if t.startswith('@') and len(t) > 1 else t\n",
        "        t = 'http' if t.startswith('http') else t\n",
        "        new_text.append(t)\n",
        "    return \" \".join(new_text)"
      ],
      "execution_count": null,
      "outputs": []
    },
    {
      "cell_type": "code",
      "metadata": {
        "colab": {
          "base_uri": "https://localhost:8080/",
          "referenced_widgets": [
            "adf897da8bf747f5b692b3e37222d8b0",
            "cc5d9a88cbbd4fac9daac5321c6942f1",
            "8a9d77cab7ca4d479b41b5cc06e78343",
            "82a5cdba98e041a6b5d3aa0137131807",
            "74e31fd52790458692a24ebc56321ca0",
            "bbc9d89b9d2444d5bfd4c3efadc7e8e8",
            "7d70fb3ac2e24eeeb059aefe695a50fa",
            "03ffd3dc9b3e4151a11069938b889b34",
            "0e0e9cc68f1d406caba0d1bde81a8c24",
            "5e2d297d6140438c93eb09cd5d8318c5",
            "1003db0c3981442da6d2ae5bbb554515",
            "9499f952efbe407985604d72e2e7758e",
            "737bd7a83d5c476299c5b47b67220634",
            "8fa498dc6ef14ad5825143424c442e02",
            "e7f7870e73ab428096a94c81f985b719",
            "f172d508baef44b9b87f3002a8f2a539",
            "6fe9ca6ae670471096b644a1b39c5ab3",
            "f73df39974d1486484702f1d817bbc01",
            "47abe8401f11488eb383c4eb4160b530",
            "823a687e642449e6b9f8a30808603027",
            "dbabd6146053438ba247e53ee139a4e3",
            "36171386ff5841d0ab7de4d2482696b6",
            "56661c2792734f4d90d3ddbd0ed428a9",
            "97af73c491674ba0ac895de6703de574",
            "c2b8b1ca3aa248988f3072f415d4a1e3",
            "51ea696aa5694a67bd1107edffb2f082",
            "782f5dd4bcd9459c921b1619348a9ca6",
            "f504baf587724b49b168d5c687427c75",
            "fd58c426f6064b05bdc09fa7cd57b7aa",
            "150932f4ea5943279180cd44cec6f48d",
            "9ac0098bbed147cb8dfd05d60cf82bfe",
            "3dd0101f4f174424b4ce9713a020c9cc",
            "88851a66f1d14526a5ce41a409831b14",
            "1ddbe18b08b7484ab2010c1fe8de4f9e",
            "41882bf70c40484a80191ae0739d1463",
            "2a12ee3004864736a1720b6906512fb7",
            "dc4bc5d32a3e465eae3d8354daba12e6",
            "362896f7e73a4e41906a4b365b3fca4e",
            "d26c92b281784903bc1fdc3e040bad06",
            "305048f012c14ba09ca798986d5d9a34"
          ]
        },
        "id": "hGkuHe4rEt0n",
        "outputId": "22ce51d2-e9e6-4e16-f3c8-f78590a8cdf1"
      },
      "source": [
        "%%time\n",
        "# RoBERTa is used as the classification model\n",
        "MODEL = f\"cardiffnlp/twitter-roberta-base-{task}\"\n",
        "\n",
        "tokenizer = AutoTokenizer.from_pretrained(MODEL)\n",
        "\n",
        "model = AutoModelForSequenceClassification.from_pretrained(MODEL)\n",
        "# model.save_pretrained(MODEL)\n",
        "\n",
        "#golden_label = [i[1] for i in test_set]\n",
        "tested_label = []\n",
        "for i in range(len(test_text)):\n",
        "  text = test_text[i]\n",
        "  text = preprocess(text)\n",
        "  encoded_input = tokenizer(text, return_tensors='pt')\n",
        "  output = model(**encoded_input)\n",
        "  scores = output[0][0].detach().numpy()\n",
        "  scores = softmax(scores)\n",
        "  tested_label.append(np.argmax(scores))"
      ],
      "execution_count": null,
      "outputs": [
        {
          "output_type": "display_data",
          "data": {
            "application/vnd.jupyter.widget-view+json": {
              "model_id": "adf897da8bf747f5b692b3e37222d8b0",
              "version_minor": 0,
              "version_major": 2
            },
            "text/plain": [
              "HBox(children=(FloatProgress(value=0.0, description='Downloading', max=588.0, style=ProgressStyle(description_…"
            ]
          },
          "metadata": {
            "tags": []
          }
        },
        {
          "output_type": "stream",
          "text": [
            "\n"
          ],
          "name": "stdout"
        },
        {
          "output_type": "display_data",
          "data": {
            "application/vnd.jupyter.widget-view+json": {
              "model_id": "0e0e9cc68f1d406caba0d1bde81a8c24",
              "version_minor": 0,
              "version_major": 2
            },
            "text/plain": [
              "HBox(children=(FloatProgress(value=0.0, description='Downloading', max=898822.0, style=ProgressStyle(descripti…"
            ]
          },
          "metadata": {
            "tags": []
          }
        },
        {
          "output_type": "stream",
          "text": [
            "\n"
          ],
          "name": "stdout"
        },
        {
          "output_type": "display_data",
          "data": {
            "application/vnd.jupyter.widget-view+json": {
              "model_id": "6fe9ca6ae670471096b644a1b39c5ab3",
              "version_minor": 0,
              "version_major": 2
            },
            "text/plain": [
              "HBox(children=(FloatProgress(value=0.0, description='Downloading', max=456318.0, style=ProgressStyle(descripti…"
            ]
          },
          "metadata": {
            "tags": []
          }
        },
        {
          "output_type": "stream",
          "text": [
            "\n"
          ],
          "name": "stdout"
        },
        {
          "output_type": "display_data",
          "data": {
            "application/vnd.jupyter.widget-view+json": {
              "model_id": "c2b8b1ca3aa248988f3072f415d4a1e3",
              "version_minor": 0,
              "version_major": 2
            },
            "text/plain": [
              "HBox(children=(FloatProgress(value=0.0, description='Downloading', max=150.0, style=ProgressStyle(description_…"
            ]
          },
          "metadata": {
            "tags": []
          }
        },
        {
          "output_type": "stream",
          "text": [
            "\n"
          ],
          "name": "stdout"
        },
        {
          "output_type": "display_data",
          "data": {
            "application/vnd.jupyter.widget-view+json": {
              "model_id": "88851a66f1d14526a5ce41a409831b14",
              "version_minor": 0,
              "version_major": 2
            },
            "text/plain": [
              "HBox(children=(FloatProgress(value=0.0, description='Downloading', max=498676425.0, style=ProgressStyle(descri…"
            ]
          },
          "metadata": {
            "tags": []
          }
        },
        {
          "output_type": "stream",
          "text": [
            "\n",
            "CPU times: user 9min 40s, sys: 6 s, total: 9min 46s\n",
            "Wall time: 9min 51s\n"
          ],
          "name": "stdout"
        }
      ]
    },
    {
      "cell_type": "code",
      "metadata": {
        "colab": {
          "base_uri": "https://localhost:8080/"
        },
        "id": "JIBQPy465j_b",
        "outputId": "90068087-fc4b-43fb-a7f9-eae550633414"
      },
      "source": [
        "print(\"RoBERTa:\")\n",
        "accuracy = metrics.accuracy_score(test_set_label, tested_label)\n",
        "print('Accuracy Score:', accuracy)\n",
        "f1= metrics.f1_score(test_set_label, tested_label, average='macro')\n",
        "print('Macro F1 Score:', f1)\n",
        "print('Clasification report:\\n', metrics.classification_report(test_set_label, tested_label))\n",
        "\n",
        "cm = confusion_matrix(test_set_label, tested_label)\n",
        "df_cm = pd.DataFrame(cm, class_labels, class_labels)\n",
        "sn.set(font_scale=1.4) # for label size\n",
        "sn.heatmap(df_cm, annot=True, fmt=\"d\", annot_kws={\"size\": 16}) # font size\n",
        "plt.title(f\"RoBERTa for {task} dataset\")\n",
        "plt.xlabel('predicted class')\n",
        "plt.ylabel('ground truth')\n",
        "plt.show()"
      ],
      "execution_count": null,
      "outputs": [
        {
          "output_type": "stream",
          "text": [
            "RoBERTa:\n",
            "Accuracy Score: 0.5740740740740741\n",
            "Macro F1 Score: 0.5522990988307143\n",
            "Clasification report:\n",
            "               precision    recall  f1-score   support\n",
            "\n",
            "           0       0.88      0.31      0.45      1718\n",
            "           1       0.50      0.94      0.65      1252\n",
            "\n",
            "    accuracy                           0.57      2970\n",
            "   macro avg       0.69      0.62      0.55      2970\n",
            "weighted avg       0.72      0.57      0.54      2970\n",
            "\n"
          ],
          "name": "stdout"
        },
        {
          "output_type": "display_data",
          "data": {
            "image/png": "[encoded data removed]",
            "text/plain": [
              "<Figure size 432x288 with 2 Axes>"
            ]
          },
          "metadata": {
            "tags": []
          }
        }
      ]
    }
  ]
}