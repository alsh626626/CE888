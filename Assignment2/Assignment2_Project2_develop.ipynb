{
  "nbformat": 4,
  "nbformat_minor": 0,
  "metadata": {
    "colab": {
      "name": "Assignment2_Project2_develop.ipynb",
      "provenance": [],
      "collapsed_sections": [
        "s7YigPkQdI_C",
        "1QLfmwZli4vC",
        "MqX3Hjs915At"
      ],
      "authorship_tag": "ABX9TyOmVOJ8ETDkPyMSB59ohv8D",
      "include_colab_link": true
    },
    "kernelspec": {
      "name": "python3",
      "display_name": "Python 3"
    },
    "widgets": {
      "application/vnd.jupyter.widget-state+json": {
        "f94251e9ecd5442ea7f2126f471b4378": {
          "model_module": "@jupyter-widgets/controls",
          "model_name": "HBoxModel",
          "state": {
            "_view_name": "HBoxView",
            "_dom_classes": [],
            "_model_name": "HBoxModel",
            "_view_module": "@jupyter-widgets/controls",
            "_model_module_version": "1.5.0",
            "_view_count": null,
            "_view_module_version": "1.5.0",
            "box_style": "",
            "layout": "IPY_MODEL_e1606921cbb549c8947d220e25cff557",
            "_model_module": "@jupyter-widgets/controls",
            "children": [
              "IPY_MODEL_8ebd839cf82f42e2bf6f8aecf1a8f86b",
              "IPY_MODEL_c0a243545b004b299fd69d3a0ec1f8fd"
            ]
          }
        },
        "e1606921cbb549c8947d220e25cff557": {
          "model_module": "@jupyter-widgets/base",
          "model_name": "LayoutModel",
          "state": {
            "_view_name": "LayoutView",
            "grid_template_rows": null,
            "right": null,
            "justify_content": null,
            "_view_module": "@jupyter-widgets/base",
            "overflow": null,
            "_model_module_version": "1.2.0",
            "_view_count": null,
            "flex_flow": null,
            "width": null,
            "min_width": null,
            "border": null,
            "align_items": null,
            "bottom": null,
            "_model_module": "@jupyter-widgets/base",
            "top": null,
            "grid_column": null,
            "overflow_y": null,
            "overflow_x": null,
            "grid_auto_flow": null,
            "grid_area": null,
            "grid_template_columns": null,
            "flex": null,
            "_model_name": "LayoutModel",
            "justify_items": null,
            "grid_row": null,
            "max_height": null,
            "align_content": null,
            "visibility": null,
            "align_self": null,
            "height": null,
            "min_height": null,
            "padding": null,
            "grid_auto_rows": null,
            "grid_gap": null,
            "max_width": null,
            "order": null,
            "_view_module_version": "1.2.0",
            "grid_template_areas": null,
            "object_position": null,
            "object_fit": null,
            "grid_auto_columns": null,
            "margin": null,
            "display": null,
            "left": null
          }
        },
        "8ebd839cf82f42e2bf6f8aecf1a8f86b": {
          "model_module": "@jupyter-widgets/controls",
          "model_name": "FloatProgressModel",
          "state": {
            "_view_name": "ProgressView",
            "style": "IPY_MODEL_4d022ece095b4e169e9f3e6852588555",
            "_dom_classes": [],
            "description": "Downloading: 100%",
            "_model_name": "FloatProgressModel",
            "bar_style": "success",
            "max": 589,
            "_view_module": "@jupyter-widgets/controls",
            "_model_module_version": "1.5.0",
            "value": 589,
            "_view_count": null,
            "_view_module_version": "1.5.0",
            "orientation": "horizontal",
            "min": 0,
            "description_tooltip": null,
            "_model_module": "@jupyter-widgets/controls",
            "layout": "IPY_MODEL_08fe392dba6d4a9993dedb4f92fdc1d2"
          }
        },
        "c0a243545b004b299fd69d3a0ec1f8fd": {
          "model_module": "@jupyter-widgets/controls",
          "model_name": "HTMLModel",
          "state": {
            "_view_name": "HTMLView",
            "style": "IPY_MODEL_96e06d2405e14d9e910a94638214ec3e",
            "_dom_classes": [],
            "description": "",
            "_model_name": "HTMLModel",
            "placeholder": "​",
            "_view_module": "@jupyter-widgets/controls",
            "_model_module_version": "1.5.0",
            "value": " 589/589 [00:02&lt;00:00, 222B/s]",
            "_view_count": null,
            "_view_module_version": "1.5.0",
            "description_tooltip": null,
            "_model_module": "@jupyter-widgets/controls",
            "layout": "IPY_MODEL_8830330bf21046f2aee3a2b34aa01bbe"
          }
        },
        "4d022ece095b4e169e9f3e6852588555": {
          "model_module": "@jupyter-widgets/controls",
          "model_name": "ProgressStyleModel",
          "state": {
            "_view_name": "StyleView",
            "_model_name": "ProgressStyleModel",
            "description_width": "initial",
            "_view_module": "@jupyter-widgets/base",
            "_model_module_version": "1.5.0",
            "_view_count": null,
            "_view_module_version": "1.2.0",
            "bar_color": null,
            "_model_module": "@jupyter-widgets/controls"
          }
        },
        "08fe392dba6d4a9993dedb4f92fdc1d2": {
          "model_module": "@jupyter-widgets/base",
          "model_name": "LayoutModel",
          "state": {
            "_view_name": "LayoutView",
            "grid_template_rows": null,
            "right": null,
            "justify_content": null,
            "_view_module": "@jupyter-widgets/base",
            "overflow": null,
            "_model_module_version": "1.2.0",
            "_view_count": null,
            "flex_flow": null,
            "width": null,
            "min_width": null,
            "border": null,
            "align_items": null,
            "bottom": null,
            "_model_module": "@jupyter-widgets/base",
            "top": null,
            "grid_column": null,
            "overflow_y": null,
            "overflow_x": null,
            "grid_auto_flow": null,
            "grid_area": null,
            "grid_template_columns": null,
            "flex": null,
            "_model_name": "LayoutModel",
            "justify_items": null,
            "grid_row": null,
            "max_height": null,
            "align_content": null,
            "visibility": null,
            "align_self": null,
            "height": null,
            "min_height": null,
            "padding": null,
            "grid_auto_rows": null,
            "grid_gap": null,
            "max_width": null,
            "order": null,
            "_view_module_version": "1.2.0",
            "grid_template_areas": null,
            "object_position": null,
            "object_fit": null,
            "grid_auto_columns": null,
            "margin": null,
            "display": null,
            "left": null
          }
        },
        "96e06d2405e14d9e910a94638214ec3e": {
          "model_module": "@jupyter-widgets/controls",
          "model_name": "DescriptionStyleModel",
          "state": {
            "_view_name": "StyleView",
            "_model_name": "DescriptionStyleModel",
            "description_width": "",
            "_view_module": "@jupyter-widgets/base",
            "_model_module_version": "1.5.0",
            "_view_count": null,
            "_view_module_version": "1.2.0",
            "_model_module": "@jupyter-widgets/controls"
          }
        },
        "8830330bf21046f2aee3a2b34aa01bbe": {
          "model_module": "@jupyter-widgets/base",
          "model_name": "LayoutModel",
          "state": {
            "_view_name": "LayoutView",
            "grid_template_rows": null,
            "right": null,
            "justify_content": null,
            "_view_module": "@jupyter-widgets/base",
            "overflow": null,
            "_model_module_version": "1.2.0",
            "_view_count": null,
            "flex_flow": null,
            "width": null,
            "min_width": null,
            "border": null,
            "align_items": null,
            "bottom": null,
            "_model_module": "@jupyter-widgets/base",
            "top": null,
            "grid_column": null,
            "overflow_y": null,
            "overflow_x": null,
            "grid_auto_flow": null,
            "grid_area": null,
            "grid_template_columns": null,
            "flex": null,
            "_model_name": "LayoutModel",
            "justify_items": null,
            "grid_row": null,
            "max_height": null,
            "align_content": null,
            "visibility": null,
            "align_self": null,
            "height": null,
            "min_height": null,
            "padding": null,
            "grid_auto_rows": null,
            "grid_gap": null,
            "max_width": null,
            "order": null,
            "_view_module_version": "1.2.0",
            "grid_template_areas": null,
            "object_position": null,
            "object_fit": null,
            "grid_auto_columns": null,
            "margin": null,
            "display": null,
            "left": null
          }
        },
        "4fe480f9c5ae4ae39c3aa93afb76fa81": {
          "model_module": "@jupyter-widgets/controls",
          "model_name": "HBoxModel",
          "state": {
            "_view_name": "HBoxView",
            "_dom_classes": [],
            "_model_name": "HBoxModel",
            "_view_module": "@jupyter-widgets/controls",
            "_model_module_version": "1.5.0",
            "_view_count": null,
            "_view_module_version": "1.5.0",
            "box_style": "",
            "layout": "IPY_MODEL_b593430010424a1f8a6976af5c55013c",
            "_model_module": "@jupyter-widgets/controls",
            "children": [
              "IPY_MODEL_e164eaa7e19b40f4b660a3bcb092765c",
              "IPY_MODEL_6080c36a884b48acb19b6e405514a392"
            ]
          }
        },
        "b593430010424a1f8a6976af5c55013c": {
          "model_module": "@jupyter-widgets/base",
          "model_name": "LayoutModel",
          "state": {
            "_view_name": "LayoutView",
            "grid_template_rows": null,
            "right": null,
            "justify_content": null,
            "_view_module": "@jupyter-widgets/base",
            "overflow": null,
            "_model_module_version": "1.2.0",
            "_view_count": null,
            "flex_flow": null,
            "width": null,
            "min_width": null,
            "border": null,
            "align_items": null,
            "bottom": null,
            "_model_module": "@jupyter-widgets/base",
            "top": null,
            "grid_column": null,
            "overflow_y": null,
            "overflow_x": null,
            "grid_auto_flow": null,
            "grid_area": null,
            "grid_template_columns": null,
            "flex": null,
            "_model_name": "LayoutModel",
            "justify_items": null,
            "grid_row": null,
            "max_height": null,
            "align_content": null,
            "visibility": null,
            "align_self": null,
            "height": null,
            "min_height": null,
            "padding": null,
            "grid_auto_rows": null,
            "grid_gap": null,
            "max_width": null,
            "order": null,
            "_view_module_version": "1.2.0",
            "grid_template_areas": null,
            "object_position": null,
            "object_fit": null,
            "grid_auto_columns": null,
            "margin": null,
            "display": null,
            "left": null
          }
        },
        "e164eaa7e19b40f4b660a3bcb092765c": {
          "model_module": "@jupyter-widgets/controls",
          "model_name": "FloatProgressModel",
          "state": {
            "_view_name": "ProgressView",
            "style": "IPY_MODEL_55e386357b06499c950471dddb989aa3",
            "_dom_classes": [],
            "description": "Downloading: 100%",
            "_model_name": "FloatProgressModel",
            "bar_style": "success",
            "max": 898822,
            "_view_module": "@jupyter-widgets/controls",
            "_model_module_version": "1.5.0",
            "value": 898822,
            "_view_count": null,
            "_view_module_version": "1.5.0",
            "orientation": "horizontal",
            "min": 0,
            "description_tooltip": null,
            "_model_module": "@jupyter-widgets/controls",
            "layout": "IPY_MODEL_7b1b1834a9fa4d38af109a18a8e9a064"
          }
        },
        "6080c36a884b48acb19b6e405514a392": {
          "model_module": "@jupyter-widgets/controls",
          "model_name": "HTMLModel",
          "state": {
            "_view_name": "HTMLView",
            "style": "IPY_MODEL_0c5a309fdeab4af1998c6d42b9e35da1",
            "_dom_classes": [],
            "description": "",
            "_model_name": "HTMLModel",
            "placeholder": "​",
            "_view_module": "@jupyter-widgets/controls",
            "_model_module_version": "1.5.0",
            "value": " 899k/899k [00:02&lt;00:00, 408kB/s]",
            "_view_count": null,
            "_view_module_version": "1.5.0",
            "description_tooltip": null,
            "_model_module": "@jupyter-widgets/controls",
            "layout": "IPY_MODEL_2cda936888024c5880037beed2c4f2a3"
          }
        },
        "55e386357b06499c950471dddb989aa3": {
          "model_module": "@jupyter-widgets/controls",
          "model_name": "ProgressStyleModel",
          "state": {
            "_view_name": "StyleView",
            "_model_name": "ProgressStyleModel",
            "description_width": "initial",
            "_view_module": "@jupyter-widgets/base",
            "_model_module_version": "1.5.0",
            "_view_count": null,
            "_view_module_version": "1.2.0",
            "bar_color": null,
            "_model_module": "@jupyter-widgets/controls"
          }
        },
        "7b1b1834a9fa4d38af109a18a8e9a064": {
          "model_module": "@jupyter-widgets/base",
          "model_name": "LayoutModel",
          "state": {
            "_view_name": "LayoutView",
            "grid_template_rows": null,
            "right": null,
            "justify_content": null,
            "_view_module": "@jupyter-widgets/base",
            "overflow": null,
            "_model_module_version": "1.2.0",
            "_view_count": null,
            "flex_flow": null,
            "width": null,
            "min_width": null,
            "border": null,
            "align_items": null,
            "bottom": null,
            "_model_module": "@jupyter-widgets/base",
            "top": null,
            "grid_column": null,
            "overflow_y": null,
            "overflow_x": null,
            "grid_auto_flow": null,
            "grid_area": null,
            "grid_template_columns": null,
            "flex": null,
            "_model_name": "LayoutModel",
            "justify_items": null,
            "grid_row": null,
            "max_height": null,
            "align_content": null,
            "visibility": null,
            "align_self": null,
            "height": null,
            "min_height": null,
            "padding": null,
            "grid_auto_rows": null,
            "grid_gap": null,
            "max_width": null,
            "order": null,
            "_view_module_version": "1.2.0",
            "grid_template_areas": null,
            "object_position": null,
            "object_fit": null,
            "grid_auto_columns": null,
            "margin": null,
            "display": null,
            "left": null
          }
        },
        "0c5a309fdeab4af1998c6d42b9e35da1": {
          "model_module": "@jupyter-widgets/controls",
          "model_name": "DescriptionStyleModel",
          "state": {
            "_view_name": "StyleView",
            "_model_name": "DescriptionStyleModel",
            "description_width": "",
            "_view_module": "@jupyter-widgets/base",
            "_model_module_version": "1.5.0",
            "_view_count": null,
            "_view_module_version": "1.2.0",
            "_model_module": "@jupyter-widgets/controls"
          }
        },
        "2cda936888024c5880037beed2c4f2a3": {
          "model_module": "@jupyter-widgets/base",
          "model_name": "LayoutModel",
          "state": {
            "_view_name": "LayoutView",
            "grid_template_rows": null,
            "right": null,
            "justify_content": null,
            "_view_module": "@jupyter-widgets/base",
            "overflow": null,
            "_model_module_version": "1.2.0",
            "_view_count": null,
            "flex_flow": null,
            "width": null,
            "min_width": null,
            "border": null,
            "align_items": null,
            "bottom": null,
            "_model_module": "@jupyter-widgets/base",
            "top": null,
            "grid_column": null,
            "overflow_y": null,
            "overflow_x": null,
            "grid_auto_flow": null,
            "grid_area": null,
            "grid_template_columns": null,
            "flex": null,
            "_model_name": "LayoutModel",
            "justify_items": null,
            "grid_row": null,
            "max_height": null,
            "align_content": null,
            "visibility": null,
            "align_self": null,
            "height": null,
            "min_height": null,
            "padding": null,
            "grid_auto_rows": null,
            "grid_gap": null,
            "max_width": null,
            "order": null,
            "_view_module_version": "1.2.0",
            "grid_template_areas": null,
            "object_position": null,
            "object_fit": null,
            "grid_auto_columns": null,
            "margin": null,
            "display": null,
            "left": null
          }
        },
        "98ae69fe7d0449c8be58b687a8418221": {
          "model_module": "@jupyter-widgets/controls",
          "model_name": "HBoxModel",
          "state": {
            "_view_name": "HBoxView",
            "_dom_classes": [],
            "_model_name": "HBoxModel",
            "_view_module": "@jupyter-widgets/controls",
            "_model_module_version": "1.5.0",
            "_view_count": null,
            "_view_module_version": "1.5.0",
            "box_style": "",
            "layout": "IPY_MODEL_bc8b313a9c6943f4a97b1fa125305f81",
            "_model_module": "@jupyter-widgets/controls",
            "children": [
              "IPY_MODEL_da2b4310e5af481ea3e858ab1ad4367f",
              "IPY_MODEL_8f7e317396324a5fb0b4a6eb067d277f"
            ]
          }
        },
        "bc8b313a9c6943f4a97b1fa125305f81": {
          "model_module": "@jupyter-widgets/base",
          "model_name": "LayoutModel",
          "state": {
            "_view_name": "LayoutView",
            "grid_template_rows": null,
            "right": null,
            "justify_content": null,
            "_view_module": "@jupyter-widgets/base",
            "overflow": null,
            "_model_module_version": "1.2.0",
            "_view_count": null,
            "flex_flow": null,
            "width": null,
            "min_width": null,
            "border": null,
            "align_items": null,
            "bottom": null,
            "_model_module": "@jupyter-widgets/base",
            "top": null,
            "grid_column": null,
            "overflow_y": null,
            "overflow_x": null,
            "grid_auto_flow": null,
            "grid_area": null,
            "grid_template_columns": null,
            "flex": null,
            "_model_name": "LayoutModel",
            "justify_items": null,
            "grid_row": null,
            "max_height": null,
            "align_content": null,
            "visibility": null,
            "align_self": null,
            "height": null,
            "min_height": null,
            "padding": null,
            "grid_auto_rows": null,
            "grid_gap": null,
            "max_width": null,
            "order": null,
            "_view_module_version": "1.2.0",
            "grid_template_areas": null,
            "object_position": null,
            "object_fit": null,
            "grid_auto_columns": null,
            "margin": null,
            "display": null,
            "left": null
          }
        },
        "da2b4310e5af481ea3e858ab1ad4367f": {
          "model_module": "@jupyter-widgets/controls",
          "model_name": "FloatProgressModel",
          "state": {
            "_view_name": "ProgressView",
            "style": "IPY_MODEL_a945cbebc5094c71aa6a4a1c6b330692",
            "_dom_classes": [],
            "description": "Downloading: 100%",
            "_model_name": "FloatProgressModel",
            "bar_style": "success",
            "max": 456318,
            "_view_module": "@jupyter-widgets/controls",
            "_model_module_version": "1.5.0",
            "value": 456318,
            "_view_count": null,
            "_view_module_version": "1.5.0",
            "orientation": "horizontal",
            "min": 0,
            "description_tooltip": null,
            "_model_module": "@jupyter-widgets/controls",
            "layout": "IPY_MODEL_b3f0046ae87348f29b99abbd167dc5c3"
          }
        },
        "8f7e317396324a5fb0b4a6eb067d277f": {
          "model_module": "@jupyter-widgets/controls",
          "model_name": "HTMLModel",
          "state": {
            "_view_name": "HTMLView",
            "style": "IPY_MODEL_180b2c0e6bf540fc90ff93e7dfcc6dab",
            "_dom_classes": [],
            "description": "",
            "_model_name": "HTMLModel",
            "placeholder": "​",
            "_view_module": "@jupyter-widgets/controls",
            "_model_module_version": "1.5.0",
            "value": " 456k/456k [00:01&lt;00:00, 324kB/s]",
            "_view_count": null,
            "_view_module_version": "1.5.0",
            "description_tooltip": null,
            "_model_module": "@jupyter-widgets/controls",
            "layout": "IPY_MODEL_76ace9bf4fd3404ab428693af842cbf4"
          }
        },
        "a945cbebc5094c71aa6a4a1c6b330692": {
          "model_module": "@jupyter-widgets/controls",
          "model_name": "ProgressStyleModel",
          "state": {
            "_view_name": "StyleView",
            "_model_name": "ProgressStyleModel",
            "description_width": "initial",
            "_view_module": "@jupyter-widgets/base",
            "_model_module_version": "1.5.0",
            "_view_count": null,
            "_view_module_version": "1.2.0",
            "bar_color": null,
            "_model_module": "@jupyter-widgets/controls"
          }
        },
        "b3f0046ae87348f29b99abbd167dc5c3": {
          "model_module": "@jupyter-widgets/base",
          "model_name": "LayoutModel",
          "state": {
            "_view_name": "LayoutView",
            "grid_template_rows": null,
            "right": null,
            "justify_content": null,
            "_view_module": "@jupyter-widgets/base",
            "overflow": null,
            "_model_module_version": "1.2.0",
            "_view_count": null,
            "flex_flow": null,
            "width": null,
            "min_width": null,
            "border": null,
            "align_items": null,
            "bottom": null,
            "_model_module": "@jupyter-widgets/base",
            "top": null,
            "grid_column": null,
            "overflow_y": null,
            "overflow_x": null,
            "grid_auto_flow": null,
            "grid_area": null,
            "grid_template_columns": null,
            "flex": null,
            "_model_name": "LayoutModel",
            "justify_items": null,
            "grid_row": null,
            "max_height": null,
            "align_content": null,
            "visibility": null,
            "align_self": null,
            "height": null,
            "min_height": null,
            "padding": null,
            "grid_auto_rows": null,
            "grid_gap": null,
            "max_width": null,
            "order": null,
            "_view_module_version": "1.2.0",
            "grid_template_areas": null,
            "object_position": null,
            "object_fit": null,
            "grid_auto_columns": null,
            "margin": null,
            "display": null,
            "left": null
          }
        },
        "180b2c0e6bf540fc90ff93e7dfcc6dab": {
          "model_module": "@jupyter-widgets/controls",
          "model_name": "DescriptionStyleModel",
          "state": {
            "_view_name": "StyleView",
            "_model_name": "DescriptionStyleModel",
            "description_width": "",
            "_view_module": "@jupyter-widgets/base",
            "_model_module_version": "1.5.0",
            "_view_count": null,
            "_view_module_version": "1.2.0",
            "_model_module": "@jupyter-widgets/controls"
          }
        },
        "76ace9bf4fd3404ab428693af842cbf4": {
          "model_module": "@jupyter-widgets/base",
          "model_name": "LayoutModel",
          "state": {
            "_view_name": "LayoutView",
            "grid_template_rows": null,
            "right": null,
            "justify_content": null,
            "_view_module": "@jupyter-widgets/base",
            "overflow": null,
            "_model_module_version": "1.2.0",
            "_view_count": null,
            "flex_flow": null,
            "width": null,
            "min_width": null,
            "border": null,
            "align_items": null,
            "bottom": null,
            "_model_module": "@jupyter-widgets/base",
            "top": null,
            "grid_column": null,
            "overflow_y": null,
            "overflow_x": null,
            "grid_auto_flow": null,
            "grid_area": null,
            "grid_template_columns": null,
            "flex": null,
            "_model_name": "LayoutModel",
            "justify_items": null,
            "grid_row": null,
            "max_height": null,
            "align_content": null,
            "visibility": null,
            "align_self": null,
            "height": null,
            "min_height": null,
            "padding": null,
            "grid_auto_rows": null,
            "grid_gap": null,
            "max_width": null,
            "order": null,
            "_view_module_version": "1.2.0",
            "grid_template_areas": null,
            "object_position": null,
            "object_fit": null,
            "grid_auto_columns": null,
            "margin": null,
            "display": null,
            "left": null
          }
        },
        "7385094ab2f34987bc980e0aac451383": {
          "model_module": "@jupyter-widgets/controls",
          "model_name": "HBoxModel",
          "state": {
            "_view_name": "HBoxView",
            "_dom_classes": [],
            "_model_name": "HBoxModel",
            "_view_module": "@jupyter-widgets/controls",
            "_model_module_version": "1.5.0",
            "_view_count": null,
            "_view_module_version": "1.5.0",
            "box_style": "",
            "layout": "IPY_MODEL_7fc30b58c4054cb2b4f374bbc260ca7f",
            "_model_module": "@jupyter-widgets/controls",
            "children": [
              "IPY_MODEL_c1df406119754e55b260d65c5d62cc61",
              "IPY_MODEL_c1ff30f91291412ca3c8a9f7376d8345"
            ]
          }
        },
        "7fc30b58c4054cb2b4f374bbc260ca7f": {
          "model_module": "@jupyter-widgets/base",
          "model_name": "LayoutModel",
          "state": {
            "_view_name": "LayoutView",
            "grid_template_rows": null,
            "right": null,
            "justify_content": null,
            "_view_module": "@jupyter-widgets/base",
            "overflow": null,
            "_model_module_version": "1.2.0",
            "_view_count": null,
            "flex_flow": null,
            "width": null,
            "min_width": null,
            "border": null,
            "align_items": null,
            "bottom": null,
            "_model_module": "@jupyter-widgets/base",
            "top": null,
            "grid_column": null,
            "overflow_y": null,
            "overflow_x": null,
            "grid_auto_flow": null,
            "grid_area": null,
            "grid_template_columns": null,
            "flex": null,
            "_model_name": "LayoutModel",
            "justify_items": null,
            "grid_row": null,
            "max_height": null,
            "align_content": null,
            "visibility": null,
            "align_self": null,
            "height": null,
            "min_height": null,
            "padding": null,
            "grid_auto_rows": null,
            "grid_gap": null,
            "max_width": null,
            "order": null,
            "_view_module_version": "1.2.0",
            "grid_template_areas": null,
            "object_position": null,
            "object_fit": null,
            "grid_auto_columns": null,
            "margin": null,
            "display": null,
            "left": null
          }
        },
        "c1df406119754e55b260d65c5d62cc61": {
          "model_module": "@jupyter-widgets/controls",
          "model_name": "FloatProgressModel",
          "state": {
            "_view_name": "ProgressView",
            "style": "IPY_MODEL_5fb97e2840554f05a714c4aaab9d0b28",
            "_dom_classes": [],
            "description": "Downloading: 100%",
            "_model_name": "FloatProgressModel",
            "bar_style": "success",
            "max": 150,
            "_view_module": "@jupyter-widgets/controls",
            "_model_module_version": "1.5.0",
            "value": 150,
            "_view_count": null,
            "_view_module_version": "1.5.0",
            "orientation": "horizontal",
            "min": 0,
            "description_tooltip": null,
            "_model_module": "@jupyter-widgets/controls",
            "layout": "IPY_MODEL_8e9b4f9fc5a64423a8a69e69b99ae37a"
          }
        },
        "c1ff30f91291412ca3c8a9f7376d8345": {
          "model_module": "@jupyter-widgets/controls",
          "model_name": "HTMLModel",
          "state": {
            "_view_name": "HTMLView",
            "style": "IPY_MODEL_67093c61fc8e4491a4f168f8158e1a47",
            "_dom_classes": [],
            "description": "",
            "_model_name": "HTMLModel",
            "placeholder": "​",
            "_view_module": "@jupyter-widgets/controls",
            "_model_module_version": "1.5.0",
            "value": " 150/150 [00:00&lt;00:00, 502B/s]",
            "_view_count": null,
            "_view_module_version": "1.5.0",
            "description_tooltip": null,
            "_model_module": "@jupyter-widgets/controls",
            "layout": "IPY_MODEL_47270b2f07074faaa8e23d69c7ac4b53"
          }
        },
        "5fb97e2840554f05a714c4aaab9d0b28": {
          "model_module": "@jupyter-widgets/controls",
          "model_name": "ProgressStyleModel",
          "state": {
            "_view_name": "StyleView",
            "_model_name": "ProgressStyleModel",
            "description_width": "initial",
            "_view_module": "@jupyter-widgets/base",
            "_model_module_version": "1.5.0",
            "_view_count": null,
            "_view_module_version": "1.2.0",
            "bar_color": null,
            "_model_module": "@jupyter-widgets/controls"
          }
        },
        "8e9b4f9fc5a64423a8a69e69b99ae37a": {
          "model_module": "@jupyter-widgets/base",
          "model_name": "LayoutModel",
          "state": {
            "_view_name": "LayoutView",
            "grid_template_rows": null,
            "right": null,
            "justify_content": null,
            "_view_module": "@jupyter-widgets/base",
            "overflow": null,
            "_model_module_version": "1.2.0",
            "_view_count": null,
            "flex_flow": null,
            "width": null,
            "min_width": null,
            "border": null,
            "align_items": null,
            "bottom": null,
            "_model_module": "@jupyter-widgets/base",
            "top": null,
            "grid_column": null,
            "overflow_y": null,
            "overflow_x": null,
            "grid_auto_flow": null,
            "grid_area": null,
            "grid_template_columns": null,
            "flex": null,
            "_model_name": "LayoutModel",
            "justify_items": null,
            "grid_row": null,
            "max_height": null,
            "align_content": null,
            "visibility": null,
            "align_self": null,
            "height": null,
            "min_height": null,
            "padding": null,
            "grid_auto_rows": null,
            "grid_gap": null,
            "max_width": null,
            "order": null,
            "_view_module_version": "1.2.0",
            "grid_template_areas": null,
            "object_position": null,
            "object_fit": null,
            "grid_auto_columns": null,
            "margin": null,
            "display": null,
            "left": null
          }
        },
        "67093c61fc8e4491a4f168f8158e1a47": {
          "model_module": "@jupyter-widgets/controls",
          "model_name": "DescriptionStyleModel",
          "state": {
            "_view_name": "StyleView",
            "_model_name": "DescriptionStyleModel",
            "description_width": "",
            "_view_module": "@jupyter-widgets/base",
            "_model_module_version": "1.5.0",
            "_view_count": null,
            "_view_module_version": "1.2.0",
            "_model_module": "@jupyter-widgets/controls"
          }
        },
        "47270b2f07074faaa8e23d69c7ac4b53": {
          "model_module": "@jupyter-widgets/base",
          "model_name": "LayoutModel",
          "state": {
            "_view_name": "LayoutView",
            "grid_template_rows": null,
            "right": null,
            "justify_content": null,
            "_view_module": "@jupyter-widgets/base",
            "overflow": null,
            "_model_module_version": "1.2.0",
            "_view_count": null,
            "flex_flow": null,
            "width": null,
            "min_width": null,
            "border": null,
            "align_items": null,
            "bottom": null,
            "_model_module": "@jupyter-widgets/base",
            "top": null,
            "grid_column": null,
            "overflow_y": null,
            "overflow_x": null,
            "grid_auto_flow": null,
            "grid_area": null,
            "grid_template_columns": null,
            "flex": null,
            "_model_name": "LayoutModel",
            "justify_items": null,
            "grid_row": null,
            "max_height": null,
            "align_content": null,
            "visibility": null,
            "align_self": null,
            "height": null,
            "min_height": null,
            "padding": null,
            "grid_auto_rows": null,
            "grid_gap": null,
            "max_width": null,
            "order": null,
            "_view_module_version": "1.2.0",
            "grid_template_areas": null,
            "object_position": null,
            "object_fit": null,
            "grid_auto_columns": null,
            "margin": null,
            "display": null,
            "left": null
          }
        },
        "738f2df7c3324402a19ee5f98ec1d9bc": {
          "model_module": "@jupyter-widgets/controls",
          "model_name": "HBoxModel",
          "state": {
            "_view_name": "HBoxView",
            "_dom_classes": [],
            "_model_name": "HBoxModel",
            "_view_module": "@jupyter-widgets/controls",
            "_model_module_version": "1.5.0",
            "_view_count": null,
            "_view_module_version": "1.5.0",
            "box_style": "",
            "layout": "IPY_MODEL_245f5c8611544b58b0cf9c315014eaed",
            "_model_module": "@jupyter-widgets/controls",
            "children": [
              "IPY_MODEL_ee5399f8f316458d8c12b7159649daa9",
              "IPY_MODEL_e901666f9580493aaf1c5c2b24c1926a"
            ]
          }
        },
        "245f5c8611544b58b0cf9c315014eaed": {
          "model_module": "@jupyter-widgets/base",
          "model_name": "LayoutModel",
          "state": {
            "_view_name": "LayoutView",
            "grid_template_rows": null,
            "right": null,
            "justify_content": null,
            "_view_module": "@jupyter-widgets/base",
            "overflow": null,
            "_model_module_version": "1.2.0",
            "_view_count": null,
            "flex_flow": null,
            "width": null,
            "min_width": null,
            "border": null,
            "align_items": null,
            "bottom": null,
            "_model_module": "@jupyter-widgets/base",
            "top": null,
            "grid_column": null,
            "overflow_y": null,
            "overflow_x": null,
            "grid_auto_flow": null,
            "grid_area": null,
            "grid_template_columns": null,
            "flex": null,
            "_model_name": "LayoutModel",
            "justify_items": null,
            "grid_row": null,
            "max_height": null,
            "align_content": null,
            "visibility": null,
            "align_self": null,
            "height": null,
            "min_height": null,
            "padding": null,
            "grid_auto_rows": null,
            "grid_gap": null,
            "max_width": null,
            "order": null,
            "_view_module_version": "1.2.0",
            "grid_template_areas": null,
            "object_position": null,
            "object_fit": null,
            "grid_auto_columns": null,
            "margin": null,
            "display": null,
            "left": null
          }
        },
        "ee5399f8f316458d8c12b7159649daa9": {
          "model_module": "@jupyter-widgets/controls",
          "model_name": "FloatProgressModel",
          "state": {
            "_view_name": "ProgressView",
            "style": "IPY_MODEL_0fce57129b1a41c6b23718ac93cd2870",
            "_dom_classes": [],
            "description": "Downloading: 100%",
            "_model_name": "FloatProgressModel",
            "bar_style": "success",
            "max": 498676425,
            "_view_module": "@jupyter-widgets/controls",
            "_model_module_version": "1.5.0",
            "value": 498676425,
            "_view_count": null,
            "_view_module_version": "1.5.0",
            "orientation": "horizontal",
            "min": 0,
            "description_tooltip": null,
            "_model_module": "@jupyter-widgets/controls",
            "layout": "IPY_MODEL_11d82e9e765d462499b0654e727c0d54"
          }
        },
        "e901666f9580493aaf1c5c2b24c1926a": {
          "model_module": "@jupyter-widgets/controls",
          "model_name": "HTMLModel",
          "state": {
            "_view_name": "HTMLView",
            "style": "IPY_MODEL_5e08b3c0e9604801841c5750504ec379",
            "_dom_classes": [],
            "description": "",
            "_model_name": "HTMLModel",
            "placeholder": "​",
            "_view_module": "@jupyter-widgets/controls",
            "_model_module_version": "1.5.0",
            "value": " 499M/499M [00:15&lt;00:00, 33.2MB/s]",
            "_view_count": null,
            "_view_module_version": "1.5.0",
            "description_tooltip": null,
            "_model_module": "@jupyter-widgets/controls",
            "layout": "IPY_MODEL_8e48582919024baf838a8ae76f26bc57"
          }
        },
        "0fce57129b1a41c6b23718ac93cd2870": {
          "model_module": "@jupyter-widgets/controls",
          "model_name": "ProgressStyleModel",
          "state": {
            "_view_name": "StyleView",
            "_model_name": "ProgressStyleModel",
            "description_width": "initial",
            "_view_module": "@jupyter-widgets/base",
            "_model_module_version": "1.5.0",
            "_view_count": null,
            "_view_module_version": "1.2.0",
            "bar_color": null,
            "_model_module": "@jupyter-widgets/controls"
          }
        },
        "11d82e9e765d462499b0654e727c0d54": {
          "model_module": "@jupyter-widgets/base",
          "model_name": "LayoutModel",
          "state": {
            "_view_name": "LayoutView",
            "grid_template_rows": null,
            "right": null,
            "justify_content": null,
            "_view_module": "@jupyter-widgets/base",
            "overflow": null,
            "_model_module_version": "1.2.0",
            "_view_count": null,
            "flex_flow": null,
            "width": null,
            "min_width": null,
            "border": null,
            "align_items": null,
            "bottom": null,
            "_model_module": "@jupyter-widgets/base",
            "top": null,
            "grid_column": null,
            "overflow_y": null,
            "overflow_x": null,
            "grid_auto_flow": null,
            "grid_area": null,
            "grid_template_columns": null,
            "flex": null,
            "_model_name": "LayoutModel",
            "justify_items": null,
            "grid_row": null,
            "max_height": null,
            "align_content": null,
            "visibility": null,
            "align_self": null,
            "height": null,
            "min_height": null,
            "padding": null,
            "grid_auto_rows": null,
            "grid_gap": null,
            "max_width": null,
            "order": null,
            "_view_module_version": "1.2.0",
            "grid_template_areas": null,
            "object_position": null,
            "object_fit": null,
            "grid_auto_columns": null,
            "margin": null,
            "display": null,
            "left": null
          }
        },
        "5e08b3c0e9604801841c5750504ec379": {
          "model_module": "@jupyter-widgets/controls",
          "model_name": "DescriptionStyleModel",
          "state": {
            "_view_name": "StyleView",
            "_model_name": "DescriptionStyleModel",
            "description_width": "",
            "_view_module": "@jupyter-widgets/base",
            "_model_module_version": "1.5.0",
            "_view_count": null,
            "_view_module_version": "1.2.0",
            "_model_module": "@jupyter-widgets/controls"
          }
        },
        "8e48582919024baf838a8ae76f26bc57": {
          "model_module": "@jupyter-widgets/base",
          "model_name": "LayoutModel",
          "state": {
            "_view_name": "LayoutView",
            "grid_template_rows": null,
            "right": null,
            "justify_content": null,
            "_view_module": "@jupyter-widgets/base",
            "overflow": null,
            "_model_module_version": "1.2.0",
            "_view_count": null,
            "flex_flow": null,
            "width": null,
            "min_width": null,
            "border": null,
            "align_items": null,
            "bottom": null,
            "_model_module": "@jupyter-widgets/base",
            "top": null,
            "grid_column": null,
            "overflow_y": null,
            "overflow_x": null,
            "grid_auto_flow": null,
            "grid_area": null,
            "grid_template_columns": null,
            "flex": null,
            "_model_name": "LayoutModel",
            "justify_items": null,
            "grid_row": null,
            "max_height": null,
            "align_content": null,
            "visibility": null,
            "align_self": null,
            "height": null,
            "min_height": null,
            "padding": null,
            "grid_auto_rows": null,
            "grid_gap": null,
            "max_width": null,
            "order": null,
            "_view_module_version": "1.2.0",
            "grid_template_areas": null,
            "object_position": null,
            "object_fit": null,
            "grid_auto_columns": null,
            "margin": null,
            "display": null,
            "left": null
          }
        }
      }
    }
  },
  "cells": [
    {
      "cell_type": "markdown",
      "metadata": {
        "id": "view-in-github",
        "colab_type": "text"
      },
      "source": [
        "<a href=\"https://colab.research.google.com/github/alsh626626/CE888/blob/main/Assignment2/Assignment2_Project2_develop.ipynb\" target=\"_parent\"><img src=\"https://colab.research.google.com/assets/colab-badge.svg\" alt=\"Open In Colab\"/></a>"
      ]
    },
    {
      "cell_type": "code",
      "metadata": {
        "colab": {
          "base_uri": "https://localhost:8080/"
        },
        "id": "frYDddi2EPXm",
        "outputId": "ef88df8f-e4aa-43f0-b3cf-b43be9658581"
      },
      "source": [
        "!pip install transformers"
      ],
      "execution_count": null,
      "outputs": [
        {
          "output_type": "stream",
          "text": [
            "Collecting transformers\n",
            "\u001b[?25l  Downloading https://files.pythonhosted.org/packages/d8/b2/57495b5309f09fa501866e225c84532d1fd89536ea62406b2181933fb418/transformers-4.5.1-py3-none-any.whl (2.1MB)\n",
            "\u001b[K     |████████████████████████████████| 2.1MB 7.6MB/s \n",
            "\u001b[?25hCollecting sacremoses\n",
            "\u001b[?25l  Downloading https://files.pythonhosted.org/packages/75/ee/67241dc87f266093c533a2d4d3d69438e57d7a90abb216fa076e7d475d4a/sacremoses-0.0.45-py3-none-any.whl (895kB)\n",
            "\u001b[K     |████████████████████████████████| 901kB 36.9MB/s \n",
            "\u001b[?25hRequirement already satisfied: filelock in /usr/local/lib/python3.7/dist-packages (from transformers) (3.0.12)\n",
            "Requirement already satisfied: requests in /usr/local/lib/python3.7/dist-packages (from transformers) (2.23.0)\n",
            "Requirement already satisfied: packaging in /usr/local/lib/python3.7/dist-packages (from transformers) (20.9)\n",
            "Requirement already satisfied: tqdm>=4.27 in /usr/local/lib/python3.7/dist-packages (from transformers) (4.41.1)\n",
            "Requirement already satisfied: regex!=2019.12.17 in /usr/local/lib/python3.7/dist-packages (from transformers) (2019.12.20)\n",
            "Requirement already satisfied: importlib-metadata; python_version < \"3.8\" in /usr/local/lib/python3.7/dist-packages (from transformers) (3.10.1)\n",
            "Collecting tokenizers<0.11,>=0.10.1\n",
            "\u001b[?25l  Downloading https://files.pythonhosted.org/packages/ae/04/5b870f26a858552025a62f1649c20d29d2672c02ff3c3fb4c688ca46467a/tokenizers-0.10.2-cp37-cp37m-manylinux2010_x86_64.whl (3.3MB)\n",
            "\u001b[K     |████████████████████████████████| 3.3MB 55.1MB/s \n",
            "\u001b[?25hRequirement already satisfied: numpy>=1.17 in /usr/local/lib/python3.7/dist-packages (from transformers) (1.19.5)\n",
            "Requirement already satisfied: joblib in /usr/local/lib/python3.7/dist-packages (from sacremoses->transformers) (1.0.1)\n",
            "Requirement already satisfied: six in /usr/local/lib/python3.7/dist-packages (from sacremoses->transformers) (1.15.0)\n",
            "Requirement already satisfied: click in /usr/local/lib/python3.7/dist-packages (from sacremoses->transformers) (7.1.2)\n",
            "Requirement already satisfied: chardet<4,>=3.0.2 in /usr/local/lib/python3.7/dist-packages (from requests->transformers) (3.0.4)\n",
            "Requirement already satisfied: idna<3,>=2.5 in /usr/local/lib/python3.7/dist-packages (from requests->transformers) (2.10)\n",
            "Requirement already satisfied: urllib3!=1.25.0,!=1.25.1,<1.26,>=1.21.1 in /usr/local/lib/python3.7/dist-packages (from requests->transformers) (1.24.3)\n",
            "Requirement already satisfied: certifi>=2017.4.17 in /usr/local/lib/python3.7/dist-packages (from requests->transformers) (2020.12.5)\n",
            "Requirement already satisfied: pyparsing>=2.0.2 in /usr/local/lib/python3.7/dist-packages (from packaging->transformers) (2.4.7)\n",
            "Requirement already satisfied: zipp>=0.5 in /usr/local/lib/python3.7/dist-packages (from importlib-metadata; python_version < \"3.8\"->transformers) (3.4.1)\n",
            "Requirement already satisfied: typing-extensions>=3.6.4; python_version < \"3.8\" in /usr/local/lib/python3.7/dist-packages (from importlib-metadata; python_version < \"3.8\"->transformers) (3.7.4.3)\n",
            "Installing collected packages: sacremoses, tokenizers, transformers\n",
            "Successfully installed sacremoses-0.0.45 tokenizers-0.10.2 transformers-4.5.1\n"
          ],
          "name": "stdout"
        }
      ]
    },
    {
      "cell_type": "code",
      "metadata": {
        "colab": {
          "base_uri": "https://localhost:8080/"
        },
        "id": "lF5T1zhud3hK",
        "outputId": "2840b8a4-4fbb-4aa1-85de-735cd02d45a4"
      },
      "source": [
        "from transformers import AutoModelForSequenceClassification\n",
        "from transformers import TFAutoModelForSequenceClassification\n",
        "from transformers import AutoTokenizer\n",
        "from scipy.special import softmax\n",
        "import csv\n",
        "import urllib.request\n",
        "import matplotlib\n",
        "import matplotlib.pyplot as plt\n",
        "import pandas as pd\n",
        "import numpy as np\n",
        "import seaborn as sn\n",
        "from sklearn import metrics\n",
        "from sklearn.metrics import confusion_matrix\n",
        "import requests\n",
        "import re\n",
        "import string\n",
        "import math\n",
        "import nltk\n",
        "from nltk.tokenize import word_tokenize\n",
        "nltk.download('stopwords')\n",
        "nltk.download('punkt')\n",
        "nltk.download('wordnet')"
      ],
      "execution_count": null,
      "outputs": [
        {
          "output_type": "stream",
          "text": [
            "[nltk_data] Downloading package stopwords to /root/nltk_data...\n",
            "[nltk_data]   Unzipping corpora/stopwords.zip.\n",
            "[nltk_data] Downloading package punkt to /root/nltk_data...\n",
            "[nltk_data]   Unzipping tokenizers/punkt.zip.\n",
            "[nltk_data] Downloading package wordnet to /root/nltk_data...\n",
            "[nltk_data]   Unzipping corpora/wordnet.zip.\n"
          ],
          "name": "stdout"
        },
        {
          "output_type": "execute_result",
          "data": {
            "text/plain": [
              "True"
            ]
          },
          "metadata": {
            "tags": []
          },
          "execution_count": 2
        }
      ]
    },
    {
      "cell_type": "code",
      "metadata": {
        "colab": {
          "base_uri": "https://localhost:8080/"
        },
        "id": "EBE72CZ9bIQr",
        "outputId": "d603e070-ee9a-495b-a6c2-02fb6e286a34"
      },
      "source": [
        "# Load the data\n",
        "\n",
        "# Tasks:\n",
        "# emoji, emotion, hate, irony, offensive, sentiment\n",
        "# stance/abortion, stance/atheism, stance/climate, stance/feminist, stance/hillary\n",
        "\n",
        "# Experiment focus on hate, irony and offensive\n",
        "# Both 3 tasks can be run on the same code by alternating the \"task\" parameter below\n",
        "# Other tasks have not been tested and may occur errors\n",
        "task='hate'\n",
        "r = requests.get(f\"https://raw.githubusercontent.com/cardiffnlp/tweeteval/main/datasets/{task}/test_labels.txt\", allow_redirects=True)\n",
        "open('test_labels.txt', 'wb').write(r.content)\n",
        "r = requests.get(f\"https://raw.githubusercontent.com/cardiffnlp/tweeteval/main/datasets/{task}/test_text.txt\", allow_redirects=True)\n",
        "open('test_text.txt', 'wb').write(r.content)\n",
        "r = requests.get(f\"https://raw.githubusercontent.com/cardiffnlp/tweeteval/main/datasets/{task}/train_labels.txt\", allow_redirects=True)\n",
        "open('train_labels.txt', 'wb').write(r.content)\n",
        "r = requests.get(f\"https://raw.githubusercontent.com/cardiffnlp/tweeteval/main/datasets/{task}/train_text.txt\", allow_redirects=True)\n",
        "open('train_text.txt', 'wb').write(r.content)\n",
        "r = requests.get(f\"https://raw.githubusercontent.com/cardiffnlp/tweeteval/main/datasets/{task}/val_labels.txt\", allow_redirects=True)\n",
        "open('val_labels.txt', 'wb').write(r.content)\n",
        "r = requests.get(f\"https://raw.githubusercontent.com/cardiffnlp/tweeteval/main/datasets/{task}/val_text.txt\", allow_redirects=True)\n",
        "open('val_text.txt', 'wb').write(r.content)\n",
        "\n",
        "file = open('test_labels.txt')\n",
        "test_labels = file.readlines()\n",
        "file.close\n",
        "file = open('test_text.txt')\n",
        "test_text = file.readlines()\n",
        "file.close\n",
        "file = open('train_labels.txt')\n",
        "train_labels = file.readlines()\n",
        "file.close\n",
        "file = open('train_text.txt')\n",
        "train_text = file.readlines()\n",
        "file.close\n",
        "file = open('val_labels.txt')\n",
        "val_labels = file.readlines()\n",
        "file.close\n",
        "file = open('val_text.txt')\n",
        "val_text = file.readlines()\n",
        "file.close\n",
        "\n",
        "print(\"Number of total data:        \", len(train_labels)+len(val_labels)+len(test_labels))\n",
        "print(\"Number of train labels:      \", len(train_labels))\n",
        "print(\"Number of train text:        \", len(train_text))\n",
        "print(\"Number of validation labels: \", len(val_labels))\n",
        "print(\"Number of validation text:   \", len(val_text))\n",
        "print(\"Number of test labels:       \", len(test_labels))\n",
        "print(\"Number of test text:         \", len(test_text))"
      ],
      "execution_count": null,
      "outputs": [
        {
          "output_type": "stream",
          "text": [
            "Number of total data:         4601\n",
            "Number of train labels:       2862\n",
            "Number of train text:         2862\n",
            "Number of validation labels:  955\n",
            "Number of validation text:    955\n",
            "Number of test labels:        784\n",
            "Number of test text:          784\n"
          ],
          "name": "stdout"
        }
      ]
    },
    {
      "cell_type": "code",
      "metadata": {
        "id": "QXQwhnCZzUPl"
      },
      "source": [
        "# Create subset from the dataset for system development\n",
        "#test_labels = val_labels[:]\n",
        "#test_text = val_text[:]\n",
        "#train_labels = train_labels[500:2500]\n",
        "#train_text = train_text[500:2500]\n",
        "#val_labels = val_labels[:100]\n",
        "#val_text = val_text[:100]"
      ],
      "execution_count": null,
      "outputs": []
    },
    {
      "cell_type": "code",
      "metadata": {
        "colab": {
          "base_uri": "https://localhost:8080/"
        },
        "id": "zb3Y1E1MMLSl",
        "outputId": "4f86850a-3c80-45eb-8522-e0ee3ef817e3"
      },
      "source": [
        "# Download label mapping\n",
        "import csv\n",
        "import urllib.request\n",
        "labels=[]\n",
        "mapping_link = f\"https://raw.githubusercontent.com/cardiffnlp/tweeteval/main/datasets/{task}/mapping.txt\"\n",
        "with urllib.request.urlopen(mapping_link) as f:\n",
        "    html = f.read().decode('utf-8').split(\"\\n\")\n",
        "    csvreader = csv.reader(html, delimiter='\\t')\n",
        "class_labels = [row[1] for row in csvreader if len(row) > 1]\n",
        "print('Labels:', class_labels)"
      ],
      "execution_count": null,
      "outputs": [
        {
          "output_type": "stream",
          "text": [
            "Labels: ['non_irony', 'irony']\n"
          ],
          "name": "stdout"
        }
      ]
    },
    {
      "cell_type": "code",
      "metadata": {
        "colab": {
          "base_uri": "https://localhost:8080/",
          "height": 419
        },
        "id": "wYeos13AjmeM",
        "outputId": "b740ade6-3dd6-4047-fb8f-26bc7d9148dd"
      },
      "source": [
        "df = pd.DataFrame(data={'label': train_labels + val_labels + test_labels, 'text': train_text + val_text + test_text})\n",
        "df"
      ],
      "execution_count": null,
      "outputs": [
        {
          "output_type": "execute_result",
          "data": {
            "text/html": [
              "<div>\n",
              "<style scoped>\n",
              "    .dataframe tbody tr th:only-of-type {\n",
              "        vertical-align: middle;\n",
              "    }\n",
              "\n",
              "    .dataframe tbody tr th {\n",
              "        vertical-align: top;\n",
              "    }\n",
              "\n",
              "    .dataframe thead th {\n",
              "        text-align: right;\n",
              "    }\n",
              "</style>\n",
              "<table border=\"1\" class=\"dataframe\">\n",
              "  <thead>\n",
              "    <tr style=\"text-align: right;\">\n",
              "      <th></th>\n",
              "      <th>label</th>\n",
              "      <th>text</th>\n",
              "    </tr>\n",
              "  </thead>\n",
              "  <tbody>\n",
              "    <tr>\n",
              "      <th>0</th>\n",
              "      <td>1\\n</td>\n",
              "      <td>seeing ppl walking w/ crutches makes me really...</td>\n",
              "    </tr>\n",
              "    <tr>\n",
              "      <th>1</th>\n",
              "      <td>0\\n</td>\n",
              "      <td>look for the girl with the broken smile, ask h...</td>\n",
              "    </tr>\n",
              "    <tr>\n",
              "      <th>2</th>\n",
              "      <td>1\\n</td>\n",
              "      <td>Now I remember why I buy books online @user #s...</td>\n",
              "    </tr>\n",
              "    <tr>\n",
              "      <th>3</th>\n",
              "      <td>1\\n</td>\n",
              "      <td>@user @user So is he banded from wearing the c...</td>\n",
              "    </tr>\n",
              "    <tr>\n",
              "      <th>4</th>\n",
              "      <td>1\\n</td>\n",
              "      <td>Just found out there are Etch A Sketch apps.  ...</td>\n",
              "    </tr>\n",
              "    <tr>\n",
              "      <th>...</th>\n",
              "      <td>...</td>\n",
              "      <td>...</td>\n",
              "    </tr>\n",
              "    <tr>\n",
              "      <th>4767</th>\n",
              "      <td>0\\n</td>\n",
              "      <td>Abraham was actually from modern day Iraq (Ur ...</td>\n",
              "    </tr>\n",
              "    <tr>\n",
              "      <th>4768</th>\n",
              "      <td>1\\n</td>\n",
              "      <td>@user which one is more disturbing dan? Tickli...</td>\n",
              "    </tr>\n",
              "    <tr>\n",
              "      <th>4769</th>\n",
              "      <td>0\\n</td>\n",
              "      <td>@user @user haha that's cool! I had a feeling ...</td>\n",
              "    </tr>\n",
              "    <tr>\n",
              "      <th>4770</th>\n",
              "      <td>1\\n</td>\n",
              "      <td>@user @user Let the Western bastards bank acco...</td>\n",
              "    </tr>\n",
              "    <tr>\n",
              "      <th>4771</th>\n",
              "      <td>0\\n</td>\n",
              "      <td>FALSE, slavery was based on economics, @user @...</td>\n",
              "    </tr>\n",
              "  </tbody>\n",
              "</table>\n",
              "<p>4772 rows × 2 columns</p>\n",
              "</div>"
            ],
            "text/plain": [
              "     label                                               text\n",
              "0      1\\n  seeing ppl walking w/ crutches makes me really...\n",
              "1      0\\n  look for the girl with the broken smile, ask h...\n",
              "2      1\\n  Now I remember why I buy books online @user #s...\n",
              "3      1\\n  @user @user So is he banded from wearing the c...\n",
              "4      1\\n  Just found out there are Etch A Sketch apps.  ...\n",
              "...    ...                                                ...\n",
              "4767   0\\n  Abraham was actually from modern day Iraq (Ur ...\n",
              "4768   1\\n  @user which one is more disturbing dan? Tickli...\n",
              "4769   0\\n  @user @user haha that's cool! I had a feeling ...\n",
              "4770   1\\n  @user @user Let the Western bastards bank acco...\n",
              "4771   0\\n  FALSE, slavery was based on economics, @user @...\n",
              "\n",
              "[4772 rows x 2 columns]"
            ]
          },
          "metadata": {
            "tags": []
          },
          "execution_count": 6
        }
      ]
    },
    {
      "cell_type": "code",
      "metadata": {
        "colab": {
          "base_uri": "https://localhost:8080/",
          "height": 419
        },
        "id": "TwMx_YvDxCAe",
        "outputId": "a4e03c82-6015-45bc-b769-f0be41d21110"
      },
      "source": [
        "df['length'] = df['text'].apply(lambda x: len(word_tokenize(x)))\n",
        "df"
      ],
      "execution_count": null,
      "outputs": [
        {
          "output_type": "execute_result",
          "data": {
            "text/html": [
              "<div>\n",
              "<style scoped>\n",
              "    .dataframe tbody tr th:only-of-type {\n",
              "        vertical-align: middle;\n",
              "    }\n",
              "\n",
              "    .dataframe tbody tr th {\n",
              "        vertical-align: top;\n",
              "    }\n",
              "\n",
              "    .dataframe thead th {\n",
              "        text-align: right;\n",
              "    }\n",
              "</style>\n",
              "<table border=\"1\" class=\"dataframe\">\n",
              "  <thead>\n",
              "    <tr style=\"text-align: right;\">\n",
              "      <th></th>\n",
              "      <th>label</th>\n",
              "      <th>text</th>\n",
              "      <th>length</th>\n",
              "    </tr>\n",
              "  </thead>\n",
              "  <tbody>\n",
              "    <tr>\n",
              "      <th>0</th>\n",
              "      <td>1\\n</td>\n",
              "      <td>seeing ppl walking w/ crutches makes me really...</td>\n",
              "      <td>17</td>\n",
              "    </tr>\n",
              "    <tr>\n",
              "      <th>1</th>\n",
              "      <td>0\\n</td>\n",
              "      <td>look for the girl with the broken smile, ask h...</td>\n",
              "      <td>25</td>\n",
              "    </tr>\n",
              "    <tr>\n",
              "      <th>2</th>\n",
              "      <td>1\\n</td>\n",
              "      <td>Now I remember why I buy books online @user #s...</td>\n",
              "      <td>12</td>\n",
              "    </tr>\n",
              "    <tr>\n",
              "      <th>3</th>\n",
              "      <td>1\\n</td>\n",
              "      <td>@user @user So is he banded from wearing the c...</td>\n",
              "      <td>15</td>\n",
              "    </tr>\n",
              "    <tr>\n",
              "      <th>4</th>\n",
              "      <td>1\\n</td>\n",
              "      <td>Just found out there are Etch A Sketch apps.  ...</td>\n",
              "      <td>14</td>\n",
              "    </tr>\n",
              "    <tr>\n",
              "      <th>...</th>\n",
              "      <td>...</td>\n",
              "      <td>...</td>\n",
              "      <td>...</td>\n",
              "    </tr>\n",
              "    <tr>\n",
              "      <th>4767</th>\n",
              "      <td>0\\n</td>\n",
              "      <td>Abraham was actually from modern day Iraq (Ur ...</td>\n",
              "      <td>17</td>\n",
              "    </tr>\n",
              "    <tr>\n",
              "      <th>4768</th>\n",
              "      <td>1\\n</td>\n",
              "      <td>@user which one is more disturbing dan? Tickli...</td>\n",
              "      <td>20</td>\n",
              "    </tr>\n",
              "    <tr>\n",
              "      <th>4769</th>\n",
              "      <td>0\\n</td>\n",
              "      <td>@user @user haha that's cool! I had a feeling ...</td>\n",
              "      <td>30</td>\n",
              "    </tr>\n",
              "    <tr>\n",
              "      <th>4770</th>\n",
              "      <td>1\\n</td>\n",
              "      <td>@user @user Let the Western bastards bank acco...</td>\n",
              "      <td>19</td>\n",
              "    </tr>\n",
              "    <tr>\n",
              "      <th>4771</th>\n",
              "      <td>0\\n</td>\n",
              "      <td>FALSE, slavery was based on economics, @user @...</td>\n",
              "      <td>20</td>\n",
              "    </tr>\n",
              "  </tbody>\n",
              "</table>\n",
              "<p>4772 rows × 3 columns</p>\n",
              "</div>"
            ],
            "text/plain": [
              "     label                                               text  length\n",
              "0      1\\n  seeing ppl walking w/ crutches makes me really...      17\n",
              "1      0\\n  look for the girl with the broken smile, ask h...      25\n",
              "2      1\\n  Now I remember why I buy books online @user #s...      12\n",
              "3      1\\n  @user @user So is he banded from wearing the c...      15\n",
              "4      1\\n  Just found out there are Etch A Sketch apps.  ...      14\n",
              "...    ...                                                ...     ...\n",
              "4767   0\\n  Abraham was actually from modern day Iraq (Ur ...      17\n",
              "4768   1\\n  @user which one is more disturbing dan? Tickli...      20\n",
              "4769   0\\n  @user @user haha that's cool! I had a feeling ...      30\n",
              "4770   1\\n  @user @user Let the Western bastards bank acco...      19\n",
              "4771   0\\n  FALSE, slavery was based on economics, @user @...      20\n",
              "\n",
              "[4772 rows x 3 columns]"
            ]
          },
          "metadata": {
            "tags": []
          },
          "execution_count": 7
        }
      ]
    },
    {
      "cell_type": "code",
      "metadata": {
        "colab": {
          "base_uri": "https://localhost:8080/"
        },
        "id": "fyfE-Qk6xkYG",
        "outputId": "5b4e4de7-9531-44bc-a040-25719e4b3627"
      },
      "source": [
        "np.mean(df['length'][:len(train_text)].tolist())"
      ],
      "execution_count": null,
      "outputs": [
        {
          "output_type": "execute_result",
          "data": {
            "text/plain": [
              "17.360587002096437"
            ]
          },
          "metadata": {
            "tags": []
          },
          "execution_count": 8
        }
      ]
    },
    {
      "cell_type": "code",
      "metadata": {
        "colab": {
          "base_uri": "https://localhost:8080/",
          "height": 315
        },
        "id": "Y-Nqdc-Sd5c6",
        "outputId": "d28dadbc-704f-4a38-d5a4-a457f20c67bf"
      },
      "source": [
        "# Show distribution of classes\n",
        "df_class = df.groupby('label').size().reset_index(name='counts')\n",
        "print(df_class)\n",
        "\n",
        "labels = class_labels\n",
        "sizes = df_class['counts'].tolist()\n",
        "plt.title(f\"Distribution of classes of {task} dataset\")\n",
        "plt.pie(sizes, labels=labels, autopct='%1.1f%%', counterclock=False, startangle=90)\n",
        "plt.axis('equal')\n",
        "plt.show()"
      ],
      "execution_count": null,
      "outputs": [
        {
          "output_type": "stream",
          "text": [
            "  label  counts\n",
            "0   0\\n    2415\n",
            "1   1\\n    2357\n"
          ],
          "name": "stdout"
        },
        {
          "output_type": "display_data",
          "data": {
            "image/png": "[encoded data removed]",
            "text/plain": [
              "<Figure size 432x288 with 1 Axes>"
            ]
          },
          "metadata": {
            "tags": []
          }
        }
      ]
    },
    {
      "cell_type": "markdown",
      "metadata": {
        "id": "s7YigPkQdI_C"
      },
      "source": [
        "# Pre-processing"
      ]
    },
    {
      "cell_type": "code",
      "metadata": {
        "id": "ljSF5Pe0kG67"
      },
      "source": [
        "# Cleaning the data\n",
        "df['label'] = df['label'].apply(lambda x: re.sub('\\n','', x))\n",
        "df['text'] = df['text'].apply(lambda x: re.sub('\\n','', x))\n",
        "# Lowercase the words\n",
        "df['cleaned'] = df['text'].apply(lambda x: x.lower())\n",
        "# Remove digits and words containing digits\n",
        "df['cleaned'] = df['cleaned'].apply(lambda x: re.sub('\\w*\\d\\w*','', x))\n",
        "# Remove Punctuations\n",
        "df['cleaned'] = df['cleaned'].apply(lambda x: re.sub('[%s]' % re.escape(string.punctuation), '', x))\n",
        "# Remove extra spaces\n",
        "df['cleaned'] = df['cleaned'].apply(lambda x: re.sub(' +',' ',x))"
      ],
      "execution_count": null,
      "outputs": []
    },
    {
      "cell_type": "code",
      "metadata": {
        "id": "3dRTHyaIfoRD"
      },
      "source": [
        "# Remove stop words\n",
        "stop_words = set(nltk.corpus.stopwords.words(\"english\"))\n",
        "df['cleaned'] = df['cleaned'].apply(lambda x: ' '.join([token for token in list(word_tokenize(x)) if not token in stop_words]))"
      ],
      "execution_count": null,
      "outputs": []
    },
    {
      "cell_type": "code",
      "metadata": {
        "colab": {
          "base_uri": "https://localhost:8080/"
        },
        "id": "UxF1XqXqvCO8",
        "outputId": "14d9646c-a743-4aee-b71a-243b566b2348"
      },
      "source": [
        "%%time\n",
        "import spacy\n",
        "nlp = spacy.load('en_core_web_sm',disable=['parser', 'ner'])\n",
        "\n",
        "# Lemmatization with stop words removal\n",
        "df['lemmatized']=df['cleaned'].apply(lambda x: ' '.join([token.lemma_ for token in list(nlp(x)) if (token.is_stop==False)]))\n",
        "\n",
        "# Remove stop words again\n",
        "df['lemmatized'] = df['lemmatized'].apply(lambda x: ' '.join([token for token in list(word_tokenize(x)) if not token in stop_words]))\n",
        "\n",
        "df"
      ],
      "execution_count": null,
      "outputs": [
        {
          "output_type": "stream",
          "text": [
            "CPU times: user 8min 29s, sys: 4.44 s, total: 8min 33s\n",
            "Wall time: 8min 33s\n"
          ],
          "name": "stdout"
        }
      ]
    },
    {
      "cell_type": "markdown",
      "metadata": {
        "id": "1QLfmwZli4vC"
      },
      "source": [
        "# Experiment"
      ]
    },
    {
      "cell_type": "code",
      "metadata": {
        "id": "zszD-CVT3Sfk"
      },
      "source": [
        "df['lemmatized'] = df['lemmatized'].astype(str)\n",
        "train_text_list = df['lemmatized'][:len(train_text)].tolist()\n",
        "val_text_list = df['lemmatized'][len(train_text):len(train_text) + len(val_text)].tolist()\n",
        "test_text_list = df['lemmatized'][len(train_text) + len(val_text):].tolist()\n",
        "\n",
        "df['label'] = df['label'].astype(int)\n",
        "train_label_list = df['label'][:len(train_text)].tolist()\n",
        "val_label_list = df['label'][len(train_text):len(train_text) + len(val_text)].tolist()\n",
        "test_label_list = df['label'][len(train_text) + len(val_text):].tolist()"
      ],
      "execution_count": null,
      "outputs": []
    },
    {
      "cell_type": "code",
      "metadata": {
        "colab": {
          "base_uri": "https://localhost:8080/"
        },
        "id": "M468Ops3sqck",
        "outputId": "be71c5d0-8a65-4985-cff8-78c79e482640"
      },
      "source": [
        "%%time\n",
        "# Creating feature vector\n",
        "# Most frequently 3000 word is selected as the features\n",
        "from sklearn.feature_extraction.text import CountVectorizer\n",
        "vectorizer = CountVectorizer(analyzer='word', ngram_range=(1, 1), max_features=3000)\n",
        "\n",
        "# Only training set will be used to obtain features\n",
        "train_set_vector = vectorizer.fit_transform(train_text_list)\n",
        "val_set_vector = vectorizer.transform(val_text_list)\n",
        "test_set_vector = vectorizer.transform(test_text_list)\n",
        "\n",
        "train_set_label = [label for label in train_label_list]\n",
        "val_set_label = [label for label in val_label_list]\n",
        "test_set_label = [label for label in test_label_list]"
      ],
      "execution_count": null,
      "outputs": [
        {
          "output_type": "stream",
          "text": [
            "CPU times: user 55.3 ms, sys: 2.02 ms, total: 57.4 ms\n",
            "Wall time: 60.2 ms\n"
          ],
          "name": "stdout"
        }
      ]
    },
    {
      "cell_type": "code",
      "metadata": {
        "id": "4Sf4xeoXbVw6",
        "colab": {
          "base_uri": "https://localhost:8080/"
        },
        "outputId": "e1af0074-7f85-4f8e-de40-99656ed7f73a"
      },
      "source": [
        "%%time\n",
        "# Creating feature tensor\n",
        "# Most frequently 3000 word is selected as the features\n",
        "from keras.preprocessing.text import Tokenizer\n",
        "from keras.preprocessing import sequence\n",
        "max_features = 3000\n",
        "maxlen = 30\n",
        "tokenizer = Tokenizer(num_words=3000)\n",
        "\n",
        "# Only training set will be used to obtain features\n",
        "tokenizer.fit_on_texts(train_text_list)\n",
        "\n",
        "train_set_content = tokenizer.texts_to_sequences(train_text_list)\n",
        "train_set_content = sequence.pad_sequences(train_set_content, maxlen=maxlen)\n",
        "val_set_content = tokenizer.texts_to_sequences(val_text_list)\n",
        "val_set_content = sequence.pad_sequences(val_set_content, maxlen=maxlen)\n",
        "test_set_content = tokenizer.texts_to_sequences(test_text_list)\n",
        "test_set_content = sequence.pad_sequences(test_set_content, maxlen=maxlen)"
      ],
      "execution_count": null,
      "outputs": [
        {
          "output_type": "stream",
          "text": [
            "CPU times: user 131 ms, sys: 4.01 ms, total: 135 ms\n",
            "Wall time: 152 ms\n"
          ],
          "name": "stdout"
        }
      ]
    },
    {
      "cell_type": "code",
      "metadata": {
        "id": "rqE74qw0jMUh"
      },
      "source": [
        "import seaborn as sn\n",
        "import sklearn\n",
        "from sklearn import metrics\n",
        "from sklearn.metrics import confusion_matrix\n",
        "from sklearn.feature_extraction.text import CountVectorizer\n",
        "from sklearn.model_selection import GridSearchCV\n",
        "\n",
        "from sklearn.tree import DecisionTreeClassifier\n",
        "from sklearn.neighbors import KNeighborsClassifier\n",
        "from sklearn.svm import SVC\n",
        "from sklearn.naive_bayes import MultinomialNB\n",
        "from sklearn.dummy import DummyClassifier\n",
        "\n",
        "import keras\n",
        "from keras import layers\n",
        "from keras import models\n",
        "from keras.models import Sequential\n",
        "from keras.layers import Dense, Embedding, SimpleRNN, LSTM, GRU, Bidirectional, TimeDistributed\n",
        "from keras.wrappers.scikit_learn import KerasClassifier"
      ],
      "execution_count": null,
      "outputs": []
    },
    {
      "cell_type": "markdown",
      "metadata": {
        "id": "MqX3Hjs915At"
      },
      "source": [
        "# Conventional"
      ]
    },
    {
      "cell_type": "code",
      "metadata": {
        "colab": {
          "base_uri": "https://localhost:8080/"
        },
        "id": "Idtc-mf2jzmD",
        "outputId": "ed1f4871-7d1a-4350-ccc0-15c87e473625"
      },
      "source": [
        "%%time\n",
        "# Dummy (majority) is used as the classification model\n",
        "Dummyclf = DummyClassifier(strategy='most_frequent')\n",
        "# Train Dummy Classifier\n",
        "Dummyclf = Dummyclf.fit(train_set_vector, train_set_label)"
      ],
      "execution_count": null,
      "outputs": [
        {
          "output_type": "stream",
          "text": [
            "CPU times: user 1.13 ms, sys: 2 µs, total: 1.13 ms\n",
            "Wall time: 1.29 ms\n"
          ],
          "name": "stdout"
        }
      ]
    },
    {
      "cell_type": "code",
      "metadata": {
        "id": "Jl7pdZiRge-4",
        "colab": {
          "base_uri": "https://localhost:8080/"
        },
        "outputId": "0b03d916-7d20-43a4-d0ab-fd65e29511fa"
      },
      "source": [
        "%%time\n",
        "# Predict using test dataset\n",
        "predicted_label = Dummyclf.predict(test_set_vector)"
      ],
      "execution_count": null,
      "outputs": [
        {
          "output_type": "stream",
          "text": [
            "CPU times: user 157 µs, sys: 0 ns, total: 157 µs\n",
            "Wall time: 288 µs\n"
          ],
          "name": "stdout"
        }
      ]
    },
    {
      "cell_type": "code",
      "metadata": {
        "colab": {
          "base_uri": "https://localhost:8080/",
          "height": 537
        },
        "id": "v08GD6OUj7da",
        "outputId": "d0bda584-f867-4ac4-874b-af0aa48988e7"
      },
      "source": [
        "print(\"Majority:\")\n",
        "#print('Best parameters: ', Dummyclf.best_params_)\n",
        "accuracy = metrics.accuracy_score(test_set_label, predicted_label)\n",
        "print('Accuracy Score:', accuracy)\n",
        "f1= metrics.f1_score(test_set_label, predicted_label, average='macro')\n",
        "print('Macro F1 Score:', f1)\n",
        "print('Clasification report:\\n', metrics.classification_report(test_set_label, predicted_label, zero_division=0))\n",
        "\n",
        "cm = confusion_matrix(test_set_label, predicted_label)\n",
        "df_cm = pd.DataFrame(cm, class_labels, class_labels)\n",
        "sn.set(font_scale=1.4) # for label size\n",
        "sn.heatmap(df_cm, annot=True, fmt=\"d\", annot_kws={\"size\": 16}) # font size\n",
        "plt.title(f\"Majority for {task} dataset\")\n",
        "plt.xlabel('predicted class')\n",
        "plt.ylabel('ground truth')\n",
        "plt.show()"
      ],
      "execution_count": null,
      "outputs": [
        {
          "output_type": "stream",
          "text": [
            "Majority:\n",
            "Accuracy Score: 0.4774869109947644\n",
            "Macro F1 Score: 0.32317505315379164\n",
            "Clasification report:\n",
            "               precision    recall  f1-score   support\n",
            "\n",
            "           0       0.00      0.00      0.00       499\n",
            "           1       0.48      1.00      0.65       456\n",
            "\n",
            "    accuracy                           0.48       955\n",
            "   macro avg       0.24      0.50      0.32       955\n",
            "weighted avg       0.23      0.48      0.31       955\n",
            "\n"
          ],
          "name": "stdout"
        },
        {
          "output_type": "display_data",
          "data": {
            "image/png": "[encoded data removed]",
            "text/plain": [
              "<Figure size 432x288 with 2 Axes>"
            ]
          },
          "metadata": {
            "tags": []
          }
        }
      ]
    },
    {
      "cell_type": "code",
      "metadata": {
        "colab": {
          "base_uri": "https://localhost:8080/"
        },
        "id": "RrVXeu1L4ett",
        "outputId": "979f74d1-d0b9-437a-b86c-84afe2493101"
      },
      "source": [
        "%%time\n",
        "# Naive Bayes Classifier is used as the classification model\n",
        "NBclf = MultinomialNB(alpha=1.0, fit_prior=True)\n",
        "param_grid = {\n",
        "    # 'fit_prior' : [True, False],\n",
        "}\n",
        "NBclf = GridSearchCV(estimator=NBclf, param_grid=param_grid, n_jobs=-1)\n",
        "# Train Naive Bayes Classifier\n",
        "NBclf = NBclf.fit(train_set_vector, train_set_label)"
      ],
      "execution_count": null,
      "outputs": [
        {
          "output_type": "stream",
          "text": [
            "CPU times: user 95.6 ms, sys: 52 ms, total: 148 ms\n",
            "Wall time: 1.03 s\n"
          ],
          "name": "stdout"
        }
      ]
    },
    {
      "cell_type": "code",
      "metadata": {
        "id": "wZrT9AErgjFO",
        "colab": {
          "base_uri": "https://localhost:8080/"
        },
        "outputId": "0eeffbf7-47b8-4d91-a7a6-8093a6ffad91"
      },
      "source": [
        "%%time\n",
        "# Predict using test dataset\n",
        "predicted_label = NBclf.predict(test_set_vector)"
      ],
      "execution_count": null,
      "outputs": [
        {
          "output_type": "stream",
          "text": [
            "CPU times: user 525 µs, sys: 995 µs, total: 1.52 ms\n",
            "Wall time: 1.15 ms\n"
          ],
          "name": "stdout"
        }
      ]
    },
    {
      "cell_type": "code",
      "metadata": {
        "colab": {
          "base_uri": "https://localhost:8080/",
          "height": 554
        },
        "id": "f0NDIo_MiaKM",
        "outputId": "cefc98f9-0790-41f8-c505-8e9f38fe673f"
      },
      "source": [
        "print(\"Naive Bayes:\")\n",
        "print('Best parameters: ', NBclf.best_params_)\n",
        "accuracy = metrics.accuracy_score(test_set_label, predicted_label)\n",
        "print('Accuracy Score:', accuracy)\n",
        "f1= metrics.f1_score(test_set_label, predicted_label, average='macro')\n",
        "print('Macro F1 Score:', f1)\n",
        "print('Clasification report:\\n', metrics.classification_report(test_set_label, predicted_label))\n",
        "\n",
        "cm = confusion_matrix(test_set_label, predicted_label)\n",
        "df_cm = pd.DataFrame(cm, class_labels, class_labels)\n",
        "sn.set(font_scale=1.4) # for label size\n",
        "sn.heatmap(df_cm, annot=True, fmt=\"d\", annot_kws={\"size\": 16}) # font size\n",
        "plt.title(f\"Naive Bayes Classifier for {task} dataset\")\n",
        "plt.xlabel('predicted class')\n",
        "plt.ylabel('ground truth')\n",
        "plt.show()"
      ],
      "execution_count": null,
      "outputs": [
        {
          "output_type": "stream",
          "text": [
            "Naive Bayes:\n",
            "Best parameters:  {}\n",
            "Accuracy Score: 0.5958115183246073\n",
            "Macro F1 Score: 0.5957578867951012\n",
            "Clasification report:\n",
            "               precision    recall  f1-score   support\n",
            "\n",
            "           0       0.63      0.56      0.59       499\n",
            "           1       0.57      0.64      0.60       456\n",
            "\n",
            "    accuracy                           0.60       955\n",
            "   macro avg       0.60      0.60      0.60       955\n",
            "weighted avg       0.60      0.60      0.60       955\n",
            "\n"
          ],
          "name": "stdout"
        },
        {
          "output_type": "display_data",
          "data": {
            "image/png": "[encoded data removed]",
            "text/plain": [
              "<Figure size 432x288 with 2 Axes>"
            ]
          },
          "metadata": {
            "tags": []
          }
        }
      ]
    },
    {
      "cell_type": "code",
      "metadata": {
        "colab": {
          "base_uri": "https://localhost:8080/"
        },
        "id": "HmDdIsqI45F9",
        "outputId": "ca12dd82-a4eb-41b1-9c72-40632cb15fad"
      },
      "source": [
        "%%time\n",
        "# Decision Tree is used as the classification model\n",
        "DTclf = DecisionTreeClassifier(criterion=\"entropy\", min_samples_split=10)\n",
        "param_grid = {\n",
        "    # 'criterion' : [\"entropy\", \"gini\"],\n",
        "    # 'max_depth' : np.arange(10, 21, 1),\n",
        "    # 'min_samples_split' : np.arange(10, 21, 1),\n",
        "}\n",
        "DTclf = GridSearchCV(estimator=DTclf, param_grid=param_grid, n_jobs=-1)\n",
        "# Train Decision Tree Classifier\n",
        "DTclf = DTclf.fit(train_set_vector, train_set_label)"
      ],
      "execution_count": null,
      "outputs": [
        {
          "output_type": "stream",
          "text": [
            "CPU times: user 407 ms, sys: 3.99 ms, total: 411 ms\n",
            "Wall time: 1.47 s\n"
          ],
          "name": "stdout"
        }
      ]
    },
    {
      "cell_type": "code",
      "metadata": {
        "id": "Ca4ltaL-gmVv",
        "colab": {
          "base_uri": "https://localhost:8080/"
        },
        "outputId": "87900257-9ac5-4dac-d4e4-654f3ef7c2de"
      },
      "source": [
        "%%time\n",
        "# Predict using test dataset\n",
        "predicted_label = DTclf.predict(test_set_vector)"
      ],
      "execution_count": null,
      "outputs": [
        {
          "output_type": "stream",
          "text": [
            "CPU times: user 1.44 ms, sys: 0 ns, total: 1.44 ms\n",
            "Wall time: 1.45 ms\n"
          ],
          "name": "stdout"
        }
      ]
    },
    {
      "cell_type": "code",
      "metadata": {
        "colab": {
          "base_uri": "https://localhost:8080/",
          "height": 554
        },
        "id": "WN6AY7YT1Hgl",
        "outputId": "e05cfc2f-1dfe-47af-b859-338bc919038f"
      },
      "source": [
        "print(\"Decision Tree:\")\n",
        "print('Best parameters: ', DTclf.best_params_)\n",
        "accuracy = metrics.accuracy_score(test_set_label, predicted_label)\n",
        "print('Accuracy Score:', accuracy)\n",
        "f1= metrics.f1_score(test_set_label, predicted_label, average='macro')\n",
        "print('Macro F1 Score:', f1)\n",
        "print('Clasification report:\\n', metrics.classification_report(test_set_label, predicted_label))\n",
        "\n",
        "cm = confusion_matrix(test_set_label, predicted_label)\n",
        "df_cm = pd.DataFrame(cm, class_labels, class_labels)\n",
        "sn.set(font_scale=1.4) # for label size\n",
        "sn.heatmap(df_cm, annot=True, fmt=\"d\", annot_kws={\"size\": 16}) # font size\n",
        "plt.title(f\"Decision Tree for {task} dataset\")\n",
        "plt.xlabel('predicted class')\n",
        "plt.ylabel('ground truth')\n",
        "plt.show()"
      ],
      "execution_count": null,
      "outputs": [
        {
          "output_type": "stream",
          "text": [
            "Decision Tree:\n",
            "Best parameters:  {}\n",
            "Accuracy Score: 0.5780104712041885\n",
            "Macro F1 Score: 0.5716912112481067\n",
            "Clasification report:\n",
            "               precision    recall  f1-score   support\n",
            "\n",
            "           0       0.58      0.67      0.62       499\n",
            "           1       0.57      0.48      0.52       456\n",
            "\n",
            "    accuracy                           0.58       955\n",
            "   macro avg       0.58      0.57      0.57       955\n",
            "weighted avg       0.58      0.58      0.57       955\n",
            "\n"
          ],
          "name": "stdout"
        },
        {
          "output_type": "display_data",
          "data": {
            "image/png": "[encoded data removed]",
            "text/plain": [
              "<Figure size 432x288 with 2 Axes>"
            ]
          },
          "metadata": {
            "tags": []
          }
        }
      ]
    },
    {
      "cell_type": "code",
      "metadata": {
        "colab": {
          "base_uri": "https://localhost:8080/"
        },
        "id": "j_dvZf215G5L",
        "outputId": "6852fa76-b7e5-4996-a778-a030f39a08aa"
      },
      "source": [
        "%%time\n",
        "# K-Nearest Neighbors is used as the classification model\n",
        "KNNclf = KNeighborsClassifier(weights=\"distance\", p = 2, n_neighbors=5) #euclidean distance\n",
        "param_grid = {\n",
        "        #'n_neighbors': np.arange(1, 11, 1),\n",
        "        #'weights': [\"uniform\", \"distance\"],\n",
        "}\n",
        "KNNclf = GridSearchCV(estimator=KNNclf, param_grid=param_grid, n_jobs=-1)\n",
        "# Train K-Nearest Neighbors Classifier\n",
        "KNNclf = KNNclf.fit(train_set_vector, train_set_label)"
      ],
      "execution_count": null,
      "outputs": [
        {
          "output_type": "stream",
          "text": [
            "CPU times: user 71.9 ms, sys: 1 ms, total: 72.9 ms\n",
            "Wall time: 193 ms\n"
          ],
          "name": "stdout"
        }
      ]
    },
    {
      "cell_type": "code",
      "metadata": {
        "id": "yJicd45mgpF_",
        "colab": {
          "base_uri": "https://localhost:8080/"
        },
        "outputId": "acebce2b-801c-473a-d1a7-cf1fb34ade39"
      },
      "source": [
        "%%time\n",
        "# Predict using test dataset\n",
        "predicted_label = KNNclf.predict(test_set_vector)"
      ],
      "execution_count": null,
      "outputs": [
        {
          "output_type": "stream",
          "text": [
            "CPU times: user 63.3 ms, sys: 23 ms, total: 86.3 ms\n",
            "Wall time: 91.1 ms\n"
          ],
          "name": "stdout"
        }
      ]
    },
    {
      "cell_type": "code",
      "metadata": {
        "colab": {
          "base_uri": "https://localhost:8080/",
          "height": 554
        },
        "id": "_VYG42BX3GbY",
        "outputId": "8bf54b77-76bf-4555-9c1b-6990759de238"
      },
      "source": [
        "print(\"K-Nearest Neighbors:\")\n",
        "print('Best parameters: ', KNNclf.best_params_)\n",
        "accuracy = metrics.accuracy_score(test_set_label, predicted_label)\n",
        "print('Accuracy Score:', accuracy)\n",
        "f1= metrics.f1_score(test_set_label, predicted_label, average='macro')\n",
        "print('Macro F1 Score:', f1)\n",
        "print('Clasification report:\\n', metrics.classification_report(test_set_label, predicted_label))\n",
        "\n",
        "cm = confusion_matrix(test_set_label, predicted_label)\n",
        "df_cm = pd.DataFrame(cm, class_labels, class_labels)\n",
        "sn.set(font_scale=1.4) # for label size\n",
        "sn.heatmap(df_cm, annot=True, fmt=\"d\", annot_kws={\"size\": 16}) # font size\n",
        "plt.title(f\"KNN for {task} dataset\")\n",
        "plt.xlabel('predicted class')\n",
        "plt.ylabel('ground truth')\n",
        "plt.show()"
      ],
      "execution_count": null,
      "outputs": [
        {
          "output_type": "stream",
          "text": [
            "K-Nearest Neighbors:\n",
            "Best parameters:  {}\n",
            "Accuracy Score: 0.5790575916230366\n",
            "Macro F1 Score: 0.5772177046349565\n",
            "Clasification report:\n",
            "               precision    recall  f1-score   support\n",
            "\n",
            "           0       0.59      0.62      0.61       499\n",
            "           1       0.56      0.54      0.55       456\n",
            "\n",
            "    accuracy                           0.58       955\n",
            "   macro avg       0.58      0.58      0.58       955\n",
            "weighted avg       0.58      0.58      0.58       955\n",
            "\n"
          ],
          "name": "stdout"
        },
        {
          "output_type": "display_data",
          "data": {
            "image/png": "[encoded data removed]",
            "text/plain": [
              "<Figure size 432x288 with 2 Axes>"
            ]
          },
          "metadata": {
            "tags": []
          }
        }
      ]
    },
    {
      "cell_type": "code",
      "metadata": {
        "colab": {
          "base_uri": "https://localhost:8080/"
        },
        "id": "5Z4Otfpx5LiT",
        "outputId": "5fcf3935-a76b-4374-baa2-a83f91bb1fd7"
      },
      "source": [
        "%%time\n",
        "# Support Vector Machine is used as the classification model\n",
        "SVMclf = SVC(kernel='rbf', C=1, gamma=0.1)\n",
        "param_grid = {\n",
        "    #'kernel': [\"linear\", \"poly\", \"rbf\"],\n",
        "    #'C' : np.logspace(-1, 3, 5),\n",
        "    #'gamma' : np.logspace(-4, -0, 5),\n",
        "}\n",
        "SVMclf = GridSearchCV(estimator=SVMclf, param_grid=param_grid, n_jobs=-1)\n",
        "# Train Support Vector Machine Classifier\n",
        "SVMclf = SVMclf.fit(train_set_vector, train_set_label)"
      ],
      "execution_count": null,
      "outputs": [
        {
          "output_type": "stream",
          "text": [
            "CPU times: user 745 ms, sys: 6.01 ms, total: 751 ms\n",
            "Wall time: 2.77 s\n"
          ],
          "name": "stdout"
        }
      ]
    },
    {
      "cell_type": "code",
      "metadata": {
        "id": "K0ciSknEgt2w",
        "colab": {
          "base_uri": "https://localhost:8080/"
        },
        "outputId": "76e6960d-63d0-4b6f-ff47-498c1718c1d7"
      },
      "source": [
        "%%time\n",
        "# Predict using test dataset\n",
        "predicted_label = SVMclf.predict(test_set_vector)"
      ],
      "execution_count": null,
      "outputs": [
        {
          "output_type": "stream",
          "text": [
            "CPU times: user 180 ms, sys: 0 ns, total: 180 ms\n",
            "Wall time: 180 ms\n"
          ],
          "name": "stdout"
        }
      ]
    },
    {
      "cell_type": "code",
      "metadata": {
        "colab": {
          "base_uri": "https://localhost:8080/",
          "height": 554
        },
        "id": "XdGl5VcdjfiL",
        "outputId": "9dbeb33f-d0f2-42d9-8bcc-f8500c037295"
      },
      "source": [
        "print(\"Support Vector Machine:\")\n",
        "print('Best parameters: ', SVMclf.best_params_)\n",
        "accuracy = metrics.accuracy_score(test_set_label, predicted_label)\n",
        "print('Accuracy Score:', accuracy)\n",
        "f1= metrics.f1_score(test_set_label, predicted_label, average='macro')\n",
        "print('Macro F1 Score:', f1)\n",
        "print('Clasification report:\\n', metrics.classification_report(test_set_label, predicted_label))\n",
        "\n",
        "cm = confusion_matrix(test_set_label, predicted_label)\n",
        "df_cm = pd.DataFrame(cm, class_labels, class_labels)\n",
        "sn.set(font_scale=1.4) # for label size\n",
        "sn.heatmap(df_cm, annot=True, fmt=\"d\", annot_kws={\"size\": 16}) # font size\n",
        "plt.title(f\"SVM for {task} dataset\")\n",
        "plt.xlabel('predicted class')\n",
        "plt.ylabel('ground truth')\n",
        "plt.show()"
      ],
      "execution_count": null,
      "outputs": [
        {
          "output_type": "stream",
          "text": [
            "Support Vector Machine:\n",
            "Best parameters:  {}\n",
            "Accuracy Score: 0.6094240837696335\n",
            "Macro F1 Score: 0.6025047174074847\n",
            "Clasification report:\n",
            "               precision    recall  f1-score   support\n",
            "\n",
            "           0       0.61      0.71      0.65       499\n",
            "           1       0.61      0.50      0.55       456\n",
            "\n",
            "    accuracy                           0.61       955\n",
            "   macro avg       0.61      0.60      0.60       955\n",
            "weighted avg       0.61      0.61      0.60       955\n",
            "\n"
          ],
          "name": "stdout"
        },
        {
          "output_type": "display_data",
          "data": {
            "image/png": "[encoded data removed]",
            "text/plain": [
              "<Figure size 432x288 with 2 Axes>"
            ]
          },
          "metadata": {
            "tags": []
          }
        }
      ]
    },
    {
      "cell_type": "markdown",
      "metadata": {
        "id": "w4zMCtbs0Ag6"
      },
      "source": [
        "# Deep Learning"
      ]
    },
    {
      "cell_type": "code",
      "metadata": {
        "colab": {
          "base_uri": "https://localhost:8080/"
        },
        "id": "F8V2TxO3Tu4i",
        "outputId": "dff9fe2e-e2f5-4bb7-adb8-71394be66e03"
      },
      "source": [
        "%%time\n",
        "# SimpleANN is used as the classification model\n",
        "model = models.Sequential()\n",
        "model.add(Dense(32, input_shape=(30,)))\n",
        "model.add(Dense(1, activation='sigmoid'))\n",
        "model.summary()\n",
        "model.compile(optimizer='rmsprop', loss='binary_crossentropy', metrics=['acc'])\n",
        "# Train SimpleANN Classifier\n",
        "history = model.fit(train_set_content, np.array(train_set_label), \n",
        "                    epochs=5,\n",
        "                    batch_size=128,\n",
        "                    #validation_split=0.2,\n",
        "                    validation_data=(val_set_content, np.array(val_set_label)),\n",
        "                    )"
      ],
      "execution_count": null,
      "outputs": [
        {
          "output_type": "stream",
          "text": [
            "Model: \"sequential\"\n",
            "_________________________________________________________________\n",
            "Layer (type)                 Output Shape              Param #   \n",
            "=================================================================\n",
            "dense (Dense)                (None, 32)                992       \n",
            "_________________________________________________________________\n",
            "dense_1 (Dense)              (None, 1)                 33        \n",
            "=================================================================\n",
            "Total params: 1,025\n",
            "Trainable params: 1,025\n",
            "Non-trainable params: 0\n",
            "_________________________________________________________________\n",
            "Epoch 1/5\n",
            "23/23 [==============================] - 1s 14ms/step - loss: 174.2621 - acc: 0.5060 - val_loss: 76.9375 - val_acc: 0.4775\n",
            "Epoch 2/5\n",
            "23/23 [==============================] - 0s 4ms/step - loss: 66.9587 - acc: 0.5035 - val_loss: 15.2418 - val_acc: 0.4848\n",
            "Epoch 3/5\n",
            "23/23 [==============================] - 0s 4ms/step - loss: 11.3060 - acc: 0.5167 - val_loss: 7.5036 - val_acc: 0.5037\n",
            "Epoch 4/5\n",
            "23/23 [==============================] - 0s 4ms/step - loss: 7.1422 - acc: 0.5103 - val_loss: 5.5556 - val_acc: 0.5183\n",
            "Epoch 5/5\n",
            "23/23 [==============================] - 0s 4ms/step - loss: 6.5943 - acc: 0.4881 - val_loss: 4.7292 - val_acc: 0.4827\n",
            "CPU times: user 1.36 s, sys: 67.3 ms, total: 1.43 s\n",
            "Wall time: 1.68 s\n"
          ],
          "name": "stdout"
        }
      ]
    },
    {
      "cell_type": "code",
      "metadata": {
        "colab": {
          "base_uri": "https://localhost:8080/"
        },
        "id": "GCXE92ugT8MH",
        "outputId": "60bd26aa-e95d-4385-9f59-fdddc958c361"
      },
      "source": [
        "%%time\n",
        "# Predict using test dataset\n",
        "#model.evaluate(val_set_content, np.array(val_set_label))\n",
        "predicted_label = model.predict(test_set_content)\n",
        "predicted_label = np.around(predicted_label)"
      ],
      "execution_count": null,
      "outputs": [
        {
          "output_type": "stream",
          "text": [
            "CPU times: user 113 ms, sys: 5.02 ms, total: 118 ms\n",
            "Wall time: 115 ms\n"
          ],
          "name": "stdout"
        }
      ]
    },
    {
      "cell_type": "code",
      "metadata": {
        "colab": {
          "base_uri": "https://localhost:8080/",
          "height": 537
        },
        "id": "kWRNqfbkT8VC",
        "outputId": "13e19d7b-6812-428a-dfd0-57227f7b619b"
      },
      "source": [
        "print(\"SimpleANN:\")\n",
        "accuracy = metrics.accuracy_score(test_set_label, predicted_label)\n",
        "print('Accuracy Score:', accuracy)\n",
        "f1= metrics.f1_score(test_set_label, predicted_label, average='macro')\n",
        "print('Macro F1 Score:', f1)\n",
        "print('Clasification report:\\n', metrics.classification_report(test_set_label, predicted_label))\n",
        "\n",
        "cm = confusion_matrix(test_set_label, predicted_label)\n",
        "df_cm = pd.DataFrame(cm, class_labels, class_labels)\n",
        "sn.set(font_scale=1.4) # for label size\n",
        "sn.heatmap(df_cm, annot=True, fmt=\"d\", annot_kws={\"size\": 16}) # font size\n",
        "plt.title(f\"SimpleANN for {task} dataset\")\n",
        "plt.xlabel('predicted class')\n",
        "plt.ylabel('ground truth')\n",
        "plt.show()"
      ],
      "execution_count": null,
      "outputs": [
        {
          "output_type": "stream",
          "text": [
            "SimpleANN:\n",
            "Accuracy Score: 0.4827225130890052\n",
            "Macro F1 Score: 0.4081449848451394\n",
            "Clasification report:\n",
            "               precision    recall  f1-score   support\n",
            "\n",
            "           0       0.52      0.12      0.20       499\n",
            "           1       0.48      0.88      0.62       456\n",
            "\n",
            "    accuracy                           0.48       955\n",
            "   macro avg       0.50      0.50      0.41       955\n",
            "weighted avg       0.50      0.48      0.40       955\n",
            "\n"
          ],
          "name": "stdout"
        },
        {
          "output_type": "display_data",
          "data": {
            "image/png": "[encoded data removed]",
            "text/plain": [
              "<Figure size 432x288 with 2 Axes>"
            ]
          },
          "metadata": {
            "tags": []
          }
        }
      ]
    },
    {
      "cell_type": "code",
      "metadata": {
        "colab": {
          "base_uri": "https://localhost:8080/"
        },
        "id": "WEml0fPVUwGo",
        "outputId": "18f8575f-e324-4cb6-ef1c-6276a715d461"
      },
      "source": [
        "%%time\n",
        "# SimpleRNN is used as the classification model\n",
        "model = models.Sequential()\n",
        "model.add(Embedding(max_features, 32))\n",
        "model.add(SimpleRNN(32))\n",
        "model.add(layers.Dropout(0.1))\n",
        "model.add(Dense(1, activation='sigmoid'))\n",
        "model.summary()\n",
        "model.compile(optimizer='rmsprop', loss='binary_crossentropy', metrics=['acc'])\n",
        "# Train SimpleRNN Classifier\n",
        "history = model.fit(train_set_content, np.array(train_set_label), \n",
        "                    epochs=5,\n",
        "                    batch_size=128,\n",
        "                    #validation_split=0.2,\n",
        "                    validation_data=(val_set_content, np.array(val_set_label)),\n",
        "                    )"
      ],
      "execution_count": null,
      "outputs": [
        {
          "output_type": "stream",
          "text": [
            "Model: \"sequential_1\"\n",
            "_________________________________________________________________\n",
            "Layer (type)                 Output Shape              Param #   \n",
            "=================================================================\n",
            "embedding (Embedding)        (None, None, 32)          96000     \n",
            "_________________________________________________________________\n",
            "simple_rnn (SimpleRNN)       (None, 32)                2080      \n",
            "_________________________________________________________________\n",
            "dropout (Dropout)            (None, 32)                0         \n",
            "_________________________________________________________________\n",
            "dense_2 (Dense)              (None, 1)                 33        \n",
            "=================================================================\n",
            "Total params: 98,113\n",
            "Trainable params: 98,113\n",
            "Non-trainable params: 0\n",
            "_________________________________________________________________\n",
            "Epoch 1/5\n",
            "23/23 [==============================] - 2s 23ms/step - loss: 0.6916 - acc: 0.5273 - val_loss: 0.6911 - val_acc: 0.5141\n",
            "Epoch 2/5\n",
            "23/23 [==============================] - 0s 12ms/step - loss: 0.6440 - acc: 0.7159 - val_loss: 0.6771 - val_acc: 0.5738\n",
            "Epoch 3/5\n",
            "23/23 [==============================] - 0s 12ms/step - loss: 0.5644 - acc: 0.7767 - val_loss: 0.6835 - val_acc: 0.5791\n",
            "Epoch 4/5\n",
            "23/23 [==============================] - 0s 12ms/step - loss: 0.4539 - acc: 0.8476 - val_loss: 0.6847 - val_acc: 0.5822\n",
            "Epoch 5/5\n",
            "23/23 [==============================] - 0s 12ms/step - loss: 0.3571 - acc: 0.8821 - val_loss: 0.7251 - val_acc: 0.5686\n",
            "CPU times: user 3.3 s, sys: 132 ms, total: 3.43 s\n",
            "Wall time: 2.86 s\n"
          ],
          "name": "stdout"
        }
      ]
    },
    {
      "cell_type": "code",
      "metadata": {
        "colab": {
          "base_uri": "https://localhost:8080/"
        },
        "id": "P0WDmDfiU_eK",
        "outputId": "13d4d019-501d-4461-f851-de144c16d7bb"
      },
      "source": [
        "%%time\n",
        "# Predict using test dataset\n",
        "#model.evaluate(val_set_content, np.array(val_set_label))\n",
        "predicted_label = model.predict(test_set_content)\n",
        "predicted_label = np.around(predicted_label)"
      ],
      "execution_count": null,
      "outputs": [
        {
          "output_type": "stream",
          "text": [
            "CPU times: user 211 ms, sys: 7.04 ms, total: 218 ms\n",
            "Wall time: 200 ms\n"
          ],
          "name": "stdout"
        }
      ]
    },
    {
      "cell_type": "code",
      "metadata": {
        "colab": {
          "base_uri": "https://localhost:8080/",
          "height": 537
        },
        "id": "vT-pc5EPU_kK",
        "outputId": "7a01e6c5-e988-47f1-e589-4dadb13c1cf2"
      },
      "source": [
        "print(\"SimpleRNN:\")\n",
        "accuracy = metrics.accuracy_score(test_set_label, predicted_label)\n",
        "print('Accuracy Score:', accuracy)\n",
        "f1= metrics.f1_score(test_set_label, predicted_label, average='macro')\n",
        "print('Macro F1 Score:', f1)\n",
        "print('Clasification report:\\n', metrics.classification_report(test_set_label, predicted_label))\n",
        "\n",
        "cm = confusion_matrix(test_set_label, predicted_label)\n",
        "df_cm = pd.DataFrame(cm, class_labels, class_labels)\n",
        "sn.set(font_scale=1.4) # for label size\n",
        "sn.heatmap(df_cm, annot=True, fmt=\"d\", annot_kws={\"size\": 16}) # font size\n",
        "plt.title(f\"SimpleRNN for {task} dataset\")\n",
        "plt.xlabel('predicted class')\n",
        "plt.ylabel('ground truth')\n",
        "plt.show()"
      ],
      "execution_count": null,
      "outputs": [
        {
          "output_type": "stream",
          "text": [
            "SimpleRNN:\n",
            "Accuracy Score: 0.5685863874345549\n",
            "Macro F1 Score: 0.562892159476706\n",
            "Clasification report:\n",
            "               precision    recall  f1-score   support\n",
            "\n",
            "           0       0.63      0.43      0.51       499\n",
            "           1       0.54      0.71      0.61       456\n",
            "\n",
            "    accuracy                           0.57       955\n",
            "   macro avg       0.58      0.57      0.56       955\n",
            "weighted avg       0.58      0.57      0.56       955\n",
            "\n"
          ],
          "name": "stdout"
        },
        {
          "output_type": "display_data",
          "data": {
            "image/png": "[encoded data removed]",
            "text/plain": [
              "<Figure size 432x288 with 2 Axes>"
            ]
          },
          "metadata": {
            "tags": []
          }
        }
      ]
    },
    {
      "cell_type": "code",
      "metadata": {
        "colab": {
          "base_uri": "https://localhost:8080/"
        },
        "id": "hPXrfYGzofxB",
        "outputId": "d1af730a-9b61-46a9-f426-1ba416fdac53"
      },
      "source": [
        "%%time\n",
        "# LSTM is used as the classification model\n",
        "model = models.Sequential()\n",
        "model.add(Embedding(max_features, 32))\n",
        "model.add(LSTM(32))\n",
        "model.add(layers.Dropout(0.1))\n",
        "model.add(Dense(1, activation='sigmoid'))\n",
        "model.summary()\n",
        "model.compile(optimizer='rmsprop', loss='binary_crossentropy', metrics=['acc'])\n",
        "# Train LSTM Classifier\n",
        "history = model.fit(train_set_content, np.array(train_set_label), \n",
        "                    epochs=5,\n",
        "                    batch_size=128,\n",
        "                    #validation_split=0.2,\n",
        "                    validation_data=(val_set_content, np.array(val_set_label)),\n",
        "                    )"
      ],
      "execution_count": null,
      "outputs": [
        {
          "output_type": "stream",
          "text": [
            "Model: \"sequential_2\"\n",
            "_________________________________________________________________\n",
            "Layer (type)                 Output Shape              Param #   \n",
            "=================================================================\n",
            "embedding_1 (Embedding)      (None, None, 32)          96000     \n",
            "_________________________________________________________________\n",
            "lstm (LSTM)                  (None, 32)                8320      \n",
            "_________________________________________________________________\n",
            "dropout_1 (Dropout)          (None, 32)                0         \n",
            "_________________________________________________________________\n",
            "dense_3 (Dense)              (None, 1)                 33        \n",
            "=================================================================\n",
            "Total params: 104,353\n",
            "Trainable params: 104,353\n",
            "Non-trainable params: 0\n",
            "_________________________________________________________________\n",
            "Epoch 1/5\n",
            "23/23 [==============================] - 3s 46ms/step - loss: 0.6930 - acc: 0.5128 - val_loss: 0.6896 - val_acc: 0.5445\n",
            "Epoch 2/5\n",
            "23/23 [==============================] - 1s 24ms/step - loss: 0.6805 - acc: 0.6297 - val_loss: 0.6792 - val_acc: 0.5476\n",
            "Epoch 3/5\n",
            "23/23 [==============================] - 1s 23ms/step - loss: 0.6386 - acc: 0.6664 - val_loss: 0.6902 - val_acc: 0.5267\n",
            "Epoch 4/5\n",
            "23/23 [==============================] - 1s 24ms/step - loss: 0.5823 - acc: 0.7139 - val_loss: 0.6543 - val_acc: 0.6168\n",
            "Epoch 5/5\n",
            "23/23 [==============================] - 1s 24ms/step - loss: 0.5172 - acc: 0.7715 - val_loss: 0.6594 - val_acc: 0.6073\n",
            "CPU times: user 6.78 s, sys: 259 ms, total: 7.04 s\n",
            "Wall time: 5.59 s\n"
          ],
          "name": "stdout"
        }
      ]
    },
    {
      "cell_type": "code",
      "metadata": {
        "id": "qNCE07xp8HtF",
        "colab": {
          "base_uri": "https://localhost:8080/"
        },
        "outputId": "c6379e87-7ec8-442e-99cb-9de3fb7b28df"
      },
      "source": [
        "%%time\n",
        "# Predict using test dataset\n",
        "#model.evaluate(val_set_content, np.array(val_set_label))\n",
        "predicted_label = model.predict(test_set_content)\n",
        "predicted_label = np.around(predicted_label)"
      ],
      "execution_count": null,
      "outputs": [
        {
          "output_type": "stream",
          "text": [
            "CPU times: user 497 ms, sys: 12.1 ms, total: 509 ms\n",
            "Wall time: 447 ms\n"
          ],
          "name": "stdout"
        }
      ]
    },
    {
      "cell_type": "code",
      "metadata": {
        "colab": {
          "base_uri": "https://localhost:8080/",
          "height": 537
        },
        "id": "u4NPfHHg-fiz",
        "outputId": "8d870103-80d9-4278-9fff-3f30b2ca9c60"
      },
      "source": [
        "print(\"LSTM:\")\n",
        "accuracy = metrics.accuracy_score(test_set_label, predicted_label)\n",
        "print('Accuracy Score:', accuracy)\n",
        "f1= metrics.f1_score(test_set_label, predicted_label, average='macro')\n",
        "print('Macro F1 Score:', f1)\n",
        "print('Clasification report:\\n', metrics.classification_report(test_set_label, predicted_label))\n",
        "\n",
        "cm = confusion_matrix(test_set_label, predicted_label)\n",
        "df_cm = pd.DataFrame(cm, class_labels, class_labels)\n",
        "sn.set(font_scale=1.4) # for label size\n",
        "sn.heatmap(df_cm, annot=True, fmt=\"d\", annot_kws={\"size\": 16}) # font size\n",
        "plt.title(f\"LSTM for {task} dataset\")\n",
        "plt.xlabel('predicted class')\n",
        "plt.ylabel('ground truth')\n",
        "plt.show()"
      ],
      "execution_count": null,
      "outputs": [
        {
          "output_type": "stream",
          "text": [
            "LSTM:\n",
            "Accuracy Score: 0.6073298429319371\n",
            "Macro F1 Score: 0.6056678129139457\n",
            "Clasification report:\n",
            "               precision    recall  f1-score   support\n",
            "\n",
            "           0       0.62      0.64      0.63       499\n",
            "           1       0.59      0.57      0.58       456\n",
            "\n",
            "    accuracy                           0.61       955\n",
            "   macro avg       0.61      0.61      0.61       955\n",
            "weighted avg       0.61      0.61      0.61       955\n",
            "\n"
          ],
          "name": "stdout"
        },
        {
          "output_type": "display_data",
          "data": {
            "image/png": "[encoded data removed]",
            "text/plain": [
              "<Figure size 432x288 with 2 Axes>"
            ]
          },
          "metadata": {
            "tags": []
          }
        }
      ]
    },
    {
      "cell_type": "code",
      "metadata": {
        "colab": {
          "base_uri": "https://localhost:8080/"
        },
        "id": "hCYp3yFcUYCo",
        "outputId": "4be32265-98c3-4b60-a1f7-46ba0ea264ad"
      },
      "source": [
        "%%time\n",
        "# BiLSTM is used as the classification model\n",
        "model = models.Sequential()\n",
        "model.add(Embedding(max_features, 32))\n",
        "model.add(Bidirectional(LSTM(32)))\n",
        "model.add(layers.Dropout(0.1))\n",
        "model.add(Dense(1, activation='sigmoid'))\n",
        "model.summary()\n",
        "model.compile(optimizer='rmsprop', loss='binary_crossentropy', metrics=['acc'])\n",
        "# Train BiLSTM Classifier\n",
        "history = model.fit(train_set_content, np.array(train_set_label), \n",
        "                    epochs=5,\n",
        "                    batch_size=128,\n",
        "                    #validation_split=0.2,\n",
        "                    validation_data=(val_set_content, np.array(val_set_label)),\n",
        "                    )"
      ],
      "execution_count": null,
      "outputs": [
        {
          "output_type": "stream",
          "text": [
            "Model: \"sequential_3\"\n",
            "_________________________________________________________________\n",
            "Layer (type)                 Output Shape              Param #   \n",
            "=================================================================\n",
            "embedding_2 (Embedding)      (None, None, 32)          96000     \n",
            "_________________________________________________________________\n",
            "bidirectional (Bidirectional (None, 64)                16640     \n",
            "_________________________________________________________________\n",
            "dropout_2 (Dropout)          (None, 64)                0         \n",
            "_________________________________________________________________\n",
            "dense_4 (Dense)              (None, 1)                 65        \n",
            "=================================================================\n",
            "Total params: 112,705\n",
            "Trainable params: 112,705\n",
            "Non-trainable params: 0\n",
            "_________________________________________________________________\n",
            "Epoch 1/5\n",
            "23/23 [==============================] - 5s 68ms/step - loss: 0.6925 - acc: 0.5173 - val_loss: 0.6925 - val_acc: 0.4942\n",
            "Epoch 2/5\n",
            "23/23 [==============================] - 1s 34ms/step - loss: 0.6790 - acc: 0.5893 - val_loss: 0.6766 - val_acc: 0.5801\n",
            "Epoch 3/5\n",
            "23/23 [==============================] - 1s 35ms/step - loss: 0.6432 - acc: 0.6738 - val_loss: 0.6634 - val_acc: 0.6084\n",
            "Epoch 4/5\n",
            "23/23 [==============================] - 1s 34ms/step - loss: 0.5915 - acc: 0.7096 - val_loss: 0.6805 - val_acc: 0.5759\n",
            "Epoch 5/5\n",
            "23/23 [==============================] - 1s 34ms/step - loss: 0.5311 - acc: 0.7463 - val_loss: 0.6612 - val_acc: 0.6157\n",
            "CPU times: user 11 s, sys: 336 ms, total: 11.4 s\n",
            "Wall time: 8.43 s\n"
          ],
          "name": "stdout"
        }
      ]
    },
    {
      "cell_type": "code",
      "metadata": {
        "colab": {
          "base_uri": "https://localhost:8080/"
        },
        "id": "IDJ5myr8UYtw",
        "outputId": "a104f1f9-ca2e-4c53-bc1d-51c569ce6fa6"
      },
      "source": [
        "%%time\n",
        "# Predict using test dataset\n",
        "#model.evaluate(val_set_content, np.array(val_set_label))\n",
        "predicted_label = model.predict(test_set_content)\n",
        "predicted_label = np.around(predicted_label)"
      ],
      "execution_count": null,
      "outputs": [
        {
          "output_type": "stream",
          "text": [
            "CPU times: user 1.16 s, sys: 31 ms, total: 1.19 s\n",
            "Wall time: 1.07 s\n"
          ],
          "name": "stdout"
        }
      ]
    },
    {
      "cell_type": "code",
      "metadata": {
        "colab": {
          "base_uri": "https://localhost:8080/",
          "height": 537
        },
        "id": "8M6d4uMEUYyf",
        "outputId": "169e2221-6a84-4232-a710-d9fb71761558"
      },
      "source": [
        "print(\"BiLSTM:\")\n",
        "accuracy = metrics.accuracy_score(test_set_label, predicted_label)\n",
        "print('Accuracy Score:', accuracy)\n",
        "f1= metrics.f1_score(test_set_label, predicted_label, average='macro')\n",
        "print('Macro F1 Score:', f1)\n",
        "print('Clasification report:\\n', metrics.classification_report(test_set_label, predicted_label))\n",
        "\n",
        "cm = confusion_matrix(test_set_label, predicted_label)\n",
        "df_cm = pd.DataFrame(cm, class_labels, class_labels)\n",
        "sn.set(font_scale=1.4) # for label size\n",
        "sn.heatmap(df_cm, annot=True, fmt=\"d\", annot_kws={\"size\": 16}) # font size\n",
        "plt.title(f\"BiLSTM for {task} dataset\")\n",
        "plt.xlabel('predicted class')\n",
        "plt.ylabel('ground truth')\n",
        "plt.show()"
      ],
      "execution_count": null,
      "outputs": [
        {
          "output_type": "stream",
          "text": [
            "BiLSTM:\n",
            "Accuracy Score: 0.6157068062827226\n",
            "Macro F1 Score: 0.6128525208742728\n",
            "Clasification report:\n",
            "               precision    recall  f1-score   support\n",
            "\n",
            "           0       0.62      0.67      0.65       499\n",
            "           1       0.61      0.55      0.58       456\n",
            "\n",
            "    accuracy                           0.62       955\n",
            "   macro avg       0.61      0.61      0.61       955\n",
            "weighted avg       0.62      0.62      0.61       955\n",
            "\n"
          ],
          "name": "stdout"
        },
        {
          "output_type": "display_data",
          "data": {
            "image/png": "[encoded data removed]",
            "text/plain": [
              "<Figure size 432x288 with 2 Axes>"
            ]
          },
          "metadata": {
            "tags": []
          }
        }
      ]
    },
    {
      "cell_type": "code",
      "metadata": {
        "colab": {
          "base_uri": "https://localhost:8080/"
        },
        "id": "oRKAyPe2nz6h",
        "outputId": "65eb287c-1f4c-413c-de37-628706b28ccb"
      },
      "source": [
        "%%time\n",
        "# Hierarchical LSTM is used as the classification model\n",
        "model = models.Sequential()\n",
        "model.add(Embedding(max_features, 32))\n",
        "model.add(LSTM(32, return_sequences=True))\n",
        "model.add(LSTM(32, return_sequences=True))\n",
        "model.add(LSTM(32))\n",
        "model.add(layers.Dropout(0.1))\n",
        "model.add(Dense(1, activation='sigmoid'))\n",
        "model.summary()\n",
        "model.compile(optimizer='rmsprop', loss='binary_crossentropy', metrics=['acc'])\n",
        "# Train Hierarchical LSTM Classifier\n",
        "history = model.fit(train_set_content, np.array(train_set_label), \n",
        "                    epochs=5,\n",
        "                    batch_size=128,\n",
        "                    #validation_split=0.2,\n",
        "                    validation_data=(val_set_content, np.array(val_set_label)),\n",
        "                    )"
      ],
      "execution_count": null,
      "outputs": [
        {
          "output_type": "stream",
          "text": [
            "Model: \"sequential_4\"\n",
            "_________________________________________________________________\n",
            "Layer (type)                 Output Shape              Param #   \n",
            "=================================================================\n",
            "embedding_3 (Embedding)      (None, None, 32)          96000     \n",
            "_________________________________________________________________\n",
            "lstm_2 (LSTM)                (None, None, 32)          8320      \n",
            "_________________________________________________________________\n",
            "lstm_3 (LSTM)                (None, None, 32)          8320      \n",
            "_________________________________________________________________\n",
            "lstm_4 (LSTM)                (None, 32)                8320      \n",
            "_________________________________________________________________\n",
            "dropout_3 (Dropout)          (None, 32)                0         \n",
            "_________________________________________________________________\n",
            "dense_5 (Dense)              (None, 1)                 33        \n",
            "=================================================================\n",
            "Total params: 120,993\n",
            "Trainable params: 120,993\n",
            "Non-trainable params: 0\n",
            "_________________________________________________________________\n",
            "Epoch 1/5\n",
            "23/23 [==============================] - 7s 106ms/step - loss: 0.6936 - acc: 0.4983 - val_loss: 0.6931 - val_acc: 0.4953\n",
            "Epoch 2/5\n",
            "23/23 [==============================] - 1s 60ms/step - loss: 0.6912 - acc: 0.5431 - val_loss: 0.6877 - val_acc: 0.5780\n",
            "Epoch 3/5\n",
            "23/23 [==============================] - 1s 60ms/step - loss: 0.6719 - acc: 0.6239 - val_loss: 0.6780 - val_acc: 0.5979\n",
            "Epoch 4/5\n",
            "23/23 [==============================] - 1s 59ms/step - loss: 0.6039 - acc: 0.6929 - val_loss: 0.6775 - val_acc: 0.5979\n",
            "Epoch 5/5\n",
            "23/23 [==============================] - 1s 59ms/step - loss: 0.5208 - acc: 0.7326 - val_loss: 0.6993 - val_acc: 0.6063\n",
            "CPU times: user 17.2 s, sys: 566 ms, total: 17.8 s\n",
            "Wall time: 13.1 s\n"
          ],
          "name": "stdout"
        }
      ]
    },
    {
      "cell_type": "code",
      "metadata": {
        "colab": {
          "base_uri": "https://localhost:8080/"
        },
        "id": "szY3EX7rn5dR",
        "outputId": "e8ef22f6-0f5d-4e11-e707-74e4268f1b18"
      },
      "source": [
        "%%time\n",
        "# Predict using test dataset\n",
        "#model.evaluate(val_set_content, np.array(val_set_label))\n",
        "predicted_label = model.predict(test_set_content)\n",
        "predicted_label = np.around(predicted_label)"
      ],
      "execution_count": null,
      "outputs": [
        {
          "output_type": "stream",
          "text": [
            "CPU times: user 1.67 s, sys: 32.3 ms, total: 1.7 s\n",
            "Wall time: 1.53 s\n"
          ],
          "name": "stdout"
        }
      ]
    },
    {
      "cell_type": "code",
      "metadata": {
        "colab": {
          "base_uri": "https://localhost:8080/",
          "height": 537
        },
        "id": "Czfe_9C1n5lz",
        "outputId": "d2dbbdf5-ef42-455c-d006-9d58560a3d47"
      },
      "source": [
        "print(\"Hierarchical LSTM:\")\n",
        "accuracy = metrics.accuracy_score(test_set_label, predicted_label)\n",
        "print('Accuracy Score:', accuracy)\n",
        "f1= metrics.f1_score(test_set_label, predicted_label, average='macro')\n",
        "print('Macro F1 Score:', f1)\n",
        "print('Clasification report:\\n', metrics.classification_report(test_set_label, predicted_label))\n",
        "\n",
        "cm = confusion_matrix(test_set_label, predicted_label)\n",
        "df_cm = pd.DataFrame(cm, class_labels, class_labels)\n",
        "sn.set(font_scale=1.4) # for label size\n",
        "sn.heatmap(df_cm, annot=True, fmt=\"d\", annot_kws={\"size\": 16}) # font size\n",
        "plt.title(f\"Hierarchical LSTM for {task} dataset\")\n",
        "plt.xlabel('predicted class')\n",
        "plt.ylabel('ground truth')\n",
        "plt.show()"
      ],
      "execution_count": null,
      "outputs": [
        {
          "output_type": "stream",
          "text": [
            "Hierarchical LSTM:\n",
            "Accuracy Score: 0.606282722513089\n",
            "Macro F1 Score: 0.5827057882895446\n",
            "Clasification report:\n",
            "               precision    recall  f1-score   support\n",
            "\n",
            "           0       0.59      0.81      0.68       499\n",
            "           1       0.65      0.39      0.48       456\n",
            "\n",
            "    accuracy                           0.61       955\n",
            "   macro avg       0.62      0.60      0.58       955\n",
            "weighted avg       0.62      0.61      0.59       955\n",
            "\n"
          ],
          "name": "stdout"
        },
        {
          "output_type": "display_data",
          "data": {
            "image/png": "[encoded data removed]",
            "text/plain": [
              "<Figure size 432x288 with 2 Axes>"
            ]
          },
          "metadata": {
            "tags": []
          }
        }
      ]
    },
    {
      "cell_type": "code",
      "metadata": {
        "colab": {
          "base_uri": "https://localhost:8080/"
        },
        "id": "3hSaKfVuhCMH",
        "outputId": "51521323-545c-48e8-a95e-ca72e16ed690"
      },
      "source": [
        "%%time\n",
        "# Hierarchical BiLSTM is used as the classification model\n",
        "model = models.Sequential()\n",
        "model.add(Embedding(max_features, 32))\n",
        "model.add(Bidirectional(LSTM(32, return_sequences=True)))\n",
        "model.add(Bidirectional(LSTM(32, return_sequences=True)))\n",
        "model.add(Bidirectional(LSTM(32)))\n",
        "model.add(layers.Dropout(0.1))\n",
        "model.add(Dense(1, activation='sigmoid'))\n",
        "model.summary()\n",
        "model.compile(optimizer='rmsprop', loss='binary_crossentropy', metrics=['acc'])\n",
        "# Train Hierarchical BiLSTM Classifier\n",
        "history = model.fit(train_set_content, np.array(train_set_label), \n",
        "                    epochs=5,\n",
        "                    batch_size=128,\n",
        "                    #validation_split=0.2,\n",
        "                    validation_data=(val_set_content, np.array(val_set_label)),\n",
        "                    )"
      ],
      "execution_count": null,
      "outputs": [
        {
          "output_type": "stream",
          "text": [
            "Model: \"sequential_5\"\n",
            "_________________________________________________________________\n",
            "Layer (type)                 Output Shape              Param #   \n",
            "=================================================================\n",
            "embedding_4 (Embedding)      (None, None, 32)          96000     \n",
            "_________________________________________________________________\n",
            "bidirectional_1 (Bidirection (None, None, 64)          16640     \n",
            "_________________________________________________________________\n",
            "bidirectional_2 (Bidirection (None, None, 64)          24832     \n",
            "_________________________________________________________________\n",
            "bidirectional_3 (Bidirection (None, 64)                24832     \n",
            "_________________________________________________________________\n",
            "dropout_4 (Dropout)          (None, 64)                0         \n",
            "_________________________________________________________________\n",
            "dense_6 (Dense)              (None, 1)                 65        \n",
            "=================================================================\n",
            "Total params: 162,369\n",
            "Trainable params: 162,369\n",
            "Non-trainable params: 0\n",
            "_________________________________________________________________\n",
            "Epoch 1/5\n",
            "23/23 [==============================] - 13s 193ms/step - loss: 0.6931 - acc: 0.4976 - val_loss: 0.6871 - val_acc: 0.5340\n",
            "Epoch 2/5\n",
            "23/23 [==============================] - 2s 103ms/step - loss: 0.6742 - acc: 0.6188 - val_loss: 0.6599 - val_acc: 0.6136\n",
            "Epoch 3/5\n",
            "23/23 [==============================] - 2s 102ms/step - loss: 0.5600 - acc: 0.7326 - val_loss: 0.7462 - val_acc: 0.6031\n",
            "Epoch 4/5\n",
            "23/23 [==============================] - 2s 103ms/step - loss: 0.4149 - acc: 0.8105 - val_loss: 0.8042 - val_acc: 0.6042\n",
            "Epoch 5/5\n",
            "23/23 [==============================] - 2s 103ms/step - loss: 0.3892 - acc: 0.8370 - val_loss: 0.9045 - val_acc: 0.5958\n",
            "CPU times: user 33.2 s, sys: 1.14 s, total: 34.3 s\n",
            "Wall time: 24 s\n"
          ],
          "name": "stdout"
        }
      ]
    },
    {
      "cell_type": "code",
      "metadata": {
        "colab": {
          "base_uri": "https://localhost:8080/"
        },
        "id": "0SE3ZRG0mwVa",
        "outputId": "38722fc4-aeb5-443b-8676-7d1881d0301f"
      },
      "source": [
        "%%time\n",
        "# Predict using test dataset\n",
        "#model.evaluate(val_set_content, np.array(val_set_label))\n",
        "predicted_label = model.predict(test_set_content)\n",
        "predicted_label = np.around(predicted_label)"
      ],
      "execution_count": null,
      "outputs": [
        {
          "output_type": "stream",
          "text": [
            "CPU times: user 2.46 s, sys: 52.1 ms, total: 2.51 s\n",
            "Wall time: 2.14 s\n"
          ],
          "name": "stdout"
        }
      ]
    },
    {
      "cell_type": "code",
      "metadata": {
        "colab": {
          "base_uri": "https://localhost:8080/",
          "height": 537
        },
        "id": "lHH997SBmwfA",
        "outputId": "13d6c35d-269a-476b-c477-d297c179b19b"
      },
      "source": [
        "print(\"Hierarchical BiLSTM:\")\n",
        "accuracy = metrics.accuracy_score(test_set_label, predicted_label)\n",
        "print('Accuracy Score:', accuracy)\n",
        "f1= metrics.f1_score(test_set_label, predicted_label, average='macro')\n",
        "print('Macro F1 Score:', f1)\n",
        "print('Clasification report:\\n', metrics.classification_report(test_set_label, predicted_label))\n",
        "\n",
        "cm = confusion_matrix(test_set_label, predicted_label)\n",
        "df_cm = pd.DataFrame(cm, class_labels, class_labels)\n",
        "sn.set(font_scale=1.4) # for label size\n",
        "sn.heatmap(df_cm, annot=True, fmt=\"d\", annot_kws={\"size\": 16}) # font size\n",
        "plt.title(f\"Hierarchical BiLSTM for {task} dataset\")\n",
        "plt.xlabel('predicted class')\n",
        "plt.ylabel('ground truth')\n",
        "plt.show()"
      ],
      "execution_count": null,
      "outputs": [
        {
          "output_type": "stream",
          "text": [
            "Hierarchical BiLSTM:\n",
            "Accuracy Score: 0.5958115183246073\n",
            "Macro F1 Score: 0.594044860669386\n",
            "Clasification report:\n",
            "               precision    recall  f1-score   support\n",
            "\n",
            "           0       0.64      0.51      0.57       499\n",
            "           1       0.56      0.69      0.62       456\n",
            "\n",
            "    accuracy                           0.60       955\n",
            "   macro avg       0.60      0.60      0.59       955\n",
            "weighted avg       0.60      0.60      0.59       955\n",
            "\n"
          ],
          "name": "stdout"
        },
        {
          "output_type": "display_data",
          "data": {
            "image/png": "[encoded data removed]",
            "text/plain": [
              "<Figure size 432x288 with 2 Axes>"
            ]
          },
          "metadata": {
            "tags": []
          }
        }
      ]
    },
    {
      "cell_type": "code",
      "metadata": {
        "colab": {
          "base_uri": "https://localhost:8080/"
        },
        "id": "Avn48IBgV1kZ",
        "outputId": "d248127e-e7c7-4a28-f157-ce0bd7dfcdbc"
      },
      "source": [
        "%%time\n",
        "# BiGRU is used as the classification model\n",
        "model = models.Sequential()\n",
        "model.add(Embedding(max_features, 32))\n",
        "model.add(Bidirectional(GRU(32)))\n",
        "model.add(layers.Dropout(0.1))\n",
        "model.add(Dense(1, activation='sigmoid'))\n",
        "model.summary()\n",
        "model.compile(optimizer='rmsprop', loss='binary_crossentropy', metrics=['acc'])\n",
        "# Train BiGRU Classifier\n",
        "history = model.fit(train_set_content, np.array(train_set_label), \n",
        "                    epochs=5,\n",
        "                    batch_size=128,\n",
        "                    #validation_split=0.2,\n",
        "                    validation_data=(val_set_content, np.array(val_set_label)),\n",
        "                    )"
      ],
      "execution_count": null,
      "outputs": [
        {
          "output_type": "stream",
          "text": [
            "Model: \"sequential_6\"\n",
            "_________________________________________________________________\n",
            "Layer (type)                 Output Shape              Param #   \n",
            "=================================================================\n",
            "embedding_5 (Embedding)      (None, None, 32)          96000     \n",
            "_________________________________________________________________\n",
            "bidirectional_4 (Bidirection (None, 64)                12672     \n",
            "_________________________________________________________________\n",
            "dropout_5 (Dropout)          (None, 64)                0         \n",
            "_________________________________________________________________\n",
            "dense_7 (Dense)              (None, 1)                 65        \n",
            "=================================================================\n",
            "Total params: 108,737\n",
            "Trainable params: 108,737\n",
            "Non-trainable params: 0\n",
            "_________________________________________________________________\n",
            "Epoch 1/5\n",
            "23/23 [==============================] - 5s 67ms/step - loss: 0.6923 - acc: 0.5210 - val_loss: 0.6889 - val_acc: 0.5319\n",
            "Epoch 2/5\n",
            "23/23 [==============================] - 1s 34ms/step - loss: 0.6762 - acc: 0.6356 - val_loss: 0.6764 - val_acc: 0.5592\n",
            "Epoch 3/5\n",
            "23/23 [==============================] - 1s 34ms/step - loss: 0.6292 - acc: 0.6982 - val_loss: 0.6723 - val_acc: 0.6084\n",
            "Epoch 4/5\n",
            "23/23 [==============================] - 1s 34ms/step - loss: 0.5670 - acc: 0.7342 - val_loss: 0.6720 - val_acc: 0.5791\n",
            "Epoch 5/5\n",
            "23/23 [==============================] - 1s 33ms/step - loss: 0.5134 - acc: 0.7747 - val_loss: 0.7068 - val_acc: 0.6084\n",
            "CPU times: user 11.6 s, sys: 303 ms, total: 11.9 s\n",
            "Wall time: 8.9 s\n"
          ],
          "name": "stdout"
        }
      ]
    },
    {
      "cell_type": "code",
      "metadata": {
        "colab": {
          "base_uri": "https://localhost:8080/"
        },
        "id": "k9R-hVgWV1n3",
        "outputId": "2f2e31bf-3b37-4b77-df3e-62e1d0f399e9"
      },
      "source": [
        "%%time\n",
        "# Predict using test dataset\n",
        "#model.evaluate(val_set_content, np.array(val_set_label))\n",
        "predicted_label = model.predict(test_set_content)\n",
        "predicted_label = np.around(predicted_label)"
      ],
      "execution_count": null,
      "outputs": [
        {
          "output_type": "stream",
          "text": [
            "CPU times: user 800 ms, sys: 22 ms, total: 822 ms\n",
            "Wall time: 717 ms\n"
          ],
          "name": "stdout"
        }
      ]
    },
    {
      "cell_type": "code",
      "metadata": {
        "colab": {
          "base_uri": "https://localhost:8080/",
          "height": 537
        },
        "id": "Y9BlJL5RV1rv",
        "outputId": "2bcc4945-6045-48d6-cef8-8853794f45a0"
      },
      "source": [
        "print(\"BiGRU:\")\n",
        "accuracy = metrics.accuracy_score(test_set_label, predicted_label)\n",
        "print('Accuracy Score:', accuracy)\n",
        "f1= metrics.f1_score(test_set_label, predicted_label, average='macro')\n",
        "print('Macro F1 Score:', f1)\n",
        "print('Clasification report:\\n', metrics.classification_report(test_set_label, predicted_label))\n",
        "\n",
        "cm = confusion_matrix(test_set_label, predicted_label)\n",
        "df_cm = pd.DataFrame(cm, class_labels, class_labels)\n",
        "sn.set(font_scale=1.4) # for label size\n",
        "sn.heatmap(df_cm, annot=True, fmt=\"d\", annot_kws={\"size\": 16}) # font size\n",
        "plt.title(f\"BiGRU for {task} dataset\")\n",
        "plt.xlabel('predicted class')\n",
        "plt.ylabel('ground truth')\n",
        "plt.show()"
      ],
      "execution_count": null,
      "outputs": [
        {
          "output_type": "stream",
          "text": [
            "BiGRU:\n",
            "Accuracy Score: 0.6083769633507854\n",
            "Macro F1 Score: 0.5706761097007461\n",
            "Clasification report:\n",
            "               precision    recall  f1-score   support\n",
            "\n",
            "           0       0.58      0.87      0.70       499\n",
            "           1       0.69      0.33      0.44       456\n",
            "\n",
            "    accuracy                           0.61       955\n",
            "   macro avg       0.64      0.60      0.57       955\n",
            "weighted avg       0.63      0.61      0.58       955\n",
            "\n"
          ],
          "name": "stdout"
        },
        {
          "output_type": "display_data",
          "data": {
            "image/png": "[encoded data removed]",
            "text/plain": [
              "<Figure size 432x288 with 2 Axes>"
            ]
          },
          "metadata": {
            "tags": []
          }
        }
      ]
    },
    {
      "cell_type": "code",
      "metadata": {
        "id": "mv2IuFexEomy"
      },
      "source": [
        "# Preprocess text (username and link placeholders)\n",
        "def preprocess(text):\n",
        "    new_text = [\n",
        "    ]\n",
        "    for t in text.split(\" \"):\n",
        "        t = '@user' if t.startswith('@') and len(t) > 1 else t\n",
        "        t = 'http' if t.startswith('http') else t\n",
        "        new_text.append(t)\n",
        "    return \" \".join(new_text)"
      ],
      "execution_count": null,
      "outputs": []
    },
    {
      "cell_type": "code",
      "metadata": {
        "colab": {
          "base_uri": "https://localhost:8080/",
          "height": 296,
          "referenced_widgets": [
            "f94251e9ecd5442ea7f2126f471b4378",
            "e1606921cbb549c8947d220e25cff557",
            "8ebd839cf82f42e2bf6f8aecf1a8f86b",
            "c0a243545b004b299fd69d3a0ec1f8fd",
            "4d022ece095b4e169e9f3e6852588555",
            "08fe392dba6d4a9993dedb4f92fdc1d2",
            "96e06d2405e14d9e910a94638214ec3e",
            "8830330bf21046f2aee3a2b34aa01bbe",
            "4fe480f9c5ae4ae39c3aa93afb76fa81",
            "b593430010424a1f8a6976af5c55013c",
            "e164eaa7e19b40f4b660a3bcb092765c",
            "6080c36a884b48acb19b6e405514a392",
            "55e386357b06499c950471dddb989aa3",
            "7b1b1834a9fa4d38af109a18a8e9a064",
            "0c5a309fdeab4af1998c6d42b9e35da1",
            "2cda936888024c5880037beed2c4f2a3",
            "98ae69fe7d0449c8be58b687a8418221",
            "bc8b313a9c6943f4a97b1fa125305f81",
            "da2b4310e5af481ea3e858ab1ad4367f",
            "8f7e317396324a5fb0b4a6eb067d277f",
            "a945cbebc5094c71aa6a4a1c6b330692",
            "b3f0046ae87348f29b99abbd167dc5c3",
            "180b2c0e6bf540fc90ff93e7dfcc6dab",
            "76ace9bf4fd3404ab428693af842cbf4",
            "7385094ab2f34987bc980e0aac451383",
            "7fc30b58c4054cb2b4f374bbc260ca7f",
            "c1df406119754e55b260d65c5d62cc61",
            "c1ff30f91291412ca3c8a9f7376d8345",
            "5fb97e2840554f05a714c4aaab9d0b28",
            "8e9b4f9fc5a64423a8a69e69b99ae37a",
            "67093c61fc8e4491a4f168f8158e1a47",
            "47270b2f07074faaa8e23d69c7ac4b53",
            "738f2df7c3324402a19ee5f98ec1d9bc",
            "245f5c8611544b58b0cf9c315014eaed",
            "ee5399f8f316458d8c12b7159649daa9",
            "e901666f9580493aaf1c5c2b24c1926a",
            "0fce57129b1a41c6b23718ac93cd2870",
            "11d82e9e765d462499b0654e727c0d54",
            "5e08b3c0e9604801841c5750504ec379",
            "8e48582919024baf838a8ae76f26bc57"
          ]
        },
        "id": "hGkuHe4rEt0n",
        "outputId": "29a99c8d-961d-47ab-f9c8-8b0046e386d3"
      },
      "source": [
        "%%time\n",
        "# RoBERTa is used as the classification model\n",
        "MODEL = f\"cardiffnlp/twitter-roberta-base-{task}\"\n",
        "\n",
        "tokenizer = AutoTokenizer.from_pretrained(MODEL)\n",
        "\n",
        "model = AutoModelForSequenceClassification.from_pretrained(MODEL)\n",
        "# model.save_pretrained(MODEL)\n",
        "\n",
        "#golden_label = [i[1] for i in test_set]\n",
        "tested_label = []\n",
        "for i in range(len(test_text)):\n",
        "  text = test_text[i]\n",
        "  text = preprocess(text)\n",
        "  encoded_input = tokenizer(text, return_tensors='pt')\n",
        "  output = model(**encoded_input)\n",
        "  scores = output[0][0].detach().numpy()\n",
        "  scores = softmax(scores)\n",
        "  tested_label.append(np.argmax(scores))"
      ],
      "execution_count": null,
      "outputs": [
        {
          "output_type": "display_data",
          "data": {
            "application/vnd.jupyter.widget-view+json": {
              "model_id": "f94251e9ecd5442ea7f2126f471b4378",
              "version_minor": 0,
              "version_major": 2
            },
            "text/plain": [
              "HBox(children=(FloatProgress(value=0.0, description='Downloading', max=589.0, style=ProgressStyle(description_…"
            ]
          },
          "metadata": {
            "tags": []
          }
        },
        {
          "output_type": "stream",
          "text": [
            "\n"
          ],
          "name": "stdout"
        },
        {
          "output_type": "display_data",
          "data": {
            "application/vnd.jupyter.widget-view+json": {
              "model_id": "4fe480f9c5ae4ae39c3aa93afb76fa81",
              "version_minor": 0,
              "version_major": 2
            },
            "text/plain": [
              "HBox(children=(FloatProgress(value=0.0, description='Downloading', max=898822.0, style=ProgressStyle(descripti…"
            ]
          },
          "metadata": {
            "tags": []
          }
        },
        {
          "output_type": "stream",
          "text": [
            "\n"
          ],
          "name": "stdout"
        },
        {
          "output_type": "display_data",
          "data": {
            "application/vnd.jupyter.widget-view+json": {
              "model_id": "98ae69fe7d0449c8be58b687a8418221",
              "version_minor": 0,
              "version_major": 2
            },
            "text/plain": [
              "HBox(children=(FloatProgress(value=0.0, description='Downloading', max=456318.0, style=ProgressStyle(descripti…"
            ]
          },
          "metadata": {
            "tags": []
          }
        },
        {
          "output_type": "stream",
          "text": [
            "\n"
          ],
          "name": "stdout"
        },
        {
          "output_type": "display_data",
          "data": {
            "application/vnd.jupyter.widget-view+json": {
              "model_id": "7385094ab2f34987bc980e0aac451383",
              "version_minor": 0,
              "version_major": 2
            },
            "text/plain": [
              "HBox(children=(FloatProgress(value=0.0, description='Downloading', max=150.0, style=ProgressStyle(description_…"
            ]
          },
          "metadata": {
            "tags": []
          }
        },
        {
          "output_type": "stream",
          "text": [
            "\n"
          ],
          "name": "stdout"
        },
        {
          "output_type": "display_data",
          "data": {
            "application/vnd.jupyter.widget-view+json": {
              "model_id": "738f2df7c3324402a19ee5f98ec1d9bc",
              "version_minor": 0,
              "version_major": 2
            },
            "text/plain": [
              "HBox(children=(FloatProgress(value=0.0, description='Downloading', max=498676425.0, style=ProgressStyle(descri…"
            ]
          },
          "metadata": {
            "tags": []
          }
        },
        {
          "output_type": "stream",
          "text": [
            "\n",
            "CPU times: user 2min 11s, sys: 2.8 s, total: 2min 13s\n",
            "Wall time: 2min 21s\n"
          ],
          "name": "stdout"
        }
      ]
    },
    {
      "cell_type": "code",
      "metadata": {
        "colab": {
          "base_uri": "https://localhost:8080/",
          "height": 537
        },
        "id": "JIBQPy465j_b",
        "outputId": "c4b2222b-9be2-4da0-ab4a-53e5b3786aa4"
      },
      "source": [
        "print(\"RoBERTa:\")\n",
        "accuracy = metrics.accuracy_score(test_set_label, tested_label)\n",
        "print('Accuracy Score:', accuracy)\n",
        "f1= metrics.f1_score(test_set_label, tested_label, average='macro')\n",
        "print('Macro F1 Score:', f1)\n",
        "print('Clasification report:\\n', metrics.classification_report(test_set_label, tested_label))\n",
        "\n",
        "cm = confusion_matrix(test_set_label, tested_label)\n",
        "df_cm = pd.DataFrame(cm, class_labels, class_labels)\n",
        "sn.set(font_scale=1.4) # for label size\n",
        "sn.heatmap(df_cm, annot=True, fmt=\"d\", annot_kws={\"size\": 16}) # font size\n",
        "plt.title(f\"RoBERTa for {task} dataset\")\n",
        "plt.xlabel('predicted class')\n",
        "plt.ylabel('ground truth')\n",
        "plt.show()"
      ],
      "execution_count": null,
      "outputs": [
        {
          "output_type": "stream",
          "text": [
            "RoBERTa:\n",
            "Accuracy Score: 0.7926701570680629\n",
            "Macro F1 Score: 0.792077182920178\n",
            "Clasification report:\n",
            "               precision    recall  f1-score   support\n",
            "\n",
            "           0       0.87      0.71      0.78       499\n",
            "           1       0.73      0.89      0.80       456\n",
            "\n",
            "    accuracy                           0.79       955\n",
            "   macro avg       0.80      0.80      0.79       955\n",
            "weighted avg       0.81      0.79      0.79       955\n",
            "\n"
          ],
          "name": "stdout"
        },
        {
          "output_type": "display_data",
          "data": {
            "image/png": "[encoded data removed]",
            "text/plain": [
              "<Figure size 432x288 with 2 Axes>"
            ]
          },
          "metadata": {
            "tags": []
          }
        }
      ]
    }
  ]
}