{
  "nbformat": 4,
  "nbformat_minor": 0,
  "metadata": {
    "colab": {
      "name": "Assignment2_Project2_offensive.ipynb",
      "provenance": [],
      "collapsed_sections": [
        "s7YigPkQdI_C",
        "1QLfmwZli4vC",
        "MqX3Hjs915At"
      ],
      "authorship_tag": "ABX9TyMFo53MURwhvSDQsMxWbrYF",
      "include_colab_link": true
    },
    "kernelspec": {
      "name": "python3",
      "display_name": "Python 3"
    },
    "widgets": {
      "application/vnd.jupyter.widget-state+json": {
        "24445d72621347febe507ba90bf3a2d5": {
          "model_module": "@jupyter-widgets/controls",
          "model_name": "HBoxModel",
          "state": {
            "_view_name": "HBoxView",
            "_dom_classes": [],
            "_model_name": "HBoxModel",
            "_view_module": "@jupyter-widgets/controls",
            "_model_module_version": "1.5.0",
            "_view_count": null,
            "_view_module_version": "1.5.0",
            "box_style": "",
            "layout": "IPY_MODEL_fd4fde1162ae4965ad551270042f78e5",
            "_model_module": "@jupyter-widgets/controls",
            "children": [
              "IPY_MODEL_757856eef6b94fd08230109ae0ef6e83",
              "IPY_MODEL_6fc65a4b435644c68f9c8cdd534d8baf"
            ]
          }
        },
        "fd4fde1162ae4965ad551270042f78e5": {
          "model_module": "@jupyter-widgets/base",
          "model_name": "LayoutModel",
          "state": {
            "_view_name": "LayoutView",
            "grid_template_rows": null,
            "right": null,
            "justify_content": null,
            "_view_module": "@jupyter-widgets/base",
            "overflow": null,
            "_model_module_version": "1.2.0",
            "_view_count": null,
            "flex_flow": null,
            "width": null,
            "min_width": null,
            "border": null,
            "align_items": null,
            "bottom": null,
            "_model_module": "@jupyter-widgets/base",
            "top": null,
            "grid_column": null,
            "overflow_y": null,
            "overflow_x": null,
            "grid_auto_flow": null,
            "grid_area": null,
            "grid_template_columns": null,
            "flex": null,
            "_model_name": "LayoutModel",
            "justify_items": null,
            "grid_row": null,
            "max_height": null,
            "align_content": null,
            "visibility": null,
            "align_self": null,
            "height": null,
            "min_height": null,
            "padding": null,
            "grid_auto_rows": null,
            "grid_gap": null,
            "max_width": null,
            "order": null,
            "_view_module_version": "1.2.0",
            "grid_template_areas": null,
            "object_position": null,
            "object_fit": null,
            "grid_auto_columns": null,
            "margin": null,
            "display": null,
            "left": null
          }
        },
        "757856eef6b94fd08230109ae0ef6e83": {
          "model_module": "@jupyter-widgets/controls",
          "model_name": "FloatProgressModel",
          "state": {
            "_view_name": "ProgressView",
            "style": "IPY_MODEL_a7f922e5679440ad91b55f4d9d63dc0f",
            "_dom_classes": [],
            "description": "Downloading: 100%",
            "_model_name": "FloatProgressModel",
            "bar_style": "success",
            "max": 593,
            "_view_module": "@jupyter-widgets/controls",
            "_model_module_version": "1.5.0",
            "value": 593,
            "_view_count": null,
            "_view_module_version": "1.5.0",
            "orientation": "horizontal",
            "min": 0,
            "description_tooltip": null,
            "_model_module": "@jupyter-widgets/controls",
            "layout": "IPY_MODEL_c2cf763d173e4f668a203c6b136d0b69"
          }
        },
        "6fc65a4b435644c68f9c8cdd534d8baf": {
          "model_module": "@jupyter-widgets/controls",
          "model_name": "HTMLModel",
          "state": {
            "_view_name": "HTMLView",
            "style": "IPY_MODEL_7ae74af850a849f3863586c29fa28d57",
            "_dom_classes": [],
            "description": "",
            "_model_name": "HTMLModel",
            "placeholder": "​",
            "_view_module": "@jupyter-widgets/controls",
            "_model_module_version": "1.5.0",
            "value": " 593/593 [00:01&lt;00:00, 572B/s]",
            "_view_count": null,
            "_view_module_version": "1.5.0",
            "description_tooltip": null,
            "_model_module": "@jupyter-widgets/controls",
            "layout": "IPY_MODEL_641361d550ee452fba9bf029df5f8b1d"
          }
        },
        "a7f922e5679440ad91b55f4d9d63dc0f": {
          "model_module": "@jupyter-widgets/controls",
          "model_name": "ProgressStyleModel",
          "state": {
            "_view_name": "StyleView",
            "_model_name": "ProgressStyleModel",
            "description_width": "initial",
            "_view_module": "@jupyter-widgets/base",
            "_model_module_version": "1.5.0",
            "_view_count": null,
            "_view_module_version": "1.2.0",
            "bar_color": null,
            "_model_module": "@jupyter-widgets/controls"
          }
        },
        "c2cf763d173e4f668a203c6b136d0b69": {
          "model_module": "@jupyter-widgets/base",
          "model_name": "LayoutModel",
          "state": {
            "_view_name": "LayoutView",
            "grid_template_rows": null,
            "right": null,
            "justify_content": null,
            "_view_module": "@jupyter-widgets/base",
            "overflow": null,
            "_model_module_version": "1.2.0",
            "_view_count": null,
            "flex_flow": null,
            "width": null,
            "min_width": null,
            "border": null,
            "align_items": null,
            "bottom": null,
            "_model_module": "@jupyter-widgets/base",
            "top": null,
            "grid_column": null,
            "overflow_y": null,
            "overflow_x": null,
            "grid_auto_flow": null,
            "grid_area": null,
            "grid_template_columns": null,
            "flex": null,
            "_model_name": "LayoutModel",
            "justify_items": null,
            "grid_row": null,
            "max_height": null,
            "align_content": null,
            "visibility": null,
            "align_self": null,
            "height": null,
            "min_height": null,
            "padding": null,
            "grid_auto_rows": null,
            "grid_gap": null,
            "max_width": null,
            "order": null,
            "_view_module_version": "1.2.0",
            "grid_template_areas": null,
            "object_position": null,
            "object_fit": null,
            "grid_auto_columns": null,
            "margin": null,
            "display": null,
            "left": null
          }
        },
        "7ae74af850a849f3863586c29fa28d57": {
          "model_module": "@jupyter-widgets/controls",
          "model_name": "DescriptionStyleModel",
          "state": {
            "_view_name": "StyleView",
            "_model_name": "DescriptionStyleModel",
            "description_width": "",
            "_view_module": "@jupyter-widgets/base",
            "_model_module_version": "1.5.0",
            "_view_count": null,
            "_view_module_version": "1.2.0",
            "_model_module": "@jupyter-widgets/controls"
          }
        },
        "641361d550ee452fba9bf029df5f8b1d": {
          "model_module": "@jupyter-widgets/base",
          "model_name": "LayoutModel",
          "state": {
            "_view_name": "LayoutView",
            "grid_template_rows": null,
            "right": null,
            "justify_content": null,
            "_view_module": "@jupyter-widgets/base",
            "overflow": null,
            "_model_module_version": "1.2.0",
            "_view_count": null,
            "flex_flow": null,
            "width": null,
            "min_width": null,
            "border": null,
            "align_items": null,
            "bottom": null,
            "_model_module": "@jupyter-widgets/base",
            "top": null,
            "grid_column": null,
            "overflow_y": null,
            "overflow_x": null,
            "grid_auto_flow": null,
            "grid_area": null,
            "grid_template_columns": null,
            "flex": null,
            "_model_name": "LayoutModel",
            "justify_items": null,
            "grid_row": null,
            "max_height": null,
            "align_content": null,
            "visibility": null,
            "align_self": null,
            "height": null,
            "min_height": null,
            "padding": null,
            "grid_auto_rows": null,
            "grid_gap": null,
            "max_width": null,
            "order": null,
            "_view_module_version": "1.2.0",
            "grid_template_areas": null,
            "object_position": null,
            "object_fit": null,
            "grid_auto_columns": null,
            "margin": null,
            "display": null,
            "left": null
          }
        },
        "8b461ea4ac7043aeafff62ba4f01e76f": {
          "model_module": "@jupyter-widgets/controls",
          "model_name": "HBoxModel",
          "state": {
            "_view_name": "HBoxView",
            "_dom_classes": [],
            "_model_name": "HBoxModel",
            "_view_module": "@jupyter-widgets/controls",
            "_model_module_version": "1.5.0",
            "_view_count": null,
            "_view_module_version": "1.5.0",
            "box_style": "",
            "layout": "IPY_MODEL_65a57313b93e45c4acdaa2aea38a6a64",
            "_model_module": "@jupyter-widgets/controls",
            "children": [
              "IPY_MODEL_c780d10cb07047ad9663c3ecfe088a03",
              "IPY_MODEL_ec270486c0064558859d70cccde6b115"
            ]
          }
        },
        "65a57313b93e45c4acdaa2aea38a6a64": {
          "model_module": "@jupyter-widgets/base",
          "model_name": "LayoutModel",
          "state": {
            "_view_name": "LayoutView",
            "grid_template_rows": null,
            "right": null,
            "justify_content": null,
            "_view_module": "@jupyter-widgets/base",
            "overflow": null,
            "_model_module_version": "1.2.0",
            "_view_count": null,
            "flex_flow": null,
            "width": null,
            "min_width": null,
            "border": null,
            "align_items": null,
            "bottom": null,
            "_model_module": "@jupyter-widgets/base",
            "top": null,
            "grid_column": null,
            "overflow_y": null,
            "overflow_x": null,
            "grid_auto_flow": null,
            "grid_area": null,
            "grid_template_columns": null,
            "flex": null,
            "_model_name": "LayoutModel",
            "justify_items": null,
            "grid_row": null,
            "max_height": null,
            "align_content": null,
            "visibility": null,
            "align_self": null,
            "height": null,
            "min_height": null,
            "padding": null,
            "grid_auto_rows": null,
            "grid_gap": null,
            "max_width": null,
            "order": null,
            "_view_module_version": "1.2.0",
            "grid_template_areas": null,
            "object_position": null,
            "object_fit": null,
            "grid_auto_columns": null,
            "margin": null,
            "display": null,
            "left": null
          }
        },
        "c780d10cb07047ad9663c3ecfe088a03": {
          "model_module": "@jupyter-widgets/controls",
          "model_name": "FloatProgressModel",
          "state": {
            "_view_name": "ProgressView",
            "style": "IPY_MODEL_ba513df791c84a0ba047352a54706ece",
            "_dom_classes": [],
            "description": "Downloading: 100%",
            "_model_name": "FloatProgressModel",
            "bar_style": "success",
            "max": 898822,
            "_view_module": "@jupyter-widgets/controls",
            "_model_module_version": "1.5.0",
            "value": 898822,
            "_view_count": null,
            "_view_module_version": "1.5.0",
            "orientation": "horizontal",
            "min": 0,
            "description_tooltip": null,
            "_model_module": "@jupyter-widgets/controls",
            "layout": "IPY_MODEL_7a1e0764337448e8abbdbdf94d720375"
          }
        },
        "ec270486c0064558859d70cccde6b115": {
          "model_module": "@jupyter-widgets/controls",
          "model_name": "HTMLModel",
          "state": {
            "_view_name": "HTMLView",
            "style": "IPY_MODEL_4e591a099c2c4ddfabbceadd5f3b5142",
            "_dom_classes": [],
            "description": "",
            "_model_name": "HTMLModel",
            "placeholder": "​",
            "_view_module": "@jupyter-widgets/controls",
            "_model_module_version": "1.5.0",
            "value": " 899k/899k [00:00&lt;00:00, 2.59MB/s]",
            "_view_count": null,
            "_view_module_version": "1.5.0",
            "description_tooltip": null,
            "_model_module": "@jupyter-widgets/controls",
            "layout": "IPY_MODEL_f6ba3e19fa2f4e26aac438f81d74b60b"
          }
        },
        "ba513df791c84a0ba047352a54706ece": {
          "model_module": "@jupyter-widgets/controls",
          "model_name": "ProgressStyleModel",
          "state": {
            "_view_name": "StyleView",
            "_model_name": "ProgressStyleModel",
            "description_width": "initial",
            "_view_module": "@jupyter-widgets/base",
            "_model_module_version": "1.5.0",
            "_view_count": null,
            "_view_module_version": "1.2.0",
            "bar_color": null,
            "_model_module": "@jupyter-widgets/controls"
          }
        },
        "7a1e0764337448e8abbdbdf94d720375": {
          "model_module": "@jupyter-widgets/base",
          "model_name": "LayoutModel",
          "state": {
            "_view_name": "LayoutView",
            "grid_template_rows": null,
            "right": null,
            "justify_content": null,
            "_view_module": "@jupyter-widgets/base",
            "overflow": null,
            "_model_module_version": "1.2.0",
            "_view_count": null,
            "flex_flow": null,
            "width": null,
            "min_width": null,
            "border": null,
            "align_items": null,
            "bottom": null,
            "_model_module": "@jupyter-widgets/base",
            "top": null,
            "grid_column": null,
            "overflow_y": null,
            "overflow_x": null,
            "grid_auto_flow": null,
            "grid_area": null,
            "grid_template_columns": null,
            "flex": null,
            "_model_name": "LayoutModel",
            "justify_items": null,
            "grid_row": null,
            "max_height": null,
            "align_content": null,
            "visibility": null,
            "align_self": null,
            "height": null,
            "min_height": null,
            "padding": null,
            "grid_auto_rows": null,
            "grid_gap": null,
            "max_width": null,
            "order": null,
            "_view_module_version": "1.2.0",
            "grid_template_areas": null,
            "object_position": null,
            "object_fit": null,
            "grid_auto_columns": null,
            "margin": null,
            "display": null,
            "left": null
          }
        },
        "4e591a099c2c4ddfabbceadd5f3b5142": {
          "model_module": "@jupyter-widgets/controls",
          "model_name": "DescriptionStyleModel",
          "state": {
            "_view_name": "StyleView",
            "_model_name": "DescriptionStyleModel",
            "description_width": "",
            "_view_module": "@jupyter-widgets/base",
            "_model_module_version": "1.5.0",
            "_view_count": null,
            "_view_module_version": "1.2.0",
            "_model_module": "@jupyter-widgets/controls"
          }
        },
        "f6ba3e19fa2f4e26aac438f81d74b60b": {
          "model_module": "@jupyter-widgets/base",
          "model_name": "LayoutModel",
          "state": {
            "_view_name": "LayoutView",
            "grid_template_rows": null,
            "right": null,
            "justify_content": null,
            "_view_module": "@jupyter-widgets/base",
            "overflow": null,
            "_model_module_version": "1.2.0",
            "_view_count": null,
            "flex_flow": null,
            "width": null,
            "min_width": null,
            "border": null,
            "align_items": null,
            "bottom": null,
            "_model_module": "@jupyter-widgets/base",
            "top": null,
            "grid_column": null,
            "overflow_y": null,
            "overflow_x": null,
            "grid_auto_flow": null,
            "grid_area": null,
            "grid_template_columns": null,
            "flex": null,
            "_model_name": "LayoutModel",
            "justify_items": null,
            "grid_row": null,
            "max_height": null,
            "align_content": null,
            "visibility": null,
            "align_self": null,
            "height": null,
            "min_height": null,
            "padding": null,
            "grid_auto_rows": null,
            "grid_gap": null,
            "max_width": null,
            "order": null,
            "_view_module_version": "1.2.0",
            "grid_template_areas": null,
            "object_position": null,
            "object_fit": null,
            "grid_auto_columns": null,
            "margin": null,
            "display": null,
            "left": null
          }
        },
        "65b57c46ccc8410aa3d4ef9fa9672e26": {
          "model_module": "@jupyter-widgets/controls",
          "model_name": "HBoxModel",
          "state": {
            "_view_name": "HBoxView",
            "_dom_classes": [],
            "_model_name": "HBoxModel",
            "_view_module": "@jupyter-widgets/controls",
            "_model_module_version": "1.5.0",
            "_view_count": null,
            "_view_module_version": "1.5.0",
            "box_style": "",
            "layout": "IPY_MODEL_223641bf3b6b4331939e3534ccd448fd",
            "_model_module": "@jupyter-widgets/controls",
            "children": [
              "IPY_MODEL_2b583d0d5594493eb621eb480559508d",
              "IPY_MODEL_d38e7aac4a3b4323be470c6e6339e366"
            ]
          }
        },
        "223641bf3b6b4331939e3534ccd448fd": {
          "model_module": "@jupyter-widgets/base",
          "model_name": "LayoutModel",
          "state": {
            "_view_name": "LayoutView",
            "grid_template_rows": null,
            "right": null,
            "justify_content": null,
            "_view_module": "@jupyter-widgets/base",
            "overflow": null,
            "_model_module_version": "1.2.0",
            "_view_count": null,
            "flex_flow": null,
            "width": null,
            "min_width": null,
            "border": null,
            "align_items": null,
            "bottom": null,
            "_model_module": "@jupyter-widgets/base",
            "top": null,
            "grid_column": null,
            "overflow_y": null,
            "overflow_x": null,
            "grid_auto_flow": null,
            "grid_area": null,
            "grid_template_columns": null,
            "flex": null,
            "_model_name": "LayoutModel",
            "justify_items": null,
            "grid_row": null,
            "max_height": null,
            "align_content": null,
            "visibility": null,
            "align_self": null,
            "height": null,
            "min_height": null,
            "padding": null,
            "grid_auto_rows": null,
            "grid_gap": null,
            "max_width": null,
            "order": null,
            "_view_module_version": "1.2.0",
            "grid_template_areas": null,
            "object_position": null,
            "object_fit": null,
            "grid_auto_columns": null,
            "margin": null,
            "display": null,
            "left": null
          }
        },
        "2b583d0d5594493eb621eb480559508d": {
          "model_module": "@jupyter-widgets/controls",
          "model_name": "FloatProgressModel",
          "state": {
            "_view_name": "ProgressView",
            "style": "IPY_MODEL_1f7af5a2dcde45829865e52091ae13fb",
            "_dom_classes": [],
            "description": "Downloading: 100%",
            "_model_name": "FloatProgressModel",
            "bar_style": "success",
            "max": 456318,
            "_view_module": "@jupyter-widgets/controls",
            "_model_module_version": "1.5.0",
            "value": 456318,
            "_view_count": null,
            "_view_module_version": "1.5.0",
            "orientation": "horizontal",
            "min": 0,
            "description_tooltip": null,
            "_model_module": "@jupyter-widgets/controls",
            "layout": "IPY_MODEL_3ac44a20655b442588408cdb1de5456a"
          }
        },
        "d38e7aac4a3b4323be470c6e6339e366": {
          "model_module": "@jupyter-widgets/controls",
          "model_name": "HTMLModel",
          "state": {
            "_view_name": "HTMLView",
            "style": "IPY_MODEL_8382041503314dff9a0d045d11d37530",
            "_dom_classes": [],
            "description": "",
            "_model_name": "HTMLModel",
            "placeholder": "​",
            "_view_module": "@jupyter-widgets/controls",
            "_model_module_version": "1.5.0",
            "value": " 456k/456k [00:00&lt;00:00, 873kB/s]",
            "_view_count": null,
            "_view_module_version": "1.5.0",
            "description_tooltip": null,
            "_model_module": "@jupyter-widgets/controls",
            "layout": "IPY_MODEL_290e17e818f047ff8344e647389e0018"
          }
        },
        "1f7af5a2dcde45829865e52091ae13fb": {
          "model_module": "@jupyter-widgets/controls",
          "model_name": "ProgressStyleModel",
          "state": {
            "_view_name": "StyleView",
            "_model_name": "ProgressStyleModel",
            "description_width": "initial",
            "_view_module": "@jupyter-widgets/base",
            "_model_module_version": "1.5.0",
            "_view_count": null,
            "_view_module_version": "1.2.0",
            "bar_color": null,
            "_model_module": "@jupyter-widgets/controls"
          }
        },
        "3ac44a20655b442588408cdb1de5456a": {
          "model_module": "@jupyter-widgets/base",
          "model_name": "LayoutModel",
          "state": {
            "_view_name": "LayoutView",
            "grid_template_rows": null,
            "right": null,
            "justify_content": null,
            "_view_module": "@jupyter-widgets/base",
            "overflow": null,
            "_model_module_version": "1.2.0",
            "_view_count": null,
            "flex_flow": null,
            "width": null,
            "min_width": null,
            "border": null,
            "align_items": null,
            "bottom": null,
            "_model_module": "@jupyter-widgets/base",
            "top": null,
            "grid_column": null,
            "overflow_y": null,
            "overflow_x": null,
            "grid_auto_flow": null,
            "grid_area": null,
            "grid_template_columns": null,
            "flex": null,
            "_model_name": "LayoutModel",
            "justify_items": null,
            "grid_row": null,
            "max_height": null,
            "align_content": null,
            "visibility": null,
            "align_self": null,
            "height": null,
            "min_height": null,
            "padding": null,
            "grid_auto_rows": null,
            "grid_gap": null,
            "max_width": null,
            "order": null,
            "_view_module_version": "1.2.0",
            "grid_template_areas": null,
            "object_position": null,
            "object_fit": null,
            "grid_auto_columns": null,
            "margin": null,
            "display": null,
            "left": null
          }
        },
        "8382041503314dff9a0d045d11d37530": {
          "model_module": "@jupyter-widgets/controls",
          "model_name": "DescriptionStyleModel",
          "state": {
            "_view_name": "StyleView",
            "_model_name": "DescriptionStyleModel",
            "description_width": "",
            "_view_module": "@jupyter-widgets/base",
            "_model_module_version": "1.5.0",
            "_view_count": null,
            "_view_module_version": "1.2.0",
            "_model_module": "@jupyter-widgets/controls"
          }
        },
        "290e17e818f047ff8344e647389e0018": {
          "model_module": "@jupyter-widgets/base",
          "model_name": "LayoutModel",
          "state": {
            "_view_name": "LayoutView",
            "grid_template_rows": null,
            "right": null,
            "justify_content": null,
            "_view_module": "@jupyter-widgets/base",
            "overflow": null,
            "_model_module_version": "1.2.0",
            "_view_count": null,
            "flex_flow": null,
            "width": null,
            "min_width": null,
            "border": null,
            "align_items": null,
            "bottom": null,
            "_model_module": "@jupyter-widgets/base",
            "top": null,
            "grid_column": null,
            "overflow_y": null,
            "overflow_x": null,
            "grid_auto_flow": null,
            "grid_area": null,
            "grid_template_columns": null,
            "flex": null,
            "_model_name": "LayoutModel",
            "justify_items": null,
            "grid_row": null,
            "max_height": null,
            "align_content": null,
            "visibility": null,
            "align_self": null,
            "height": null,
            "min_height": null,
            "padding": null,
            "grid_auto_rows": null,
            "grid_gap": null,
            "max_width": null,
            "order": null,
            "_view_module_version": "1.2.0",
            "grid_template_areas": null,
            "object_position": null,
            "object_fit": null,
            "grid_auto_columns": null,
            "margin": null,
            "display": null,
            "left": null
          }
        },
        "3904f43a05fc436f85d5878cd23ba2d6": {
          "model_module": "@jupyter-widgets/controls",
          "model_name": "HBoxModel",
          "state": {
            "_view_name": "HBoxView",
            "_dom_classes": [],
            "_model_name": "HBoxModel",
            "_view_module": "@jupyter-widgets/controls",
            "_model_module_version": "1.5.0",
            "_view_count": null,
            "_view_module_version": "1.5.0",
            "box_style": "",
            "layout": "IPY_MODEL_bea7bc5e59fd460999c00a569c267ef6",
            "_model_module": "@jupyter-widgets/controls",
            "children": [
              "IPY_MODEL_8d85ce2f10cf4666beb0e73d467587b8",
              "IPY_MODEL_5cf2f76f64bd4bccb5af6630f8e5f94f"
            ]
          }
        },
        "bea7bc5e59fd460999c00a569c267ef6": {
          "model_module": "@jupyter-widgets/base",
          "model_name": "LayoutModel",
          "state": {
            "_view_name": "LayoutView",
            "grid_template_rows": null,
            "right": null,
            "justify_content": null,
            "_view_module": "@jupyter-widgets/base",
            "overflow": null,
            "_model_module_version": "1.2.0",
            "_view_count": null,
            "flex_flow": null,
            "width": null,
            "min_width": null,
            "border": null,
            "align_items": null,
            "bottom": null,
            "_model_module": "@jupyter-widgets/base",
            "top": null,
            "grid_column": null,
            "overflow_y": null,
            "overflow_x": null,
            "grid_auto_flow": null,
            "grid_area": null,
            "grid_template_columns": null,
            "flex": null,
            "_model_name": "LayoutModel",
            "justify_items": null,
            "grid_row": null,
            "max_height": null,
            "align_content": null,
            "visibility": null,
            "align_self": null,
            "height": null,
            "min_height": null,
            "padding": null,
            "grid_auto_rows": null,
            "grid_gap": null,
            "max_width": null,
            "order": null,
            "_view_module_version": "1.2.0",
            "grid_template_areas": null,
            "object_position": null,
            "object_fit": null,
            "grid_auto_columns": null,
            "margin": null,
            "display": null,
            "left": null
          }
        },
        "8d85ce2f10cf4666beb0e73d467587b8": {
          "model_module": "@jupyter-widgets/controls",
          "model_name": "FloatProgressModel",
          "state": {
            "_view_name": "ProgressView",
            "style": "IPY_MODEL_e076922c11b545fcbc612c82aa5655c5",
            "_dom_classes": [],
            "description": "Downloading: 100%",
            "_model_name": "FloatProgressModel",
            "bar_style": "success",
            "max": 150,
            "_view_module": "@jupyter-widgets/controls",
            "_model_module_version": "1.5.0",
            "value": 150,
            "_view_count": null,
            "_view_module_version": "1.5.0",
            "orientation": "horizontal",
            "min": 0,
            "description_tooltip": null,
            "_model_module": "@jupyter-widgets/controls",
            "layout": "IPY_MODEL_ce177284d4a649c3a3b71109230e2240"
          }
        },
        "5cf2f76f64bd4bccb5af6630f8e5f94f": {
          "model_module": "@jupyter-widgets/controls",
          "model_name": "HTMLModel",
          "state": {
            "_view_name": "HTMLView",
            "style": "IPY_MODEL_e5534585d8c246ea8ea4360da83546a4",
            "_dom_classes": [],
            "description": "",
            "_model_name": "HTMLModel",
            "placeholder": "​",
            "_view_module": "@jupyter-widgets/controls",
            "_model_module_version": "1.5.0",
            "value": " 150/150 [00:00&lt;00:00, 871B/s]",
            "_view_count": null,
            "_view_module_version": "1.5.0",
            "description_tooltip": null,
            "_model_module": "@jupyter-widgets/controls",
            "layout": "IPY_MODEL_d30d4313122e4979bd12ab9df6f544cb"
          }
        },
        "e076922c11b545fcbc612c82aa5655c5": {
          "model_module": "@jupyter-widgets/controls",
          "model_name": "ProgressStyleModel",
          "state": {
            "_view_name": "StyleView",
            "_model_name": "ProgressStyleModel",
            "description_width": "initial",
            "_view_module": "@jupyter-widgets/base",
            "_model_module_version": "1.5.0",
            "_view_count": null,
            "_view_module_version": "1.2.0",
            "bar_color": null,
            "_model_module": "@jupyter-widgets/controls"
          }
        },
        "ce177284d4a649c3a3b71109230e2240": {
          "model_module": "@jupyter-widgets/base",
          "model_name": "LayoutModel",
          "state": {
            "_view_name": "LayoutView",
            "grid_template_rows": null,
            "right": null,
            "justify_content": null,
            "_view_module": "@jupyter-widgets/base",
            "overflow": null,
            "_model_module_version": "1.2.0",
            "_view_count": null,
            "flex_flow": null,
            "width": null,
            "min_width": null,
            "border": null,
            "align_items": null,
            "bottom": null,
            "_model_module": "@jupyter-widgets/base",
            "top": null,
            "grid_column": null,
            "overflow_y": null,
            "overflow_x": null,
            "grid_auto_flow": null,
            "grid_area": null,
            "grid_template_columns": null,
            "flex": null,
            "_model_name": "LayoutModel",
            "justify_items": null,
            "grid_row": null,
            "max_height": null,
            "align_content": null,
            "visibility": null,
            "align_self": null,
            "height": null,
            "min_height": null,
            "padding": null,
            "grid_auto_rows": null,
            "grid_gap": null,
            "max_width": null,
            "order": null,
            "_view_module_version": "1.2.0",
            "grid_template_areas": null,
            "object_position": null,
            "object_fit": null,
            "grid_auto_columns": null,
            "margin": null,
            "display": null,
            "left": null
          }
        },
        "e5534585d8c246ea8ea4360da83546a4": {
          "model_module": "@jupyter-widgets/controls",
          "model_name": "DescriptionStyleModel",
          "state": {
            "_view_name": "StyleView",
            "_model_name": "DescriptionStyleModel",
            "description_width": "",
            "_view_module": "@jupyter-widgets/base",
            "_model_module_version": "1.5.0",
            "_view_count": null,
            "_view_module_version": "1.2.0",
            "_model_module": "@jupyter-widgets/controls"
          }
        },
        "d30d4313122e4979bd12ab9df6f544cb": {
          "model_module": "@jupyter-widgets/base",
          "model_name": "LayoutModel",
          "state": {
            "_view_name": "LayoutView",
            "grid_template_rows": null,
            "right": null,
            "justify_content": null,
            "_view_module": "@jupyter-widgets/base",
            "overflow": null,
            "_model_module_version": "1.2.0",
            "_view_count": null,
            "flex_flow": null,
            "width": null,
            "min_width": null,
            "border": null,
            "align_items": null,
            "bottom": null,
            "_model_module": "@jupyter-widgets/base",
            "top": null,
            "grid_column": null,
            "overflow_y": null,
            "overflow_x": null,
            "grid_auto_flow": null,
            "grid_area": null,
            "grid_template_columns": null,
            "flex": null,
            "_model_name": "LayoutModel",
            "justify_items": null,
            "grid_row": null,
            "max_height": null,
            "align_content": null,
            "visibility": null,
            "align_self": null,
            "height": null,
            "min_height": null,
            "padding": null,
            "grid_auto_rows": null,
            "grid_gap": null,
            "max_width": null,
            "order": null,
            "_view_module_version": "1.2.0",
            "grid_template_areas": null,
            "object_position": null,
            "object_fit": null,
            "grid_auto_columns": null,
            "margin": null,
            "display": null,
            "left": null
          }
        },
        "a6d107014d004be69ca38787fde223bf": {
          "model_module": "@jupyter-widgets/controls",
          "model_name": "HBoxModel",
          "state": {
            "_view_name": "HBoxView",
            "_dom_classes": [],
            "_model_name": "HBoxModel",
            "_view_module": "@jupyter-widgets/controls",
            "_model_module_version": "1.5.0",
            "_view_count": null,
            "_view_module_version": "1.5.0",
            "box_style": "",
            "layout": "IPY_MODEL_e053db47c4b94de39bb24682e3b443be",
            "_model_module": "@jupyter-widgets/controls",
            "children": [
              "IPY_MODEL_7395252f91374d8b877d7b38e68078a8",
              "IPY_MODEL_fa8f4bee233a41db891141215559d984"
            ]
          }
        },
        "e053db47c4b94de39bb24682e3b443be": {
          "model_module": "@jupyter-widgets/base",
          "model_name": "LayoutModel",
          "state": {
            "_view_name": "LayoutView",
            "grid_template_rows": null,
            "right": null,
            "justify_content": null,
            "_view_module": "@jupyter-widgets/base",
            "overflow": null,
            "_model_module_version": "1.2.0",
            "_view_count": null,
            "flex_flow": null,
            "width": null,
            "min_width": null,
            "border": null,
            "align_items": null,
            "bottom": null,
            "_model_module": "@jupyter-widgets/base",
            "top": null,
            "grid_column": null,
            "overflow_y": null,
            "overflow_x": null,
            "grid_auto_flow": null,
            "grid_area": null,
            "grid_template_columns": null,
            "flex": null,
            "_model_name": "LayoutModel",
            "justify_items": null,
            "grid_row": null,
            "max_height": null,
            "align_content": null,
            "visibility": null,
            "align_self": null,
            "height": null,
            "min_height": null,
            "padding": null,
            "grid_auto_rows": null,
            "grid_gap": null,
            "max_width": null,
            "order": null,
            "_view_module_version": "1.2.0",
            "grid_template_areas": null,
            "object_position": null,
            "object_fit": null,
            "grid_auto_columns": null,
            "margin": null,
            "display": null,
            "left": null
          }
        },
        "7395252f91374d8b877d7b38e68078a8": {
          "model_module": "@jupyter-widgets/controls",
          "model_name": "FloatProgressModel",
          "state": {
            "_view_name": "ProgressView",
            "style": "IPY_MODEL_1b66eda88ea549bfb0dd9d039b977519",
            "_dom_classes": [],
            "description": "Downloading: 100%",
            "_model_name": "FloatProgressModel",
            "bar_style": "success",
            "max": 498676425,
            "_view_module": "@jupyter-widgets/controls",
            "_model_module_version": "1.5.0",
            "value": 498676425,
            "_view_count": null,
            "_view_module_version": "1.5.0",
            "orientation": "horizontal",
            "min": 0,
            "description_tooltip": null,
            "_model_module": "@jupyter-widgets/controls",
            "layout": "IPY_MODEL_777a14a1d2af46b0ba23058e49020dc6"
          }
        },
        "fa8f4bee233a41db891141215559d984": {
          "model_module": "@jupyter-widgets/controls",
          "model_name": "HTMLModel",
          "state": {
            "_view_name": "HTMLView",
            "style": "IPY_MODEL_fee3c58366074692866635659e854ac0",
            "_dom_classes": [],
            "description": "",
            "_model_name": "HTMLModel",
            "placeholder": "​",
            "_view_module": "@jupyter-widgets/controls",
            "_model_module_version": "1.5.0",
            "value": " 499M/499M [03:42&lt;00:00, 2.24MB/s]",
            "_view_count": null,
            "_view_module_version": "1.5.0",
            "description_tooltip": null,
            "_model_module": "@jupyter-widgets/controls",
            "layout": "IPY_MODEL_d401e9dbbf0c49c19d2c357d3cd69511"
          }
        },
        "1b66eda88ea549bfb0dd9d039b977519": {
          "model_module": "@jupyter-widgets/controls",
          "model_name": "ProgressStyleModel",
          "state": {
            "_view_name": "StyleView",
            "_model_name": "ProgressStyleModel",
            "description_width": "initial",
            "_view_module": "@jupyter-widgets/base",
            "_model_module_version": "1.5.0",
            "_view_count": null,
            "_view_module_version": "1.2.0",
            "bar_color": null,
            "_model_module": "@jupyter-widgets/controls"
          }
        },
        "777a14a1d2af46b0ba23058e49020dc6": {
          "model_module": "@jupyter-widgets/base",
          "model_name": "LayoutModel",
          "state": {
            "_view_name": "LayoutView",
            "grid_template_rows": null,
            "right": null,
            "justify_content": null,
            "_view_module": "@jupyter-widgets/base",
            "overflow": null,
            "_model_module_version": "1.2.0",
            "_view_count": null,
            "flex_flow": null,
            "width": null,
            "min_width": null,
            "border": null,
            "align_items": null,
            "bottom": null,
            "_model_module": "@jupyter-widgets/base",
            "top": null,
            "grid_column": null,
            "overflow_y": null,
            "overflow_x": null,
            "grid_auto_flow": null,
            "grid_area": null,
            "grid_template_columns": null,
            "flex": null,
            "_model_name": "LayoutModel",
            "justify_items": null,
            "grid_row": null,
            "max_height": null,
            "align_content": null,
            "visibility": null,
            "align_self": null,
            "height": null,
            "min_height": null,
            "padding": null,
            "grid_auto_rows": null,
            "grid_gap": null,
            "max_width": null,
            "order": null,
            "_view_module_version": "1.2.0",
            "grid_template_areas": null,
            "object_position": null,
            "object_fit": null,
            "grid_auto_columns": null,
            "margin": null,
            "display": null,
            "left": null
          }
        },
        "fee3c58366074692866635659e854ac0": {
          "model_module": "@jupyter-widgets/controls",
          "model_name": "DescriptionStyleModel",
          "state": {
            "_view_name": "StyleView",
            "_model_name": "DescriptionStyleModel",
            "description_width": "",
            "_view_module": "@jupyter-widgets/base",
            "_model_module_version": "1.5.0",
            "_view_count": null,
            "_view_module_version": "1.2.0",
            "_model_module": "@jupyter-widgets/controls"
          }
        },
        "d401e9dbbf0c49c19d2c357d3cd69511": {
          "model_module": "@jupyter-widgets/base",
          "model_name": "LayoutModel",
          "state": {
            "_view_name": "LayoutView",
            "grid_template_rows": null,
            "right": null,
            "justify_content": null,
            "_view_module": "@jupyter-widgets/base",
            "overflow": null,
            "_model_module_version": "1.2.0",
            "_view_count": null,
            "flex_flow": null,
            "width": null,
            "min_width": null,
            "border": null,
            "align_items": null,
            "bottom": null,
            "_model_module": "@jupyter-widgets/base",
            "top": null,
            "grid_column": null,
            "overflow_y": null,
            "overflow_x": null,
            "grid_auto_flow": null,
            "grid_area": null,
            "grid_template_columns": null,
            "flex": null,
            "_model_name": "LayoutModel",
            "justify_items": null,
            "grid_row": null,
            "max_height": null,
            "align_content": null,
            "visibility": null,
            "align_self": null,
            "height": null,
            "min_height": null,
            "padding": null,
            "grid_auto_rows": null,
            "grid_gap": null,
            "max_width": null,
            "order": null,
            "_view_module_version": "1.2.0",
            "grid_template_areas": null,
            "object_position": null,
            "object_fit": null,
            "grid_auto_columns": null,
            "margin": null,
            "display": null,
            "left": null
          }
        }
      }
    }
  },
  "cells": [
    {
      "cell_type": "markdown",
      "metadata": {
        "id": "view-in-github",
        "colab_type": "text"
      },
      "source": [
        "<a href=\"https://colab.research.google.com/github/alsh626626/CE888/blob/main/Assignment2/Assignment2_Project2_offensive.ipynb\" target=\"_parent\"><img src=\"https://colab.research.google.com/assets/colab-badge.svg\" alt=\"Open In Colab\"/></a>"
      ]
    },
    {
      "cell_type": "code",
      "metadata": {
        "colab": {
          "base_uri": "https://localhost:8080/"
        },
        "id": "frYDddi2EPXm",
        "outputId": "ea2a1e45-c97d-441a-b9f2-9856537d8831"
      },
      "source": [
        "!pip install transformers"
      ],
      "execution_count": null,
      "outputs": [
        {
          "output_type": "stream",
          "text": [
            "Collecting transformers\n",
            "\u001b[?25l  Downloading https://files.pythonhosted.org/packages/d8/b2/57495b5309f09fa501866e225c84532d1fd89536ea62406b2181933fb418/transformers-4.5.1-py3-none-any.whl (2.1MB)\n",
            "\u001b[K     |████████████████████████████████| 2.1MB 4.5MB/s \n",
            "\u001b[?25hCollecting sacremoses\n",
            "\u001b[?25l  Downloading https://files.pythonhosted.org/packages/75/ee/67241dc87f266093c533a2d4d3d69438e57d7a90abb216fa076e7d475d4a/sacremoses-0.0.45-py3-none-any.whl (895kB)\n",
            "\u001b[K     |████████████████████████████████| 901kB 17.5MB/s \n",
            "\u001b[?25hRequirement already satisfied: tqdm>=4.27 in /usr/local/lib/python3.7/dist-packages (from transformers) (4.41.1)\n",
            "Requirement already satisfied: numpy>=1.17 in /usr/local/lib/python3.7/dist-packages (from transformers) (1.19.5)\n",
            "Requirement already satisfied: filelock in /usr/local/lib/python3.7/dist-packages (from transformers) (3.0.12)\n",
            "Requirement already satisfied: requests in /usr/local/lib/python3.7/dist-packages (from transformers) (2.23.0)\n",
            "Requirement already satisfied: importlib-metadata; python_version < \"3.8\" in /usr/local/lib/python3.7/dist-packages (from transformers) (3.10.1)\n",
            "Requirement already satisfied: packaging in /usr/local/lib/python3.7/dist-packages (from transformers) (20.9)\n",
            "Requirement already satisfied: regex!=2019.12.17 in /usr/local/lib/python3.7/dist-packages (from transformers) (2019.12.20)\n",
            "Collecting tokenizers<0.11,>=0.10.1\n",
            "\u001b[?25l  Downloading https://files.pythonhosted.org/packages/ae/04/5b870f26a858552025a62f1649c20d29d2672c02ff3c3fb4c688ca46467a/tokenizers-0.10.2-cp37-cp37m-manylinux2010_x86_64.whl (3.3MB)\n",
            "\u001b[K     |████████████████████████████████| 3.3MB 50.1MB/s \n",
            "\u001b[?25hRequirement already satisfied: click in /usr/local/lib/python3.7/dist-packages (from sacremoses->transformers) (7.1.2)\n",
            "Requirement already satisfied: six in /usr/local/lib/python3.7/dist-packages (from sacremoses->transformers) (1.15.0)\n",
            "Requirement already satisfied: joblib in /usr/local/lib/python3.7/dist-packages (from sacremoses->transformers) (1.0.1)\n",
            "Requirement already satisfied: chardet<4,>=3.0.2 in /usr/local/lib/python3.7/dist-packages (from requests->transformers) (3.0.4)\n",
            "Requirement already satisfied: idna<3,>=2.5 in /usr/local/lib/python3.7/dist-packages (from requests->transformers) (2.10)\n",
            "Requirement already satisfied: urllib3!=1.25.0,!=1.25.1,<1.26,>=1.21.1 in /usr/local/lib/python3.7/dist-packages (from requests->transformers) (1.24.3)\n",
            "Requirement already satisfied: certifi>=2017.4.17 in /usr/local/lib/python3.7/dist-packages (from requests->transformers) (2020.12.5)\n",
            "Requirement already satisfied: zipp>=0.5 in /usr/local/lib/python3.7/dist-packages (from importlib-metadata; python_version < \"3.8\"->transformers) (3.4.1)\n",
            "Requirement already satisfied: typing-extensions>=3.6.4; python_version < \"3.8\" in /usr/local/lib/python3.7/dist-packages (from importlib-metadata; python_version < \"3.8\"->transformers) (3.7.4.3)\n",
            "Requirement already satisfied: pyparsing>=2.0.2 in /usr/local/lib/python3.7/dist-packages (from packaging->transformers) (2.4.7)\n",
            "Installing collected packages: sacremoses, tokenizers, transformers\n",
            "Successfully installed sacremoses-0.0.45 tokenizers-0.10.2 transformers-4.5.1\n"
          ],
          "name": "stdout"
        }
      ]
    },
    {
      "cell_type": "code",
      "metadata": {
        "colab": {
          "base_uri": "https://localhost:8080/"
        },
        "id": "lF5T1zhud3hK",
        "outputId": "d12807b8-7318-4327-d05d-78b42e5d8c17"
      },
      "source": [
        "from transformers import AutoModelForSequenceClassification\n",
        "from transformers import TFAutoModelForSequenceClassification\n",
        "from transformers import AutoTokenizer\n",
        "from scipy.special import softmax\n",
        "import csv\n",
        "import urllib.request\n",
        "import matplotlib\n",
        "import matplotlib.pyplot as plt\n",
        "import pandas as pd\n",
        "import numpy as np\n",
        "import seaborn as sn\n",
        "from sklearn import metrics\n",
        "from sklearn.metrics import confusion_matrix\n",
        "import requests\n",
        "import re\n",
        "import string\n",
        "import math\n",
        "import nltk\n",
        "from nltk.tokenize import word_tokenize\n",
        "nltk.download('stopwords')\n",
        "nltk.download('punkt')\n",
        "nltk.download('wordnet')"
      ],
      "execution_count": null,
      "outputs": [
        {
          "output_type": "stream",
          "text": [
            "[nltk_data] Downloading package stopwords to /root/nltk_data...\n",
            "[nltk_data]   Unzipping corpora/stopwords.zip.\n",
            "[nltk_data] Downloading package punkt to /root/nltk_data...\n",
            "[nltk_data]   Unzipping tokenizers/punkt.zip.\n",
            "[nltk_data] Downloading package wordnet to /root/nltk_data...\n",
            "[nltk_data]   Unzipping corpora/wordnet.zip.\n"
          ],
          "name": "stdout"
        },
        {
          "output_type": "execute_result",
          "data": {
            "text/plain": [
              "True"
            ]
          },
          "metadata": {
            "tags": []
          },
          "execution_count": 2
        }
      ]
    },
    {
      "cell_type": "code",
      "metadata": {
        "colab": {
          "base_uri": "https://localhost:8080/"
        },
        "id": "EBE72CZ9bIQr",
        "outputId": "a894b117-d6a3-4fe3-fd29-2c3efe9adbf3"
      },
      "source": [
        "# Load the data\n",
        "\n",
        "# Tasks:\n",
        "# emoji, emotion, hate, irony, offensive, sentiment\n",
        "# stance/abortion, stance/atheism, stance/climate, stance/feminist, stance/hillary\n",
        "\n",
        "# Experiment focus on hate, irony and offensive\n",
        "# Both 3 tasks can be run on the same code by alternating the \"task\" parameter below\n",
        "# Other tasks have not been tested and may occur errors\n",
        "task='offensive'\n",
        "r = requests.get(f\"https://raw.githubusercontent.com/cardiffnlp/tweeteval/main/datasets/{task}/test_labels.txt\", allow_redirects=True)\n",
        "open('test_labels.txt', 'wb').write(r.content)\n",
        "r = requests.get(f\"https://raw.githubusercontent.com/cardiffnlp/tweeteval/main/datasets/{task}/test_text.txt\", allow_redirects=True)\n",
        "open('test_text.txt', 'wb').write(r.content)\n",
        "r = requests.get(f\"https://raw.githubusercontent.com/cardiffnlp/tweeteval/main/datasets/{task}/train_labels.txt\", allow_redirects=True)\n",
        "open('train_labels.txt', 'wb').write(r.content)\n",
        "r = requests.get(f\"https://raw.githubusercontent.com/cardiffnlp/tweeteval/main/datasets/{task}/train_text.txt\", allow_redirects=True)\n",
        "open('train_text.txt', 'wb').write(r.content)\n",
        "r = requests.get(f\"https://raw.githubusercontent.com/cardiffnlp/tweeteval/main/datasets/{task}/val_labels.txt\", allow_redirects=True)\n",
        "open('val_labels.txt', 'wb').write(r.content)\n",
        "r = requests.get(f\"https://raw.githubusercontent.com/cardiffnlp/tweeteval/main/datasets/{task}/val_text.txt\", allow_redirects=True)\n",
        "open('val_text.txt', 'wb').write(r.content)\n",
        "\n",
        "file = open('test_labels.txt')\n",
        "test_labels = file.readlines()\n",
        "file.close\n",
        "file = open('test_text.txt')\n",
        "test_text = file.readlines()\n",
        "file.close\n",
        "file = open('train_labels.txt')\n",
        "train_labels = file.readlines()\n",
        "file.close\n",
        "file = open('train_text.txt')\n",
        "train_text = file.readlines()\n",
        "file.close\n",
        "file = open('val_labels.txt')\n",
        "val_labels = file.readlines()\n",
        "file.close\n",
        "file = open('val_text.txt')\n",
        "val_text = file.readlines()\n",
        "file.close\n",
        "\n",
        "print(\"Number of total data:        \", len(train_labels)+len(val_labels)+len(test_labels))\n",
        "print(\"Number of train labels:      \", len(train_labels))\n",
        "print(\"Number of train text:        \", len(train_text))\n",
        "print(\"Number of validation labels: \", len(val_labels))\n",
        "print(\"Number of validation text:   \", len(val_text))\n",
        "print(\"Number of test labels:       \", len(test_labels))\n",
        "print(\"Number of test text:         \", len(test_text))"
      ],
      "execution_count": null,
      "outputs": [
        {
          "output_type": "stream",
          "text": [
            "Number of total data:         14100\n",
            "Number of train labels:       11916\n",
            "Number of train text:         11916\n",
            "Number of validation labels:  1324\n",
            "Number of validation text:    1324\n",
            "Number of test labels:        860\n",
            "Number of test text:          860\n"
          ],
          "name": "stdout"
        }
      ]
    },
    {
      "cell_type": "code",
      "metadata": {
        "id": "QXQwhnCZzUPl"
      },
      "source": [
        "# Create subset from the dataset for system development\n",
        "#test_labels = val_labels[:]\n",
        "#test_text = val_text[:]\n",
        "#train_labels = train_labels[500:2500]\n",
        "#train_text = train_text[500:2500]\n",
        "#val_labels = val_labels[:100]\n",
        "#val_text = val_text[:100]"
      ],
      "execution_count": null,
      "outputs": []
    },
    {
      "cell_type": "code",
      "metadata": {
        "colab": {
          "base_uri": "https://localhost:8080/"
        },
        "id": "zb3Y1E1MMLSl",
        "outputId": "e60434b2-13bd-4549-d2d9-2a57a3d2a4b1"
      },
      "source": [
        "# Download label mapping\n",
        "import csv\n",
        "import urllib.request\n",
        "labels=[]\n",
        "mapping_link = f\"https://raw.githubusercontent.com/cardiffnlp/tweeteval/main/datasets/{task}/mapping.txt\"\n",
        "with urllib.request.urlopen(mapping_link) as f:\n",
        "    html = f.read().decode('utf-8').split(\"\\n\")\n",
        "    csvreader = csv.reader(html, delimiter='\\t')\n",
        "class_labels = [row[1] for row in csvreader if len(row) > 1]\n",
        "print('Labels:', class_labels)"
      ],
      "execution_count": null,
      "outputs": [
        {
          "output_type": "stream",
          "text": [
            "Labels: ['not-offensive', 'offensive']\n"
          ],
          "name": "stdout"
        }
      ]
    },
    {
      "cell_type": "code",
      "metadata": {
        "colab": {
          "base_uri": "https://localhost:8080/",
          "height": 419
        },
        "id": "wYeos13AjmeM",
        "outputId": "7142f31d-bbb4-4c27-f7bd-d22458bfea60"
      },
      "source": [
        "df = pd.DataFrame(data={'label': train_labels + val_labels + test_labels, 'text': train_text + val_text + test_text})\n",
        "df"
      ],
      "execution_count": null,
      "outputs": [
        {
          "output_type": "execute_result",
          "data": {
            "text/html": [
              "<div>\n",
              "<style scoped>\n",
              "    .dataframe tbody tr th:only-of-type {\n",
              "        vertical-align: middle;\n",
              "    }\n",
              "\n",
              "    .dataframe tbody tr th {\n",
              "        vertical-align: top;\n",
              "    }\n",
              "\n",
              "    .dataframe thead th {\n",
              "        text-align: right;\n",
              "    }\n",
              "</style>\n",
              "<table border=\"1\" class=\"dataframe\">\n",
              "  <thead>\n",
              "    <tr style=\"text-align: right;\">\n",
              "      <th></th>\n",
              "      <th>label</th>\n",
              "      <th>text</th>\n",
              "    </tr>\n",
              "  </thead>\n",
              "  <tbody>\n",
              "    <tr>\n",
              "      <th>0</th>\n",
              "      <td>0\\n</td>\n",
              "      <td>@user Bono... who cares. Soon people will unde...</td>\n",
              "    </tr>\n",
              "    <tr>\n",
              "      <th>1</th>\n",
              "      <td>1\\n</td>\n",
              "      <td>@user Eight years the republicans denied obama...</td>\n",
              "    </tr>\n",
              "    <tr>\n",
              "      <th>2</th>\n",
              "      <td>0\\n</td>\n",
              "      <td>@user Get him some line help. He is gonna be j...</td>\n",
              "    </tr>\n",
              "    <tr>\n",
              "      <th>3</th>\n",
              "      <td>0\\n</td>\n",
              "      <td>@user @user She is great. Hi Fiona! \\n</td>\n",
              "    </tr>\n",
              "    <tr>\n",
              "      <th>4</th>\n",
              "      <td>1\\n</td>\n",
              "      <td>@user She has become a parody unto herself? Sh...</td>\n",
              "    </tr>\n",
              "    <tr>\n",
              "      <th>...</th>\n",
              "      <td>...</td>\n",
              "      <td>...</td>\n",
              "    </tr>\n",
              "    <tr>\n",
              "      <th>14095</th>\n",
              "      <td>0\\n</td>\n",
              "      <td>#CNN irrationally argues 4 legalising #abortio...</td>\n",
              "    </tr>\n",
              "    <tr>\n",
              "      <th>14096</th>\n",
              "      <td>0\\n</td>\n",
              "      <td>@user @user @user @user @user @user @user @use...</td>\n",
              "    </tr>\n",
              "    <tr>\n",
              "      <th>14097</th>\n",
              "      <td>1\\n</td>\n",
              "      <td>#Conservatives don’t care what you post..it’s ...</td>\n",
              "    </tr>\n",
              "    <tr>\n",
              "      <th>14098</th>\n",
              "      <td>0\\n</td>\n",
              "      <td>#antifa #Resist.. Trump is trying to bring wor...</td>\n",
              "    </tr>\n",
              "    <tr>\n",
              "      <th>14099</th>\n",
              "      <td>0\\n</td>\n",
              "      <td>#Maine you need to face facts @user doesn’t re...</td>\n",
              "    </tr>\n",
              "  </tbody>\n",
              "</table>\n",
              "<p>14100 rows × 2 columns</p>\n",
              "</div>"
            ],
            "text/plain": [
              "      label                                               text\n",
              "0       0\\n  @user Bono... who cares. Soon people will unde...\n",
              "1       1\\n  @user Eight years the republicans denied obama...\n",
              "2       0\\n  @user Get him some line help. He is gonna be j...\n",
              "3       0\\n             @user @user She is great. Hi Fiona! \\n\n",
              "4       1\\n  @user She has become a parody unto herself? Sh...\n",
              "...     ...                                                ...\n",
              "14095   0\\n  #CNN irrationally argues 4 legalising #abortio...\n",
              "14096   0\\n  @user @user @user @user @user @user @user @use...\n",
              "14097   1\\n  #Conservatives don’t care what you post..it’s ...\n",
              "14098   0\\n  #antifa #Resist.. Trump is trying to bring wor...\n",
              "14099   0\\n  #Maine you need to face facts @user doesn’t re...\n",
              "\n",
              "[14100 rows x 2 columns]"
            ]
          },
          "metadata": {
            "tags": []
          },
          "execution_count": 6
        }
      ]
    },
    {
      "cell_type": "code",
      "metadata": {
        "colab": {
          "base_uri": "https://localhost:8080/",
          "height": 419
        },
        "id": "TwMx_YvDxCAe",
        "outputId": "a1986120-1284-4c9c-be8c-512754b6fcef"
      },
      "source": [
        "df['length'] = df['text'].apply(lambda x: len(word_tokenize(x)))\n",
        "df"
      ],
      "execution_count": null,
      "outputs": [
        {
          "output_type": "execute_result",
          "data": {
            "text/html": [
              "<div>\n",
              "<style scoped>\n",
              "    .dataframe tbody tr th:only-of-type {\n",
              "        vertical-align: middle;\n",
              "    }\n",
              "\n",
              "    .dataframe tbody tr th {\n",
              "        vertical-align: top;\n",
              "    }\n",
              "\n",
              "    .dataframe thead th {\n",
              "        text-align: right;\n",
              "    }\n",
              "</style>\n",
              "<table border=\"1\" class=\"dataframe\">\n",
              "  <thead>\n",
              "    <tr style=\"text-align: right;\">\n",
              "      <th></th>\n",
              "      <th>label</th>\n",
              "      <th>text</th>\n",
              "      <th>length</th>\n",
              "    </tr>\n",
              "  </thead>\n",
              "  <tbody>\n",
              "    <tr>\n",
              "      <th>0</th>\n",
              "      <td>0\\n</td>\n",
              "      <td>@user Bono... who cares. Soon people will unde...</td>\n",
              "      <td>36</td>\n",
              "    </tr>\n",
              "    <tr>\n",
              "      <th>1</th>\n",
              "      <td>1\\n</td>\n",
              "      <td>@user Eight years the republicans denied obama...</td>\n",
              "      <td>22</td>\n",
              "    </tr>\n",
              "    <tr>\n",
              "      <th>2</th>\n",
              "      <td>0\\n</td>\n",
              "      <td>@user Get him some line help. He is gonna be j...</td>\n",
              "      <td>51</td>\n",
              "    </tr>\n",
              "    <tr>\n",
              "      <th>3</th>\n",
              "      <td>0\\n</td>\n",
              "      <td>@user @user She is great. Hi Fiona! \\n</td>\n",
              "      <td>11</td>\n",
              "    </tr>\n",
              "    <tr>\n",
              "      <th>4</th>\n",
              "      <td>1\\n</td>\n",
              "      <td>@user She has become a parody unto herself? Sh...</td>\n",
              "      <td>39</td>\n",
              "    </tr>\n",
              "    <tr>\n",
              "      <th>...</th>\n",
              "      <td>...</td>\n",
              "      <td>...</td>\n",
              "      <td>...</td>\n",
              "    </tr>\n",
              "    <tr>\n",
              "      <th>14095</th>\n",
              "      <td>0\\n</td>\n",
              "      <td>#CNN irrationally argues 4 legalising #abortio...</td>\n",
              "      <td>50</td>\n",
              "    </tr>\n",
              "    <tr>\n",
              "      <th>14096</th>\n",
              "      <td>0\\n</td>\n",
              "      <td>@user @user @user @user @user @user @user @use...</td>\n",
              "      <td>62</td>\n",
              "    </tr>\n",
              "    <tr>\n",
              "      <th>14097</th>\n",
              "      <td>1\\n</td>\n",
              "      <td>#Conservatives don’t care what you post..it’s ...</td>\n",
              "      <td>14</td>\n",
              "    </tr>\n",
              "    <tr>\n",
              "      <th>14098</th>\n",
              "      <td>0\\n</td>\n",
              "      <td>#antifa #Resist.. Trump is trying to bring wor...</td>\n",
              "      <td>30</td>\n",
              "    </tr>\n",
              "    <tr>\n",
              "      <th>14099</th>\n",
              "      <td>0\\n</td>\n",
              "      <td>#Maine you need to face facts @user doesn’t re...</td>\n",
              "      <td>49</td>\n",
              "    </tr>\n",
              "  </tbody>\n",
              "</table>\n",
              "<p>14100 rows × 3 columns</p>\n",
              "</div>"
            ],
            "text/plain": [
              "      label                                               text  length\n",
              "0       0\\n  @user Bono... who cares. Soon people will unde...      36\n",
              "1       1\\n  @user Eight years the republicans denied obama...      22\n",
              "2       0\\n  @user Get him some line help. He is gonna be j...      51\n",
              "3       0\\n             @user @user She is great. Hi Fiona! \\n      11\n",
              "4       1\\n  @user She has become a parody unto herself? Sh...      39\n",
              "...     ...                                                ...     ...\n",
              "14095   0\\n  #CNN irrationally argues 4 legalising #abortio...      50\n",
              "14096   0\\n  @user @user @user @user @user @user @user @use...      62\n",
              "14097   1\\n  #Conservatives don’t care what you post..it’s ...      14\n",
              "14098   0\\n  #antifa #Resist.. Trump is trying to bring wor...      30\n",
              "14099   0\\n  #Maine you need to face facts @user doesn’t re...      49\n",
              "\n",
              "[14100 rows x 3 columns]"
            ]
          },
          "metadata": {
            "tags": []
          },
          "execution_count": 7
        }
      ]
    },
    {
      "cell_type": "code",
      "metadata": {
        "colab": {
          "base_uri": "https://localhost:8080/"
        },
        "id": "fyfE-Qk6xkYG",
        "outputId": "0721b551-50e9-4479-d9b2-81c318e3da2b"
      },
      "source": [
        "np.mean(df['length'][:len(train_text)].tolist())"
      ],
      "execution_count": null,
      "outputs": [
        {
          "output_type": "execute_result",
          "data": {
            "text/plain": [
              "28.231537428667338"
            ]
          },
          "metadata": {
            "tags": []
          },
          "execution_count": 8
        }
      ]
    },
    {
      "cell_type": "code",
      "metadata": {
        "colab": {
          "base_uri": "https://localhost:8080/",
          "height": 315
        },
        "id": "Y-Nqdc-Sd5c6",
        "outputId": "6ab1ad64-369b-41f7-fe60-2ef39bf3e316"
      },
      "source": [
        "# Show distribution of classes\n",
        "df_class = df.groupby('label').size().reset_index(name='counts')\n",
        "print(df_class)\n",
        "\n",
        "labels = class_labels\n",
        "sizes = df_class['counts'].tolist()\n",
        "plt.title(f\"Distribution of classes of {task} dataset\")\n",
        "plt.pie(sizes, labels=labels, autopct='%1.1f%%', counterclock=False, startangle=90)\n",
        "plt.axis('equal')\n",
        "plt.show()"
      ],
      "execution_count": null,
      "outputs": [
        {
          "output_type": "stream",
          "text": [
            "  label  counts\n",
            "0   0\\n    9460\n",
            "1   1\\n    4640\n"
          ],
          "name": "stdout"
        },
        {
          "output_type": "display_data",
          "data": {
            "image/png": "[encoded data removed]",
            "text/plain": [
              "<Figure size 432x288 with 1 Axes>"
            ]
          },
          "metadata": {
            "tags": []
          }
        }
      ]
    },
    {
      "cell_type": "markdown",
      "metadata": {
        "id": "s7YigPkQdI_C"
      },
      "source": [
        "# Pre-processing"
      ]
    },
    {
      "cell_type": "code",
      "metadata": {
        "id": "ljSF5Pe0kG67"
      },
      "source": [
        "# Cleaning the data\n",
        "df['label'] = df['label'].apply(lambda x: re.sub('\\n','', x))\n",
        "df['text'] = df['text'].apply(lambda x: re.sub('\\n','', x))\n",
        "# Lowercase the words\n",
        "df['cleaned'] = df['text'].apply(lambda x: x.lower())\n",
        "# Remove digits and words containing digits\n",
        "df['cleaned'] = df['cleaned'].apply(lambda x: re.sub('\\w*\\d\\w*','', x))\n",
        "# Remove Punctuations\n",
        "df['cleaned'] = df['cleaned'].apply(lambda x: re.sub('[%s]' % re.escape(string.punctuation), '', x))\n",
        "# Remove extra spaces\n",
        "df['cleaned'] = df['cleaned'].apply(lambda x: re.sub(' +',' ',x))"
      ],
      "execution_count": null,
      "outputs": []
    },
    {
      "cell_type": "code",
      "metadata": {
        "id": "3dRTHyaIfoRD"
      },
      "source": [
        "# Remove stop words\n",
        "stop_words = set(nltk.corpus.stopwords.words(\"english\"))\n",
        "df['cleaned'] = df['cleaned'].apply(lambda x: ' '.join([token for token in list(word_tokenize(x)) if not token in stop_words]))"
      ],
      "execution_count": null,
      "outputs": []
    },
    {
      "cell_type": "code",
      "metadata": {
        "colab": {
          "base_uri": "https://localhost:8080/"
        },
        "id": "UxF1XqXqvCO8",
        "outputId": "ed7a2d54-8185-40a1-e8f1-de739e2d920b"
      },
      "source": [
        "%%time\n",
        "import spacy\n",
        "nlp = spacy.load('en_core_web_sm',disable=['parser', 'ner'])\n",
        "\n",
        "# Lemmatization with stop words removal\n",
        "df['lemmatized']=df['cleaned'].apply(lambda x: ' '.join([token.lemma_ for token in list(nlp(x)) if (token.is_stop==False)]))\n",
        "\n",
        "# Remove stop words again\n",
        "df['lemmatized'] = df['lemmatized'].apply(lambda x: ' '.join([token for token in list(word_tokenize(x)) if not token in stop_words]))\n",
        "\n",
        "df"
      ],
      "execution_count": null,
      "outputs": [
        {
          "output_type": "stream",
          "text": [
            "CPU times: user 43min 29s, sys: 19.2 s, total: 43min 48s\n",
            "Wall time: 43min 56s\n"
          ],
          "name": "stdout"
        }
      ]
    },
    {
      "cell_type": "markdown",
      "metadata": {
        "id": "1QLfmwZli4vC"
      },
      "source": [
        "# Experiment"
      ]
    },
    {
      "cell_type": "code",
      "metadata": {
        "id": "zszD-CVT3Sfk"
      },
      "source": [
        "df['lemmatized'] = df['lemmatized'].astype(str)\n",
        "train_text_list = df['lemmatized'][:len(train_text)].tolist()\n",
        "val_text_list = df['lemmatized'][len(train_text):len(train_text) + len(val_text)].tolist()\n",
        "test_text_list = df['lemmatized'][len(train_text) + len(val_text):].tolist()\n",
        "\n",
        "df['label'] = df['label'].astype(int)\n",
        "train_label_list = df['label'][:len(train_text)].tolist()\n",
        "val_label_list = df['label'][len(train_text):len(train_text) + len(val_text)].tolist()\n",
        "test_label_list = df['label'][len(train_text) + len(val_text):].tolist()"
      ],
      "execution_count": null,
      "outputs": []
    },
    {
      "cell_type": "code",
      "metadata": {
        "colab": {
          "base_uri": "https://localhost:8080/"
        },
        "id": "M468Ops3sqck",
        "outputId": "2c844616-1814-431a-bd7e-8a28ad5fbd56"
      },
      "source": [
        "%%time\n",
        "# Creating feature vector\n",
        "# Most frequently 3000 word is selected as the features\n",
        "from sklearn.feature_extraction.text import CountVectorizer\n",
        "vectorizer = CountVectorizer(analyzer='word', ngram_range=(1, 1), max_features=3000)\n",
        "\n",
        "# Only training set will be used to obtain features\n",
        "train_set_vector = vectorizer.fit_transform(train_text_list)\n",
        "val_set_vector = vectorizer.transform(val_text_list)\n",
        "test_set_vector = vectorizer.transform(test_text_list)\n",
        "\n",
        "train_set_label = [label for label in train_label_list]\n",
        "val_set_label = [label for label in val_label_list]\n",
        "test_set_label = [label for label in test_label_list]"
      ],
      "execution_count": null,
      "outputs": [
        {
          "output_type": "stream",
          "text": [
            "CPU times: user 219 ms, sys: 4 ms, total: 223 ms\n",
            "Wall time: 230 ms\n"
          ],
          "name": "stdout"
        }
      ]
    },
    {
      "cell_type": "code",
      "metadata": {
        "id": "4Sf4xeoXbVw6",
        "colab": {
          "base_uri": "https://localhost:8080/"
        },
        "outputId": "7774eed7-3ec1-4f1f-fb31-b7fb43beebeb"
      },
      "source": [
        "%%time\n",
        "# Creating feature tensor\n",
        "# Most frequently 3000 word is selected as the features\n",
        "from keras.preprocessing.text import Tokenizer\n",
        "from keras.preprocessing import sequence\n",
        "max_features = 3000\n",
        "maxlen = 30\n",
        "tokenizer = Tokenizer(num_words=3000)\n",
        "\n",
        "# Only training set will be used to obtain features\n",
        "tokenizer.fit_on_texts(train_text_list)\n",
        "\n",
        "train_set_content = tokenizer.texts_to_sequences(train_text_list)\n",
        "train_set_content = sequence.pad_sequences(train_set_content, maxlen=maxlen)\n",
        "val_set_content = tokenizer.texts_to_sequences(val_text_list)\n",
        "val_set_content = sequence.pad_sequences(val_set_content, maxlen=maxlen)\n",
        "test_set_content = tokenizer.texts_to_sequences(test_text_list)\n",
        "test_set_content = sequence.pad_sequences(test_set_content, maxlen=maxlen)"
      ],
      "execution_count": null,
      "outputs": [
        {
          "output_type": "stream",
          "text": [
            "CPU times: user 523 ms, sys: 13 ms, total: 536 ms\n",
            "Wall time: 571 ms\n"
          ],
          "name": "stdout"
        }
      ]
    },
    {
      "cell_type": "code",
      "metadata": {
        "id": "rqE74qw0jMUh"
      },
      "source": [
        "import seaborn as sn\n",
        "import sklearn\n",
        "from sklearn import metrics\n",
        "from sklearn.metrics import confusion_matrix\n",
        "from sklearn.feature_extraction.text import CountVectorizer\n",
        "from sklearn.model_selection import GridSearchCV\n",
        "\n",
        "from sklearn.tree import DecisionTreeClassifier\n",
        "from sklearn.neighbors import KNeighborsClassifier\n",
        "from sklearn.svm import SVC\n",
        "from sklearn.naive_bayes import MultinomialNB\n",
        "from sklearn.dummy import DummyClassifier\n",
        "\n",
        "import keras\n",
        "from keras import layers\n",
        "from keras import models\n",
        "from keras.models import Sequential\n",
        "from keras.layers import Dense, Embedding, SimpleRNN, LSTM, GRU, Bidirectional, TimeDistributed\n",
        "from keras.wrappers.scikit_learn import KerasClassifier"
      ],
      "execution_count": null,
      "outputs": []
    },
    {
      "cell_type": "markdown",
      "metadata": {
        "id": "MqX3Hjs915At"
      },
      "source": [
        "# Conventional"
      ]
    },
    {
      "cell_type": "code",
      "metadata": {
        "colab": {
          "base_uri": "https://localhost:8080/"
        },
        "id": "Idtc-mf2jzmD",
        "outputId": "db9226e0-3e68-4804-9990-b35271e270e6"
      },
      "source": [
        "%%time\n",
        "# Dummy (majority) is used as the classification model\n",
        "Dummyclf = DummyClassifier(strategy='most_frequent')\n",
        "# Train Dummy Classifier\n",
        "Dummyclf = Dummyclf.fit(train_set_vector, train_set_label)"
      ],
      "execution_count": null,
      "outputs": [
        {
          "output_type": "stream",
          "text": [
            "CPU times: user 2.59 ms, sys: 5 µs, total: 2.6 ms\n",
            "Wall time: 3.15 ms\n"
          ],
          "name": "stdout"
        }
      ]
    },
    {
      "cell_type": "code",
      "metadata": {
        "id": "Jl7pdZiRge-4",
        "colab": {
          "base_uri": "https://localhost:8080/"
        },
        "outputId": "ca34e78a-3d82-4c3e-abfc-e4150b4128c9"
      },
      "source": [
        "%%time\n",
        "# Predict using test dataset\n",
        "predicted_label = Dummyclf.predict(test_set_vector)"
      ],
      "execution_count": null,
      "outputs": [
        {
          "output_type": "stream",
          "text": [
            "CPU times: user 230 µs, sys: 2 µs, total: 232 µs\n",
            "Wall time: 216 µs\n"
          ],
          "name": "stdout"
        }
      ]
    },
    {
      "cell_type": "code",
      "metadata": {
        "colab": {
          "base_uri": "https://localhost:8080/"
        },
        "id": "v08GD6OUj7da",
        "outputId": "8f0999ee-3769-41e5-cd6b-8b39fe28b308"
      },
      "source": [
        "print(\"Majority:\")\n",
        "#print('Best parameters: ', Dummyclf.best_params_)\n",
        "accuracy = metrics.accuracy_score(test_set_label, predicted_label)\n",
        "print('Accuracy Score:', accuracy)\n",
        "f1= metrics.f1_score(test_set_label, predicted_label, average='macro')\n",
        "print('Macro F1 Score:', f1)\n",
        "print('Clasification report:\\n', metrics.classification_report(test_set_label, predicted_label, zero_division=0))\n",
        "\n",
        "cm = confusion_matrix(test_set_label, predicted_label)\n",
        "df_cm = pd.DataFrame(cm, class_labels, class_labels)\n",
        "sn.set(font_scale=1.4) # for label size\n",
        "sn.heatmap(df_cm, annot=True, fmt=\"d\", annot_kws={\"size\": 16}) # font size\n",
        "plt.title(f\"Majority for {task} dataset\")\n",
        "plt.xlabel('predicted class')\n",
        "plt.ylabel('ground truth')\n",
        "plt.show()"
      ],
      "execution_count": null,
      "outputs": [
        {
          "output_type": "stream",
          "text": [
            "Majority:\n",
            "Accuracy Score: 0.7209302325581395\n",
            "Macro F1 Score: 0.4189189189189189\n",
            "Clasification report:\n",
            "               precision    recall  f1-score   support\n",
            "\n",
            "           0       0.72      1.00      0.84       620\n",
            "           1       0.00      0.00      0.00       240\n",
            "\n",
            "    accuracy                           0.72       860\n",
            "   macro avg       0.36      0.50      0.42       860\n",
            "weighted avg       0.52      0.72      0.60       860\n",
            "\n"
          ],
          "name": "stdout"
        },
        {
          "output_type": "display_data",
          "data": {
            "image/png": "[encoded data removed]",
            "text/plain": [
              "<Figure size 432x288 with 2 Axes>"
            ]
          },
          "metadata": {
            "tags": []
          }
        }
      ]
    },
    {
      "cell_type": "code",
      "metadata": {
        "colab": {
          "base_uri": "https://localhost:8080/"
        },
        "id": "RrVXeu1L4ett",
        "outputId": "32b660bc-afea-41e1-8f8c-aaf4cba4fed8"
      },
      "source": [
        "%%time\n",
        "# Naive Bayes Classifier is used as the classification model\n",
        "NBclf = MultinomialNB(alpha=1.0, fit_prior=True)\n",
        "param_grid = {\n",
        "    # 'fit_prior' : [True, False],\n",
        "}\n",
        "NBclf = GridSearchCV(estimator=NBclf, param_grid=param_grid, n_jobs=-1)\n",
        "# Train Naive Bayes Classifier\n",
        "NBclf = NBclf.fit(train_set_vector, train_set_label)"
      ],
      "execution_count": null,
      "outputs": [
        {
          "output_type": "stream",
          "text": [
            "CPU times: user 251 ms, sys: 56.9 ms, total: 308 ms\n",
            "Wall time: 1.26 s\n"
          ],
          "name": "stdout"
        }
      ]
    },
    {
      "cell_type": "code",
      "metadata": {
        "id": "wZrT9AErgjFO",
        "colab": {
          "base_uri": "https://localhost:8080/"
        },
        "outputId": "26505a9c-4469-4aca-835f-7677a5e93213"
      },
      "source": [
        "%%time\n",
        "# Predict using test dataset\n",
        "predicted_label = NBclf.predict(test_set_vector)"
      ],
      "execution_count": null,
      "outputs": [
        {
          "output_type": "stream",
          "text": [
            "CPU times: user 2.07 ms, sys: 8 µs, total: 2.07 ms\n",
            "Wall time: 2.05 ms\n"
          ],
          "name": "stdout"
        }
      ]
    },
    {
      "cell_type": "code",
      "metadata": {
        "colab": {
          "base_uri": "https://localhost:8080/"
        },
        "id": "f0NDIo_MiaKM",
        "outputId": "3ad05cd5-454b-4a5a-b0b0-2d91ab05f7a0"
      },
      "source": [
        "print(\"Naive Bayes:\")\n",
        "print('Best parameters: ', NBclf.best_params_)\n",
        "accuracy = metrics.accuracy_score(test_set_label, predicted_label)\n",
        "print('Accuracy Score:', accuracy)\n",
        "f1= metrics.f1_score(test_set_label, predicted_label, average='macro')\n",
        "print('Macro F1 Score:', f1)\n",
        "print('Clasification report:\\n', metrics.classification_report(test_set_label, predicted_label))\n",
        "\n",
        "cm = confusion_matrix(test_set_label, predicted_label)\n",
        "df_cm = pd.DataFrame(cm, class_labels, class_labels)\n",
        "sn.set(font_scale=1.4) # for label size\n",
        "sn.heatmap(df_cm, annot=True, fmt=\"d\", annot_kws={\"size\": 16}) # font size\n",
        "plt.title(f\"Naive Bayes Classifier for {task} dataset\")\n",
        "plt.xlabel('predicted class')\n",
        "plt.ylabel('ground truth')\n",
        "plt.show()"
      ],
      "execution_count": null,
      "outputs": [
        {
          "output_type": "stream",
          "text": [
            "Naive Bayes:\n",
            "Best parameters:  {}\n",
            "Accuracy Score: 0.7744186046511627\n",
            "Macro F1 Score: 0.7277699456975774\n",
            "Clasification report:\n",
            "               precision    recall  f1-score   support\n",
            "\n",
            "           0       0.86      0.82      0.84       620\n",
            "           1       0.59      0.65      0.62       240\n",
            "\n",
            "    accuracy                           0.77       860\n",
            "   macro avg       0.72      0.74      0.73       860\n",
            "weighted avg       0.78      0.77      0.78       860\n",
            "\n"
          ],
          "name": "stdout"
        },
        {
          "output_type": "display_data",
          "data": {
            "image/png": "[encoded data removed]",
            "text/plain": [
              "<Figure size 432x288 with 2 Axes>"
            ]
          },
          "metadata": {
            "tags": []
          }
        }
      ]
    },
    {
      "cell_type": "code",
      "metadata": {
        "colab": {
          "base_uri": "https://localhost:8080/"
        },
        "id": "HmDdIsqI45F9",
        "outputId": "bad6ac47-c675-4817-c14c-a4078cafbc64"
      },
      "source": [
        "%%time\n",
        "# Decision Tree is used as the classification model\n",
        "DTclf = DecisionTreeClassifier(criterion=\"entropy\", min_samples_split=10)\n",
        "param_grid = {\n",
        "    # 'criterion' : [\"entropy\", \"gini\"],\n",
        "    # 'max_depth' : np.arange(10, 21, 1),\n",
        "    # 'min_samples_split' : np.arange(10, 21, 1),\n",
        "}\n",
        "DTclf = GridSearchCV(estimator=DTclf, param_grid=param_grid, n_jobs=-1)\n",
        "# Train Decision Tree Classifier\n",
        "DTclf = DTclf.fit(train_set_vector, train_set_label)"
      ],
      "execution_count": null,
      "outputs": [
        {
          "output_type": "stream",
          "text": [
            "CPU times: user 1.69 s, sys: 12 ms, total: 1.7 s\n",
            "Wall time: 6.19 s\n"
          ],
          "name": "stdout"
        }
      ]
    },
    {
      "cell_type": "code",
      "metadata": {
        "id": "Ca4ltaL-gmVv",
        "colab": {
          "base_uri": "https://localhost:8080/"
        },
        "outputId": "ffa6e0b5-59c1-41f4-ee11-ded7e434b2db"
      },
      "source": [
        "%%time\n",
        "# Predict using test dataset\n",
        "predicted_label = DTclf.predict(test_set_vector)"
      ],
      "execution_count": null,
      "outputs": [
        {
          "output_type": "stream",
          "text": [
            "CPU times: user 2.09 ms, sys: 0 ns, total: 2.09 ms\n",
            "Wall time: 1.96 ms\n"
          ],
          "name": "stdout"
        }
      ]
    },
    {
      "cell_type": "code",
      "metadata": {
        "colab": {
          "base_uri": "https://localhost:8080/"
        },
        "id": "WN6AY7YT1Hgl",
        "outputId": "c3e16088-4f8b-4c96-ad3a-a4a74d2b3fd0"
      },
      "source": [
        "print(\"Decision Tree:\")\n",
        "print('Best parameters: ', DTclf.best_params_)\n",
        "accuracy = metrics.accuracy_score(test_set_label, predicted_label)\n",
        "print('Accuracy Score:', accuracy)\n",
        "f1= metrics.f1_score(test_set_label, predicted_label, average='macro')\n",
        "print('Macro F1 Score:', f1)\n",
        "print('Clasification report:\\n', metrics.classification_report(test_set_label, predicted_label))\n",
        "\n",
        "cm = confusion_matrix(test_set_label, predicted_label)\n",
        "df_cm = pd.DataFrame(cm, class_labels, class_labels)\n",
        "sn.set(font_scale=1.4) # for label size\n",
        "sn.heatmap(df_cm, annot=True, fmt=\"d\", annot_kws={\"size\": 16}) # font size\n",
        "plt.title(f\"Decision Tree for {task} dataset\")\n",
        "plt.xlabel('predicted class')\n",
        "plt.ylabel('ground truth')\n",
        "plt.show()"
      ],
      "execution_count": null,
      "outputs": [
        {
          "output_type": "stream",
          "text": [
            "Decision Tree:\n",
            "Best parameters:  {}\n",
            "Accuracy Score: 0.7372093023255814\n",
            "Macro F1 Score: 0.6835991170207917\n",
            "Clasification report:\n",
            "               precision    recall  f1-score   support\n",
            "\n",
            "           0       0.83      0.80      0.81       620\n",
            "           1       0.53      0.58      0.55       240\n",
            "\n",
            "    accuracy                           0.74       860\n",
            "   macro avg       0.68      0.69      0.68       860\n",
            "weighted avg       0.75      0.74      0.74       860\n",
            "\n"
          ],
          "name": "stdout"
        },
        {
          "output_type": "display_data",
          "data": {
            "image/png": "[encoded data removed]",
            "text/plain": [
              "<Figure size 432x288 with 2 Axes>"
            ]
          },
          "metadata": {
            "tags": []
          }
        }
      ]
    },
    {
      "cell_type": "code",
      "metadata": {
        "colab": {
          "base_uri": "https://localhost:8080/"
        },
        "id": "j_dvZf215G5L",
        "outputId": "34b82f37-2fa0-4361-a5a1-2a942b0b2f35"
      },
      "source": [
        "%%time\n",
        "# K-Nearest Neighbors is used as the classification model\n",
        "KNNclf = KNeighborsClassifier(weights=\"distance\", p = 2, n_neighbors=5) #euclidean distance\n",
        "param_grid = {\n",
        "        #'n_neighbors': np.arange(1, 11, 1),\n",
        "        #'weights': [\"uniform\", \"distance\"],\n",
        "}\n",
        "KNNclf = GridSearchCV(estimator=KNNclf, param_grid=param_grid, n_jobs=-1)\n",
        "# Train K-Nearest Neighbors Classifier\n",
        "KNNclf = KNNclf.fit(train_set_vector, train_set_label)"
      ],
      "execution_count": null,
      "outputs": [
        {
          "output_type": "stream",
          "text": [
            "/usr/local/lib/python3.7/dist-packages/joblib/externals/loky/process_executor.py:691: UserWarning: A worker stopped while some jobs were given to the executor. This can be caused by a too short worker timeout or by a memory leak.\n",
            "  \"timeout or by a memory leak.\", UserWarning\n"
          ],
          "name": "stderr"
        },
        {
          "output_type": "stream",
          "text": [
            "CPU times: user 255 ms, sys: 49 ms, total: 304 ms\n",
            "Wall time: 4.35 s\n"
          ],
          "name": "stdout"
        }
      ]
    },
    {
      "cell_type": "code",
      "metadata": {
        "id": "yJicd45mgpF_",
        "colab": {
          "base_uri": "https://localhost:8080/"
        },
        "outputId": "872bac36-903e-4d31-e098-ec82fc48e0c1"
      },
      "source": [
        "%%time\n",
        "# Predict using test dataset\n",
        "predicted_label = KNNclf.predict(test_set_vector)"
      ],
      "execution_count": null,
      "outputs": [
        {
          "output_type": "stream",
          "text": [
            "CPU times: user 262 ms, sys: 89 ms, total: 351 ms\n",
            "Wall time: 349 ms\n"
          ],
          "name": "stdout"
        }
      ]
    },
    {
      "cell_type": "code",
      "metadata": {
        "colab": {
          "base_uri": "https://localhost:8080/"
        },
        "id": "_VYG42BX3GbY",
        "outputId": "a04bab8b-8e42-4b84-9cb0-778ab85bfc9a"
      },
      "source": [
        "print(\"K-Nearest Neighbors:\")\n",
        "print('Best parameters: ', KNNclf.best_params_)\n",
        "accuracy = metrics.accuracy_score(test_set_label, predicted_label)\n",
        "print('Accuracy Score:', accuracy)\n",
        "f1= metrics.f1_score(test_set_label, predicted_label, average='macro')\n",
        "print('Macro F1 Score:', f1)\n",
        "print('Clasification report:\\n', metrics.classification_report(test_set_label, predicted_label))\n",
        "\n",
        "cm = confusion_matrix(test_set_label, predicted_label)\n",
        "df_cm = pd.DataFrame(cm, class_labels, class_labels)\n",
        "sn.set(font_scale=1.4) # for label size\n",
        "sn.heatmap(df_cm, annot=True, fmt=\"d\", annot_kws={\"size\": 16}) # font size\n",
        "plt.title(f\"KNN for {task} dataset\")\n",
        "plt.xlabel('predicted class')\n",
        "plt.ylabel('ground truth')\n",
        "plt.show()"
      ],
      "execution_count": null,
      "outputs": [
        {
          "output_type": "stream",
          "text": [
            "K-Nearest Neighbors:\n",
            "Best parameters:  {}\n",
            "Accuracy Score: 0.7569767441860465\n",
            "Macro F1 Score: 0.6108437204327615\n",
            "Clasification report:\n",
            "               precision    recall  f1-score   support\n",
            "\n",
            "           0       0.77      0.95      0.85       620\n",
            "           1       0.67      0.26      0.37       240\n",
            "\n",
            "    accuracy                           0.76       860\n",
            "   macro avg       0.72      0.60      0.61       860\n",
            "weighted avg       0.74      0.76      0.72       860\n",
            "\n"
          ],
          "name": "stdout"
        },
        {
          "output_type": "display_data",
          "data": {
            "image/png": "[encoded data removed]",
            "text/plain": [
              "<Figure size 432x288 with 2 Axes>"
            ]
          },
          "metadata": {
            "tags": []
          }
        }
      ]
    },
    {
      "cell_type": "code",
      "metadata": {
        "colab": {
          "base_uri": "https://localhost:8080/"
        },
        "id": "5Z4Otfpx5LiT",
        "outputId": "9b71f652-9181-47e7-d749-692c67a70680"
      },
      "source": [
        "%%time\n",
        "# Support Vector Machine is used as the classification model\n",
        "SVMclf = SVC(kernel='rbf', C=1, gamma=0.1)\n",
        "param_grid = {\n",
        "    #'kernel': [\"linear\", \"poly\", \"rbf\"],\n",
        "    #'C' : np.logspace(-1, 3, 5),\n",
        "    #'gamma' : np.logspace(-4, -0, 5),\n",
        "}\n",
        "SVMclf = GridSearchCV(estimator=SVMclf, param_grid=param_grid, n_jobs=-1)\n",
        "# Train Support Vector Machine Classifier\n",
        "SVMclf = SVMclf.fit(train_set_vector, train_set_label)"
      ],
      "execution_count": null,
      "outputs": [
        {
          "output_type": "stream",
          "text": [
            "CPU times: user 24.2 s, sys: 157 ms, total: 24.4 s\n",
            "Wall time: 1min 12s\n"
          ],
          "name": "stdout"
        }
      ]
    },
    {
      "cell_type": "code",
      "metadata": {
        "id": "K0ciSknEgt2w",
        "colab": {
          "base_uri": "https://localhost:8080/"
        },
        "outputId": "ea651840-87f0-4766-e6f3-e4cb82ca8257"
      },
      "source": [
        "%%time\n",
        "# Predict using test dataset\n",
        "predicted_label = SVMclf.predict(test_set_vector)"
      ],
      "execution_count": null,
      "outputs": [
        {
          "output_type": "stream",
          "text": [
            "CPU times: user 848 ms, sys: 1.98 ms, total: 850 ms\n",
            "Wall time: 848 ms\n"
          ],
          "name": "stdout"
        }
      ]
    },
    {
      "cell_type": "code",
      "metadata": {
        "colab": {
          "base_uri": "https://localhost:8080/"
        },
        "id": "XdGl5VcdjfiL",
        "outputId": "a2fe2d6b-dcde-49ad-d7b2-b13085ca4b34"
      },
      "source": [
        "print(\"Support Vector Machine:\")\n",
        "print('Best parameters: ', SVMclf.best_params_)\n",
        "accuracy = metrics.accuracy_score(test_set_label, predicted_label)\n",
        "print('Accuracy Score:', accuracy)\n",
        "f1= metrics.f1_score(test_set_label, predicted_label, average='macro')\n",
        "print('Macro F1 Score:', f1)\n",
        "print('Clasification report:\\n', metrics.classification_report(test_set_label, predicted_label))\n",
        "\n",
        "cm = confusion_matrix(test_set_label, predicted_label)\n",
        "df_cm = pd.DataFrame(cm, class_labels, class_labels)\n",
        "sn.set(font_scale=1.4) # for label size\n",
        "sn.heatmap(df_cm, annot=True, fmt=\"d\", annot_kws={\"size\": 16}) # font size\n",
        "plt.title(f\"SVM for {task} dataset\")\n",
        "plt.xlabel('predicted class')\n",
        "plt.ylabel('ground truth')\n",
        "plt.show()"
      ],
      "execution_count": null,
      "outputs": [
        {
          "output_type": "stream",
          "text": [
            "Support Vector Machine:\n",
            "Best parameters:  {}\n",
            "Accuracy Score: 0.8011627906976744\n",
            "Macro F1 Score: 0.6786550097347472\n",
            "Clasification report:\n",
            "               precision    recall  f1-score   support\n",
            "\n",
            "           0       0.79      0.98      0.88       620\n",
            "           1       0.89      0.33      0.48       240\n",
            "\n",
            "    accuracy                           0.80       860\n",
            "   macro avg       0.84      0.66      0.68       860\n",
            "weighted avg       0.82      0.80      0.77       860\n",
            "\n"
          ],
          "name": "stdout"
        },
        {
          "output_type": "display_data",
          "data": {
            "image/png": "[encoded data removed]",
            "text/plain": [
              "<Figure size 432x288 with 2 Axes>"
            ]
          },
          "metadata": {
            "tags": []
          }
        }
      ]
    },
    {
      "cell_type": "markdown",
      "metadata": {
        "id": "w4zMCtbs0Ag6"
      },
      "source": [
        "# Deep Learning"
      ]
    },
    {
      "cell_type": "code",
      "metadata": {
        "colab": {
          "base_uri": "https://localhost:8080/"
        },
        "id": "F8V2TxO3Tu4i",
        "outputId": "40f2a70b-e0da-4269-a4fd-20348cac89ce"
      },
      "source": [
        "%%time\n",
        "# SimpleANN is used as the classification model\n",
        "model = models.Sequential()\n",
        "model.add(Dense(32, input_shape=(30,)))\n",
        "model.add(Dense(1, activation='sigmoid'))\n",
        "model.summary()\n",
        "model.compile(optimizer='rmsprop', loss='binary_crossentropy', metrics=['acc'])\n",
        "# Train SimpleANN Classifier\n",
        "history = model.fit(train_set_content, np.array(train_set_label), \n",
        "                    epochs=5,\n",
        "                    batch_size=128,\n",
        "                    #validation_split=0.2,\n",
        "                    validation_data=(val_set_content, np.array(val_set_label)),\n",
        "                    )"
      ],
      "execution_count": null,
      "outputs": [
        {
          "output_type": "stream",
          "text": [
            "Model: \"sequential\"\n",
            "_________________________________________________________________\n",
            "Layer (type)                 Output Shape              Param #   \n",
            "=================================================================\n",
            "dense (Dense)                (None, 32)                992       \n",
            "_________________________________________________________________\n",
            "dense_1 (Dense)              (None, 1)                 33        \n",
            "=================================================================\n",
            "Total params: 1,025\n",
            "Trainable params: 1,025\n",
            "Non-trainable params: 0\n",
            "_________________________________________________________________\n",
            "Epoch 1/5\n",
            "94/94 [==============================] - 1s 5ms/step - loss: 60.4244 - acc: 0.5458 - val_loss: 8.3166 - val_acc: 0.6390\n",
            "Epoch 2/5\n",
            "94/94 [==============================] - 0s 2ms/step - loss: 7.4611 - acc: 0.5763 - val_loss: 13.5927 - val_acc: 0.6526\n",
            "Epoch 3/5\n",
            "94/94 [==============================] - 0s 2ms/step - loss: 7.1346 - acc: 0.5891 - val_loss: 8.8069 - val_acc: 0.3822\n",
            "Epoch 4/5\n",
            "94/94 [==============================] - 0s 2ms/step - loss: 6.9738 - acc: 0.5605 - val_loss: 4.6602 - val_acc: 0.5544\n",
            "Epoch 5/5\n",
            "94/94 [==============================] - 0s 2ms/step - loss: 6.5314 - acc: 0.5681 - val_loss: 6.7606 - val_acc: 0.4547\n",
            "CPU times: user 2.16 s, sys: 121 ms, total: 2.28 s\n",
            "Wall time: 2.6 s\n"
          ],
          "name": "stdout"
        }
      ]
    },
    {
      "cell_type": "code",
      "metadata": {
        "colab": {
          "base_uri": "https://localhost:8080/"
        },
        "id": "GCXE92ugT8MH",
        "outputId": "96596fe6-9195-4a97-f2ba-6c925b68ea91"
      },
      "source": [
        "%%time\n",
        "# Predict using test dataset\n",
        "#model.evaluate(val_set_content, np.array(val_set_label))\n",
        "predicted_label = model.predict(test_set_content)\n",
        "predicted_label = np.around(predicted_label)"
      ],
      "execution_count": null,
      "outputs": [
        {
          "output_type": "stream",
          "text": [
            "CPU times: user 129 ms, sys: 2.03 ms, total: 131 ms\n",
            "Wall time: 134 ms\n"
          ],
          "name": "stdout"
        }
      ]
    },
    {
      "cell_type": "code",
      "metadata": {
        "colab": {
          "base_uri": "https://localhost:8080/",
          "height": 536
        },
        "id": "kWRNqfbkT8VC",
        "outputId": "ed4fd19e-4e81-45b2-feeb-adcfeb700b07"
      },
      "source": [
        "print(\"SimpleANN:\")\n",
        "accuracy = metrics.accuracy_score(test_set_label, predicted_label)\n",
        "print('Accuracy Score:', accuracy)\n",
        "f1= metrics.f1_score(test_set_label, predicted_label, average='macro')\n",
        "print('Macro F1 Score:', f1)\n",
        "print('Clasification report:\\n', metrics.classification_report(test_set_label, predicted_label))\n",
        "\n",
        "cm = confusion_matrix(test_set_label, predicted_label)\n",
        "df_cm = pd.DataFrame(cm, class_labels, class_labels)\n",
        "sn.set(font_scale=1.4) # for label size\n",
        "sn.heatmap(df_cm, annot=True, fmt=\"d\", annot_kws={\"size\": 16}) # font size\n",
        "plt.title(f\"SimpleANN for {task} dataset\")\n",
        "plt.xlabel('predicted class')\n",
        "plt.ylabel('ground truth')\n",
        "plt.show()"
      ],
      "execution_count": null,
      "outputs": [
        {
          "output_type": "stream",
          "text": [
            "SimpleANN:\n",
            "Accuracy Score: 0.4662790697674419\n",
            "Macro F1 Score: 0.459963800583076\n",
            "Clasification report:\n",
            "               precision    recall  f1-score   support\n",
            "\n",
            "           0       0.74      0.40      0.52       620\n",
            "           1       0.29      0.64      0.40       240\n",
            "\n",
            "    accuracy                           0.47       860\n",
            "   macro avg       0.52      0.52      0.46       860\n",
            "weighted avg       0.62      0.47      0.49       860\n",
            "\n"
          ],
          "name": "stdout"
        },
        {
          "output_type": "display_data",
          "data": {
            "image/png": "[encoded data removed]",
            "text/plain": [
              "<Figure size 432x288 with 2 Axes>"
            ]
          },
          "metadata": {
            "tags": []
          }
        }
      ]
    },
    {
      "cell_type": "code",
      "metadata": {
        "colab": {
          "base_uri": "https://localhost:8080/"
        },
        "id": "WEml0fPVUwGo",
        "outputId": "60311987-64eb-4a51-855f-e1b5797a000b"
      },
      "source": [
        "%%time\n",
        "# SimpleRNN is used as the classification model\n",
        "model = models.Sequential()\n",
        "model.add(Embedding(max_features, 32))\n",
        "model.add(SimpleRNN(32))\n",
        "model.add(layers.Dropout(0.1))\n",
        "model.add(Dense(1, activation='sigmoid'))\n",
        "model.summary()\n",
        "model.compile(optimizer='rmsprop', loss='binary_crossentropy', metrics=['acc'])\n",
        "# Train SimpleRNN Classifier\n",
        "history = model.fit(train_set_content, np.array(train_set_label), \n",
        "                    epochs=5,\n",
        "                    batch_size=128,\n",
        "                    #validation_split=0.2,\n",
        "                    validation_data=(val_set_content, np.array(val_set_label)),\n",
        "                    )"
      ],
      "execution_count": null,
      "outputs": [
        {
          "output_type": "stream",
          "text": [
            "Model: \"sequential_1\"\n",
            "_________________________________________________________________\n",
            "Layer (type)                 Output Shape              Param #   \n",
            "=================================================================\n",
            "embedding (Embedding)        (None, None, 32)          96000     \n",
            "_________________________________________________________________\n",
            "simple_rnn (SimpleRNN)       (None, 32)                2080      \n",
            "_________________________________________________________________\n",
            "dropout (Dropout)            (None, 32)                0         \n",
            "_________________________________________________________________\n",
            "dense_2 (Dense)              (None, 1)                 33        \n",
            "=================================================================\n",
            "Total params: 98,113\n",
            "Trainable params: 98,113\n",
            "Non-trainable params: 0\n",
            "_________________________________________________________________\n",
            "Epoch 1/5\n",
            "94/94 [==============================] - 3s 15ms/step - loss: 0.6332 - acc: 0.6636 - val_loss: 0.6216 - val_acc: 0.6994\n",
            "Epoch 2/5\n",
            "94/94 [==============================] - 1s 12ms/step - loss: 0.5436 - acc: 0.7402 - val_loss: 0.5468 - val_acc: 0.7281\n",
            "Epoch 3/5\n",
            "94/94 [==============================] - 1s 12ms/step - loss: 0.4107 - acc: 0.8298 - val_loss: 0.5566 - val_acc: 0.7492\n",
            "Epoch 4/5\n",
            "94/94 [==============================] - 1s 12ms/step - loss: 0.3160 - acc: 0.8752 - val_loss: 0.6132 - val_acc: 0.7424\n",
            "Epoch 5/5\n",
            "94/94 [==============================] - 1s 12ms/step - loss: 0.2468 - acc: 0.9089 - val_loss: 0.7117 - val_acc: 0.7424\n",
            "CPU times: user 9.32 s, sys: 398 ms, total: 9.72 s\n",
            "Wall time: 7.12 s\n"
          ],
          "name": "stdout"
        }
      ]
    },
    {
      "cell_type": "code",
      "metadata": {
        "colab": {
          "base_uri": "https://localhost:8080/"
        },
        "id": "P0WDmDfiU_eK",
        "outputId": "feedb5ed-4467-4179-e516-ee0c18dbdefb"
      },
      "source": [
        "%%time\n",
        "# Predict using test dataset\n",
        "#model.evaluate(val_set_content, np.array(val_set_label))\n",
        "predicted_label = model.predict(test_set_content)\n",
        "predicted_label = np.around(predicted_label)"
      ],
      "execution_count": null,
      "outputs": [
        {
          "output_type": "stream",
          "text": [
            "CPU times: user 233 ms, sys: 8.05 ms, total: 241 ms\n",
            "Wall time: 218 ms\n"
          ],
          "name": "stdout"
        }
      ]
    },
    {
      "cell_type": "code",
      "metadata": {
        "colab": {
          "base_uri": "https://localhost:8080/",
          "height": 536
        },
        "id": "vT-pc5EPU_kK",
        "outputId": "740b4caf-eadc-4b12-b0e1-b80b893e128a"
      },
      "source": [
        "print(\"SimpleRNN:\")\n",
        "accuracy = metrics.accuracy_score(test_set_label, predicted_label)\n",
        "print('Accuracy Score:', accuracy)\n",
        "f1= metrics.f1_score(test_set_label, predicted_label, average='macro')\n",
        "print('Macro F1 Score:', f1)\n",
        "print('Clasification report:\\n', metrics.classification_report(test_set_label, predicted_label))\n",
        "\n",
        "cm = confusion_matrix(test_set_label, predicted_label)\n",
        "df_cm = pd.DataFrame(cm, class_labels, class_labels)\n",
        "sn.set(font_scale=1.4) # for label size\n",
        "sn.heatmap(df_cm, annot=True, fmt=\"d\", annot_kws={\"size\": 16}) # font size\n",
        "plt.title(f\"SimpleRNN for {task} dataset\")\n",
        "plt.xlabel('predicted class')\n",
        "plt.ylabel('ground truth')\n",
        "plt.show()"
      ],
      "execution_count": null,
      "outputs": [
        {
          "output_type": "stream",
          "text": [
            "SimpleRNN:\n",
            "Accuracy Score: 0.791860465116279\n",
            "Macro F1 Score: 0.6899814923341208\n",
            "Clasification report:\n",
            "               precision    recall  f1-score   support\n",
            "\n",
            "           0       0.80      0.95      0.87       620\n",
            "           1       0.74      0.39      0.51       240\n",
            "\n",
            "    accuracy                           0.79       860\n",
            "   macro avg       0.77      0.67      0.69       860\n",
            "weighted avg       0.78      0.79      0.77       860\n",
            "\n"
          ],
          "name": "stdout"
        },
        {
          "output_type": "display_data",
          "data": {
            "image/png": "[encoded data removed]",
            "text/plain": [
              "<Figure size 432x288 with 2 Axes>"
            ]
          },
          "metadata": {
            "tags": []
          }
        }
      ]
    },
    {
      "cell_type": "code",
      "metadata": {
        "colab": {
          "base_uri": "https://localhost:8080/"
        },
        "id": "hPXrfYGzofxB",
        "outputId": "d7c0d262-3445-4c79-f8b6-63330c5fac97"
      },
      "source": [
        "%%time\n",
        "# LSTM is used as the classification model\n",
        "model = models.Sequential()\n",
        "model.add(Embedding(max_features, 32))\n",
        "model.add(LSTM(32))\n",
        "model.add(layers.Dropout(0.1))\n",
        "model.add(Dense(1, activation='sigmoid'))\n",
        "model.summary()\n",
        "model.compile(optimizer='rmsprop', loss='binary_crossentropy', metrics=['acc'])\n",
        "# Train LSTM Classifier\n",
        "history = model.fit(train_set_content, np.array(train_set_label), \n",
        "                    epochs=5,\n",
        "                    batch_size=128,\n",
        "                    #validation_split=0.2,\n",
        "                    validation_data=(val_set_content, np.array(val_set_label)),\n",
        "                    )"
      ],
      "execution_count": null,
      "outputs": [
        {
          "output_type": "stream",
          "text": [
            "Model: \"sequential_2\"\n",
            "_________________________________________________________________\n",
            "Layer (type)                 Output Shape              Param #   \n",
            "=================================================================\n",
            "embedding_1 (Embedding)      (None, None, 32)          96000     \n",
            "_________________________________________________________________\n",
            "lstm (LSTM)                  (None, 32)                8320      \n",
            "_________________________________________________________________\n",
            "dropout_1 (Dropout)          (None, 32)                0         \n",
            "_________________________________________________________________\n",
            "dense_3 (Dense)              (None, 1)                 33        \n",
            "=================================================================\n",
            "Total params: 104,353\n",
            "Trainable params: 104,353\n",
            "Non-trainable params: 0\n",
            "_________________________________________________________________\n",
            "Epoch 1/5\n",
            "94/94 [==============================] - 5s 30ms/step - loss: 0.6428 - acc: 0.6530 - val_loss: 0.6997 - val_acc: 0.6533\n",
            "Epoch 2/5\n",
            "94/94 [==============================] - 2s 26ms/step - loss: 0.5753 - acc: 0.6863 - val_loss: 0.5419 - val_acc: 0.7523\n",
            "Epoch 3/5\n",
            "94/94 [==============================] - 2s 25ms/step - loss: 0.4678 - acc: 0.7940 - val_loss: 0.7677 - val_acc: 0.7198\n",
            "Epoch 4/5\n",
            "94/94 [==============================] - 2s 26ms/step - loss: 0.4293 - acc: 0.8110 - val_loss: 0.5278 - val_acc: 0.7432\n",
            "Epoch 5/5\n",
            "94/94 [==============================] - 2s 26ms/step - loss: 0.4086 - acc: 0.8224 - val_loss: 0.5657 - val_acc: 0.7659\n",
            "CPU times: user 21.4 s, sys: 932 ms, total: 22.3 s\n",
            "Wall time: 15.2 s\n"
          ],
          "name": "stdout"
        }
      ]
    },
    {
      "cell_type": "code",
      "metadata": {
        "id": "qNCE07xp8HtF",
        "colab": {
          "base_uri": "https://localhost:8080/"
        },
        "outputId": "903f993a-5447-4920-cdd7-8db16a3d1128"
      },
      "source": [
        "%%time\n",
        "# Predict using test dataset\n",
        "#model.evaluate(val_set_content, np.array(val_set_label))\n",
        "predicted_label = model.predict(test_set_content)\n",
        "predicted_label = np.around(predicted_label)"
      ],
      "execution_count": null,
      "outputs": [
        {
          "output_type": "stream",
          "text": [
            "CPU times: user 522 ms, sys: 20 ms, total: 542 ms\n",
            "Wall time: 485 ms\n"
          ],
          "name": "stdout"
        }
      ]
    },
    {
      "cell_type": "code",
      "metadata": {
        "colab": {
          "base_uri": "https://localhost:8080/",
          "height": 536
        },
        "id": "u4NPfHHg-fiz",
        "outputId": "380d7dd4-aadb-49ad-f99c-adf15de28382"
      },
      "source": [
        "print(\"LSTM:\")\n",
        "accuracy = metrics.accuracy_score(test_set_label, predicted_label)\n",
        "print('Accuracy Score:', accuracy)\n",
        "f1= metrics.f1_score(test_set_label, predicted_label, average='macro')\n",
        "print('Macro F1 Score:', f1)\n",
        "print('Clasification report:\\n', metrics.classification_report(test_set_label, predicted_label))\n",
        "\n",
        "cm = confusion_matrix(test_set_label, predicted_label)\n",
        "df_cm = pd.DataFrame(cm, class_labels, class_labels)\n",
        "sn.set(font_scale=1.4) # for label size\n",
        "sn.heatmap(df_cm, annot=True, fmt=\"d\", annot_kws={\"size\": 16}) # font size\n",
        "plt.title(f\"LSTM for {task} dataset\")\n",
        "plt.xlabel('predicted class')\n",
        "plt.ylabel('ground truth')\n",
        "plt.show()"
      ],
      "execution_count": null,
      "outputs": [
        {
          "output_type": "stream",
          "text": [
            "LSTM:\n",
            "Accuracy Score: 0.8034883720930233\n",
            "Macro F1 Score: 0.7232836599515261\n",
            "Clasification report:\n",
            "               precision    recall  f1-score   support\n",
            "\n",
            "           0       0.82      0.93      0.87       620\n",
            "           1       0.73      0.47      0.57       240\n",
            "\n",
            "    accuracy                           0.80       860\n",
            "   macro avg       0.77      0.70      0.72       860\n",
            "weighted avg       0.79      0.80      0.79       860\n",
            "\n"
          ],
          "name": "stdout"
        },
        {
          "output_type": "display_data",
          "data": {
            "image/png": "[encoded data removed]",
            "text/plain": [
              "<Figure size 432x288 with 2 Axes>"
            ]
          },
          "metadata": {
            "tags": []
          }
        }
      ]
    },
    {
      "cell_type": "code",
      "metadata": {
        "colab": {
          "base_uri": "https://localhost:8080/"
        },
        "id": "hCYp3yFcUYCo",
        "outputId": "a0660429-6b0c-40dd-8327-aebd9b8eb935"
      },
      "source": [
        "%%time\n",
        "# BiLSTM is used as the classification model\n",
        "model = models.Sequential()\n",
        "model.add(Embedding(max_features, 32))\n",
        "model.add(Bidirectional(LSTM(32)))\n",
        "model.add(layers.Dropout(0.1))\n",
        "model.add(Dense(1, activation='sigmoid'))\n",
        "model.summary()\n",
        "model.compile(optimizer='rmsprop', loss='binary_crossentropy', metrics=['acc'])\n",
        "# Train BiLSTM Classifier\n",
        "history = model.fit(train_set_content, np.array(train_set_label), \n",
        "                    epochs=5,\n",
        "                    batch_size=128,\n",
        "                    #validation_split=0.2,\n",
        "                    validation_data=(val_set_content, np.array(val_set_label)),\n",
        "                    )"
      ],
      "execution_count": null,
      "outputs": [
        {
          "output_type": "stream",
          "text": [
            "Model: \"sequential_3\"\n",
            "_________________________________________________________________\n",
            "Layer (type)                 Output Shape              Param #   \n",
            "=================================================================\n",
            "embedding_2 (Embedding)      (None, None, 32)          96000     \n",
            "_________________________________________________________________\n",
            "bidirectional (Bidirectional (None, 64)                16640     \n",
            "_________________________________________________________________\n",
            "dropout_2 (Dropout)          (None, 64)                0         \n",
            "_________________________________________________________________\n",
            "dense_4 (Dense)              (None, 1)                 65        \n",
            "=================================================================\n",
            "Total params: 112,705\n",
            "Trainable params: 112,705\n",
            "Non-trainable params: 0\n",
            "_________________________________________________________________\n",
            "Epoch 1/5\n",
            "94/94 [==============================] - 8s 46ms/step - loss: 0.6377 - acc: 0.6564 - val_loss: 0.6060 - val_acc: 0.6586\n",
            "Epoch 2/5\n",
            "94/94 [==============================] - 3s 36ms/step - loss: 0.5523 - acc: 0.7129 - val_loss: 0.5587 - val_acc: 0.7017\n",
            "Epoch 3/5\n",
            "94/94 [==============================] - 3s 36ms/step - loss: 0.4427 - acc: 0.8046 - val_loss: 0.6025 - val_acc: 0.7508\n",
            "Epoch 4/5\n",
            "94/94 [==============================] - 3s 36ms/step - loss: 0.4128 - acc: 0.8273 - val_loss: 0.5357 - val_acc: 0.7598\n",
            "Epoch 5/5\n",
            "94/94 [==============================] - 3s 36ms/step - loss: 0.3956 - acc: 0.8349 - val_loss: 0.5282 - val_acc: 0.7515\n",
            "CPU times: user 33.7 s, sys: 748 ms, total: 34.5 s\n",
            "Wall time: 21.9 s\n"
          ],
          "name": "stdout"
        }
      ]
    },
    {
      "cell_type": "code",
      "metadata": {
        "colab": {
          "base_uri": "https://localhost:8080/"
        },
        "id": "IDJ5myr8UYtw",
        "outputId": "f01f9487-847c-4767-bb18-c39990c3f3d4"
      },
      "source": [
        "%%time\n",
        "# Predict using test dataset\n",
        "#model.evaluate(val_set_content, np.array(val_set_label))\n",
        "predicted_label = model.predict(test_set_content)\n",
        "predicted_label = np.around(predicted_label)"
      ],
      "execution_count": null,
      "outputs": [
        {
          "output_type": "stream",
          "text": [
            "CPU times: user 936 ms, sys: 19.1 ms, total: 955 ms\n",
            "Wall time: 839 ms\n"
          ],
          "name": "stdout"
        }
      ]
    },
    {
      "cell_type": "code",
      "metadata": {
        "colab": {
          "base_uri": "https://localhost:8080/",
          "height": 536
        },
        "id": "8M6d4uMEUYyf",
        "outputId": "38979239-5f74-4089-e882-bbd7d0e3648a"
      },
      "source": [
        "print(\"BiLSTM:\")\n",
        "accuracy = metrics.accuracy_score(test_set_label, predicted_label)\n",
        "print('Accuracy Score:', accuracy)\n",
        "f1= metrics.f1_score(test_set_label, predicted_label, average='macro')\n",
        "print('Macro F1 Score:', f1)\n",
        "print('Clasification report:\\n', metrics.classification_report(test_set_label, predicted_label))\n",
        "\n",
        "cm = confusion_matrix(test_set_label, predicted_label)\n",
        "df_cm = pd.DataFrame(cm, class_labels, class_labels)\n",
        "sn.set(font_scale=1.4) # for label size\n",
        "sn.heatmap(df_cm, annot=True, fmt=\"d\", annot_kws={\"size\": 16}) # font size\n",
        "plt.title(f\"BiLSTM for {task} dataset\")\n",
        "plt.xlabel('predicted class')\n",
        "plt.ylabel('ground truth')\n",
        "plt.show()"
      ],
      "execution_count": null,
      "outputs": [
        {
          "output_type": "stream",
          "text": [
            "BiLSTM:\n",
            "Accuracy Score: 0.8\n",
            "Macro F1 Score: 0.7061604595911037\n",
            "Clasification report:\n",
            "               precision    recall  f1-score   support\n",
            "\n",
            "           0       0.81      0.95      0.87       620\n",
            "           1       0.75      0.42      0.54       240\n",
            "\n",
            "    accuracy                           0.80       860\n",
            "   macro avg       0.78      0.68      0.71       860\n",
            "weighted avg       0.79      0.80      0.78       860\n",
            "\n"
          ],
          "name": "stdout"
        },
        {
          "output_type": "display_data",
          "data": {
            "image/png": "[encoded data removed]",
            "text/plain": [
              "<Figure size 432x288 with 2 Axes>"
            ]
          },
          "metadata": {
            "tags": []
          }
        }
      ]
    },
    {
      "cell_type": "code",
      "metadata": {
        "colab": {
          "base_uri": "https://localhost:8080/"
        },
        "id": "oRKAyPe2nz6h",
        "outputId": "14ebc758-6d9e-4ce9-ac7e-c7e51b67ffaf"
      },
      "source": [
        "%%time\n",
        "# Hierarchical LSTM is used as the classification model\n",
        "model = models.Sequential()\n",
        "model.add(Embedding(max_features, 32))\n",
        "model.add(LSTM(32, return_sequences=True))\n",
        "model.add(LSTM(32, return_sequences=True))\n",
        "model.add(LSTM(32))\n",
        "model.add(layers.Dropout(0.1))\n",
        "model.add(Dense(1, activation='sigmoid'))\n",
        "model.summary()\n",
        "model.compile(optimizer='rmsprop', loss='binary_crossentropy', metrics=['acc'])\n",
        "# Train Hierarchical LSTM Classifier\n",
        "history = model.fit(train_set_content, np.array(train_set_label), \n",
        "                    epochs=5,\n",
        "                    batch_size=128,\n",
        "                    #validation_split=0.2,\n",
        "                    validation_data=(val_set_content, np.array(val_set_label)),\n",
        "                    )"
      ],
      "execution_count": null,
      "outputs": [
        {
          "output_type": "stream",
          "text": [
            "Model: \"sequential_4\"\n",
            "_________________________________________________________________\n",
            "Layer (type)                 Output Shape              Param #   \n",
            "=================================================================\n",
            "embedding_3 (Embedding)      (None, None, 32)          96000     \n",
            "_________________________________________________________________\n",
            "lstm_2 (LSTM)                (None, None, 32)          8320      \n",
            "_________________________________________________________________\n",
            "lstm_3 (LSTM)                (None, None, 32)          8320      \n",
            "_________________________________________________________________\n",
            "lstm_4 (LSTM)                (None, 32)                8320      \n",
            "_________________________________________________________________\n",
            "dropout_3 (Dropout)          (None, 32)                0         \n",
            "_________________________________________________________________\n",
            "dense_5 (Dense)              (None, 1)                 33        \n",
            "=================================================================\n",
            "Total params: 120,993\n",
            "Trainable params: 120,993\n",
            "Non-trainable params: 0\n",
            "_________________________________________________________________\n",
            "Epoch 1/5\n",
            "94/94 [==============================] - 12s 76ms/step - loss: 0.6381 - acc: 0.6665 - val_loss: 0.6384 - val_acc: 0.6556\n",
            "Epoch 2/5\n",
            "94/94 [==============================] - 6s 68ms/step - loss: 0.5910 - acc: 0.6963 - val_loss: 0.5874 - val_acc: 0.6964\n",
            "Epoch 3/5\n",
            "94/94 [==============================] - 6s 68ms/step - loss: 0.4875 - acc: 0.7723 - val_loss: 0.5787 - val_acc: 0.7137\n",
            "Epoch 4/5\n",
            "94/94 [==============================] - 6s 68ms/step - loss: 0.4310 - acc: 0.8185 - val_loss: 0.5549 - val_acc: 0.7379\n",
            "Epoch 5/5\n",
            "94/94 [==============================] - 6s 68ms/step - loss: 0.4109 - acc: 0.8278 - val_loss: 0.6608 - val_acc: 0.7515\n",
            "CPU times: user 56.9 s, sys: 2.27 s, total: 59.1 s\n",
            "Wall time: 38.7 s\n"
          ],
          "name": "stdout"
        }
      ]
    },
    {
      "cell_type": "code",
      "metadata": {
        "colab": {
          "base_uri": "https://localhost:8080/"
        },
        "id": "szY3EX7rn5dR",
        "outputId": "d0de2f06-6577-4259-bbf6-8bad332f7177"
      },
      "source": [
        "%%time\n",
        "# Predict using test dataset\n",
        "#model.evaluate(val_set_content, np.array(val_set_label))\n",
        "predicted_label = model.predict(test_set_content)\n",
        "predicted_label = np.around(predicted_label)"
      ],
      "execution_count": null,
      "outputs": [
        {
          "output_type": "stream",
          "text": [
            "CPU times: user 1.42 s, sys: 41.9 ms, total: 1.46 s\n",
            "Wall time: 1.3 s\n"
          ],
          "name": "stdout"
        }
      ]
    },
    {
      "cell_type": "code",
      "metadata": {
        "colab": {
          "base_uri": "https://localhost:8080/",
          "height": 536
        },
        "id": "Czfe_9C1n5lz",
        "outputId": "6f75d95a-5666-47f3-9f5e-436857750653"
      },
      "source": [
        "print(\"Hierarchical LSTM:\")\n",
        "accuracy = metrics.accuracy_score(test_set_label, predicted_label)\n",
        "print('Accuracy Score:', accuracy)\n",
        "f1= metrics.f1_score(test_set_label, predicted_label, average='macro')\n",
        "print('Macro F1 Score:', f1)\n",
        "print('Clasification report:\\n', metrics.classification_report(test_set_label, predicted_label))\n",
        "\n",
        "cm = confusion_matrix(test_set_label, predicted_label)\n",
        "df_cm = pd.DataFrame(cm, class_labels, class_labels)\n",
        "sn.set(font_scale=1.4) # for label size\n",
        "sn.heatmap(df_cm, annot=True, fmt=\"d\", annot_kws={\"size\": 16}) # font size\n",
        "plt.title(f\"Hierarchical LSTM for {task} dataset\")\n",
        "plt.xlabel('predicted class')\n",
        "plt.ylabel('ground truth')\n",
        "plt.show()"
      ],
      "execution_count": null,
      "outputs": [
        {
          "output_type": "stream",
          "text": [
            "Hierarchical LSTM:\n",
            "Accuracy Score: 0.8011627906976744\n",
            "Macro F1 Score: 0.7061614972856003\n",
            "Clasification report:\n",
            "               precision    recall  f1-score   support\n",
            "\n",
            "           0       0.81      0.95      0.87       620\n",
            "           1       0.76      0.42      0.54       240\n",
            "\n",
            "    accuracy                           0.80       860\n",
            "   macro avg       0.79      0.68      0.71       860\n",
            "weighted avg       0.80      0.80      0.78       860\n",
            "\n"
          ],
          "name": "stdout"
        },
        {
          "output_type": "display_data",
          "data": {
            "image/png": "[encoded data removed]",
            "text/plain": [
              "<Figure size 432x288 with 2 Axes>"
            ]
          },
          "metadata": {
            "tags": []
          }
        }
      ]
    },
    {
      "cell_type": "code",
      "metadata": {
        "colab": {
          "base_uri": "https://localhost:8080/"
        },
        "id": "3hSaKfVuhCMH",
        "outputId": "38f6629a-d0ee-48f0-9273-79f7ccf98d0d"
      },
      "source": [
        "%%time\n",
        "# Hierarchical BiLSTM is used as the classification model\n",
        "model = models.Sequential()\n",
        "model.add(Embedding(max_features, 32))\n",
        "model.add(Bidirectional(LSTM(32, return_sequences=True)))\n",
        "model.add(Bidirectional(LSTM(32, return_sequences=True)))\n",
        "model.add(Bidirectional(LSTM(32)))\n",
        "model.add(layers.Dropout(0.1))\n",
        "model.add(Dense(1, activation='sigmoid'))\n",
        "model.summary()\n",
        "model.compile(optimizer='rmsprop', loss='binary_crossentropy', metrics=['acc'])\n",
        "# Train Hierarchical BiLSTM Classifier\n",
        "history = model.fit(train_set_content, np.array(train_set_label), \n",
        "                    epochs=5,\n",
        "                    batch_size=128,\n",
        "                    #validation_split=0.2,\n",
        "                    validation_data=(val_set_content, np.array(val_set_label)),\n",
        "                    )"
      ],
      "execution_count": null,
      "outputs": [
        {
          "output_type": "stream",
          "text": [
            "Model: \"sequential_5\"\n",
            "_________________________________________________________________\n",
            "Layer (type)                 Output Shape              Param #   \n",
            "=================================================================\n",
            "embedding_4 (Embedding)      (None, None, 32)          96000     \n",
            "_________________________________________________________________\n",
            "bidirectional_1 (Bidirection (None, None, 64)          16640     \n",
            "_________________________________________________________________\n",
            "bidirectional_2 (Bidirection (None, None, 64)          24832     \n",
            "_________________________________________________________________\n",
            "bidirectional_3 (Bidirection (None, 64)                24832     \n",
            "_________________________________________________________________\n",
            "dropout_4 (Dropout)          (None, 64)                0         \n",
            "_________________________________________________________________\n",
            "dense_6 (Dense)              (None, 1)                 65        \n",
            "=================================================================\n",
            "Total params: 162,369\n",
            "Trainable params: 162,369\n",
            "Non-trainable params: 0\n",
            "_________________________________________________________________\n",
            "Epoch 1/5\n",
            "94/94 [==============================] - 23s 140ms/step - loss: 0.6267 - acc: 0.6703 - val_loss: 0.5540 - val_acc: 0.7387\n",
            "Epoch 2/5\n",
            "94/94 [==============================] - 11s 115ms/step - loss: 0.4767 - acc: 0.7902 - val_loss: 0.5259 - val_acc: 0.7508\n",
            "Epoch 3/5\n",
            "94/94 [==============================] - 11s 115ms/step - loss: 0.4289 - acc: 0.8167 - val_loss: 0.5976 - val_acc: 0.7621\n",
            "Epoch 4/5\n",
            "94/94 [==============================] - 11s 115ms/step - loss: 0.4034 - acc: 0.8302 - val_loss: 0.5911 - val_acc: 0.7651\n",
            "Epoch 5/5\n",
            "94/94 [==============================] - 11s 114ms/step - loss: 0.3857 - acc: 0.8400 - val_loss: 0.6428 - val_acc: 0.7628\n",
            "CPU times: user 1min 49s, sys: 4 s, total: 1min 53s\n",
            "Wall time: 1min 8s\n"
          ],
          "name": "stdout"
        }
      ]
    },
    {
      "cell_type": "code",
      "metadata": {
        "colab": {
          "base_uri": "https://localhost:8080/"
        },
        "id": "0SE3ZRG0mwVa",
        "outputId": "3f00070f-dd95-488c-e2a4-cc5933fb3cf5"
      },
      "source": [
        "%%time\n",
        "# Predict using test dataset\n",
        "#model.evaluate(val_set_content, np.array(val_set_label))\n",
        "predicted_label = model.predict(test_set_content)\n",
        "predicted_label = np.around(predicted_label)"
      ],
      "execution_count": null,
      "outputs": [
        {
          "output_type": "stream",
          "text": [
            "CPU times: user 2.8 s, sys: 47.7 ms, total: 2.85 s\n",
            "Wall time: 2.45 s\n"
          ],
          "name": "stdout"
        }
      ]
    },
    {
      "cell_type": "code",
      "metadata": {
        "colab": {
          "base_uri": "https://localhost:8080/",
          "height": 536
        },
        "id": "lHH997SBmwfA",
        "outputId": "dda9376d-3622-45be-d64c-0b785d59cbe4"
      },
      "source": [
        "print(\"Hierarchical BiLSTM:\")\n",
        "accuracy = metrics.accuracy_score(test_set_label, predicted_label)\n",
        "print('Accuracy Score:', accuracy)\n",
        "f1= metrics.f1_score(test_set_label, predicted_label, average='macro')\n",
        "print('Macro F1 Score:', f1)\n",
        "print('Clasification report:\\n', metrics.classification_report(test_set_label, predicted_label))\n",
        "\n",
        "cm = confusion_matrix(test_set_label, predicted_label)\n",
        "df_cm = pd.DataFrame(cm, class_labels, class_labels)\n",
        "sn.set(font_scale=1.4) # for label size\n",
        "sn.heatmap(df_cm, annot=True, fmt=\"d\", annot_kws={\"size\": 16}) # font size\n",
        "plt.title(f\"Hierarchical BiLSTM for {task} dataset\")\n",
        "plt.xlabel('predicted class')\n",
        "plt.ylabel('ground truth')\n",
        "plt.show()"
      ],
      "execution_count": null,
      "outputs": [
        {
          "output_type": "stream",
          "text": [
            "Hierarchical BiLSTM:\n",
            "Accuracy Score: 0.8034883720930233\n",
            "Macro F1 Score: 0.7161721714371639\n",
            "Clasification report:\n",
            "               precision    recall  f1-score   support\n",
            "\n",
            "           0       0.81      0.94      0.87       620\n",
            "           1       0.75      0.45      0.56       240\n",
            "\n",
            "    accuracy                           0.80       860\n",
            "   macro avg       0.78      0.69      0.72       860\n",
            "weighted avg       0.80      0.80      0.79       860\n",
            "\n"
          ],
          "name": "stdout"
        },
        {
          "output_type": "display_data",
          "data": {
            "image/png": "[encoded data removed]",
            "text/plain": [
              "<Figure size 432x288 with 2 Axes>"
            ]
          },
          "metadata": {
            "tags": []
          }
        }
      ]
    },
    {
      "cell_type": "code",
      "metadata": {
        "colab": {
          "base_uri": "https://localhost:8080/"
        },
        "id": "Avn48IBgV1kZ",
        "outputId": "28a01dae-2240-471c-b953-7540cf1f0240"
      },
      "source": [
        "%%time\n",
        "# BiGRU is used as the classification model\n",
        "model = models.Sequential()\n",
        "model.add(Embedding(max_features, 32))\n",
        "model.add(Bidirectional(GRU(32)))\n",
        "model.add(layers.Dropout(0.1))\n",
        "model.add(Dense(1, activation='sigmoid'))\n",
        "model.summary()\n",
        "model.compile(optimizer='rmsprop', loss='binary_crossentropy', metrics=['acc'])\n",
        "# Train BiGRU Classifier\n",
        "history = model.fit(train_set_content, np.array(train_set_label), \n",
        "                    epochs=5,\n",
        "                    batch_size=128,\n",
        "                    #validation_split=0.2,\n",
        "                    validation_data=(val_set_content, np.array(val_set_label)),\n",
        "                    )"
      ],
      "execution_count": null,
      "outputs": [
        {
          "output_type": "stream",
          "text": [
            "Model: \"sequential_6\"\n",
            "_________________________________________________________________\n",
            "Layer (type)                 Output Shape              Param #   \n",
            "=================================================================\n",
            "embedding_5 (Embedding)      (None, None, 32)          96000     \n",
            "_________________________________________________________________\n",
            "bidirectional_4 (Bidirection (None, 64)                12672     \n",
            "_________________________________________________________________\n",
            "dropout_5 (Dropout)          (None, 64)                0         \n",
            "_________________________________________________________________\n",
            "dense_7 (Dense)              (None, 1)                 65        \n",
            "=================================================================\n",
            "Total params: 108,737\n",
            "Trainable params: 108,737\n",
            "Non-trainable params: 0\n",
            "_________________________________________________________________\n",
            "Epoch 1/5\n",
            "94/94 [==============================] - 9s 45ms/step - loss: 0.6371 - acc: 0.6599 - val_loss: 0.5729 - val_acc: 0.7054\n",
            "Epoch 2/5\n",
            "94/94 [==============================] - 3s 36ms/step - loss: 0.5192 - acc: 0.7486 - val_loss: 0.5446 - val_acc: 0.7304\n",
            "Epoch 3/5\n",
            "94/94 [==============================] - 3s 37ms/step - loss: 0.4431 - acc: 0.8018 - val_loss: 0.5997 - val_acc: 0.7485\n",
            "Epoch 4/5\n",
            "94/94 [==============================] - 3s 37ms/step - loss: 0.4174 - acc: 0.8113 - val_loss: 0.5263 - val_acc: 0.7409\n",
            "Epoch 5/5\n",
            "94/94 [==============================] - 3s 35ms/step - loss: 0.3980 - acc: 0.8287 - val_loss: 0.5337 - val_acc: 0.7591\n",
            "CPU times: user 35 s, sys: 854 ms, total: 35.8 s\n",
            "Wall time: 23 s\n"
          ],
          "name": "stdout"
        }
      ]
    },
    {
      "cell_type": "code",
      "metadata": {
        "colab": {
          "base_uri": "https://localhost:8080/"
        },
        "id": "k9R-hVgWV1n3",
        "outputId": "4cc96857-0072-4190-9e31-e22c09f0f955"
      },
      "source": [
        "%%time\n",
        "# Predict using test dataset\n",
        "#model.evaluate(val_set_content, np.array(val_set_label))\n",
        "predicted_label = model.predict(test_set_content)\n",
        "predicted_label = np.around(predicted_label)"
      ],
      "execution_count": null,
      "outputs": [
        {
          "output_type": "stream",
          "text": [
            "CPU times: user 919 ms, sys: 22 ms, total: 941 ms\n",
            "Wall time: 816 ms\n"
          ],
          "name": "stdout"
        }
      ]
    },
    {
      "cell_type": "code",
      "metadata": {
        "colab": {
          "base_uri": "https://localhost:8080/",
          "height": 536
        },
        "id": "Y9BlJL5RV1rv",
        "outputId": "b904c2a7-52c5-42b1-bbb4-7a7023458a4b"
      },
      "source": [
        "print(\"BiGRU:\")\n",
        "accuracy = metrics.accuracy_score(test_set_label, predicted_label)\n",
        "print('Accuracy Score:', accuracy)\n",
        "f1= metrics.f1_score(test_set_label, predicted_label, average='macro')\n",
        "print('Macro F1 Score:', f1)\n",
        "print('Clasification report:\\n', metrics.classification_report(test_set_label, predicted_label))\n",
        "\n",
        "cm = confusion_matrix(test_set_label, predicted_label)\n",
        "df_cm = pd.DataFrame(cm, class_labels, class_labels)\n",
        "sn.set(font_scale=1.4) # for label size\n",
        "sn.heatmap(df_cm, annot=True, fmt=\"d\", annot_kws={\"size\": 16}) # font size\n",
        "plt.title(f\"BiGRU for {task} dataset\")\n",
        "plt.xlabel('predicted class')\n",
        "plt.ylabel('ground truth')\n",
        "plt.show()"
      ],
      "execution_count": null,
      "outputs": [
        {
          "output_type": "stream",
          "text": [
            "BiGRU:\n",
            "Accuracy Score: 0.7988372093023256\n",
            "Macro F1 Score: 0.7362239135946274\n",
            "Clasification report:\n",
            "               precision    recall  f1-score   support\n",
            "\n",
            "           0       0.84      0.89      0.86       620\n",
            "           1       0.67      0.56      0.61       240\n",
            "\n",
            "    accuracy                           0.80       860\n",
            "   macro avg       0.75      0.73      0.74       860\n",
            "weighted avg       0.79      0.80      0.79       860\n",
            "\n"
          ],
          "name": "stdout"
        },
        {
          "output_type": "display_data",
          "data": {
            "image/png": "[encoded data removed]",
            "text/plain": [
              "<Figure size 432x288 with 2 Axes>"
            ]
          },
          "metadata": {
            "tags": []
          }
        }
      ]
    },
    {
      "cell_type": "code",
      "metadata": {
        "id": "mv2IuFexEomy"
      },
      "source": [
        "# Preprocess text (username and link placeholders)\n",
        "def preprocess(text):\n",
        "    new_text = [\n",
        "    ]\n",
        "    for t in text.split(\" \"):\n",
        "        t = '@user' if t.startswith('@') and len(t) > 1 else t\n",
        "        t = 'http' if t.startswith('http') else t\n",
        "        new_text.append(t)\n",
        "    return \" \".join(new_text)"
      ],
      "execution_count": null,
      "outputs": []
    },
    {
      "cell_type": "code",
      "metadata": {
        "colab": {
          "base_uri": "https://localhost:8080/",
          "height": 296,
          "referenced_widgets": [
            "24445d72621347febe507ba90bf3a2d5",
            "fd4fde1162ae4965ad551270042f78e5",
            "757856eef6b94fd08230109ae0ef6e83",
            "6fc65a4b435644c68f9c8cdd534d8baf",
            "a7f922e5679440ad91b55f4d9d63dc0f",
            "c2cf763d173e4f668a203c6b136d0b69",
            "7ae74af850a849f3863586c29fa28d57",
            "641361d550ee452fba9bf029df5f8b1d",
            "8b461ea4ac7043aeafff62ba4f01e76f",
            "65a57313b93e45c4acdaa2aea38a6a64",
            "c780d10cb07047ad9663c3ecfe088a03",
            "ec270486c0064558859d70cccde6b115",
            "ba513df791c84a0ba047352a54706ece",
            "7a1e0764337448e8abbdbdf94d720375",
            "4e591a099c2c4ddfabbceadd5f3b5142",
            "f6ba3e19fa2f4e26aac438f81d74b60b",
            "65b57c46ccc8410aa3d4ef9fa9672e26",
            "223641bf3b6b4331939e3534ccd448fd",
            "2b583d0d5594493eb621eb480559508d",
            "d38e7aac4a3b4323be470c6e6339e366",
            "1f7af5a2dcde45829865e52091ae13fb",
            "3ac44a20655b442588408cdb1de5456a",
            "8382041503314dff9a0d045d11d37530",
            "290e17e818f047ff8344e647389e0018",
            "3904f43a05fc436f85d5878cd23ba2d6",
            "bea7bc5e59fd460999c00a569c267ef6",
            "8d85ce2f10cf4666beb0e73d467587b8",
            "5cf2f76f64bd4bccb5af6630f8e5f94f",
            "e076922c11b545fcbc612c82aa5655c5",
            "ce177284d4a649c3a3b71109230e2240",
            "e5534585d8c246ea8ea4360da83546a4",
            "d30d4313122e4979bd12ab9df6f544cb",
            "a6d107014d004be69ca38787fde223bf",
            "e053db47c4b94de39bb24682e3b443be",
            "7395252f91374d8b877d7b38e68078a8",
            "fa8f4bee233a41db891141215559d984",
            "1b66eda88ea549bfb0dd9d039b977519",
            "777a14a1d2af46b0ba23058e49020dc6",
            "fee3c58366074692866635659e854ac0",
            "d401e9dbbf0c49c19d2c357d3cd69511"
          ]
        },
        "id": "hGkuHe4rEt0n",
        "outputId": "ed34a91e-89a1-48e5-d9d7-c113db538433"
      },
      "source": [
        "%%time\n",
        "# RoBERTa is used as the classification model\n",
        "MODEL = f\"cardiffnlp/twitter-roberta-base-{task}\"\n",
        "\n",
        "tokenizer = AutoTokenizer.from_pretrained(MODEL)\n",
        "\n",
        "model = AutoModelForSequenceClassification.from_pretrained(MODEL)\n",
        "# model.save_pretrained(MODEL)\n",
        "\n",
        "#golden_label = [i[1] for i in test_set]\n",
        "tested_label = []\n",
        "for i in range(len(test_text)):\n",
        "  text = test_text[i]\n",
        "  text = preprocess(text)\n",
        "  encoded_input = tokenizer(text, return_tensors='pt')\n",
        "  output = model(**encoded_input)\n",
        "  scores = output[0][0].detach().numpy()\n",
        "  scores = softmax(scores)\n",
        "  tested_label.append(np.argmax(scores))"
      ],
      "execution_count": null,
      "outputs": [
        {
          "output_type": "display_data",
          "data": {
            "application/vnd.jupyter.widget-view+json": {
              "model_id": "24445d72621347febe507ba90bf3a2d5",
              "version_minor": 0,
              "version_major": 2
            },
            "text/plain": [
              "HBox(children=(FloatProgress(value=0.0, description='Downloading', max=593.0, style=ProgressStyle(description_…"
            ]
          },
          "metadata": {
            "tags": []
          }
        },
        {
          "output_type": "stream",
          "text": [
            "\n"
          ],
          "name": "stdout"
        },
        {
          "output_type": "display_data",
          "data": {
            "application/vnd.jupyter.widget-view+json": {
              "model_id": "8b461ea4ac7043aeafff62ba4f01e76f",
              "version_minor": 0,
              "version_major": 2
            },
            "text/plain": [
              "HBox(children=(FloatProgress(value=0.0, description='Downloading', max=898822.0, style=ProgressStyle(descripti…"
            ]
          },
          "metadata": {
            "tags": []
          }
        },
        {
          "output_type": "stream",
          "text": [
            "\n"
          ],
          "name": "stdout"
        },
        {
          "output_type": "display_data",
          "data": {
            "application/vnd.jupyter.widget-view+json": {
              "model_id": "65b57c46ccc8410aa3d4ef9fa9672e26",
              "version_minor": 0,
              "version_major": 2
            },
            "text/plain": [
              "HBox(children=(FloatProgress(value=0.0, description='Downloading', max=456318.0, style=ProgressStyle(descripti…"
            ]
          },
          "metadata": {
            "tags": []
          }
        },
        {
          "output_type": "stream",
          "text": [
            "\n"
          ],
          "name": "stdout"
        },
        {
          "output_type": "display_data",
          "data": {
            "application/vnd.jupyter.widget-view+json": {
              "model_id": "3904f43a05fc436f85d5878cd23ba2d6",
              "version_minor": 0,
              "version_major": 2
            },
            "text/plain": [
              "HBox(children=(FloatProgress(value=0.0, description='Downloading', max=150.0, style=ProgressStyle(description_…"
            ]
          },
          "metadata": {
            "tags": []
          }
        },
        {
          "output_type": "stream",
          "text": [
            "\n"
          ],
          "name": "stdout"
        },
        {
          "output_type": "display_data",
          "data": {
            "application/vnd.jupyter.widget-view+json": {
              "model_id": "a6d107014d004be69ca38787fde223bf",
              "version_minor": 0,
              "version_major": 2
            },
            "text/plain": [
              "HBox(children=(FloatProgress(value=0.0, description='Downloading', max=498676425.0, style=ProgressStyle(descri…"
            ]
          },
          "metadata": {
            "tags": []
          }
        },
        {
          "output_type": "stream",
          "text": [
            "\n",
            "CPU times: user 3min 35s, sys: 5.72 s, total: 3min 41s\n",
            "Wall time: 3min 44s\n"
          ],
          "name": "stdout"
        }
      ]
    },
    {
      "cell_type": "code",
      "metadata": {
        "colab": {
          "base_uri": "https://localhost:8080/",
          "height": 275
        },
        "id": "JIBQPy465j_b",
        "outputId": "539cad19-c7ed-4aa2-bb9b-cc7065ef8d26"
      },
      "source": [
        "print(\"RoBERTa:\")\n",
        "accuracy = metrics.accuracy_score(test_set_label, tested_label)\n",
        "print('Accuracy Score:', accuracy)\n",
        "f1= metrics.f1_score(test_set_label, tested_label, average='macro')\n",
        "print('Macro F1 Score:', f1)\n",
        "print('Clasification report:\\n', metrics.classification_report(test_set_label, tested_label))\n",
        "\n",
        "cm = confusion_matrix(test_set_label, tested_label)\n",
        "df_cm = pd.DataFrame(cm, class_labels, class_labels)\n",
        "sn.set(font_scale=1.4) # for label size\n",
        "sn.heatmap(df_cm, annot=True, fmt=\"d\", annot_kws={\"size\": 16}) # font size\n",
        "plt.title(f\"RoBERTa for {task} dataset\")\n",
        "plt.xlabel('predicted class')\n",
        "plt.ylabel('ground truth')\n",
        "plt.show()"
      ],
      "execution_count": null,
      "outputs": [
        {
          "output_type": "stream",
          "text": [
            "RoBERTa:\n",
            "Accuracy Score: 0.8558139534883721\n",
            "Macro F1 Score: 0.8112152047529015\n",
            "Clasification report:\n",
            "               precision    recall  f1-score   support\n",
            "\n",
            "           0       0.88      0.93      0.90       620\n",
            "           1       0.79      0.66      0.72       240\n",
            "\n",
            "    accuracy                           0.86       860\n",
            "   macro avg       0.83      0.80      0.81       860\n",
            "weighted avg       0.85      0.86      0.85       860\n",
            "\n"
          ],
          "name": "stdout"
        },
        {
          "output_type": "display_data",
          "data": {
            "image/png": "[encoded data removed]",
            "text/plain": [
              "<Figure size 432x288 with 2 Axes>"
            ]
          },
          "metadata": {
            "tags": []
          }
        }
      ]
    }
  ]
}