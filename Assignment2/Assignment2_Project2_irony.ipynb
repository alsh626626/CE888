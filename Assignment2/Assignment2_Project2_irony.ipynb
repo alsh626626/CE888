{
  "nbformat": 4,
  "nbformat_minor": 0,
  "metadata": {
    "colab": {
      "name": "Assignment2_Project2_irony.ipynb",
      "provenance": [],
      "collapsed_sections": [
        "s7YigPkQdI_C",
        "1QLfmwZli4vC",
        "MqX3Hjs915At"
      ],
      "authorship_tag": "ABX9TyMQk7HKu1+yaM3Uu7azQVuE",
      "include_colab_link": true
    },
    "kernelspec": {
      "name": "python3",
      "display_name": "Python 3"
    },
    "widgets": {
      "application/vnd.jupyter.widget-state+json": {
        "cc3be3233c254ce1854674630f9d7cad": {
          "model_module": "@jupyter-widgets/controls",
          "model_name": "HBoxModel",
          "state": {
            "_view_name": "HBoxView",
            "_dom_classes": [],
            "_model_name": "HBoxModel",
            "_view_module": "@jupyter-widgets/controls",
            "_model_module_version": "1.5.0",
            "_view_count": null,
            "_view_module_version": "1.5.0",
            "box_style": "",
            "layout": "IPY_MODEL_aea7f8da8c7b44d88fd04239028a4871",
            "_model_module": "@jupyter-widgets/controls",
            "children": [
              "IPY_MODEL_a5fad58f507846f2beffe586814d2453",
              "IPY_MODEL_f06990cbd4eb431c9027a07d1d13239d"
            ]
          }
        },
        "aea7f8da8c7b44d88fd04239028a4871": {
          "model_module": "@jupyter-widgets/base",
          "model_name": "LayoutModel",
          "state": {
            "_view_name": "LayoutView",
            "grid_template_rows": null,
            "right": null,
            "justify_content": null,
            "_view_module": "@jupyter-widgets/base",
            "overflow": null,
            "_model_module_version": "1.2.0",
            "_view_count": null,
            "flex_flow": null,
            "width": null,
            "min_width": null,
            "border": null,
            "align_items": null,
            "bottom": null,
            "_model_module": "@jupyter-widgets/base",
            "top": null,
            "grid_column": null,
            "overflow_y": null,
            "overflow_x": null,
            "grid_auto_flow": null,
            "grid_area": null,
            "grid_template_columns": null,
            "flex": null,
            "_model_name": "LayoutModel",
            "justify_items": null,
            "grid_row": null,
            "max_height": null,
            "align_content": null,
            "visibility": null,
            "align_self": null,
            "height": null,
            "min_height": null,
            "padding": null,
            "grid_auto_rows": null,
            "grid_gap": null,
            "max_width": null,
            "order": null,
            "_view_module_version": "1.2.0",
            "grid_template_areas": null,
            "object_position": null,
            "object_fit": null,
            "grid_auto_columns": null,
            "margin": null,
            "display": null,
            "left": null
          }
        },
        "a5fad58f507846f2beffe586814d2453": {
          "model_module": "@jupyter-widgets/controls",
          "model_name": "FloatProgressModel",
          "state": {
            "_view_name": "ProgressView",
            "style": "IPY_MODEL_2c22159710cf4efcae05e19e5336bc60",
            "_dom_classes": [],
            "description": "Downloading: 100%",
            "_model_name": "FloatProgressModel",
            "bar_style": "success",
            "max": 589,
            "_view_module": "@jupyter-widgets/controls",
            "_model_module_version": "1.5.0",
            "value": 589,
            "_view_count": null,
            "_view_module_version": "1.5.0",
            "orientation": "horizontal",
            "min": 0,
            "description_tooltip": null,
            "_model_module": "@jupyter-widgets/controls",
            "layout": "IPY_MODEL_cd60699bd9ae4d5b8ba5454a9c5dba19"
          }
        },
        "f06990cbd4eb431c9027a07d1d13239d": {
          "model_module": "@jupyter-widgets/controls",
          "model_name": "HTMLModel",
          "state": {
            "_view_name": "HTMLView",
            "style": "IPY_MODEL_f4fd8ca3da8144d5b7ec3633e1bbc6e2",
            "_dom_classes": [],
            "description": "",
            "_model_name": "HTMLModel",
            "placeholder": "​",
            "_view_module": "@jupyter-widgets/controls",
            "_model_module_version": "1.5.0",
            "value": " 589/589 [00:00&lt;00:00, 622B/s]",
            "_view_count": null,
            "_view_module_version": "1.5.0",
            "description_tooltip": null,
            "_model_module": "@jupyter-widgets/controls",
            "layout": "IPY_MODEL_419aecc25d17493d9689c97626f2d120"
          }
        },
        "2c22159710cf4efcae05e19e5336bc60": {
          "model_module": "@jupyter-widgets/controls",
          "model_name": "ProgressStyleModel",
          "state": {
            "_view_name": "StyleView",
            "_model_name": "ProgressStyleModel",
            "description_width": "initial",
            "_view_module": "@jupyter-widgets/base",
            "_model_module_version": "1.5.0",
            "_view_count": null,
            "_view_module_version": "1.2.0",
            "bar_color": null,
            "_model_module": "@jupyter-widgets/controls"
          }
        },
        "cd60699bd9ae4d5b8ba5454a9c5dba19": {
          "model_module": "@jupyter-widgets/base",
          "model_name": "LayoutModel",
          "state": {
            "_view_name": "LayoutView",
            "grid_template_rows": null,
            "right": null,
            "justify_content": null,
            "_view_module": "@jupyter-widgets/base",
            "overflow": null,
            "_model_module_version": "1.2.0",
            "_view_count": null,
            "flex_flow": null,
            "width": null,
            "min_width": null,
            "border": null,
            "align_items": null,
            "bottom": null,
            "_model_module": "@jupyter-widgets/base",
            "top": null,
            "grid_column": null,
            "overflow_y": null,
            "overflow_x": null,
            "grid_auto_flow": null,
            "grid_area": null,
            "grid_template_columns": null,
            "flex": null,
            "_model_name": "LayoutModel",
            "justify_items": null,
            "grid_row": null,
            "max_height": null,
            "align_content": null,
            "visibility": null,
            "align_self": null,
            "height": null,
            "min_height": null,
            "padding": null,
            "grid_auto_rows": null,
            "grid_gap": null,
            "max_width": null,
            "order": null,
            "_view_module_version": "1.2.0",
            "grid_template_areas": null,
            "object_position": null,
            "object_fit": null,
            "grid_auto_columns": null,
            "margin": null,
            "display": null,
            "left": null
          }
        },
        "f4fd8ca3da8144d5b7ec3633e1bbc6e2": {
          "model_module": "@jupyter-widgets/controls",
          "model_name": "DescriptionStyleModel",
          "state": {
            "_view_name": "StyleView",
            "_model_name": "DescriptionStyleModel",
            "description_width": "",
            "_view_module": "@jupyter-widgets/base",
            "_model_module_version": "1.5.0",
            "_view_count": null,
            "_view_module_version": "1.2.0",
            "_model_module": "@jupyter-widgets/controls"
          }
        },
        "419aecc25d17493d9689c97626f2d120": {
          "model_module": "@jupyter-widgets/base",
          "model_name": "LayoutModel",
          "state": {
            "_view_name": "LayoutView",
            "grid_template_rows": null,
            "right": null,
            "justify_content": null,
            "_view_module": "@jupyter-widgets/base",
            "overflow": null,
            "_model_module_version": "1.2.0",
            "_view_count": null,
            "flex_flow": null,
            "width": null,
            "min_width": null,
            "border": null,
            "align_items": null,
            "bottom": null,
            "_model_module": "@jupyter-widgets/base",
            "top": null,
            "grid_column": null,
            "overflow_y": null,
            "overflow_x": null,
            "grid_auto_flow": null,
            "grid_area": null,
            "grid_template_columns": null,
            "flex": null,
            "_model_name": "LayoutModel",
            "justify_items": null,
            "grid_row": null,
            "max_height": null,
            "align_content": null,
            "visibility": null,
            "align_self": null,
            "height": null,
            "min_height": null,
            "padding": null,
            "grid_auto_rows": null,
            "grid_gap": null,
            "max_width": null,
            "order": null,
            "_view_module_version": "1.2.0",
            "grid_template_areas": null,
            "object_position": null,
            "object_fit": null,
            "grid_auto_columns": null,
            "margin": null,
            "display": null,
            "left": null
          }
        },
        "b81779e1c9fc4015a9c322ea519ad558": {
          "model_module": "@jupyter-widgets/controls",
          "model_name": "HBoxModel",
          "state": {
            "_view_name": "HBoxView",
            "_dom_classes": [],
            "_model_name": "HBoxModel",
            "_view_module": "@jupyter-widgets/controls",
            "_model_module_version": "1.5.0",
            "_view_count": null,
            "_view_module_version": "1.5.0",
            "box_style": "",
            "layout": "IPY_MODEL_27131acf20f04918b8ab1f87672d4692",
            "_model_module": "@jupyter-widgets/controls",
            "children": [
              "IPY_MODEL_03d2d4b5cbc540dabbe6569151432583",
              "IPY_MODEL_02ea3348300549628a90d79163b1c735"
            ]
          }
        },
        "27131acf20f04918b8ab1f87672d4692": {
          "model_module": "@jupyter-widgets/base",
          "model_name": "LayoutModel",
          "state": {
            "_view_name": "LayoutView",
            "grid_template_rows": null,
            "right": null,
            "justify_content": null,
            "_view_module": "@jupyter-widgets/base",
            "overflow": null,
            "_model_module_version": "1.2.0",
            "_view_count": null,
            "flex_flow": null,
            "width": null,
            "min_width": null,
            "border": null,
            "align_items": null,
            "bottom": null,
            "_model_module": "@jupyter-widgets/base",
            "top": null,
            "grid_column": null,
            "overflow_y": null,
            "overflow_x": null,
            "grid_auto_flow": null,
            "grid_area": null,
            "grid_template_columns": null,
            "flex": null,
            "_model_name": "LayoutModel",
            "justify_items": null,
            "grid_row": null,
            "max_height": null,
            "align_content": null,
            "visibility": null,
            "align_self": null,
            "height": null,
            "min_height": null,
            "padding": null,
            "grid_auto_rows": null,
            "grid_gap": null,
            "max_width": null,
            "order": null,
            "_view_module_version": "1.2.0",
            "grid_template_areas": null,
            "object_position": null,
            "object_fit": null,
            "grid_auto_columns": null,
            "margin": null,
            "display": null,
            "left": null
          }
        },
        "03d2d4b5cbc540dabbe6569151432583": {
          "model_module": "@jupyter-widgets/controls",
          "model_name": "FloatProgressModel",
          "state": {
            "_view_name": "ProgressView",
            "style": "IPY_MODEL_f5d524e5ab134cc8935572fdb8bd5488",
            "_dom_classes": [],
            "description": "Downloading: 100%",
            "_model_name": "FloatProgressModel",
            "bar_style": "success",
            "max": 898822,
            "_view_module": "@jupyter-widgets/controls",
            "_model_module_version": "1.5.0",
            "value": 898822,
            "_view_count": null,
            "_view_module_version": "1.5.0",
            "orientation": "horizontal",
            "min": 0,
            "description_tooltip": null,
            "_model_module": "@jupyter-widgets/controls",
            "layout": "IPY_MODEL_415a5488c6d64f3f911a1c4e64d92350"
          }
        },
        "02ea3348300549628a90d79163b1c735": {
          "model_module": "@jupyter-widgets/controls",
          "model_name": "HTMLModel",
          "state": {
            "_view_name": "HTMLView",
            "style": "IPY_MODEL_f3e78be9d71d4daa9f8019be9bb57269",
            "_dom_classes": [],
            "description": "",
            "_model_name": "HTMLModel",
            "placeholder": "​",
            "_view_module": "@jupyter-widgets/controls",
            "_model_module_version": "1.5.0",
            "value": " 899k/899k [00:00&lt;00:00, 3.56MB/s]",
            "_view_count": null,
            "_view_module_version": "1.5.0",
            "description_tooltip": null,
            "_model_module": "@jupyter-widgets/controls",
            "layout": "IPY_MODEL_f124ae1dcd9249fdbf3015ef1a3e4c01"
          }
        },
        "f5d524e5ab134cc8935572fdb8bd5488": {
          "model_module": "@jupyter-widgets/controls",
          "model_name": "ProgressStyleModel",
          "state": {
            "_view_name": "StyleView",
            "_model_name": "ProgressStyleModel",
            "description_width": "initial",
            "_view_module": "@jupyter-widgets/base",
            "_model_module_version": "1.5.0",
            "_view_count": null,
            "_view_module_version": "1.2.0",
            "bar_color": null,
            "_model_module": "@jupyter-widgets/controls"
          }
        },
        "415a5488c6d64f3f911a1c4e64d92350": {
          "model_module": "@jupyter-widgets/base",
          "model_name": "LayoutModel",
          "state": {
            "_view_name": "LayoutView",
            "grid_template_rows": null,
            "right": null,
            "justify_content": null,
            "_view_module": "@jupyter-widgets/base",
            "overflow": null,
            "_model_module_version": "1.2.0",
            "_view_count": null,
            "flex_flow": null,
            "width": null,
            "min_width": null,
            "border": null,
            "align_items": null,
            "bottom": null,
            "_model_module": "@jupyter-widgets/base",
            "top": null,
            "grid_column": null,
            "overflow_y": null,
            "overflow_x": null,
            "grid_auto_flow": null,
            "grid_area": null,
            "grid_template_columns": null,
            "flex": null,
            "_model_name": "LayoutModel",
            "justify_items": null,
            "grid_row": null,
            "max_height": null,
            "align_content": null,
            "visibility": null,
            "align_self": null,
            "height": null,
            "min_height": null,
            "padding": null,
            "grid_auto_rows": null,
            "grid_gap": null,
            "max_width": null,
            "order": null,
            "_view_module_version": "1.2.0",
            "grid_template_areas": null,
            "object_position": null,
            "object_fit": null,
            "grid_auto_columns": null,
            "margin": null,
            "display": null,
            "left": null
          }
        },
        "f3e78be9d71d4daa9f8019be9bb57269": {
          "model_module": "@jupyter-widgets/controls",
          "model_name": "DescriptionStyleModel",
          "state": {
            "_view_name": "StyleView",
            "_model_name": "DescriptionStyleModel",
            "description_width": "",
            "_view_module": "@jupyter-widgets/base",
            "_model_module_version": "1.5.0",
            "_view_count": null,
            "_view_module_version": "1.2.0",
            "_model_module": "@jupyter-widgets/controls"
          }
        },
        "f124ae1dcd9249fdbf3015ef1a3e4c01": {
          "model_module": "@jupyter-widgets/base",
          "model_name": "LayoutModel",
          "state": {
            "_view_name": "LayoutView",
            "grid_template_rows": null,
            "right": null,
            "justify_content": null,
            "_view_module": "@jupyter-widgets/base",
            "overflow": null,
            "_model_module_version": "1.2.0",
            "_view_count": null,
            "flex_flow": null,
            "width": null,
            "min_width": null,
            "border": null,
            "align_items": null,
            "bottom": null,
            "_model_module": "@jupyter-widgets/base",
            "top": null,
            "grid_column": null,
            "overflow_y": null,
            "overflow_x": null,
            "grid_auto_flow": null,
            "grid_area": null,
            "grid_template_columns": null,
            "flex": null,
            "_model_name": "LayoutModel",
            "justify_items": null,
            "grid_row": null,
            "max_height": null,
            "align_content": null,
            "visibility": null,
            "align_self": null,
            "height": null,
            "min_height": null,
            "padding": null,
            "grid_auto_rows": null,
            "grid_gap": null,
            "max_width": null,
            "order": null,
            "_view_module_version": "1.2.0",
            "grid_template_areas": null,
            "object_position": null,
            "object_fit": null,
            "grid_auto_columns": null,
            "margin": null,
            "display": null,
            "left": null
          }
        },
        "f6be8bdf106a48c599323dfca935e897": {
          "model_module": "@jupyter-widgets/controls",
          "model_name": "HBoxModel",
          "state": {
            "_view_name": "HBoxView",
            "_dom_classes": [],
            "_model_name": "HBoxModel",
            "_view_module": "@jupyter-widgets/controls",
            "_model_module_version": "1.5.0",
            "_view_count": null,
            "_view_module_version": "1.5.0",
            "box_style": "",
            "layout": "IPY_MODEL_19ae5ca5eca74ed58850b23ed9cb5ba2",
            "_model_module": "@jupyter-widgets/controls",
            "children": [
              "IPY_MODEL_106e37bda5724b30975de9a63480f5fd",
              "IPY_MODEL_00125946fe8f4f4c892a2ee8fe6dab38"
            ]
          }
        },
        "19ae5ca5eca74ed58850b23ed9cb5ba2": {
          "model_module": "@jupyter-widgets/base",
          "model_name": "LayoutModel",
          "state": {
            "_view_name": "LayoutView",
            "grid_template_rows": null,
            "right": null,
            "justify_content": null,
            "_view_module": "@jupyter-widgets/base",
            "overflow": null,
            "_model_module_version": "1.2.0",
            "_view_count": null,
            "flex_flow": null,
            "width": null,
            "min_width": null,
            "border": null,
            "align_items": null,
            "bottom": null,
            "_model_module": "@jupyter-widgets/base",
            "top": null,
            "grid_column": null,
            "overflow_y": null,
            "overflow_x": null,
            "grid_auto_flow": null,
            "grid_area": null,
            "grid_template_columns": null,
            "flex": null,
            "_model_name": "LayoutModel",
            "justify_items": null,
            "grid_row": null,
            "max_height": null,
            "align_content": null,
            "visibility": null,
            "align_self": null,
            "height": null,
            "min_height": null,
            "padding": null,
            "grid_auto_rows": null,
            "grid_gap": null,
            "max_width": null,
            "order": null,
            "_view_module_version": "1.2.0",
            "grid_template_areas": null,
            "object_position": null,
            "object_fit": null,
            "grid_auto_columns": null,
            "margin": null,
            "display": null,
            "left": null
          }
        },
        "106e37bda5724b30975de9a63480f5fd": {
          "model_module": "@jupyter-widgets/controls",
          "model_name": "FloatProgressModel",
          "state": {
            "_view_name": "ProgressView",
            "style": "IPY_MODEL_e525e908e3e3430eb78c95197396a25d",
            "_dom_classes": [],
            "description": "Downloading: 100%",
            "_model_name": "FloatProgressModel",
            "bar_style": "success",
            "max": 456318,
            "_view_module": "@jupyter-widgets/controls",
            "_model_module_version": "1.5.0",
            "value": 456318,
            "_view_count": null,
            "_view_module_version": "1.5.0",
            "orientation": "horizontal",
            "min": 0,
            "description_tooltip": null,
            "_model_module": "@jupyter-widgets/controls",
            "layout": "IPY_MODEL_f8d104d1fb814a3b8838e2d87858957d"
          }
        },
        "00125946fe8f4f4c892a2ee8fe6dab38": {
          "model_module": "@jupyter-widgets/controls",
          "model_name": "HTMLModel",
          "state": {
            "_view_name": "HTMLView",
            "style": "IPY_MODEL_12f9d233d32f44998b1c232dfea581e4",
            "_dom_classes": [],
            "description": "",
            "_model_name": "HTMLModel",
            "placeholder": "​",
            "_view_module": "@jupyter-widgets/controls",
            "_model_module_version": "1.5.0",
            "value": " 456k/456k [00:00&lt;00:00, 901kB/s]",
            "_view_count": null,
            "_view_module_version": "1.5.0",
            "description_tooltip": null,
            "_model_module": "@jupyter-widgets/controls",
            "layout": "IPY_MODEL_c4f3658a8988432caf33cdc7b0d4d2a4"
          }
        },
        "e525e908e3e3430eb78c95197396a25d": {
          "model_module": "@jupyter-widgets/controls",
          "model_name": "ProgressStyleModel",
          "state": {
            "_view_name": "StyleView",
            "_model_name": "ProgressStyleModel",
            "description_width": "initial",
            "_view_module": "@jupyter-widgets/base",
            "_model_module_version": "1.5.0",
            "_view_count": null,
            "_view_module_version": "1.2.0",
            "bar_color": null,
            "_model_module": "@jupyter-widgets/controls"
          }
        },
        "f8d104d1fb814a3b8838e2d87858957d": {
          "model_module": "@jupyter-widgets/base",
          "model_name": "LayoutModel",
          "state": {
            "_view_name": "LayoutView",
            "grid_template_rows": null,
            "right": null,
            "justify_content": null,
            "_view_module": "@jupyter-widgets/base",
            "overflow": null,
            "_model_module_version": "1.2.0",
            "_view_count": null,
            "flex_flow": null,
            "width": null,
            "min_width": null,
            "border": null,
            "align_items": null,
            "bottom": null,
            "_model_module": "@jupyter-widgets/base",
            "top": null,
            "grid_column": null,
            "overflow_y": null,
            "overflow_x": null,
            "grid_auto_flow": null,
            "grid_area": null,
            "grid_template_columns": null,
            "flex": null,
            "_model_name": "LayoutModel",
            "justify_items": null,
            "grid_row": null,
            "max_height": null,
            "align_content": null,
            "visibility": null,
            "align_self": null,
            "height": null,
            "min_height": null,
            "padding": null,
            "grid_auto_rows": null,
            "grid_gap": null,
            "max_width": null,
            "order": null,
            "_view_module_version": "1.2.0",
            "grid_template_areas": null,
            "object_position": null,
            "object_fit": null,
            "grid_auto_columns": null,
            "margin": null,
            "display": null,
            "left": null
          }
        },
        "12f9d233d32f44998b1c232dfea581e4": {
          "model_module": "@jupyter-widgets/controls",
          "model_name": "DescriptionStyleModel",
          "state": {
            "_view_name": "StyleView",
            "_model_name": "DescriptionStyleModel",
            "description_width": "",
            "_view_module": "@jupyter-widgets/base",
            "_model_module_version": "1.5.0",
            "_view_count": null,
            "_view_module_version": "1.2.0",
            "_model_module": "@jupyter-widgets/controls"
          }
        },
        "c4f3658a8988432caf33cdc7b0d4d2a4": {
          "model_module": "@jupyter-widgets/base",
          "model_name": "LayoutModel",
          "state": {
            "_view_name": "LayoutView",
            "grid_template_rows": null,
            "right": null,
            "justify_content": null,
            "_view_module": "@jupyter-widgets/base",
            "overflow": null,
            "_model_module_version": "1.2.0",
            "_view_count": null,
            "flex_flow": null,
            "width": null,
            "min_width": null,
            "border": null,
            "align_items": null,
            "bottom": null,
            "_model_module": "@jupyter-widgets/base",
            "top": null,
            "grid_column": null,
            "overflow_y": null,
            "overflow_x": null,
            "grid_auto_flow": null,
            "grid_area": null,
            "grid_template_columns": null,
            "flex": null,
            "_model_name": "LayoutModel",
            "justify_items": null,
            "grid_row": null,
            "max_height": null,
            "align_content": null,
            "visibility": null,
            "align_self": null,
            "height": null,
            "min_height": null,
            "padding": null,
            "grid_auto_rows": null,
            "grid_gap": null,
            "max_width": null,
            "order": null,
            "_view_module_version": "1.2.0",
            "grid_template_areas": null,
            "object_position": null,
            "object_fit": null,
            "grid_auto_columns": null,
            "margin": null,
            "display": null,
            "left": null
          }
        },
        "68f6efb97db74bd08ff1919c847aed82": {
          "model_module": "@jupyter-widgets/controls",
          "model_name": "HBoxModel",
          "state": {
            "_view_name": "HBoxView",
            "_dom_classes": [],
            "_model_name": "HBoxModel",
            "_view_module": "@jupyter-widgets/controls",
            "_model_module_version": "1.5.0",
            "_view_count": null,
            "_view_module_version": "1.5.0",
            "box_style": "",
            "layout": "IPY_MODEL_ec068e9c87ce441d8196f0871a26b654",
            "_model_module": "@jupyter-widgets/controls",
            "children": [
              "IPY_MODEL_46871b878cf7491db64e947e46c090ff",
              "IPY_MODEL_3d6d07217964471c9fc9fe4d366225c6"
            ]
          }
        },
        "ec068e9c87ce441d8196f0871a26b654": {
          "model_module": "@jupyter-widgets/base",
          "model_name": "LayoutModel",
          "state": {
            "_view_name": "LayoutView",
            "grid_template_rows": null,
            "right": null,
            "justify_content": null,
            "_view_module": "@jupyter-widgets/base",
            "overflow": null,
            "_model_module_version": "1.2.0",
            "_view_count": null,
            "flex_flow": null,
            "width": null,
            "min_width": null,
            "border": null,
            "align_items": null,
            "bottom": null,
            "_model_module": "@jupyter-widgets/base",
            "top": null,
            "grid_column": null,
            "overflow_y": null,
            "overflow_x": null,
            "grid_auto_flow": null,
            "grid_area": null,
            "grid_template_columns": null,
            "flex": null,
            "_model_name": "LayoutModel",
            "justify_items": null,
            "grid_row": null,
            "max_height": null,
            "align_content": null,
            "visibility": null,
            "align_self": null,
            "height": null,
            "min_height": null,
            "padding": null,
            "grid_auto_rows": null,
            "grid_gap": null,
            "max_width": null,
            "order": null,
            "_view_module_version": "1.2.0",
            "grid_template_areas": null,
            "object_position": null,
            "object_fit": null,
            "grid_auto_columns": null,
            "margin": null,
            "display": null,
            "left": null
          }
        },
        "46871b878cf7491db64e947e46c090ff": {
          "model_module": "@jupyter-widgets/controls",
          "model_name": "FloatProgressModel",
          "state": {
            "_view_name": "ProgressView",
            "style": "IPY_MODEL_9b69d3fcadb74e1bbd5e19109e4f5c1e",
            "_dom_classes": [],
            "description": "Downloading: 100%",
            "_model_name": "FloatProgressModel",
            "bar_style": "success",
            "max": 150,
            "_view_module": "@jupyter-widgets/controls",
            "_model_module_version": "1.5.0",
            "value": 150,
            "_view_count": null,
            "_view_module_version": "1.5.0",
            "orientation": "horizontal",
            "min": 0,
            "description_tooltip": null,
            "_model_module": "@jupyter-widgets/controls",
            "layout": "IPY_MODEL_4607daf754574d0a91a5dcb8b993e7a2"
          }
        },
        "3d6d07217964471c9fc9fe4d366225c6": {
          "model_module": "@jupyter-widgets/controls",
          "model_name": "HTMLModel",
          "state": {
            "_view_name": "HTMLView",
            "style": "IPY_MODEL_275c66e7c0a54c6ebcce6a309166e733",
            "_dom_classes": [],
            "description": "",
            "_model_name": "HTMLModel",
            "placeholder": "​",
            "_view_module": "@jupyter-widgets/controls",
            "_model_module_version": "1.5.0",
            "value": " 150/150 [00:00&lt;00:00, 869B/s]",
            "_view_count": null,
            "_view_module_version": "1.5.0",
            "description_tooltip": null,
            "_model_module": "@jupyter-widgets/controls",
            "layout": "IPY_MODEL_913aec3245074e768b08a511e3a6d4d6"
          }
        },
        "9b69d3fcadb74e1bbd5e19109e4f5c1e": {
          "model_module": "@jupyter-widgets/controls",
          "model_name": "ProgressStyleModel",
          "state": {
            "_view_name": "StyleView",
            "_model_name": "ProgressStyleModel",
            "description_width": "initial",
            "_view_module": "@jupyter-widgets/base",
            "_model_module_version": "1.5.0",
            "_view_count": null,
            "_view_module_version": "1.2.0",
            "bar_color": null,
            "_model_module": "@jupyter-widgets/controls"
          }
        },
        "4607daf754574d0a91a5dcb8b993e7a2": {
          "model_module": "@jupyter-widgets/base",
          "model_name": "LayoutModel",
          "state": {
            "_view_name": "LayoutView",
            "grid_template_rows": null,
            "right": null,
            "justify_content": null,
            "_view_module": "@jupyter-widgets/base",
            "overflow": null,
            "_model_module_version": "1.2.0",
            "_view_count": null,
            "flex_flow": null,
            "width": null,
            "min_width": null,
            "border": null,
            "align_items": null,
            "bottom": null,
            "_model_module": "@jupyter-widgets/base",
            "top": null,
            "grid_column": null,
            "overflow_y": null,
            "overflow_x": null,
            "grid_auto_flow": null,
            "grid_area": null,
            "grid_template_columns": null,
            "flex": null,
            "_model_name": "LayoutModel",
            "justify_items": null,
            "grid_row": null,
            "max_height": null,
            "align_content": null,
            "visibility": null,
            "align_self": null,
            "height": null,
            "min_height": null,
            "padding": null,
            "grid_auto_rows": null,
            "grid_gap": null,
            "max_width": null,
            "order": null,
            "_view_module_version": "1.2.0",
            "grid_template_areas": null,
            "object_position": null,
            "object_fit": null,
            "grid_auto_columns": null,
            "margin": null,
            "display": null,
            "left": null
          }
        },
        "275c66e7c0a54c6ebcce6a309166e733": {
          "model_module": "@jupyter-widgets/controls",
          "model_name": "DescriptionStyleModel",
          "state": {
            "_view_name": "StyleView",
            "_model_name": "DescriptionStyleModel",
            "description_width": "",
            "_view_module": "@jupyter-widgets/base",
            "_model_module_version": "1.5.0",
            "_view_count": null,
            "_view_module_version": "1.2.0",
            "_model_module": "@jupyter-widgets/controls"
          }
        },
        "913aec3245074e768b08a511e3a6d4d6": {
          "model_module": "@jupyter-widgets/base",
          "model_name": "LayoutModel",
          "state": {
            "_view_name": "LayoutView",
            "grid_template_rows": null,
            "right": null,
            "justify_content": null,
            "_view_module": "@jupyter-widgets/base",
            "overflow": null,
            "_model_module_version": "1.2.0",
            "_view_count": null,
            "flex_flow": null,
            "width": null,
            "min_width": null,
            "border": null,
            "align_items": null,
            "bottom": null,
            "_model_module": "@jupyter-widgets/base",
            "top": null,
            "grid_column": null,
            "overflow_y": null,
            "overflow_x": null,
            "grid_auto_flow": null,
            "grid_area": null,
            "grid_template_columns": null,
            "flex": null,
            "_model_name": "LayoutModel",
            "justify_items": null,
            "grid_row": null,
            "max_height": null,
            "align_content": null,
            "visibility": null,
            "align_self": null,
            "height": null,
            "min_height": null,
            "padding": null,
            "grid_auto_rows": null,
            "grid_gap": null,
            "max_width": null,
            "order": null,
            "_view_module_version": "1.2.0",
            "grid_template_areas": null,
            "object_position": null,
            "object_fit": null,
            "grid_auto_columns": null,
            "margin": null,
            "display": null,
            "left": null
          }
        },
        "f8d701b83fad4055b6c12ed4f5187dd5": {
          "model_module": "@jupyter-widgets/controls",
          "model_name": "HBoxModel",
          "state": {
            "_view_name": "HBoxView",
            "_dom_classes": [],
            "_model_name": "HBoxModel",
            "_view_module": "@jupyter-widgets/controls",
            "_model_module_version": "1.5.0",
            "_view_count": null,
            "_view_module_version": "1.5.0",
            "box_style": "",
            "layout": "IPY_MODEL_1a5bc03914b24cb8b7775d6a55e95b13",
            "_model_module": "@jupyter-widgets/controls",
            "children": [
              "IPY_MODEL_c4c6c0d1692a41cd8a6028c31976baf4",
              "IPY_MODEL_f808274c22394a5b839807ff3030bf1e"
            ]
          }
        },
        "1a5bc03914b24cb8b7775d6a55e95b13": {
          "model_module": "@jupyter-widgets/base",
          "model_name": "LayoutModel",
          "state": {
            "_view_name": "LayoutView",
            "grid_template_rows": null,
            "right": null,
            "justify_content": null,
            "_view_module": "@jupyter-widgets/base",
            "overflow": null,
            "_model_module_version": "1.2.0",
            "_view_count": null,
            "flex_flow": null,
            "width": null,
            "min_width": null,
            "border": null,
            "align_items": null,
            "bottom": null,
            "_model_module": "@jupyter-widgets/base",
            "top": null,
            "grid_column": null,
            "overflow_y": null,
            "overflow_x": null,
            "grid_auto_flow": null,
            "grid_area": null,
            "grid_template_columns": null,
            "flex": null,
            "_model_name": "LayoutModel",
            "justify_items": null,
            "grid_row": null,
            "max_height": null,
            "align_content": null,
            "visibility": null,
            "align_self": null,
            "height": null,
            "min_height": null,
            "padding": null,
            "grid_auto_rows": null,
            "grid_gap": null,
            "max_width": null,
            "order": null,
            "_view_module_version": "1.2.0",
            "grid_template_areas": null,
            "object_position": null,
            "object_fit": null,
            "grid_auto_columns": null,
            "margin": null,
            "display": null,
            "left": null
          }
        },
        "c4c6c0d1692a41cd8a6028c31976baf4": {
          "model_module": "@jupyter-widgets/controls",
          "model_name": "FloatProgressModel",
          "state": {
            "_view_name": "ProgressView",
            "style": "IPY_MODEL_a78bf588740e4fa29ca5eb280a5a625c",
            "_dom_classes": [],
            "description": "Downloading: 100%",
            "_model_name": "FloatProgressModel",
            "bar_style": "success",
            "max": 498676425,
            "_view_module": "@jupyter-widgets/controls",
            "_model_module_version": "1.5.0",
            "value": 498676425,
            "_view_count": null,
            "_view_module_version": "1.5.0",
            "orientation": "horizontal",
            "min": 0,
            "description_tooltip": null,
            "_model_module": "@jupyter-widgets/controls",
            "layout": "IPY_MODEL_5e38ace98f044e469a1c545d55b51d9c"
          }
        },
        "f808274c22394a5b839807ff3030bf1e": {
          "model_module": "@jupyter-widgets/controls",
          "model_name": "HTMLModel",
          "state": {
            "_view_name": "HTMLView",
            "style": "IPY_MODEL_cee065f70dd94082b10574abd3b3573f",
            "_dom_classes": [],
            "description": "",
            "_model_name": "HTMLModel",
            "placeholder": "​",
            "_view_module": "@jupyter-widgets/controls",
            "_model_module_version": "1.5.0",
            "value": " 499M/499M [00:12&lt;00:00, 41.4MB/s]",
            "_view_count": null,
            "_view_module_version": "1.5.0",
            "description_tooltip": null,
            "_model_module": "@jupyter-widgets/controls",
            "layout": "IPY_MODEL_ff494730284a4bc8a0c22636f53e2e7f"
          }
        },
        "a78bf588740e4fa29ca5eb280a5a625c": {
          "model_module": "@jupyter-widgets/controls",
          "model_name": "ProgressStyleModel",
          "state": {
            "_view_name": "StyleView",
            "_model_name": "ProgressStyleModel",
            "description_width": "initial",
            "_view_module": "@jupyter-widgets/base",
            "_model_module_version": "1.5.0",
            "_view_count": null,
            "_view_module_version": "1.2.0",
            "bar_color": null,
            "_model_module": "@jupyter-widgets/controls"
          }
        },
        "5e38ace98f044e469a1c545d55b51d9c": {
          "model_module": "@jupyter-widgets/base",
          "model_name": "LayoutModel",
          "state": {
            "_view_name": "LayoutView",
            "grid_template_rows": null,
            "right": null,
            "justify_content": null,
            "_view_module": "@jupyter-widgets/base",
            "overflow": null,
            "_model_module_version": "1.2.0",
            "_view_count": null,
            "flex_flow": null,
            "width": null,
            "min_width": null,
            "border": null,
            "align_items": null,
            "bottom": null,
            "_model_module": "@jupyter-widgets/base",
            "top": null,
            "grid_column": null,
            "overflow_y": null,
            "overflow_x": null,
            "grid_auto_flow": null,
            "grid_area": null,
            "grid_template_columns": null,
            "flex": null,
            "_model_name": "LayoutModel",
            "justify_items": null,
            "grid_row": null,
            "max_height": null,
            "align_content": null,
            "visibility": null,
            "align_self": null,
            "height": null,
            "min_height": null,
            "padding": null,
            "grid_auto_rows": null,
            "grid_gap": null,
            "max_width": null,
            "order": null,
            "_view_module_version": "1.2.0",
            "grid_template_areas": null,
            "object_position": null,
            "object_fit": null,
            "grid_auto_columns": null,
            "margin": null,
            "display": null,
            "left": null
          }
        },
        "cee065f70dd94082b10574abd3b3573f": {
          "model_module": "@jupyter-widgets/controls",
          "model_name": "DescriptionStyleModel",
          "state": {
            "_view_name": "StyleView",
            "_model_name": "DescriptionStyleModel",
            "description_width": "",
            "_view_module": "@jupyter-widgets/base",
            "_model_module_version": "1.5.0",
            "_view_count": null,
            "_view_module_version": "1.2.0",
            "_model_module": "@jupyter-widgets/controls"
          }
        },
        "ff494730284a4bc8a0c22636f53e2e7f": {
          "model_module": "@jupyter-widgets/base",
          "model_name": "LayoutModel",
          "state": {
            "_view_name": "LayoutView",
            "grid_template_rows": null,
            "right": null,
            "justify_content": null,
            "_view_module": "@jupyter-widgets/base",
            "overflow": null,
            "_model_module_version": "1.2.0",
            "_view_count": null,
            "flex_flow": null,
            "width": null,
            "min_width": null,
            "border": null,
            "align_items": null,
            "bottom": null,
            "_model_module": "@jupyter-widgets/base",
            "top": null,
            "grid_column": null,
            "overflow_y": null,
            "overflow_x": null,
            "grid_auto_flow": null,
            "grid_area": null,
            "grid_template_columns": null,
            "flex": null,
            "_model_name": "LayoutModel",
            "justify_items": null,
            "grid_row": null,
            "max_height": null,
            "align_content": null,
            "visibility": null,
            "align_self": null,
            "height": null,
            "min_height": null,
            "padding": null,
            "grid_auto_rows": null,
            "grid_gap": null,
            "max_width": null,
            "order": null,
            "_view_module_version": "1.2.0",
            "grid_template_areas": null,
            "object_position": null,
            "object_fit": null,
            "grid_auto_columns": null,
            "margin": null,
            "display": null,
            "left": null
          }
        }
      }
    }
  },
  "cells": [
    {
      "cell_type": "markdown",
      "metadata": {
        "id": "view-in-github",
        "colab_type": "text"
      },
      "source": [
        "<a href=\"https://colab.research.google.com/github/alsh626626/CE888/blob/main/Assignment2/Assignment2_Project2_irony.ipynb\" target=\"_parent\"><img src=\"https://colab.research.google.com/assets/colab-badge.svg\" alt=\"Open In Colab\"/></a>"
      ]
    },
    {
      "cell_type": "code",
      "metadata": {
        "colab": {
          "base_uri": "https://localhost:8080/"
        },
        "id": "frYDddi2EPXm",
        "outputId": "d83688f4-55e1-4b7f-805c-b1db67c17993"
      },
      "source": [
        "!pip install transformers"
      ],
      "execution_count": null,
      "outputs": [
        {
          "output_type": "stream",
          "text": [
            "Collecting transformers\n",
            "\u001b[?25l  Downloading https://files.pythonhosted.org/packages/d8/b2/57495b5309f09fa501866e225c84532d1fd89536ea62406b2181933fb418/transformers-4.5.1-py3-none-any.whl (2.1MB)\n",
            "\u001b[K     |████████████████████████████████| 2.1MB 4.4MB/s \n",
            "\u001b[?25hCollecting sacremoses\n",
            "\u001b[?25l  Downloading https://files.pythonhosted.org/packages/75/ee/67241dc87f266093c533a2d4d3d69438e57d7a90abb216fa076e7d475d4a/sacremoses-0.0.45-py3-none-any.whl (895kB)\n",
            "\u001b[K     |████████████████████████████████| 901kB 18.9MB/s \n",
            "\u001b[?25hCollecting tokenizers<0.11,>=0.10.1\n",
            "\u001b[?25l  Downloading https://files.pythonhosted.org/packages/ae/04/5b870f26a858552025a62f1649c20d29d2672c02ff3c3fb4c688ca46467a/tokenizers-0.10.2-cp37-cp37m-manylinux2010_x86_64.whl (3.3MB)\n",
            "\u001b[K     |████████████████████████████████| 3.3MB 32.5MB/s \n",
            "\u001b[?25hRequirement already satisfied: requests in /usr/local/lib/python3.7/dist-packages (from transformers) (2.23.0)\n",
            "Requirement already satisfied: packaging in /usr/local/lib/python3.7/dist-packages (from transformers) (20.9)\n",
            "Requirement already satisfied: tqdm>=4.27 in /usr/local/lib/python3.7/dist-packages (from transformers) (4.41.1)\n",
            "Requirement already satisfied: importlib-metadata; python_version < \"3.8\" in /usr/local/lib/python3.7/dist-packages (from transformers) (3.10.1)\n",
            "Requirement already satisfied: regex!=2019.12.17 in /usr/local/lib/python3.7/dist-packages (from transformers) (2019.12.20)\n",
            "Requirement already satisfied: filelock in /usr/local/lib/python3.7/dist-packages (from transformers) (3.0.12)\n",
            "Requirement already satisfied: numpy>=1.17 in /usr/local/lib/python3.7/dist-packages (from transformers) (1.19.5)\n",
            "Requirement already satisfied: joblib in /usr/local/lib/python3.7/dist-packages (from sacremoses->transformers) (1.0.1)\n",
            "Requirement already satisfied: click in /usr/local/lib/python3.7/dist-packages (from sacremoses->transformers) (7.1.2)\n",
            "Requirement already satisfied: six in /usr/local/lib/python3.7/dist-packages (from sacremoses->transformers) (1.15.0)\n",
            "Requirement already satisfied: urllib3!=1.25.0,!=1.25.1,<1.26,>=1.21.1 in /usr/local/lib/python3.7/dist-packages (from requests->transformers) (1.24.3)\n",
            "Requirement already satisfied: chardet<4,>=3.0.2 in /usr/local/lib/python3.7/dist-packages (from requests->transformers) (3.0.4)\n",
            "Requirement already satisfied: idna<3,>=2.5 in /usr/local/lib/python3.7/dist-packages (from requests->transformers) (2.10)\n",
            "Requirement already satisfied: certifi>=2017.4.17 in /usr/local/lib/python3.7/dist-packages (from requests->transformers) (2020.12.5)\n",
            "Requirement already satisfied: pyparsing>=2.0.2 in /usr/local/lib/python3.7/dist-packages (from packaging->transformers) (2.4.7)\n",
            "Requirement already satisfied: typing-extensions>=3.6.4; python_version < \"3.8\" in /usr/local/lib/python3.7/dist-packages (from importlib-metadata; python_version < \"3.8\"->transformers) (3.7.4.3)\n",
            "Requirement already satisfied: zipp>=0.5 in /usr/local/lib/python3.7/dist-packages (from importlib-metadata; python_version < \"3.8\"->transformers) (3.4.1)\n",
            "Installing collected packages: sacremoses, tokenizers, transformers\n",
            "Successfully installed sacremoses-0.0.45 tokenizers-0.10.2 transformers-4.5.1\n"
          ],
          "name": "stdout"
        }
      ]
    },
    {
      "cell_type": "code",
      "metadata": {
        "colab": {
          "base_uri": "https://localhost:8080/"
        },
        "id": "lF5T1zhud3hK",
        "outputId": "d56671f6-3118-4de1-b902-163f785b1180"
      },
      "source": [
        "from transformers import AutoModelForSequenceClassification\n",
        "from transformers import TFAutoModelForSequenceClassification\n",
        "from transformers import AutoTokenizer\n",
        "from scipy.special import softmax\n",
        "import csv\n",
        "import urllib.request\n",
        "import matplotlib\n",
        "import matplotlib.pyplot as plt\n",
        "import pandas as pd\n",
        "import numpy as np\n",
        "import seaborn as sn\n",
        "from sklearn import metrics\n",
        "from sklearn.metrics import confusion_matrix\n",
        "import requests\n",
        "import re\n",
        "import string\n",
        "import math\n",
        "import nltk\n",
        "from nltk.tokenize import word_tokenize\n",
        "nltk.download('stopwords')\n",
        "nltk.download('punkt')\n",
        "nltk.download('wordnet')"
      ],
      "execution_count": null,
      "outputs": [
        {
          "output_type": "stream",
          "text": [
            "[nltk_data] Downloading package stopwords to /root/nltk_data...\n",
            "[nltk_data]   Unzipping corpora/stopwords.zip.\n",
            "[nltk_data] Downloading package punkt to /root/nltk_data...\n",
            "[nltk_data]   Unzipping tokenizers/punkt.zip.\n",
            "[nltk_data] Downloading package wordnet to /root/nltk_data...\n",
            "[nltk_data]   Unzipping corpora/wordnet.zip.\n"
          ],
          "name": "stdout"
        },
        {
          "output_type": "execute_result",
          "data": {
            "text/plain": [
              "True"
            ]
          },
          "metadata": {
            "tags": []
          },
          "execution_count": 2
        }
      ]
    },
    {
      "cell_type": "code",
      "metadata": {
        "colab": {
          "base_uri": "https://localhost:8080/"
        },
        "id": "EBE72CZ9bIQr",
        "outputId": "95681eee-8e3c-40e6-cb93-580030c33155"
      },
      "source": [
        "# Load the data\n",
        "\n",
        "# Tasks:\n",
        "# emoji, emotion, hate, irony, offensive, sentiment\n",
        "# stance/abortion, stance/atheism, stance/climate, stance/feminist, stance/hillary\n",
        "\n",
        "# Experiment focus on hate, irony and offensive\n",
        "# Both 3 tasks can be run on the same code by alternating the \"task\" parameter below\n",
        "# Other tasks have not been tested and may occur errors\n",
        "task='irony'\n",
        "r = requests.get(f\"https://raw.githubusercontent.com/cardiffnlp/tweeteval/main/datasets/{task}/test_labels.txt\", allow_redirects=True)\n",
        "open('test_labels.txt', 'wb').write(r.content)\n",
        "r = requests.get(f\"https://raw.githubusercontent.com/cardiffnlp/tweeteval/main/datasets/{task}/test_text.txt\", allow_redirects=True)\n",
        "open('test_text.txt', 'wb').write(r.content)\n",
        "r = requests.get(f\"https://raw.githubusercontent.com/cardiffnlp/tweeteval/main/datasets/{task}/train_labels.txt\", allow_redirects=True)\n",
        "open('train_labels.txt', 'wb').write(r.content)\n",
        "r = requests.get(f\"https://raw.githubusercontent.com/cardiffnlp/tweeteval/main/datasets/{task}/train_text.txt\", allow_redirects=True)\n",
        "open('train_text.txt', 'wb').write(r.content)\n",
        "r = requests.get(f\"https://raw.githubusercontent.com/cardiffnlp/tweeteval/main/datasets/{task}/val_labels.txt\", allow_redirects=True)\n",
        "open('val_labels.txt', 'wb').write(r.content)\n",
        "r = requests.get(f\"https://raw.githubusercontent.com/cardiffnlp/tweeteval/main/datasets/{task}/val_text.txt\", allow_redirects=True)\n",
        "open('val_text.txt', 'wb').write(r.content)\n",
        "\n",
        "file = open('test_labels.txt')\n",
        "test_labels = file.readlines()\n",
        "file.close\n",
        "file = open('test_text.txt')\n",
        "test_text = file.readlines()\n",
        "file.close\n",
        "file = open('train_labels.txt')\n",
        "train_labels = file.readlines()\n",
        "file.close\n",
        "file = open('train_text.txt')\n",
        "train_text = file.readlines()\n",
        "file.close\n",
        "file = open('val_labels.txt')\n",
        "val_labels = file.readlines()\n",
        "file.close\n",
        "file = open('val_text.txt')\n",
        "val_text = file.readlines()\n",
        "file.close\n",
        "\n",
        "print(\"Number of total data:        \", len(train_labels)+len(val_labels)+len(test_labels))\n",
        "print(\"Number of train labels:      \", len(train_labels))\n",
        "print(\"Number of train text:        \", len(train_text))\n",
        "print(\"Number of validation labels: \", len(val_labels))\n",
        "print(\"Number of validation text:   \", len(val_text))\n",
        "print(\"Number of test labels:       \", len(test_labels))\n",
        "print(\"Number of test text:         \", len(test_text))"
      ],
      "execution_count": null,
      "outputs": [
        {
          "output_type": "stream",
          "text": [
            "Number of total data:         4601\n",
            "Number of train labels:       2862\n",
            "Number of train text:         2862\n",
            "Number of validation labels:  955\n",
            "Number of validation text:    955\n",
            "Number of test labels:        784\n",
            "Number of test text:          784\n"
          ],
          "name": "stdout"
        }
      ]
    },
    {
      "cell_type": "code",
      "metadata": {
        "id": "QXQwhnCZzUPl"
      },
      "source": [
        "# Create subset from the dataset for system development\n",
        "#test_labels = val_labels[:]\n",
        "#test_text = val_text[:]\n",
        "#train_labels = train_labels[500:2500]\n",
        "#train_text = train_text[500:2500]\n",
        "#val_labels = val_labels[:100]\n",
        "#val_text = val_text[:100]"
      ],
      "execution_count": null,
      "outputs": []
    },
    {
      "cell_type": "code",
      "metadata": {
        "colab": {
          "base_uri": "https://localhost:8080/"
        },
        "id": "zb3Y1E1MMLSl",
        "outputId": "7af9d2a4-dbf5-4150-a7b8-f3f9da03f16d"
      },
      "source": [
        "# Download label mapping\n",
        "import csv\n",
        "import urllib.request\n",
        "labels=[]\n",
        "mapping_link = f\"https://raw.githubusercontent.com/cardiffnlp/tweeteval/main/datasets/{task}/mapping.txt\"\n",
        "with urllib.request.urlopen(mapping_link) as f:\n",
        "    html = f.read().decode('utf-8').split(\"\\n\")\n",
        "    csvreader = csv.reader(html, delimiter='\\t')\n",
        "class_labels = [row[1] for row in csvreader if len(row) > 1]\n",
        "print('Labels:', class_labels)"
      ],
      "execution_count": null,
      "outputs": [
        {
          "output_type": "stream",
          "text": [
            "Labels: ['non_irony', 'irony']\n"
          ],
          "name": "stdout"
        }
      ]
    },
    {
      "cell_type": "code",
      "metadata": {
        "colab": {
          "base_uri": "https://localhost:8080/",
          "height": 419
        },
        "id": "wYeos13AjmeM",
        "outputId": "fb034edd-6bfc-4782-f0bf-35b9bf808cc5"
      },
      "source": [
        "df = pd.DataFrame(data={'label': train_labels + val_labels + test_labels, 'text': train_text + val_text + test_text})\n",
        "df"
      ],
      "execution_count": null,
      "outputs": [
        {
          "output_type": "execute_result",
          "data": {
            "text/html": [
              "<div>\n",
              "<style scoped>\n",
              "    .dataframe tbody tr th:only-of-type {\n",
              "        vertical-align: middle;\n",
              "    }\n",
              "\n",
              "    .dataframe tbody tr th {\n",
              "        vertical-align: top;\n",
              "    }\n",
              "\n",
              "    .dataframe thead th {\n",
              "        text-align: right;\n",
              "    }\n",
              "</style>\n",
              "<table border=\"1\" class=\"dataframe\">\n",
              "  <thead>\n",
              "    <tr style=\"text-align: right;\">\n",
              "      <th></th>\n",
              "      <th>label</th>\n",
              "      <th>text</th>\n",
              "    </tr>\n",
              "  </thead>\n",
              "  <tbody>\n",
              "    <tr>\n",
              "      <th>0</th>\n",
              "      <td>1\\n</td>\n",
              "      <td>seeing ppl walking w/ crutches makes me really...</td>\n",
              "    </tr>\n",
              "    <tr>\n",
              "      <th>1</th>\n",
              "      <td>0\\n</td>\n",
              "      <td>look for the girl with the broken smile, ask h...</td>\n",
              "    </tr>\n",
              "    <tr>\n",
              "      <th>2</th>\n",
              "      <td>1\\n</td>\n",
              "      <td>Now I remember why I buy books online @user #s...</td>\n",
              "    </tr>\n",
              "    <tr>\n",
              "      <th>3</th>\n",
              "      <td>1\\n</td>\n",
              "      <td>@user @user So is he banded from wearing the c...</td>\n",
              "    </tr>\n",
              "    <tr>\n",
              "      <th>4</th>\n",
              "      <td>1\\n</td>\n",
              "      <td>Just found out there are Etch A Sketch apps.  ...</td>\n",
              "    </tr>\n",
              "    <tr>\n",
              "      <th>...</th>\n",
              "      <td>...</td>\n",
              "      <td>...</td>\n",
              "    </tr>\n",
              "    <tr>\n",
              "      <th>4596</th>\n",
              "      <td>0\\n</td>\n",
              "      <td>If you drag yesterday into today, your tomorro...</td>\n",
              "    </tr>\n",
              "    <tr>\n",
              "      <th>4597</th>\n",
              "      <td>0\\n</td>\n",
              "      <td>Congrats to my fav @user &amp; her team &amp; my birth...</td>\n",
              "    </tr>\n",
              "    <tr>\n",
              "      <th>4598</th>\n",
              "      <td>0\\n</td>\n",
              "      <td>@user Jessica sheds tears at her fan signing e...</td>\n",
              "    </tr>\n",
              "    <tr>\n",
              "      <th>4599</th>\n",
              "      <td>1\\n</td>\n",
              "      <td>#Irony: al jazeera is pro Anti - #GamerGate be...</td>\n",
              "    </tr>\n",
              "    <tr>\n",
              "      <th>4600</th>\n",
              "      <td>0\\n</td>\n",
              "      <td>#NOT ALL 👌 There good &amp; bad in every occupatio...</td>\n",
              "    </tr>\n",
              "  </tbody>\n",
              "</table>\n",
              "<p>4601 rows × 2 columns</p>\n",
              "</div>"
            ],
            "text/plain": [
              "     label                                               text\n",
              "0      1\\n  seeing ppl walking w/ crutches makes me really...\n",
              "1      0\\n  look for the girl with the broken smile, ask h...\n",
              "2      1\\n  Now I remember why I buy books online @user #s...\n",
              "3      1\\n  @user @user So is he banded from wearing the c...\n",
              "4      1\\n  Just found out there are Etch A Sketch apps.  ...\n",
              "...    ...                                                ...\n",
              "4596   0\\n  If you drag yesterday into today, your tomorro...\n",
              "4597   0\\n  Congrats to my fav @user & her team & my birth...\n",
              "4598   0\\n  @user Jessica sheds tears at her fan signing e...\n",
              "4599   1\\n  #Irony: al jazeera is pro Anti - #GamerGate be...\n",
              "4600   0\\n  #NOT ALL 👌 There good & bad in every occupatio...\n",
              "\n",
              "[4601 rows x 2 columns]"
            ]
          },
          "metadata": {
            "tags": []
          },
          "execution_count": 6
        }
      ]
    },
    {
      "cell_type": "code",
      "metadata": {
        "colab": {
          "base_uri": "https://localhost:8080/",
          "height": 419
        },
        "id": "TwMx_YvDxCAe",
        "outputId": "67a77279-40b0-4bba-c3f9-ec142ac3b407"
      },
      "source": [
        "df['length'] = df['text'].apply(lambda x: len(word_tokenize(x)))\n",
        "df"
      ],
      "execution_count": null,
      "outputs": [
        {
          "output_type": "execute_result",
          "data": {
            "text/html": [
              "<div>\n",
              "<style scoped>\n",
              "    .dataframe tbody tr th:only-of-type {\n",
              "        vertical-align: middle;\n",
              "    }\n",
              "\n",
              "    .dataframe tbody tr th {\n",
              "        vertical-align: top;\n",
              "    }\n",
              "\n",
              "    .dataframe thead th {\n",
              "        text-align: right;\n",
              "    }\n",
              "</style>\n",
              "<table border=\"1\" class=\"dataframe\">\n",
              "  <thead>\n",
              "    <tr style=\"text-align: right;\">\n",
              "      <th></th>\n",
              "      <th>label</th>\n",
              "      <th>text</th>\n",
              "      <th>length</th>\n",
              "    </tr>\n",
              "  </thead>\n",
              "  <tbody>\n",
              "    <tr>\n",
              "      <th>0</th>\n",
              "      <td>1\\n</td>\n",
              "      <td>seeing ppl walking w/ crutches makes me really...</td>\n",
              "      <td>17</td>\n",
              "    </tr>\n",
              "    <tr>\n",
              "      <th>1</th>\n",
              "      <td>0\\n</td>\n",
              "      <td>look for the girl with the broken smile, ask h...</td>\n",
              "      <td>25</td>\n",
              "    </tr>\n",
              "    <tr>\n",
              "      <th>2</th>\n",
              "      <td>1\\n</td>\n",
              "      <td>Now I remember why I buy books online @user #s...</td>\n",
              "      <td>12</td>\n",
              "    </tr>\n",
              "    <tr>\n",
              "      <th>3</th>\n",
              "      <td>1\\n</td>\n",
              "      <td>@user @user So is he banded from wearing the c...</td>\n",
              "      <td>15</td>\n",
              "    </tr>\n",
              "    <tr>\n",
              "      <th>4</th>\n",
              "      <td>1\\n</td>\n",
              "      <td>Just found out there are Etch A Sketch apps.  ...</td>\n",
              "      <td>14</td>\n",
              "    </tr>\n",
              "    <tr>\n",
              "      <th>...</th>\n",
              "      <td>...</td>\n",
              "      <td>...</td>\n",
              "      <td>...</td>\n",
              "    </tr>\n",
              "    <tr>\n",
              "      <th>4596</th>\n",
              "      <td>0\\n</td>\n",
              "      <td>If you drag yesterday into today, your tomorro...</td>\n",
              "      <td>27</td>\n",
              "    </tr>\n",
              "    <tr>\n",
              "      <th>4597</th>\n",
              "      <td>0\\n</td>\n",
              "      <td>Congrats to my fav @user &amp; her team &amp; my birth...</td>\n",
              "      <td>35</td>\n",
              "    </tr>\n",
              "    <tr>\n",
              "      <th>4598</th>\n",
              "      <td>0\\n</td>\n",
              "      <td>@user Jessica sheds tears at her fan signing e...</td>\n",
              "      <td>18</td>\n",
              "    </tr>\n",
              "    <tr>\n",
              "      <th>4599</th>\n",
              "      <td>1\\n</td>\n",
              "      <td>#Irony: al jazeera is pro Anti - #GamerGate be...</td>\n",
              "      <td>17</td>\n",
              "    </tr>\n",
              "    <tr>\n",
              "      <th>4600</th>\n",
              "      <td>0\\n</td>\n",
              "      <td>#NOT ALL 👌 There good &amp; bad in every occupatio...</td>\n",
              "      <td>21</td>\n",
              "    </tr>\n",
              "  </tbody>\n",
              "</table>\n",
              "<p>4601 rows × 3 columns</p>\n",
              "</div>"
            ],
            "text/plain": [
              "     label                                               text  length\n",
              "0      1\\n  seeing ppl walking w/ crutches makes me really...      17\n",
              "1      0\\n  look for the girl with the broken smile, ask h...      25\n",
              "2      1\\n  Now I remember why I buy books online @user #s...      12\n",
              "3      1\\n  @user @user So is he banded from wearing the c...      15\n",
              "4      1\\n  Just found out there are Etch A Sketch apps.  ...      14\n",
              "...    ...                                                ...     ...\n",
              "4596   0\\n  If you drag yesterday into today, your tomorro...      27\n",
              "4597   0\\n  Congrats to my fav @user & her team & my birth...      35\n",
              "4598   0\\n  @user Jessica sheds tears at her fan signing e...      18\n",
              "4599   1\\n  #Irony: al jazeera is pro Anti - #GamerGate be...      17\n",
              "4600   0\\n  #NOT ALL 👌 There good & bad in every occupatio...      21\n",
              "\n",
              "[4601 rows x 3 columns]"
            ]
          },
          "metadata": {
            "tags": []
          },
          "execution_count": 7
        }
      ]
    },
    {
      "cell_type": "code",
      "metadata": {
        "colab": {
          "base_uri": "https://localhost:8080/"
        },
        "id": "fyfE-Qk6xkYG",
        "outputId": "df41b02f-3fbf-4f41-ee97-ed06a38e95ae"
      },
      "source": [
        "np.mean(df['length'][:len(train_text)].tolist())"
      ],
      "execution_count": null,
      "outputs": [
        {
          "output_type": "execute_result",
          "data": {
            "text/plain": [
              "17.360587002096437"
            ]
          },
          "metadata": {
            "tags": []
          },
          "execution_count": 8
        }
      ]
    },
    {
      "cell_type": "code",
      "metadata": {
        "colab": {
          "base_uri": "https://localhost:8080/",
          "height": 315
        },
        "id": "Y-Nqdc-Sd5c6",
        "outputId": "44124ec3-118f-49ca-d94e-bf08c0e4e56b"
      },
      "source": [
        "# Show distribution of classes\n",
        "df_class = df.groupby('label').size().reset_index(name='counts')\n",
        "print(df_class)\n",
        "\n",
        "labels = class_labels\n",
        "sizes = df_class['counts'].tolist()\n",
        "plt.title(f\"Distribution of classes of {task} dataset\")\n",
        "plt.pie(sizes, labels=labels, autopct='%1.1f%%', counterclock=False, startangle=90)\n",
        "plt.axis('equal')\n",
        "plt.show()"
      ],
      "execution_count": null,
      "outputs": [
        {
          "output_type": "stream",
          "text": [
            "  label  counts\n",
            "0   0\\n    2389\n",
            "1   1\\n    2212\n"
          ],
          "name": "stdout"
        },
        {
          "output_type": "display_data",
          "data": {
            "image/png": "[encoded data removed]",
            "text/plain": [
              "<Figure size 432x288 with 1 Axes>"
            ]
          },
          "metadata": {
            "tags": []
          }
        }
      ]
    },
    {
      "cell_type": "markdown",
      "metadata": {
        "id": "s7YigPkQdI_C"
      },
      "source": [
        "# Pre-processing"
      ]
    },
    {
      "cell_type": "code",
      "metadata": {
        "id": "ljSF5Pe0kG67"
      },
      "source": [
        "# Cleaning the data\n",
        "df['label'] = df['label'].apply(lambda x: re.sub('\\n','', x))\n",
        "df['text'] = df['text'].apply(lambda x: re.sub('\\n','', x))\n",
        "# Lowercase the words\n",
        "df['cleaned'] = df['text'].apply(lambda x: x.lower())\n",
        "# Remove digits and words containing digits\n",
        "df['cleaned'] = df['cleaned'].apply(lambda x: re.sub('\\w*\\d\\w*','', x))\n",
        "# Remove Punctuations\n",
        "df['cleaned'] = df['cleaned'].apply(lambda x: re.sub('[%s]' % re.escape(string.punctuation), '', x))\n",
        "# Remove extra spaces\n",
        "df['cleaned'] = df['cleaned'].apply(lambda x: re.sub(' +',' ',x))"
      ],
      "execution_count": null,
      "outputs": []
    },
    {
      "cell_type": "code",
      "metadata": {
        "id": "3dRTHyaIfoRD"
      },
      "source": [
        "# Remove stop words\n",
        "stop_words = set(nltk.corpus.stopwords.words(\"english\"))\n",
        "df['cleaned'] = df['cleaned'].apply(lambda x: ' '.join([token for token in list(word_tokenize(x)) if not token in stop_words]))"
      ],
      "execution_count": null,
      "outputs": []
    },
    {
      "cell_type": "code",
      "metadata": {
        "colab": {
          "base_uri": "https://localhost:8080/"
        },
        "id": "UxF1XqXqvCO8",
        "outputId": "ed30ad00-1b65-4cb0-ef71-4329a545edc6"
      },
      "source": [
        "%%time\n",
        "import spacy\n",
        "nlp = spacy.load('en_core_web_sm',disable=['parser', 'ner'])\n",
        "\n",
        "# Lemmatization with stop words removal\n",
        "df['lemmatized']=df['cleaned'].apply(lambda x: ' '.join([token.lemma_ for token in list(nlp(x)) if (token.is_stop==False)]))\n",
        "\n",
        "# Remove stop words again\n",
        "df['lemmatized'] = df['lemmatized'].apply(lambda x: ' '.join([token for token in list(word_tokenize(x)) if not token in stop_words]))\n",
        "\n",
        "df"
      ],
      "execution_count": null,
      "outputs": [
        {
          "output_type": "stream",
          "text": [
            "CPU times: user 13min 34s, sys: 6.8 s, total: 13min 41s\n",
            "Wall time: 13min 43s\n"
          ],
          "name": "stdout"
        }
      ]
    },
    {
      "cell_type": "markdown",
      "metadata": {
        "id": "1QLfmwZli4vC"
      },
      "source": [
        "# Experiment"
      ]
    },
    {
      "cell_type": "code",
      "metadata": {
        "id": "zszD-CVT3Sfk"
      },
      "source": [
        "df['lemmatized'] = df['lemmatized'].astype(str)\n",
        "train_text_list = df['lemmatized'][:len(train_text)].tolist()\n",
        "val_text_list = df['lemmatized'][len(train_text):len(train_text) + len(val_text)].tolist()\n",
        "test_text_list = df['lemmatized'][len(train_text) + len(val_text):].tolist()\n",
        "\n",
        "df['label'] = df['label'].astype(int)\n",
        "train_label_list = df['label'][:len(train_text)].tolist()\n",
        "val_label_list = df['label'][len(train_text):len(train_text) + len(val_text)].tolist()\n",
        "test_label_list = df['label'][len(train_text) + len(val_text):].tolist()"
      ],
      "execution_count": null,
      "outputs": []
    },
    {
      "cell_type": "code",
      "metadata": {
        "colab": {
          "base_uri": "https://localhost:8080/"
        },
        "id": "M468Ops3sqck",
        "outputId": "2c1b4afd-fe8d-454f-f8e4-73f59d064bd5"
      },
      "source": [
        "%%time\n",
        "# Creating feature vector\n",
        "# Most frequently 3000 word is selected as the features\n",
        "from sklearn.feature_extraction.text import CountVectorizer\n",
        "vectorizer = CountVectorizer(analyzer='word', ngram_range=(1, 1), max_features=3000)\n",
        "\n",
        "# Only training set will be used to obtain features\n",
        "train_set_vector = vectorizer.fit_transform(train_text_list)\n",
        "val_set_vector = vectorizer.transform(val_text_list)\n",
        "test_set_vector = vectorizer.transform(test_text_list)\n",
        "\n",
        "train_set_label = [label for label in train_label_list]\n",
        "val_set_label = [label for label in val_label_list]\n",
        "test_set_label = [label for label in test_label_list]"
      ],
      "execution_count": null,
      "outputs": [
        {
          "output_type": "stream",
          "text": [
            "CPU times: user 63 ms, sys: 10 µs, total: 63 ms\n",
            "Wall time: 69.6 ms\n"
          ],
          "name": "stdout"
        }
      ]
    },
    {
      "cell_type": "code",
      "metadata": {
        "id": "4Sf4xeoXbVw6",
        "colab": {
          "base_uri": "https://localhost:8080/"
        },
        "outputId": "86efa2c9-f00a-4eff-ac06-4e9f4929253f"
      },
      "source": [
        "%%time\n",
        "# Creating feature tensor\n",
        "# Most frequently 3000 word is selected as the features\n",
        "from keras.preprocessing.text import Tokenizer\n",
        "from keras.preprocessing import sequence\n",
        "max_features = 3000\n",
        "maxlen = 30\n",
        "tokenizer = Tokenizer(num_words=3000)\n",
        "\n",
        "# Only training set will be used to obtain features\n",
        "tokenizer.fit_on_texts(train_text_list)\n",
        "\n",
        "train_set_content = tokenizer.texts_to_sequences(train_text_list)\n",
        "train_set_content = sequence.pad_sequences(train_set_content, maxlen=maxlen)\n",
        "val_set_content = tokenizer.texts_to_sequences(val_text_list)\n",
        "val_set_content = sequence.pad_sequences(val_set_content, maxlen=maxlen)\n",
        "test_set_content = tokenizer.texts_to_sequences(test_text_list)\n",
        "test_set_content = sequence.pad_sequences(test_set_content, maxlen=maxlen)"
      ],
      "execution_count": null,
      "outputs": [
        {
          "output_type": "stream",
          "text": [
            "CPU times: user 135 ms, sys: 7.04 ms, total: 142 ms\n",
            "Wall time: 184 ms\n"
          ],
          "name": "stdout"
        }
      ]
    },
    {
      "cell_type": "code",
      "metadata": {
        "id": "rqE74qw0jMUh"
      },
      "source": [
        "import seaborn as sn\n",
        "import sklearn\n",
        "from sklearn import metrics\n",
        "from sklearn.metrics import confusion_matrix\n",
        "from sklearn.feature_extraction.text import CountVectorizer\n",
        "from sklearn.model_selection import GridSearchCV\n",
        "\n",
        "from sklearn.tree import DecisionTreeClassifier\n",
        "from sklearn.neighbors import KNeighborsClassifier\n",
        "from sklearn.svm import SVC\n",
        "from sklearn.naive_bayes import MultinomialNB\n",
        "from sklearn.dummy import DummyClassifier\n",
        "\n",
        "import keras\n",
        "from keras import layers\n",
        "from keras import models\n",
        "from keras.models import Sequential\n",
        "from keras.layers import Dense, Embedding, SimpleRNN, LSTM, GRU, Bidirectional, TimeDistributed\n",
        "from keras.wrappers.scikit_learn import KerasClassifier"
      ],
      "execution_count": null,
      "outputs": []
    },
    {
      "cell_type": "markdown",
      "metadata": {
        "id": "MqX3Hjs915At"
      },
      "source": [
        "# Conventional"
      ]
    },
    {
      "cell_type": "code",
      "metadata": {
        "colab": {
          "base_uri": "https://localhost:8080/"
        },
        "id": "Idtc-mf2jzmD",
        "outputId": "f7538128-58b3-44ec-aeb8-3970242ca813"
      },
      "source": [
        "%%time\n",
        "# Dummy (majority) is used as the classification model\n",
        "Dummyclf = DummyClassifier(strategy='most_frequent')\n",
        "# Train Dummy Classifier\n",
        "Dummyclf = Dummyclf.fit(train_set_vector, train_set_label)"
      ],
      "execution_count": null,
      "outputs": [
        {
          "output_type": "stream",
          "text": [
            "CPU times: user 996 µs, sys: 0 ns, total: 996 µs\n",
            "Wall time: 1.01 ms\n"
          ],
          "name": "stdout"
        }
      ]
    },
    {
      "cell_type": "code",
      "metadata": {
        "id": "Jl7pdZiRge-4",
        "colab": {
          "base_uri": "https://localhost:8080/"
        },
        "outputId": "2cfe456a-5066-4d26-cf53-5a07494bafd9"
      },
      "source": [
        "%%time\n",
        "# Predict using test dataset\n",
        "predicted_label = Dummyclf.predict(test_set_vector)"
      ],
      "execution_count": null,
      "outputs": [
        {
          "output_type": "stream",
          "text": [
            "CPU times: user 196 µs, sys: 2 µs, total: 198 µs\n",
            "Wall time: 224 µs\n"
          ],
          "name": "stdout"
        }
      ]
    },
    {
      "cell_type": "code",
      "metadata": {
        "colab": {
          "base_uri": "https://localhost:8080/"
        },
        "id": "v08GD6OUj7da",
        "outputId": "316636ae-cb96-4983-f6be-11be4d3bfac8"
      },
      "source": [
        "print(\"Majority:\")\n",
        "#print('Best parameters: ', Dummyclf.best_params_)\n",
        "accuracy = metrics.accuracy_score(test_set_label, predicted_label)\n",
        "print('Accuracy Score:', accuracy)\n",
        "f1= metrics.f1_score(test_set_label, predicted_label, average='macro')\n",
        "print('Macro F1 Score:', f1)\n",
        "print('Clasification report:\\n', metrics.classification_report(test_set_label, predicted_label, zero_division=0))\n",
        "\n",
        "cm = confusion_matrix(test_set_label, predicted_label)\n",
        "df_cm = pd.DataFrame(cm, class_labels, class_labels)\n",
        "sn.set(font_scale=1.4) # for label size\n",
        "sn.heatmap(df_cm, annot=True, fmt=\"d\", annot_kws={\"size\": 16}) # font size\n",
        "plt.title(f\"Majority for {task} dataset\")\n",
        "plt.xlabel('predicted class')\n",
        "plt.ylabel('ground truth')\n",
        "plt.show()"
      ],
      "execution_count": null,
      "outputs": [
        {
          "output_type": "stream",
          "text": [
            "Majority:\n",
            "Accuracy Score: 0.39668367346938777\n",
            "Macro F1 Score: 0.28401826484018267\n",
            "Clasification report:\n",
            "               precision    recall  f1-score   support\n",
            "\n",
            "           0       0.00      0.00      0.00       473\n",
            "           1       0.40      1.00      0.57       311\n",
            "\n",
            "    accuracy                           0.40       784\n",
            "   macro avg       0.20      0.50      0.28       784\n",
            "weighted avg       0.16      0.40      0.23       784\n",
            "\n"
          ],
          "name": "stdout"
        },
        {
          "output_type": "display_data",
          "data": {
            "image/png": "[encoded data removed]",
            "text/plain": [
              "<Figure size 432x288 with 2 Axes>"
            ]
          },
          "metadata": {
            "tags": []
          }
        }
      ]
    },
    {
      "cell_type": "code",
      "metadata": {
        "colab": {
          "base_uri": "https://localhost:8080/"
        },
        "id": "RrVXeu1L4ett",
        "outputId": "3d1fb560-1658-4b01-8341-777e55353ca4"
      },
      "source": [
        "%%time\n",
        "# Naive Bayes Classifier is used as the classification model\n",
        "NBclf = MultinomialNB(alpha=1.0, fit_prior=True)\n",
        "param_grid = {\n",
        "    # 'fit_prior' : [True, False],\n",
        "}\n",
        "NBclf = GridSearchCV(estimator=NBclf, param_grid=param_grid, n_jobs=-1)\n",
        "# Train Naive Bayes Classifier\n",
        "NBclf = NBclf.fit(train_set_vector, train_set_label)"
      ],
      "execution_count": null,
      "outputs": [
        {
          "output_type": "stream",
          "text": [
            "CPU times: user 105 ms, sys: 64.8 ms, total: 170 ms\n",
            "Wall time: 1.13 s\n"
          ],
          "name": "stdout"
        }
      ]
    },
    {
      "cell_type": "code",
      "metadata": {
        "id": "wZrT9AErgjFO",
        "colab": {
          "base_uri": "https://localhost:8080/"
        },
        "outputId": "45b3a32a-24f4-46a3-f82e-5f2d4150865c"
      },
      "source": [
        "%%time\n",
        "# Predict using test dataset\n",
        "predicted_label = NBclf.predict(test_set_vector)"
      ],
      "execution_count": null,
      "outputs": [
        {
          "output_type": "stream",
          "text": [
            "CPU times: user 630 µs, sys: 0 ns, total: 630 µs\n",
            "Wall time: 642 µs\n"
          ],
          "name": "stdout"
        }
      ]
    },
    {
      "cell_type": "code",
      "metadata": {
        "colab": {
          "base_uri": "https://localhost:8080/"
        },
        "id": "f0NDIo_MiaKM",
        "outputId": "936c685b-bc46-4436-cd60-96045e7230e3"
      },
      "source": [
        "print(\"Naive Bayes:\")\n",
        "print('Best parameters: ', NBclf.best_params_)\n",
        "accuracy = metrics.accuracy_score(test_set_label, predicted_label)\n",
        "print('Accuracy Score:', accuracy)\n",
        "f1= metrics.f1_score(test_set_label, predicted_label, average='macro')\n",
        "print('Macro F1 Score:', f1)\n",
        "print('Clasification report:\\n', metrics.classification_report(test_set_label, predicted_label))\n",
        "\n",
        "cm = confusion_matrix(test_set_label, predicted_label)\n",
        "df_cm = pd.DataFrame(cm, class_labels, class_labels)\n",
        "sn.set(font_scale=1.4) # for label size\n",
        "sn.heatmap(df_cm, annot=True, fmt=\"d\", annot_kws={\"size\": 16}) # font size\n",
        "plt.title(f\"Naive Bayes Classifier for {task} dataset\")\n",
        "plt.xlabel('predicted class')\n",
        "plt.ylabel('ground truth')\n",
        "plt.show()"
      ],
      "execution_count": null,
      "outputs": [
        {
          "output_type": "stream",
          "text": [
            "Naive Bayes:\n",
            "Best parameters:  {}\n",
            "Accuracy Score: 0.6517857142857143\n",
            "Macro F1 Score: 0.6511676801392514\n",
            "Clasification report:\n",
            "               precision    recall  f1-score   support\n",
            "\n",
            "           0       0.79      0.58      0.67       473\n",
            "           1       0.54      0.77      0.64       311\n",
            "\n",
            "    accuracy                           0.65       784\n",
            "   macro avg       0.67      0.67      0.65       784\n",
            "weighted avg       0.69      0.65      0.65       784\n",
            "\n"
          ],
          "name": "stdout"
        },
        {
          "output_type": "display_data",
          "data": {
            "image/png": "[encoded data removed]",
            "text/plain": [
              "<Figure size 432x288 with 2 Axes>"
            ]
          },
          "metadata": {
            "tags": []
          }
        }
      ]
    },
    {
      "cell_type": "code",
      "metadata": {
        "colab": {
          "base_uri": "https://localhost:8080/"
        },
        "id": "HmDdIsqI45F9",
        "outputId": "66495d45-b904-4d54-cfd9-9558989ff6fe"
      },
      "source": [
        "%%time\n",
        "# Decision Tree is used as the classification model\n",
        "DTclf = DecisionTreeClassifier(criterion=\"entropy\", min_samples_split=10)\n",
        "param_grid = {\n",
        "    # 'criterion' : [\"entropy\", \"gini\"],\n",
        "    # 'max_depth' : np.arange(10, 21, 1),\n",
        "    # 'min_samples_split' : np.arange(10, 21, 1),\n",
        "}\n",
        "DTclf = GridSearchCV(estimator=DTclf, param_grid=param_grid, n_jobs=-1)\n",
        "# Train Decision Tree Classifier\n",
        "DTclf = DTclf.fit(train_set_vector, train_set_label)"
      ],
      "execution_count": null,
      "outputs": [
        {
          "output_type": "stream",
          "text": [
            "CPU times: user 426 ms, sys: 5.85 ms, total: 432 ms\n",
            "Wall time: 1.51 s\n"
          ],
          "name": "stdout"
        }
      ]
    },
    {
      "cell_type": "code",
      "metadata": {
        "id": "Ca4ltaL-gmVv",
        "colab": {
          "base_uri": "https://localhost:8080/"
        },
        "outputId": "4981822f-61d6-4b1b-c061-53ed83aca9ef"
      },
      "source": [
        "%%time\n",
        "# Predict using test dataset\n",
        "predicted_label = DTclf.predict(test_set_vector)"
      ],
      "execution_count": null,
      "outputs": [
        {
          "output_type": "stream",
          "text": [
            "CPU times: user 1.38 ms, sys: 897 µs, total: 2.28 ms\n",
            "Wall time: 4.2 ms\n"
          ],
          "name": "stdout"
        }
      ]
    },
    {
      "cell_type": "code",
      "metadata": {
        "colab": {
          "base_uri": "https://localhost:8080/"
        },
        "id": "WN6AY7YT1Hgl",
        "outputId": "e1d9b86e-dc46-44b3-b278-2755cf8291a4"
      },
      "source": [
        "print(\"Decision Tree:\")\n",
        "print('Best parameters: ', DTclf.best_params_)\n",
        "accuracy = metrics.accuracy_score(test_set_label, predicted_label)\n",
        "print('Accuracy Score:', accuracy)\n",
        "f1= metrics.f1_score(test_set_label, predicted_label, average='macro')\n",
        "print('Macro F1 Score:', f1)\n",
        "print('Clasification report:\\n', metrics.classification_report(test_set_label, predicted_label))\n",
        "\n",
        "cm = confusion_matrix(test_set_label, predicted_label)\n",
        "df_cm = pd.DataFrame(cm, class_labels, class_labels)\n",
        "sn.set(font_scale=1.4) # for label size\n",
        "sn.heatmap(df_cm, annot=True, fmt=\"d\", annot_kws={\"size\": 16}) # font size\n",
        "plt.title(f\"Decision Tree for {task} dataset\")\n",
        "plt.xlabel('predicted class')\n",
        "plt.ylabel('ground truth')\n",
        "plt.show()"
      ],
      "execution_count": null,
      "outputs": [
        {
          "output_type": "stream",
          "text": [
            "Decision Tree:\n",
            "Best parameters:  {}\n",
            "Accuracy Score: 0.6198979591836735\n",
            "Macro F1 Score: 0.6050524721410797\n",
            "Clasification report:\n",
            "               precision    recall  f1-score   support\n",
            "\n",
            "           0       0.69      0.67      0.68       473\n",
            "           1       0.52      0.54      0.53       311\n",
            "\n",
            "    accuracy                           0.62       784\n",
            "   macro avg       0.60      0.61      0.61       784\n",
            "weighted avg       0.62      0.62      0.62       784\n",
            "\n"
          ],
          "name": "stdout"
        },
        {
          "output_type": "display_data",
          "data": {
            "image/png": "[encoded data removed]",
            "text/plain": [
              "<Figure size 432x288 with 2 Axes>"
            ]
          },
          "metadata": {
            "tags": []
          }
        }
      ]
    },
    {
      "cell_type": "code",
      "metadata": {
        "colab": {
          "base_uri": "https://localhost:8080/"
        },
        "id": "j_dvZf215G5L",
        "outputId": "07efb434-84a5-4d99-b76c-af2ba4f86577"
      },
      "source": [
        "%%time\n",
        "# K-Nearest Neighbors is used as the classification model\n",
        "KNNclf = KNeighborsClassifier(weights=\"distance\", p = 2, n_neighbors=5) #euclidean distance\n",
        "param_grid = {\n",
        "        #'n_neighbors': np.arange(1, 11, 1),\n",
        "        #'weights': [\"uniform\", \"distance\"],\n",
        "}\n",
        "KNNclf = GridSearchCV(estimator=KNNclf, param_grid=param_grid, n_jobs=-1)\n",
        "# Train K-Nearest Neighbors Classifier\n",
        "KNNclf = KNNclf.fit(train_set_vector, train_set_label)"
      ],
      "execution_count": null,
      "outputs": [
        {
          "output_type": "stream",
          "text": [
            "CPU times: user 70 ms, sys: 1.01 ms, total: 71 ms\n",
            "Wall time: 220 ms\n"
          ],
          "name": "stdout"
        }
      ]
    },
    {
      "cell_type": "code",
      "metadata": {
        "id": "yJicd45mgpF_",
        "colab": {
          "base_uri": "https://localhost:8080/"
        },
        "outputId": "25a28ad3-a3a9-4798-9c31-8921638c55e4"
      },
      "source": [
        "%%time\n",
        "# Predict using test dataset\n",
        "predicted_label = KNNclf.predict(test_set_vector)"
      ],
      "execution_count": null,
      "outputs": [
        {
          "output_type": "stream",
          "text": [
            "CPU times: user 59.3 ms, sys: 21 ms, total: 80.3 ms\n",
            "Wall time: 87.9 ms\n"
          ],
          "name": "stdout"
        }
      ]
    },
    {
      "cell_type": "code",
      "metadata": {
        "colab": {
          "base_uri": "https://localhost:8080/"
        },
        "id": "_VYG42BX3GbY",
        "outputId": "ca2788cc-fdfb-4cab-a6f7-5f5f52f74a41"
      },
      "source": [
        "print(\"K-Nearest Neighbors:\")\n",
        "print('Best parameters: ', KNNclf.best_params_)\n",
        "accuracy = metrics.accuracy_score(test_set_label, predicted_label)\n",
        "print('Accuracy Score:', accuracy)\n",
        "f1= metrics.f1_score(test_set_label, predicted_label, average='macro')\n",
        "print('Macro F1 Score:', f1)\n",
        "print('Clasification report:\\n', metrics.classification_report(test_set_label, predicted_label))\n",
        "\n",
        "cm = confusion_matrix(test_set_label, predicted_label)\n",
        "df_cm = pd.DataFrame(cm, class_labels, class_labels)\n",
        "sn.set(font_scale=1.4) # for label size\n",
        "sn.heatmap(df_cm, annot=True, fmt=\"d\", annot_kws={\"size\": 16}) # font size\n",
        "plt.title(f\"KNN for {task} dataset\")\n",
        "plt.xlabel('predicted class')\n",
        "plt.ylabel('ground truth')\n",
        "plt.show()"
      ],
      "execution_count": null,
      "outputs": [
        {
          "output_type": "stream",
          "text": [
            "K-Nearest Neighbors:\n",
            "Best parameters:  {}\n",
            "Accuracy Score: 0.5637755102040817\n",
            "Macro F1 Score: 0.5568513119533528\n",
            "Clasification report:\n",
            "               precision    recall  f1-score   support\n",
            "\n",
            "           0       0.66      0.57      0.61       473\n",
            "           1       0.46      0.55      0.50       311\n",
            "\n",
            "    accuracy                           0.56       784\n",
            "   macro avg       0.56      0.56      0.56       784\n",
            "weighted avg       0.58      0.56      0.57       784\n",
            "\n"
          ],
          "name": "stdout"
        },
        {
          "output_type": "display_data",
          "data": {
            "image/png": "[encoded data removed]",
            "text/plain": [
              "<Figure size 432x288 with 2 Axes>"
            ]
          },
          "metadata": {
            "tags": []
          }
        }
      ]
    },
    {
      "cell_type": "code",
      "metadata": {
        "colab": {
          "base_uri": "https://localhost:8080/"
        },
        "id": "5Z4Otfpx5LiT",
        "outputId": "a3a91bf9-a4cb-46fb-aeab-ef2db0bc7ec6"
      },
      "source": [
        "%%time\n",
        "# Support Vector Machine is used as the classification model\n",
        "SVMclf = SVC(kernel='rbf', C=1, gamma=0.1)\n",
        "param_grid = {\n",
        "    #'kernel': [\"linear\", \"poly\", \"rbf\"],\n",
        "    #'C' : np.logspace(-1, 3, 5),\n",
        "    #'gamma' : np.logspace(-4, -0, 5),\n",
        "}\n",
        "SVMclf = GridSearchCV(estimator=SVMclf, param_grid=param_grid, n_jobs=-1)\n",
        "# Train Support Vector Machine Classifier\n",
        "SVMclf = SVMclf.fit(train_set_vector, train_set_label)"
      ],
      "execution_count": null,
      "outputs": [
        {
          "output_type": "stream",
          "text": [
            "CPU times: user 770 ms, sys: 7.02 ms, total: 777 ms\n",
            "Wall time: 2.82 s\n"
          ],
          "name": "stdout"
        }
      ]
    },
    {
      "cell_type": "code",
      "metadata": {
        "id": "K0ciSknEgt2w",
        "colab": {
          "base_uri": "https://localhost:8080/"
        },
        "outputId": "f9cb0380-1151-4c0b-ad86-87b3a4703aff"
      },
      "source": [
        "%%time\n",
        "# Predict using test dataset\n",
        "predicted_label = SVMclf.predict(test_set_vector)"
      ],
      "execution_count": null,
      "outputs": [
        {
          "output_type": "stream",
          "text": [
            "CPU times: user 157 ms, sys: 2.97 ms, total: 160 ms\n",
            "Wall time: 160 ms\n"
          ],
          "name": "stdout"
        }
      ]
    },
    {
      "cell_type": "code",
      "metadata": {
        "colab": {
          "base_uri": "https://localhost:8080/"
        },
        "id": "XdGl5VcdjfiL",
        "outputId": "2d03f4dd-ebcc-481d-d319-cc404785eb89"
      },
      "source": [
        "print(\"Support Vector Machine:\")\n",
        "print('Best parameters: ', SVMclf.best_params_)\n",
        "accuracy = metrics.accuracy_score(test_set_label, predicted_label)\n",
        "print('Accuracy Score:', accuracy)\n",
        "f1= metrics.f1_score(test_set_label, predicted_label, average='macro')\n",
        "print('Macro F1 Score:', f1)\n",
        "print('Clasification report:\\n', metrics.classification_report(test_set_label, predicted_label))\n",
        "\n",
        "cm = confusion_matrix(test_set_label, predicted_label)\n",
        "df_cm = pd.DataFrame(cm, class_labels, class_labels)\n",
        "sn.set(font_scale=1.4) # for label size\n",
        "sn.heatmap(df_cm, annot=True, fmt=\"d\", annot_kws={\"size\": 16}) # font size\n",
        "plt.title(f\"SVM for {task} dataset\")\n",
        "plt.xlabel('predicted class')\n",
        "plt.ylabel('ground truth')\n",
        "plt.show()"
      ],
      "execution_count": null,
      "outputs": [
        {
          "output_type": "stream",
          "text": [
            "Support Vector Machine:\n",
            "Best parameters:  {}\n",
            "Accuracy Score: 0.6811224489795918\n",
            "Macro F1 Score: 0.667264232942199\n",
            "Clasification report:\n",
            "               precision    recall  f1-score   support\n",
            "\n",
            "           0       0.74      0.73      0.74       473\n",
            "           1       0.60      0.60      0.60       311\n",
            "\n",
            "    accuracy                           0.68       784\n",
            "   macro avg       0.67      0.67      0.67       784\n",
            "weighted avg       0.68      0.68      0.68       784\n",
            "\n"
          ],
          "name": "stdout"
        },
        {
          "output_type": "display_data",
          "data": {
            "image/png": "[encoded data removed]",
            "text/plain": [
              "<Figure size 432x288 with 2 Axes>"
            ]
          },
          "metadata": {
            "tags": []
          }
        }
      ]
    },
    {
      "cell_type": "markdown",
      "metadata": {
        "id": "w4zMCtbs0Ag6"
      },
      "source": [
        "# Deep Learning"
      ]
    },
    {
      "cell_type": "code",
      "metadata": {
        "colab": {
          "base_uri": "https://localhost:8080/"
        },
        "id": "F8V2TxO3Tu4i",
        "outputId": "278a6982-a4e2-4da8-9496-7d030027e94b"
      },
      "source": [
        "%%time\n",
        "# SimpleANN is used as the classification model\n",
        "model = models.Sequential()\n",
        "model.add(Dense(32, input_shape=(30,)))\n",
        "model.add(Dense(1, activation='sigmoid'))\n",
        "model.summary()\n",
        "model.compile(optimizer='rmsprop', loss='binary_crossentropy', metrics=['acc'])\n",
        "# Train SimpleANN Classifier\n",
        "history = model.fit(train_set_content, np.array(train_set_label), \n",
        "                    epochs=5,\n",
        "                    batch_size=128,\n",
        "                    #validation_split=0.2,\n",
        "                    validation_data=(val_set_content, np.array(val_set_label)),\n",
        "                    )"
      ],
      "execution_count": null,
      "outputs": [
        {
          "output_type": "stream",
          "text": [
            "Model: \"sequential\"\n",
            "_________________________________________________________________\n",
            "Layer (type)                 Output Shape              Param #   \n",
            "=================================================================\n",
            "dense (Dense)                (None, 32)                992       \n",
            "_________________________________________________________________\n",
            "dense_1 (Dense)              (None, 1)                 33        \n",
            "=================================================================\n",
            "Total params: 1,025\n",
            "Trainable params: 1,025\n",
            "Non-trainable params: 0\n",
            "_________________________________________________________________\n",
            "Epoch 1/5\n",
            "23/23 [==============================] - 1s 17ms/step - loss: 75.2118 - acc: 0.5245 - val_loss: 14.8859 - val_acc: 0.4806\n",
            "Epoch 2/5\n",
            "23/23 [==============================] - 0s 6ms/step - loss: 11.8341 - acc: 0.4898 - val_loss: 2.4706 - val_acc: 0.4974\n",
            "Epoch 3/5\n",
            "23/23 [==============================] - 0s 5ms/step - loss: 5.8983 - acc: 0.5177 - val_loss: 5.9048 - val_acc: 0.4806\n",
            "Epoch 4/5\n",
            "23/23 [==============================] - 0s 6ms/step - loss: 5.5581 - acc: 0.5239 - val_loss: 3.1213 - val_acc: 0.4785\n",
            "Epoch 5/5\n",
            "23/23 [==============================] - 0s 6ms/step - loss: 5.6612 - acc: 0.4968 - val_loss: 3.5010 - val_acc: 0.5204\n",
            "CPU times: user 1.63 s, sys: 100 ms, total: 1.73 s\n",
            "Wall time: 2.17 s\n"
          ],
          "name": "stdout"
        }
      ]
    },
    {
      "cell_type": "code",
      "metadata": {
        "colab": {
          "base_uri": "https://localhost:8080/"
        },
        "id": "GCXE92ugT8MH",
        "outputId": "efaa515f-2720-445a-929a-241218a46a8f"
      },
      "source": [
        "%%time\n",
        "# Predict using test dataset\n",
        "#model.evaluate(val_set_content, np.array(val_set_label))\n",
        "predicted_label = model.predict(test_set_content)\n",
        "predicted_label = np.around(predicted_label)"
      ],
      "execution_count": null,
      "outputs": [
        {
          "output_type": "stream",
          "text": [
            "CPU times: user 125 ms, sys: 2.06 ms, total: 127 ms\n",
            "Wall time: 134 ms\n"
          ],
          "name": "stdout"
        }
      ]
    },
    {
      "cell_type": "code",
      "metadata": {
        "colab": {
          "base_uri": "https://localhost:8080/",
          "height": 275
        },
        "id": "kWRNqfbkT8VC",
        "outputId": "7b725a80-e61b-4460-8a48-f3adbe8ffde1"
      },
      "source": [
        "print(\"SimpleANN:\")\n",
        "accuracy = metrics.accuracy_score(test_set_label, predicted_label)\n",
        "print('Accuracy Score:', accuracy)\n",
        "f1= metrics.f1_score(test_set_label, predicted_label, average='macro')\n",
        "print('Macro F1 Score:', f1)\n",
        "print('Clasification report:\\n', metrics.classification_report(test_set_label, predicted_label))\n",
        "\n",
        "cm = confusion_matrix(test_set_label, predicted_label)\n",
        "df_cm = pd.DataFrame(cm, class_labels, class_labels)\n",
        "sn.set(font_scale=1.4) # for label size\n",
        "sn.heatmap(df_cm, annot=True, fmt=\"d\", annot_kws={\"size\": 16}) # font size\n",
        "plt.title(f\"SimpleANN for {task} dataset\")\n",
        "plt.xlabel('predicted class')\n",
        "plt.ylabel('ground truth')\n",
        "plt.show()"
      ],
      "execution_count": null,
      "outputs": [
        {
          "output_type": "stream",
          "text": [
            "SimpleANN:\n",
            "Accuracy Score: 0.6007653061224489\n",
            "Macro F1 Score: 0.3812092282010354\n",
            "Clasification report:\n",
            "               precision    recall  f1-score   support\n",
            "\n",
            "           0       0.60      0.99      0.75       473\n",
            "           1       0.33      0.01      0.01       311\n",
            "\n",
            "    accuracy                           0.60       784\n",
            "   macro avg       0.47      0.50      0.38       784\n",
            "weighted avg       0.50      0.60      0.46       784\n",
            "\n"
          ],
          "name": "stdout"
        },
        {
          "output_type": "display_data",
          "data": {
            "image/png": "[encoded data removed]",
            "text/plain": [
              "<Figure size 432x288 with 2 Axes>"
            ]
          },
          "metadata": {
            "tags": []
          }
        }
      ]
    },
    {
      "cell_type": "code",
      "metadata": {
        "colab": {
          "base_uri": "https://localhost:8080/"
        },
        "id": "WEml0fPVUwGo",
        "outputId": "eb79b1b7-96c2-4c34-efc4-ba6dc3d8f6f8"
      },
      "source": [
        "%%time\n",
        "# SimpleRNN is used as the classification model\n",
        "model = models.Sequential()\n",
        "model.add(Embedding(max_features, 32))\n",
        "model.add(SimpleRNN(32))\n",
        "model.add(layers.Dropout(0.1))\n",
        "model.add(Dense(1, activation='sigmoid'))\n",
        "model.summary()\n",
        "model.compile(optimizer='rmsprop', loss='binary_crossentropy', metrics=['acc'])\n",
        "# Train SimpleRNN Classifier\n",
        "history = model.fit(train_set_content, np.array(train_set_label), \n",
        "                    epochs=5,\n",
        "                    batch_size=128,\n",
        "                    #validation_split=0.2,\n",
        "                    validation_data=(val_set_content, np.array(val_set_label)),\n",
        "                    )"
      ],
      "execution_count": null,
      "outputs": [
        {
          "output_type": "stream",
          "text": [
            "Model: \"sequential_1\"\n",
            "_________________________________________________________________\n",
            "Layer (type)                 Output Shape              Param #   \n",
            "=================================================================\n",
            "embedding (Embedding)        (None, None, 32)          96000     \n",
            "_________________________________________________________________\n",
            "simple_rnn (SimpleRNN)       (None, 32)                2080      \n",
            "_________________________________________________________________\n",
            "dropout (Dropout)            (None, 32)                0         \n",
            "_________________________________________________________________\n",
            "dense_2 (Dense)              (None, 1)                 33        \n",
            "=================================================================\n",
            "Total params: 98,113\n",
            "Trainable params: 98,113\n",
            "Non-trainable params: 0\n",
            "_________________________________________________________________\n",
            "Epoch 1/5\n",
            "23/23 [==============================] - 2s 29ms/step - loss: 0.6950 - acc: 0.5168 - val_loss: 0.6901 - val_acc: 0.5340\n",
            "Epoch 2/5\n",
            "23/23 [==============================] - 0s 17ms/step - loss: 0.6523 - acc: 0.6987 - val_loss: 0.6796 - val_acc: 0.5770\n",
            "Epoch 3/5\n",
            "23/23 [==============================] - 0s 15ms/step - loss: 0.5801 - acc: 0.7798 - val_loss: 0.6796 - val_acc: 0.5613\n",
            "Epoch 4/5\n",
            "23/23 [==============================] - 0s 16ms/step - loss: 0.4642 - acc: 0.8376 - val_loss: 0.6870 - val_acc: 0.5749\n",
            "Epoch 5/5\n",
            "23/23 [==============================] - 0s 15ms/step - loss: 0.3717 - acc: 0.8684 - val_loss: 0.7230 - val_acc: 0.5623\n",
            "CPU times: user 3.94 s, sys: 154 ms, total: 4.09 s\n",
            "Wall time: 3.47 s\n"
          ],
          "name": "stdout"
        }
      ]
    },
    {
      "cell_type": "code",
      "metadata": {
        "colab": {
          "base_uri": "https://localhost:8080/"
        },
        "id": "P0WDmDfiU_eK",
        "outputId": "193b5eab-6532-400a-9c87-9ba917809e61"
      },
      "source": [
        "%%time\n",
        "# Predict using test dataset\n",
        "#model.evaluate(val_set_content, np.array(val_set_label))\n",
        "predicted_label = model.predict(test_set_content)\n",
        "predicted_label = np.around(predicted_label)"
      ],
      "execution_count": null,
      "outputs": [
        {
          "output_type": "stream",
          "text": [
            "CPU times: user 252 ms, sys: 7.02 ms, total: 259 ms\n",
            "Wall time: 231 ms\n"
          ],
          "name": "stdout"
        }
      ]
    },
    {
      "cell_type": "code",
      "metadata": {
        "colab": {
          "base_uri": "https://localhost:8080/",
          "height": 275
        },
        "id": "vT-pc5EPU_kK",
        "outputId": "75541dcb-3c43-4709-d3f1-135391250409"
      },
      "source": [
        "print(\"SimpleRNN:\")\n",
        "accuracy = metrics.accuracy_score(test_set_label, predicted_label)\n",
        "print('Accuracy Score:', accuracy)\n",
        "f1= metrics.f1_score(test_set_label, predicted_label, average='macro')\n",
        "print('Macro F1 Score:', f1)\n",
        "print('Clasification report:\\n', metrics.classification_report(test_set_label, predicted_label))\n",
        "\n",
        "cm = confusion_matrix(test_set_label, predicted_label)\n",
        "df_cm = pd.DataFrame(cm, class_labels, class_labels)\n",
        "sn.set(font_scale=1.4) # for label size\n",
        "sn.heatmap(df_cm, annot=True, fmt=\"d\", annot_kws={\"size\": 16}) # font size\n",
        "plt.title(f\"SimpleRNN for {task} dataset\")\n",
        "plt.xlabel('predicted class')\n",
        "plt.ylabel('ground truth')\n",
        "plt.show()"
      ],
      "execution_count": null,
      "outputs": [
        {
          "output_type": "stream",
          "text": [
            "SimpleRNN:\n",
            "Accuracy Score: 0.5727040816326531\n",
            "Macro F1 Score: 0.5727033864525628\n",
            "Clasification report:\n",
            "               precision    recall  f1-score   support\n",
            "\n",
            "           0       0.72      0.47      0.57       473\n",
            "           1       0.47      0.72      0.57       311\n",
            "\n",
            "    accuracy                           0.57       784\n",
            "   macro avg       0.60      0.60      0.57       784\n",
            "weighted avg       0.62      0.57      0.57       784\n",
            "\n"
          ],
          "name": "stdout"
        },
        {
          "output_type": "display_data",
          "data": {
            "image/png": "[encoded data removed]",
            "text/plain": [
              "<Figure size 432x288 with 2 Axes>"
            ]
          },
          "metadata": {
            "tags": []
          }
        }
      ]
    },
    {
      "cell_type": "code",
      "metadata": {
        "colab": {
          "base_uri": "https://localhost:8080/"
        },
        "id": "hPXrfYGzofxB",
        "outputId": "1edd6299-5023-46af-f6dd-e75624cf77c1"
      },
      "source": [
        "%%time\n",
        "# LSTM is used as the classification model\n",
        "model = models.Sequential()\n",
        "model.add(Embedding(max_features, 32))\n",
        "model.add(LSTM(32))\n",
        "model.add(layers.Dropout(0.1))\n",
        "model.add(Dense(1, activation='sigmoid'))\n",
        "model.summary()\n",
        "model.compile(optimizer='rmsprop', loss='binary_crossentropy', metrics=['acc'])\n",
        "# Train LSTM Classifier\n",
        "history = model.fit(train_set_content, np.array(train_set_label), \n",
        "                    epochs=5,\n",
        "                    batch_size=128,\n",
        "                    #validation_split=0.2,\n",
        "                    validation_data=(val_set_content, np.array(val_set_label)),\n",
        "                    )"
      ],
      "execution_count": null,
      "outputs": [
        {
          "output_type": "stream",
          "text": [
            "Model: \"sequential_2\"\n",
            "_________________________________________________________________\n",
            "Layer (type)                 Output Shape              Param #   \n",
            "=================================================================\n",
            "embedding_1 (Embedding)      (None, None, 32)          96000     \n",
            "_________________________________________________________________\n",
            "lstm (LSTM)                  (None, 32)                8320      \n",
            "_________________________________________________________________\n",
            "dropout_1 (Dropout)          (None, 32)                0         \n",
            "_________________________________________________________________\n",
            "dense_3 (Dense)              (None, 1)                 33        \n",
            "=================================================================\n",
            "Total params: 104,353\n",
            "Trainable params: 104,353\n",
            "Non-trainable params: 0\n",
            "_________________________________________________________________\n",
            "Epoch 1/5\n",
            "23/23 [==============================] - 4s 55ms/step - loss: 0.6918 - acc: 0.5259 - val_loss: 0.6877 - val_acc: 0.5738\n",
            "Epoch 2/5\n",
            "23/23 [==============================] - 1s 28ms/step - loss: 0.6763 - acc: 0.6680 - val_loss: 0.6727 - val_acc: 0.5958\n",
            "Epoch 3/5\n",
            "23/23 [==============================] - 1s 29ms/step - loss: 0.6355 - acc: 0.6825 - val_loss: 0.6736 - val_acc: 0.5738\n",
            "Epoch 4/5\n",
            "23/23 [==============================] - 1s 28ms/step - loss: 0.5800 - acc: 0.7218 - val_loss: 0.6575 - val_acc: 0.5979\n",
            "Epoch 5/5\n",
            "23/23 [==============================] - 1s 28ms/step - loss: 0.5193 - acc: 0.7676 - val_loss: 0.6975 - val_acc: 0.6136\n",
            "CPU times: user 8.09 s, sys: 320 ms, total: 8.41 s\n",
            "Wall time: 6.63 s\n"
          ],
          "name": "stdout"
        }
      ]
    },
    {
      "cell_type": "code",
      "metadata": {
        "id": "qNCE07xp8HtF",
        "colab": {
          "base_uri": "https://localhost:8080/"
        },
        "outputId": "a1af7851-0905-45fa-ddb2-ce588bd1618b"
      },
      "source": [
        "%%time\n",
        "# Predict using test dataset\n",
        "#model.evaluate(val_set_content, np.array(val_set_label))\n",
        "predicted_label = model.predict(test_set_content)\n",
        "predicted_label = np.around(predicted_label)"
      ],
      "execution_count": null,
      "outputs": [
        {
          "output_type": "stream",
          "text": [
            "CPU times: user 545 ms, sys: 15.1 ms, total: 560 ms\n",
            "Wall time: 514 ms\n"
          ],
          "name": "stdout"
        }
      ]
    },
    {
      "cell_type": "code",
      "metadata": {
        "colab": {
          "base_uri": "https://localhost:8080/",
          "height": 275
        },
        "id": "u4NPfHHg-fiz",
        "outputId": "53361ae6-ff79-4926-a515-c5088d4ceaaa"
      },
      "source": [
        "print(\"LSTM:\")\n",
        "accuracy = metrics.accuracy_score(test_set_label, predicted_label)\n",
        "print('Accuracy Score:', accuracy)\n",
        "f1= metrics.f1_score(test_set_label, predicted_label, average='macro')\n",
        "print('Macro F1 Score:', f1)\n",
        "print('Clasification report:\\n', metrics.classification_report(test_set_label, predicted_label))\n",
        "\n",
        "cm = confusion_matrix(test_set_label, predicted_label)\n",
        "df_cm = pd.DataFrame(cm, class_labels, class_labels)\n",
        "sn.set(font_scale=1.4) # for label size\n",
        "sn.heatmap(df_cm, annot=True, fmt=\"d\", annot_kws={\"size\": 16}) # font size\n",
        "plt.title(f\"LSTM for {task} dataset\")\n",
        "plt.xlabel('predicted class')\n",
        "plt.ylabel('ground truth')\n",
        "plt.show()"
      ],
      "execution_count": null,
      "outputs": [
        {
          "output_type": "stream",
          "text": [
            "LSTM:\n",
            "Accuracy Score: 0.6875\n",
            "Macro F1 Score: 0.6492170022371364\n",
            "Clasification report:\n",
            "               precision    recall  f1-score   support\n",
            "\n",
            "           0       0.70      0.84      0.77       473\n",
            "           1       0.65      0.45      0.53       311\n",
            "\n",
            "    accuracy                           0.69       784\n",
            "   macro avg       0.68      0.65      0.65       784\n",
            "weighted avg       0.68      0.69      0.67       784\n",
            "\n"
          ],
          "name": "stdout"
        },
        {
          "output_type": "display_data",
          "data": {
            "image/png": "[encoded data removed]",
            "text/plain": [
              "<Figure size 432x288 with 2 Axes>"
            ]
          },
          "metadata": {
            "tags": []
          }
        }
      ]
    },
    {
      "cell_type": "code",
      "metadata": {
        "colab": {
          "base_uri": "https://localhost:8080/"
        },
        "id": "hCYp3yFcUYCo",
        "outputId": "8f3e4aba-fffd-474d-c7e3-ac01537cc115"
      },
      "source": [
        "%%time\n",
        "# BiLSTM is used as the classification model\n",
        "model = models.Sequential()\n",
        "model.add(Embedding(max_features, 32))\n",
        "model.add(Bidirectional(LSTM(32)))\n",
        "model.add(layers.Dropout(0.1))\n",
        "model.add(Dense(1, activation='sigmoid'))\n",
        "model.summary()\n",
        "model.compile(optimizer='rmsprop', loss='binary_crossentropy', metrics=['acc'])\n",
        "# Train BiLSTM Classifier\n",
        "history = model.fit(train_set_content, np.array(train_set_label), \n",
        "                    epochs=5,\n",
        "                    batch_size=128,\n",
        "                    #validation_split=0.2,\n",
        "                    validation_data=(val_set_content, np.array(val_set_label)),\n",
        "                    )"
      ],
      "execution_count": null,
      "outputs": [
        {
          "output_type": "stream",
          "text": [
            "Model: \"sequential_3\"\n",
            "_________________________________________________________________\n",
            "Layer (type)                 Output Shape              Param #   \n",
            "=================================================================\n",
            "embedding_2 (Embedding)      (None, None, 32)          96000     \n",
            "_________________________________________________________________\n",
            "bidirectional (Bidirectional (None, 64)                16640     \n",
            "_________________________________________________________________\n",
            "dropout_2 (Dropout)          (None, 64)                0         \n",
            "_________________________________________________________________\n",
            "dense_4 (Dense)              (None, 1)                 65        \n",
            "=================================================================\n",
            "Total params: 112,705\n",
            "Trainable params: 112,705\n",
            "Non-trainable params: 0\n",
            "_________________________________________________________________\n",
            "Epoch 1/5\n",
            "23/23 [==============================] - 5s 83ms/step - loss: 0.6923 - acc: 0.5178 - val_loss: 0.6888 - val_acc: 0.5728\n",
            "Epoch 2/5\n",
            "23/23 [==============================] - 1s 43ms/step - loss: 0.6787 - acc: 0.6526 - val_loss: 0.6836 - val_acc: 0.5309\n",
            "Epoch 3/5\n",
            "23/23 [==============================] - 1s 42ms/step - loss: 0.6435 - acc: 0.6588 - val_loss: 0.6665 - val_acc: 0.5853\n",
            "Epoch 4/5\n",
            "23/23 [==============================] - 1s 41ms/step - loss: 0.5983 - acc: 0.7047 - val_loss: 0.6604 - val_acc: 0.6147\n",
            "Epoch 5/5\n",
            "23/23 [==============================] - 1s 41ms/step - loss: 0.5344 - acc: 0.7596 - val_loss: 0.6830 - val_acc: 0.6168\n",
            "CPU times: user 13.1 s, sys: 386 ms, total: 13.5 s\n",
            "Wall time: 9.95 s\n"
          ],
          "name": "stdout"
        }
      ]
    },
    {
      "cell_type": "code",
      "metadata": {
        "colab": {
          "base_uri": "https://localhost:8080/"
        },
        "id": "IDJ5myr8UYtw",
        "outputId": "6e074acf-0035-46d1-b8be-85a92d0ab2cd"
      },
      "source": [
        "%%time\n",
        "# Predict using test dataset\n",
        "#model.evaluate(val_set_content, np.array(val_set_label))\n",
        "predicted_label = model.predict(test_set_content)\n",
        "predicted_label = np.around(predicted_label)"
      ],
      "execution_count": null,
      "outputs": [
        {
          "output_type": "stream",
          "text": [
            "CPU times: user 943 ms, sys: 25.7 ms, total: 969 ms\n",
            "Wall time: 858 ms\n"
          ],
          "name": "stdout"
        }
      ]
    },
    {
      "cell_type": "code",
      "metadata": {
        "colab": {
          "base_uri": "https://localhost:8080/",
          "height": 275
        },
        "id": "8M6d4uMEUYyf",
        "outputId": "89c3d37b-70e2-4a4b-dd06-7638edfb9530"
      },
      "source": [
        "print(\"BiLSTM:\")\n",
        "accuracy = metrics.accuracy_score(test_set_label, predicted_label)\n",
        "print('Accuracy Score:', accuracy)\n",
        "f1= metrics.f1_score(test_set_label, predicted_label, average='macro')\n",
        "print('Macro F1 Score:', f1)\n",
        "print('Clasification report:\\n', metrics.classification_report(test_set_label, predicted_label))\n",
        "\n",
        "cm = confusion_matrix(test_set_label, predicted_label)\n",
        "df_cm = pd.DataFrame(cm, class_labels, class_labels)\n",
        "sn.set(font_scale=1.4) # for label size\n",
        "sn.heatmap(df_cm, annot=True, fmt=\"d\", annot_kws={\"size\": 16}) # font size\n",
        "plt.title(f\"BiLSTM for {task} dataset\")\n",
        "plt.xlabel('predicted class')\n",
        "plt.ylabel('ground truth')\n",
        "plt.show()"
      ],
      "execution_count": null,
      "outputs": [
        {
          "output_type": "stream",
          "text": [
            "BiLSTM:\n",
            "Accuracy Score: 0.6951530612244898\n",
            "Macro F1 Score: 0.6615605250276801\n",
            "Clasification report:\n",
            "               precision    recall  f1-score   support\n",
            "\n",
            "           0       0.71      0.84      0.77       473\n",
            "           1       0.66      0.48      0.55       311\n",
            "\n",
            "    accuracy                           0.70       784\n",
            "   macro avg       0.68      0.66      0.66       784\n",
            "weighted avg       0.69      0.70      0.68       784\n",
            "\n"
          ],
          "name": "stdout"
        },
        {
          "output_type": "display_data",
          "data": {
            "image/png": "[encoded data removed]",
            "text/plain": [
              "<Figure size 432x288 with 2 Axes>"
            ]
          },
          "metadata": {
            "tags": []
          }
        }
      ]
    },
    {
      "cell_type": "code",
      "metadata": {
        "colab": {
          "base_uri": "https://localhost:8080/"
        },
        "id": "oRKAyPe2nz6h",
        "outputId": "be740b93-7a00-48c1-ccdf-67ada3729c3c"
      },
      "source": [
        "%%time\n",
        "# Hierarchical LSTM is used as the classification model\n",
        "model = models.Sequential()\n",
        "model.add(Embedding(max_features, 32))\n",
        "model.add(LSTM(32, return_sequences=True))\n",
        "model.add(LSTM(32, return_sequences=True))\n",
        "model.add(LSTM(32))\n",
        "model.add(layers.Dropout(0.1))\n",
        "model.add(Dense(1, activation='sigmoid'))\n",
        "model.summary()\n",
        "model.compile(optimizer='rmsprop', loss='binary_crossentropy', metrics=['acc'])\n",
        "# Train Hierarchical LSTM Classifier\n",
        "history = model.fit(train_set_content, np.array(train_set_label), \n",
        "                    epochs=5,\n",
        "                    batch_size=128,\n",
        "                    #validation_split=0.2,\n",
        "                    validation_data=(val_set_content, np.array(val_set_label)),\n",
        "                    )"
      ],
      "execution_count": null,
      "outputs": [
        {
          "output_type": "stream",
          "text": [
            "Model: \"sequential_4\"\n",
            "_________________________________________________________________\n",
            "Layer (type)                 Output Shape              Param #   \n",
            "=================================================================\n",
            "embedding_3 (Embedding)      (None, None, 32)          96000     \n",
            "_________________________________________________________________\n",
            "lstm_2 (LSTM)                (None, None, 32)          8320      \n",
            "_________________________________________________________________\n",
            "lstm_3 (LSTM)                (None, None, 32)          8320      \n",
            "_________________________________________________________________\n",
            "lstm_4 (LSTM)                (None, 32)                8320      \n",
            "_________________________________________________________________\n",
            "dropout_3 (Dropout)          (None, 32)                0         \n",
            "_________________________________________________________________\n",
            "dense_5 (Dense)              (None, 1)                 33        \n",
            "=================================================================\n",
            "Total params: 120,993\n",
            "Trainable params: 120,993\n",
            "Non-trainable params: 0\n",
            "_________________________________________________________________\n",
            "Epoch 1/5\n",
            "23/23 [==============================] - 8s 127ms/step - loss: 0.6932 - acc: 0.4985 - val_loss: 0.6932 - val_acc: 0.4827\n",
            "Epoch 2/5\n",
            "23/23 [==============================] - 2s 72ms/step - loss: 0.6898 - acc: 0.5337 - val_loss: 0.6856 - val_acc: 0.5351\n",
            "Epoch 3/5\n",
            "23/23 [==============================] - 2s 72ms/step - loss: 0.6595 - acc: 0.6242 - val_loss: 0.6921 - val_acc: 0.5361\n",
            "Epoch 4/5\n",
            "23/23 [==============================] - 2s 77ms/step - loss: 0.5807 - acc: 0.6822 - val_loss: 0.6777 - val_acc: 0.6209\n",
            "Epoch 5/5\n",
            "23/23 [==============================] - 2s 79ms/step - loss: 0.5031 - acc: 0.7545 - val_loss: 0.7107 - val_acc: 0.5948\n",
            "CPU times: user 20.8 s, sys: 764 ms, total: 21.5 s\n",
            "Wall time: 16 s\n"
          ],
          "name": "stdout"
        }
      ]
    },
    {
      "cell_type": "code",
      "metadata": {
        "colab": {
          "base_uri": "https://localhost:8080/"
        },
        "id": "szY3EX7rn5dR",
        "outputId": "19bb6c97-31c8-45cc-cf32-63322d284e76"
      },
      "source": [
        "%%time\n",
        "# Predict using test dataset\n",
        "#model.evaluate(val_set_content, np.array(val_set_label))\n",
        "predicted_label = model.predict(test_set_content)\n",
        "predicted_label = np.around(predicted_label)"
      ],
      "execution_count": null,
      "outputs": [
        {
          "output_type": "stream",
          "text": [
            "CPU times: user 1.55 s, sys: 32 ms, total: 1.58 s\n",
            "Wall time: 1.45 s\n"
          ],
          "name": "stdout"
        }
      ]
    },
    {
      "cell_type": "code",
      "metadata": {
        "colab": {
          "base_uri": "https://localhost:8080/",
          "height": 275
        },
        "id": "Czfe_9C1n5lz",
        "outputId": "0344f00d-82aa-4a7c-e1b0-eb72a2de98c6"
      },
      "source": [
        "print(\"Hierarchical LSTM:\")\n",
        "accuracy = metrics.accuracy_score(test_set_label, predicted_label)\n",
        "print('Accuracy Score:', accuracy)\n",
        "f1= metrics.f1_score(test_set_label, predicted_label, average='macro')\n",
        "print('Macro F1 Score:', f1)\n",
        "print('Clasification report:\\n', metrics.classification_report(test_set_label, predicted_label))\n",
        "\n",
        "cm = confusion_matrix(test_set_label, predicted_label)\n",
        "df_cm = pd.DataFrame(cm, class_labels, class_labels)\n",
        "sn.set(font_scale=1.4) # for label size\n",
        "sn.heatmap(df_cm, annot=True, fmt=\"d\", annot_kws={\"size\": 16}) # font size\n",
        "plt.title(f\"Hierarchical LSTM for {task} dataset\")\n",
        "plt.xlabel('predicted class')\n",
        "plt.ylabel('ground truth')\n",
        "plt.show()"
      ],
      "execution_count": null,
      "outputs": [
        {
          "output_type": "stream",
          "text": [
            "Hierarchical LSTM:\n",
            "Accuracy Score: 0.6045918367346939\n",
            "Macro F1 Score: 0.6021034295331461\n",
            "Clasification report:\n",
            "               precision    recall  f1-score   support\n",
            "\n",
            "           0       0.72      0.57      0.63       473\n",
            "           1       0.50      0.66      0.57       311\n",
            "\n",
            "    accuracy                           0.60       784\n",
            "   macro avg       0.61      0.61      0.60       784\n",
            "weighted avg       0.63      0.60      0.61       784\n",
            "\n"
          ],
          "name": "stdout"
        },
        {
          "output_type": "display_data",
          "data": {
            "image/png": "[encoded data removed]",
            "text/plain": [
              "<Figure size 432x288 with 2 Axes>"
            ]
          },
          "metadata": {
            "tags": []
          }
        }
      ]
    },
    {
      "cell_type": "code",
      "metadata": {
        "colab": {
          "base_uri": "https://localhost:8080/"
        },
        "id": "3hSaKfVuhCMH",
        "outputId": "9ae9e375-1c61-4fc1-d1b5-6c11e2526faf"
      },
      "source": [
        "%%time\n",
        "# Hierarchical BiLSTM is used as the classification model\n",
        "model = models.Sequential()\n",
        "model.add(Embedding(max_features, 32))\n",
        "model.add(Bidirectional(LSTM(32, return_sequences=True)))\n",
        "model.add(Bidirectional(LSTM(32, return_sequences=True)))\n",
        "model.add(Bidirectional(LSTM(32)))\n",
        "model.add(layers.Dropout(0.1))\n",
        "model.add(Dense(1, activation='sigmoid'))\n",
        "model.summary()\n",
        "model.compile(optimizer='rmsprop', loss='binary_crossentropy', metrics=['acc'])\n",
        "# Train Hierarchical BiLSTM Classifier\n",
        "history = model.fit(train_set_content, np.array(train_set_label), \n",
        "                    epochs=5,\n",
        "                    batch_size=128,\n",
        "                    #validation_split=0.2,\n",
        "                    validation_data=(val_set_content, np.array(val_set_label)),\n",
        "                    )"
      ],
      "execution_count": null,
      "outputs": [
        {
          "output_type": "stream",
          "text": [
            "Model: \"sequential_5\"\n",
            "_________________________________________________________________\n",
            "Layer (type)                 Output Shape              Param #   \n",
            "=================================================================\n",
            "embedding_4 (Embedding)      (None, None, 32)          96000     \n",
            "_________________________________________________________________\n",
            "bidirectional_1 (Bidirection (None, None, 64)          16640     \n",
            "_________________________________________________________________\n",
            "bidirectional_2 (Bidirection (None, None, 64)          24832     \n",
            "_________________________________________________________________\n",
            "bidirectional_3 (Bidirection (None, 64)                24832     \n",
            "_________________________________________________________________\n",
            "dropout_4 (Dropout)          (None, 64)                0         \n",
            "_________________________________________________________________\n",
            "dense_6 (Dense)              (None, 1)                 65        \n",
            "=================================================================\n",
            "Total params: 162,369\n",
            "Trainable params: 162,369\n",
            "Non-trainable params: 0\n",
            "_________________________________________________________________\n",
            "Epoch 1/5\n",
            "23/23 [==============================] - 15s 228ms/step - loss: 0.6931 - acc: 0.5105 - val_loss: 0.6837 - val_acc: 0.5644\n",
            "Epoch 2/5\n",
            "23/23 [==============================] - 3s 127ms/step - loss: 0.6391 - acc: 0.6677 - val_loss: 0.7086 - val_acc: 0.5801\n",
            "Epoch 3/5\n",
            "23/23 [==============================] - 3s 124ms/step - loss: 0.4894 - acc: 0.7616 - val_loss: 0.7155 - val_acc: 0.6136\n",
            "Epoch 4/5\n",
            "23/23 [==============================] - 3s 124ms/step - loss: 0.4061 - acc: 0.8220 - val_loss: 0.7736 - val_acc: 0.5979\n",
            "Epoch 5/5\n",
            "23/23 [==============================] - 3s 125ms/step - loss: 0.3531 - acc: 0.8547 - val_loss: 0.7835 - val_acc: 0.6094\n",
            "CPU times: user 40 s, sys: 1.25 s, total: 41.3 s\n",
            "Wall time: 28.9 s\n"
          ],
          "name": "stdout"
        }
      ]
    },
    {
      "cell_type": "code",
      "metadata": {
        "colab": {
          "base_uri": "https://localhost:8080/"
        },
        "id": "0SE3ZRG0mwVa",
        "outputId": "46558d4f-50ab-48d2-9431-825a4acb2009"
      },
      "source": [
        "%%time\n",
        "# Predict using test dataset\n",
        "#model.evaluate(val_set_content, np.array(val_set_label))\n",
        "predicted_label = model.predict(test_set_content)\n",
        "predicted_label = np.around(predicted_label)"
      ],
      "execution_count": null,
      "outputs": [
        {
          "output_type": "stream",
          "text": [
            "CPU times: user 2.71 s, sys: 63.1 ms, total: 2.77 s\n",
            "Wall time: 2.41 s\n"
          ],
          "name": "stdout"
        }
      ]
    },
    {
      "cell_type": "code",
      "metadata": {
        "colab": {
          "base_uri": "https://localhost:8080/",
          "height": 275
        },
        "id": "lHH997SBmwfA",
        "outputId": "dc2ec267-8974-4b4f-9316-cc9a29dbd0a4"
      },
      "source": [
        "print(\"Hierarchical BiLSTM:\")\n",
        "accuracy = metrics.accuracy_score(test_set_label, predicted_label)\n",
        "print('Accuracy Score:', accuracy)\n",
        "f1= metrics.f1_score(test_set_label, predicted_label, average='macro')\n",
        "print('Macro F1 Score:', f1)\n",
        "print('Clasification report:\\n', metrics.classification_report(test_set_label, predicted_label))\n",
        "\n",
        "cm = confusion_matrix(test_set_label, predicted_label)\n",
        "df_cm = pd.DataFrame(cm, class_labels, class_labels)\n",
        "sn.set(font_scale=1.4) # for label size\n",
        "sn.heatmap(df_cm, annot=True, fmt=\"d\", annot_kws={\"size\": 16}) # font size\n",
        "plt.title(f\"Hierarchical BiLSTM for {task} dataset\")\n",
        "plt.xlabel('predicted class')\n",
        "plt.ylabel('ground truth')\n",
        "plt.show()"
      ],
      "execution_count": null,
      "outputs": [
        {
          "output_type": "stream",
          "text": [
            "Hierarchical BiLSTM:\n",
            "Accuracy Score: 0.6505102040816326\n",
            "Macro F1 Score: 0.6429611408436658\n",
            "Clasification report:\n",
            "               precision    recall  f1-score   support\n",
            "\n",
            "           0       0.73      0.66      0.69       473\n",
            "           1       0.55      0.64      0.59       311\n",
            "\n",
            "    accuracy                           0.65       784\n",
            "   macro avg       0.64      0.65      0.64       784\n",
            "weighted avg       0.66      0.65      0.65       784\n",
            "\n"
          ],
          "name": "stdout"
        },
        {
          "output_type": "display_data",
          "data": {
            "image/png": "[encoded data removed]",
            "text/plain": [
              "<Figure size 432x288 with 2 Axes>"
            ]
          },
          "metadata": {
            "tags": []
          }
        }
      ]
    },
    {
      "cell_type": "code",
      "metadata": {
        "colab": {
          "base_uri": "https://localhost:8080/"
        },
        "id": "Avn48IBgV1kZ",
        "outputId": "18295d96-3d9f-4f18-eaea-4205e29fc35d"
      },
      "source": [
        "%%time\n",
        "# BiGRU is used as the classification model\n",
        "model = models.Sequential()\n",
        "model.add(Embedding(max_features, 32))\n",
        "model.add(Bidirectional(GRU(32)))\n",
        "model.add(layers.Dropout(0.1))\n",
        "model.add(Dense(1, activation='sigmoid'))\n",
        "model.summary()\n",
        "model.compile(optimizer='rmsprop', loss='binary_crossentropy', metrics=['acc'])\n",
        "# Train BiGRU Classifier\n",
        "history = model.fit(train_set_content, np.array(train_set_label), \n",
        "                    epochs=5,\n",
        "                    batch_size=128,\n",
        "                    #validation_split=0.2,\n",
        "                    validation_data=(val_set_content, np.array(val_set_label)),\n",
        "                    )"
      ],
      "execution_count": null,
      "outputs": [
        {
          "output_type": "stream",
          "text": [
            "Model: \"sequential_6\"\n",
            "_________________________________________________________________\n",
            "Layer (type)                 Output Shape              Param #   \n",
            "=================================================================\n",
            "embedding_5 (Embedding)      (None, None, 32)          96000     \n",
            "_________________________________________________________________\n",
            "bidirectional_4 (Bidirection (None, 64)                12672     \n",
            "_________________________________________________________________\n",
            "dropout_5 (Dropout)          (None, 64)                0         \n",
            "_________________________________________________________________\n",
            "dense_7 (Dense)              (None, 1)                 65        \n",
            "=================================================================\n",
            "Total params: 108,737\n",
            "Trainable params: 108,737\n",
            "Non-trainable params: 0\n",
            "_________________________________________________________________\n",
            "Epoch 1/5\n",
            "23/23 [==============================] - 6s 78ms/step - loss: 0.6917 - acc: 0.5235 - val_loss: 0.6869 - val_acc: 0.5895\n",
            "Epoch 2/5\n",
            "23/23 [==============================] - 1s 39ms/step - loss: 0.6732 - acc: 0.6443 - val_loss: 0.6731 - val_acc: 0.5665\n",
            "Epoch 3/5\n",
            "23/23 [==============================] - 1s 40ms/step - loss: 0.6156 - acc: 0.7065 - val_loss: 0.6607 - val_acc: 0.5958\n",
            "Epoch 4/5\n",
            "23/23 [==============================] - 1s 40ms/step - loss: 0.5565 - acc: 0.7488 - val_loss: 0.6591 - val_acc: 0.6157\n",
            "Epoch 5/5\n",
            "23/23 [==============================] - 1s 41ms/step - loss: 0.4894 - acc: 0.7955 - val_loss: 0.6687 - val_acc: 0.6126\n",
            "CPU times: user 13.6 s, sys: 310 ms, total: 13.9 s\n",
            "Wall time: 10.4 s\n"
          ],
          "name": "stdout"
        }
      ]
    },
    {
      "cell_type": "code",
      "metadata": {
        "colab": {
          "base_uri": "https://localhost:8080/"
        },
        "id": "k9R-hVgWV1n3",
        "outputId": "5f1e9a26-c79d-4d2b-ff3a-4dec3ea320ad"
      },
      "source": [
        "%%time\n",
        "# Predict using test dataset\n",
        "#model.evaluate(val_set_content, np.array(val_set_label))\n",
        "predicted_label = model.predict(test_set_content)\n",
        "predicted_label = np.around(predicted_label)"
      ],
      "execution_count": null,
      "outputs": [
        {
          "output_type": "stream",
          "text": [
            "CPU times: user 858 ms, sys: 10 ms, total: 868 ms\n",
            "Wall time: 756 ms\n"
          ],
          "name": "stdout"
        }
      ]
    },
    {
      "cell_type": "code",
      "metadata": {
        "colab": {
          "base_uri": "https://localhost:8080/",
          "height": 275
        },
        "id": "Y9BlJL5RV1rv",
        "outputId": "12eba367-e375-4f84-da23-ebf775ecf739"
      },
      "source": [
        "print(\"BiGRU:\")\n",
        "accuracy = metrics.accuracy_score(test_set_label, predicted_label)\n",
        "print('Accuracy Score:', accuracy)\n",
        "f1= metrics.f1_score(test_set_label, predicted_label, average='macro')\n",
        "print('Macro F1 Score:', f1)\n",
        "print('Clasification report:\\n', metrics.classification_report(test_set_label, predicted_label))\n",
        "\n",
        "cm = confusion_matrix(test_set_label, predicted_label)\n",
        "df_cm = pd.DataFrame(cm, class_labels, class_labels)\n",
        "sn.set(font_scale=1.4) # for label size\n",
        "sn.heatmap(df_cm, annot=True, fmt=\"d\", annot_kws={\"size\": 16}) # font size\n",
        "plt.title(f\"BiGRU for {task} dataset\")\n",
        "plt.xlabel('predicted class')\n",
        "plt.ylabel('ground truth')\n",
        "plt.show()"
      ],
      "execution_count": null,
      "outputs": [
        {
          "output_type": "stream",
          "text": [
            "BiGRU:\n",
            "Accuracy Score: 0.6721938775510204\n",
            "Macro F1 Score: 0.6605837633142473\n",
            "Clasification report:\n",
            "               precision    recall  f1-score   support\n",
            "\n",
            "           0       0.74      0.71      0.72       473\n",
            "           1       0.58      0.61      0.60       311\n",
            "\n",
            "    accuracy                           0.67       784\n",
            "   macro avg       0.66      0.66      0.66       784\n",
            "weighted avg       0.68      0.67      0.67       784\n",
            "\n"
          ],
          "name": "stdout"
        },
        {
          "output_type": "display_data",
          "data": {
            "image/png": "[encoded data removed]",
            "text/plain": [
              "<Figure size 432x288 with 2 Axes>"
            ]
          },
          "metadata": {
            "tags": []
          }
        }
      ]
    },
    {
      "cell_type": "code",
      "metadata": {
        "id": "mv2IuFexEomy"
      },
      "source": [
        "# Preprocess text (username and link placeholders)\n",
        "def preprocess(text):\n",
        "    new_text = [\n",
        "    ]\n",
        "    for t in text.split(\" \"):\n",
        "        t = '@user' if t.startswith('@') and len(t) > 1 else t\n",
        "        t = 'http' if t.startswith('http') else t\n",
        "        new_text.append(t)\n",
        "    return \" \".join(new_text)"
      ],
      "execution_count": null,
      "outputs": []
    },
    {
      "cell_type": "code",
      "metadata": {
        "colab": {
          "base_uri": "https://localhost:8080/",
          "height": 296,
          "referenced_widgets": [
            "cc3be3233c254ce1854674630f9d7cad",
            "aea7f8da8c7b44d88fd04239028a4871",
            "a5fad58f507846f2beffe586814d2453",
            "f06990cbd4eb431c9027a07d1d13239d",
            "2c22159710cf4efcae05e19e5336bc60",
            "cd60699bd9ae4d5b8ba5454a9c5dba19",
            "f4fd8ca3da8144d5b7ec3633e1bbc6e2",
            "419aecc25d17493d9689c97626f2d120",
            "b81779e1c9fc4015a9c322ea519ad558",
            "27131acf20f04918b8ab1f87672d4692",
            "03d2d4b5cbc540dabbe6569151432583",
            "02ea3348300549628a90d79163b1c735",
            "f5d524e5ab134cc8935572fdb8bd5488",
            "415a5488c6d64f3f911a1c4e64d92350",
            "f3e78be9d71d4daa9f8019be9bb57269",
            "f124ae1dcd9249fdbf3015ef1a3e4c01",
            "f6be8bdf106a48c599323dfca935e897",
            "19ae5ca5eca74ed58850b23ed9cb5ba2",
            "106e37bda5724b30975de9a63480f5fd",
            "00125946fe8f4f4c892a2ee8fe6dab38",
            "e525e908e3e3430eb78c95197396a25d",
            "f8d104d1fb814a3b8838e2d87858957d",
            "12f9d233d32f44998b1c232dfea581e4",
            "c4f3658a8988432caf33cdc7b0d4d2a4",
            "68f6efb97db74bd08ff1919c847aed82",
            "ec068e9c87ce441d8196f0871a26b654",
            "46871b878cf7491db64e947e46c090ff",
            "3d6d07217964471c9fc9fe4d366225c6",
            "9b69d3fcadb74e1bbd5e19109e4f5c1e",
            "4607daf754574d0a91a5dcb8b993e7a2",
            "275c66e7c0a54c6ebcce6a309166e733",
            "913aec3245074e768b08a511e3a6d4d6",
            "f8d701b83fad4055b6c12ed4f5187dd5",
            "1a5bc03914b24cb8b7775d6a55e95b13",
            "c4c6c0d1692a41cd8a6028c31976baf4",
            "f808274c22394a5b839807ff3030bf1e",
            "a78bf588740e4fa29ca5eb280a5a625c",
            "5e38ace98f044e469a1c545d55b51d9c",
            "cee065f70dd94082b10574abd3b3573f",
            "ff494730284a4bc8a0c22636f53e2e7f"
          ]
        },
        "id": "hGkuHe4rEt0n",
        "outputId": "41b63ed0-c897-48e9-aeb7-f35fb0768cc6"
      },
      "source": [
        "%%time\n",
        "# RoBERTa is used as the classification model\n",
        "MODEL = f\"cardiffnlp/twitter-roberta-base-{task}\"\n",
        "\n",
        "tokenizer = AutoTokenizer.from_pretrained(MODEL)\n",
        "\n",
        "model = AutoModelForSequenceClassification.from_pretrained(MODEL)\n",
        "# model.save_pretrained(MODEL)\n",
        "\n",
        "#golden_label = [i[1] for i in test_set]\n",
        "tested_label = []\n",
        "for i in range(len(test_text)):\n",
        "  text = test_text[i]\n",
        "  text = preprocess(text)\n",
        "  encoded_input = tokenizer(text, return_tensors='pt')\n",
        "  output = model(**encoded_input)\n",
        "  scores = output[0][0].detach().numpy()\n",
        "  scores = softmax(scores)\n",
        "  tested_label.append(np.argmax(scores))"
      ],
      "execution_count": null,
      "outputs": [
        {
          "output_type": "display_data",
          "data": {
            "application/vnd.jupyter.widget-view+json": {
              "model_id": "cc3be3233c254ce1854674630f9d7cad",
              "version_minor": 0,
              "version_major": 2
            },
            "text/plain": [
              "HBox(children=(FloatProgress(value=0.0, description='Downloading', max=589.0, style=ProgressStyle(description_…"
            ]
          },
          "metadata": {
            "tags": []
          }
        },
        {
          "output_type": "stream",
          "text": [
            "\n"
          ],
          "name": "stdout"
        },
        {
          "output_type": "display_data",
          "data": {
            "application/vnd.jupyter.widget-view+json": {
              "model_id": "b81779e1c9fc4015a9c322ea519ad558",
              "version_minor": 0,
              "version_major": 2
            },
            "text/plain": [
              "HBox(children=(FloatProgress(value=0.0, description='Downloading', max=898822.0, style=ProgressStyle(descripti…"
            ]
          },
          "metadata": {
            "tags": []
          }
        },
        {
          "output_type": "stream",
          "text": [
            "\n"
          ],
          "name": "stdout"
        },
        {
          "output_type": "display_data",
          "data": {
            "application/vnd.jupyter.widget-view+json": {
              "model_id": "f6be8bdf106a48c599323dfca935e897",
              "version_minor": 0,
              "version_major": 2
            },
            "text/plain": [
              "HBox(children=(FloatProgress(value=0.0, description='Downloading', max=456318.0, style=ProgressStyle(descripti…"
            ]
          },
          "metadata": {
            "tags": []
          }
        },
        {
          "output_type": "stream",
          "text": [
            "\n"
          ],
          "name": "stdout"
        },
        {
          "output_type": "display_data",
          "data": {
            "application/vnd.jupyter.widget-view+json": {
              "model_id": "68f6efb97db74bd08ff1919c847aed82",
              "version_minor": 0,
              "version_major": 2
            },
            "text/plain": [
              "HBox(children=(FloatProgress(value=0.0, description='Downloading', max=150.0, style=ProgressStyle(description_…"
            ]
          },
          "metadata": {
            "tags": []
          }
        },
        {
          "output_type": "stream",
          "text": [
            "\n"
          ],
          "name": "stdout"
        },
        {
          "output_type": "display_data",
          "data": {
            "application/vnd.jupyter.widget-view+json": {
              "model_id": "f8d701b83fad4055b6c12ed4f5187dd5",
              "version_minor": 0,
              "version_major": 2
            },
            "text/plain": [
              "HBox(children=(FloatProgress(value=0.0, description='Downloading', max=498676425.0, style=ProgressStyle(descri…"
            ]
          },
          "metadata": {
            "tags": []
          }
        },
        {
          "output_type": "stream",
          "text": [
            "\n",
            "CPU times: user 2min 7s, sys: 3.12 s, total: 2min 11s\n",
            "Wall time: 2min 12s\n"
          ],
          "name": "stdout"
        }
      ]
    },
    {
      "cell_type": "code",
      "metadata": {
        "colab": {
          "base_uri": "https://localhost:8080/",
          "height": 275
        },
        "id": "JIBQPy465j_b",
        "outputId": "59443993-284e-4f70-e018-7abf762bd92a"
      },
      "source": [
        "print(\"RoBERTa:\")\n",
        "accuracy = metrics.accuracy_score(test_set_label, tested_label)\n",
        "print('Accuracy Score:', accuracy)\n",
        "f1= metrics.f1_score(test_set_label, tested_label, average='macro')\n",
        "print('Macro F1 Score:', f1)\n",
        "print('Clasification report:\\n', metrics.classification_report(test_set_label, tested_label))\n",
        "\n",
        "cm = confusion_matrix(test_set_label, tested_label)\n",
        "df_cm = pd.DataFrame(cm, class_labels, class_labels)\n",
        "sn.set(font_scale=1.4) # for label size\n",
        "sn.heatmap(df_cm, annot=True, fmt=\"d\", annot_kws={\"size\": 16}) # font size\n",
        "plt.title(f\"RoBERTa for {task} dataset\")\n",
        "plt.xlabel('predicted class')\n",
        "plt.ylabel('ground truth')\n",
        "plt.show()"
      ],
      "execution_count": null,
      "outputs": [
        {
          "output_type": "stream",
          "text": [
            "RoBERTa:\n",
            "Accuracy Score: 0.6964285714285714\n",
            "Macro F1 Score: 0.6810785681078568\n",
            "Clasification report:\n",
            "               precision    recall  f1-score   support\n",
            "\n",
            "           0       0.74      0.76      0.75       473\n",
            "           1       0.62      0.60      0.61       311\n",
            "\n",
            "    accuracy                           0.70       784\n",
            "   macro avg       0.68      0.68      0.68       784\n",
            "weighted avg       0.69      0.70      0.70       784\n",
            "\n"
          ],
          "name": "stdout"
        },
        {
          "output_type": "display_data",
          "data": {
            "image/png": "[encoded data removed]",
            "text/plain": [
              "<Figure size 432x288 with 2 Axes>"
            ]
          },
          "metadata": {
            "tags": []
          }
        }
      ]
    }
  ]
}